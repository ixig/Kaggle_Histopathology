{
 "cells": [
  {
   "cell_type": "code",
   "execution_count": 1,
   "id": "eecd25de",
   "metadata": {},
   "outputs": [],
   "source": [
    "import h5py\n",
    "import matplotlib.pyplot as plt\n",
    "import numpy as np\n",
    "from random import Random, shuffle, randrange\n",
    "from skimage.feature import local_binary_pattern"
   ]
  },
  {
   "cell_type": "code",
   "execution_count": 2,
   "id": "326c90f7",
   "metadata": {},
   "outputs": [],
   "source": [
    "DIR = 'data/'\n",
    "HDF5_FILENAME = 'data.hdf5'\n",
    "f = h5py.File(DIR + HDF5_FILENAME, 'r')"
   ]
  },
  {
   "cell_type": "code",
   "execution_count": 3,
   "id": "f8b6b1e0",
   "metadata": {},
   "outputs": [
    {
     "data": {
      "text/plain": [
       "220025"
      ]
     },
     "execution_count": 3,
     "metadata": {},
     "output_type": "execute_result"
    }
   ],
   "source": [
    "train = list(f['train'].keys())\n",
    "len(train)"
   ]
  },
  {
   "cell_type": "code",
   "execution_count": 4,
   "id": "43d46e19",
   "metadata": {},
   "outputs": [
    {
     "data": {
      "text/plain": [
       "89117"
      ]
     },
     "execution_count": 4,
     "metadata": {},
     "output_type": "execute_result"
    }
   ],
   "source": [
    "train_pos = [name for name in train if f['train'][name].attrs['label'] == 1]\n",
    "len(train_pos)"
   ]
  },
  {
   "cell_type": "code",
   "execution_count": 5,
   "id": "18e6e6b7",
   "metadata": {},
   "outputs": [],
   "source": [
    "RAND_SEED = 333\n",
    "rand = Random(RAND_SEED)\n",
    "rand.shuffle(train)"
   ]
  },
  {
   "cell_type": "code",
   "execution_count": 6,
   "id": "1c5338e6",
   "metadata": {},
   "outputs": [
    {
     "data": {
      "text/plain": [
       "8112"
      ]
     },
     "execution_count": 6,
     "metadata": {},
     "output_type": "execute_result"
    }
   ],
   "source": [
    "TRAIN_SAMPLES = 20_000\n",
    "train_sel = [name for name in train[:TRAIN_SAMPLES] if name in train_pos]\n",
    "num_sel = len(train_sel)\n",
    "num_sel"
   ]
  },
  {
   "cell_type": "code",
   "execution_count": 7,
   "id": "f94c61da",
   "metadata": {},
   "outputs": [],
   "source": [
    "num_pixels = f['train'][train_sel[0]].shape[0] * f['train'][train_sel[0]].shape[1]\n",
    "X_train = np.empty((num_sel, num_pixels), dtype='uint8')"
   ]
  },
  {
   "cell_type": "code",
   "execution_count": 8,
   "id": "786f295a",
   "metadata": {},
   "outputs": [],
   "source": [
    "def populate_x(X: np.ndarray, m: int, offs: int):\n",
    "    for i, name in enumerate(train_sel[offs:offs+m]):\n",
    "        dset = f['train'][name]\n",
    "        img = dset[()]\n",
    "        X[i] = img.ravel()\n",
    "        assert dset.attrs['label'] == 1"
   ]
  },
  {
   "cell_type": "code",
   "execution_count": 9,
   "id": "46d15b66",
   "metadata": {},
   "outputs": [],
   "source": [
    "populate_x(X_train, num_sel, 0)"
   ]
  },
  {
   "cell_type": "code",
   "execution_count": 10,
   "id": "9a296080",
   "metadata": {},
   "outputs": [],
   "source": [
    "# Extract (<i>, <j>)th cell as 1-D vector\n",
    "def extract_cell(v, i, j):\n",
    "    img = v.reshape(96, 96)\n",
    "    return img[32*i:32*(i+1), 32*j:32*(j+1)].ravel()\n",
    "\n",
    "# Turn a <v> of size 9216 (96x96) into 9 vectors of 1024 (32x32)\n",
    "# by dividing image into 9 cells and un-rolling each cell\n",
    "# individually\n",
    "def vec_to_cells(v):\n",
    "    cells = []\n",
    "    for i in range(3):\n",
    "        for j in range(3):\n",
    "            cells.append(extract_cell(v, i, j))\n",
    "    return np.array(cells)"
   ]
  },
  {
   "cell_type": "code",
   "execution_count": 11,
   "id": "d00c568f",
   "metadata": {},
   "outputs": [
    {
     "data": {
      "text/plain": [
       "((73008, 1024), dtype('uint8'))"
      ]
     },
     "execution_count": 11,
     "metadata": {},
     "output_type": "execute_result"
    }
   ],
   "source": [
    "X_train9 = np.vstack([vec_to_cells(sample) for sample in X_train])\n",
    "X_train9.shape, X_train9.dtype"
   ]
  },
  {
   "cell_type": "code",
   "execution_count": 12,
   "id": "f20e78ea",
   "metadata": {},
   "outputs": [],
   "source": [
    "# Return smaller of either Kullback–Leibler Divergences\n",
    "def kld(p, q):\n",
    "    p_q = np.sum(p * np.log2(p/q))\n",
    "    q_p = np.sum(q * np.log2(q/p))\n",
    "#     if p_q < 0 or q_p < 0:\n",
    "#         print(p); print(q); print(sum)\n",
    "#         raise Exception\n",
    "    return min(p_q, q_p)"
   ]
  },
  {
   "cell_type": "code",
   "execution_count": 13,
   "id": "34800d62",
   "metadata": {},
   "outputs": [],
   "source": [
    "# Local Binary Pattern Histogram\n",
    "def lbp_histogram(v, dim=32):\n",
    "    img = v.reshape(dim, dim)\n",
    "    patterns = local_binary_pattern(img, 8, 1, 'uniform')\n",
    "    hist, _ = np.histogram(patterns, bins=np.arange(59 + 1))\n",
    "    # if only the first ten bins are non-zero, we can reduce our\n",
    "    # landmark feature size\n",
    "    assert hist[10:].sum() == 0\n",
    "    # add one to avoid divide-by-zero errors later in kld()\n",
    "    return hist[:10].astype('int16') + 1"
   ]
  },
  {
   "cell_type": "code",
   "execution_count": 14,
   "id": "b3a7bbe6",
   "metadata": {},
   "outputs": [],
   "source": [
    "# Reduce <X> to <target_size> by eliminating similar features,\n",
    "# using <distance> as a metric, via an iterative, stochastic\n",
    "# sampling of <num_subsamples> and eliminating <num_eliminate>\n",
    "# features at each iteration\n",
    "def reduce(X, target_size, num_subsample, num_eliminate, distance):\n",
    "    modulo = 200\n",
    "    while (len_X := len(X)) > target_size:\n",
    "        x1, x2 = (randrange(len_X), randrange(len_X))\n",
    "        distances = [(0, distance(X[x1], X[x2]))]\n",
    "        for _ in range(num_subsample):\n",
    "            x1, x2 = (randrange(len_X), randrange(len_X))\n",
    "            if x1 == x2: continue\n",
    "            dist = distance(X[x1], X[x2])\n",
    "            if dist < distances[-1][1]:\n",
    "                distances.append((x1, dist))\n",
    "        eliminate = [tup[0] for tup in distances[-num_eliminate:]]\n",
    "        X = np.delete(X, eliminate, axis=0)\n",
    "        modulo -= 1\n",
    "        if (modulo == 0):\n",
    "            print(len_X, end=' ')\n",
    "            modulo = 200\n",
    "    print()\n",
    "    return X"
   ]
  },
  {
   "cell_type": "code",
   "execution_count": 15,
   "id": "19a9c726",
   "metadata": {},
   "outputs": [
    {
     "data": {
      "text/plain": [
       "((73008, 10), dtype('int16'))"
      ]
     },
     "execution_count": 15,
     "metadata": {},
     "output_type": "execute_result"
    }
   ],
   "source": [
    "train_hists = np.apply_along_axis(lbp_histogram, 1, X_train9)\n",
    "train_hists.shape, train_hists.dtype"
   ]
  },
  {
   "cell_type": "code",
   "execution_count": 16,
   "id": "560b6943",
   "metadata": {},
   "outputs": [
    {
     "name": "stdout",
     "output_type": "stream",
     "text": [
      "72030 71056 70068 69082 68093 67105 66127 65147 64166 63178 62187 61209 60230 59246 58268 57287 56310 55323 54344 53358 52382 51394 50415 49430 48460 47474 46493 45522 44535 43553 42567 41582 40593 39608 38637 37650 36674 35692 34720 33729 32736 31755 30767 29783 28795 27820 26840 25851 24865 23885 22916 21929 20945 19965 18979 18001 17023 16044 15065 14086 13107 12118 11136 10161 9174 8206 7220 6237 5258 4286 3307 2325 1347 \n",
      "CPU times: user 9min 31s, sys: 4.23 s, total: 9min 35s\n",
      "Wall time: 9min 35s\n",
      "312 \n",
      "CPU times: user 9.57 s, sys: 85.3 ms, total: 9.66 s\n",
      "Wall time: 9.66 s\n"
     ]
    },
    {
     "data": {
      "text/plain": [
       "((256, 10), dtype('int16'))"
      ]
     },
     "execution_count": 16,
     "metadata": {},
     "output_type": "execute_result"
    }
   ],
   "source": [
    "%time landmarks = reduce(train_hists, 512, 2000, 5, kld)\n",
    "%time landmarks = reduce(landmarks, 256, 2000, 1, kld)\n",
    "landmarks.shape, landmarks.dtype"
   ]
  },
  {
   "cell_type": "code",
   "execution_count": 17,
   "id": "f84cd22a",
   "metadata": {},
   "outputs": [
    {
     "data": {
      "text/plain": [
       "(1, 825, 103.4)"
      ]
     },
     "execution_count": 17,
     "metadata": {},
     "output_type": "execute_result"
    }
   ],
   "source": [
    "landmarks.min(), landmarks.max(), landmarks.mean()"
   ]
  },
  {
   "cell_type": "code",
   "execution_count": 18,
   "id": "a78c7972",
   "metadata": {},
   "outputs": [
    {
     "data": {
      "text/plain": [
       "array([[151, 134,  49, ..., 130, 127, 220],\n",
       "       [ 55, 108,  47, ...,  86, 117, 125],\n",
       "       [ 37,  44,  91, ...,  46,  43,  76],\n",
       "       ...,\n",
       "       [ 85, 122,  84, ...,  94, 100, 167],\n",
       "       [ 33,  75,  84, ...,  58,  38,  77],\n",
       "       [ 30,  92,  10, ...,  68, 248, 127]], dtype=int16)"
      ]
     },
     "execution_count": 18,
     "metadata": {},
     "output_type": "execute_result"
    }
   ],
   "source": [
    "landmarks"
   ]
  },
  {
   "cell_type": "code",
   "execution_count": 19,
   "id": "039d6ca4",
   "metadata": {},
   "outputs": [],
   "source": [
    "LAND_FILENAME = 'data_landmarks_pos20k'\n",
    "np.savez(DIR + LAND_FILENAME, landmarks=landmarks)"
   ]
  },
  {
   "cell_type": "code",
   "execution_count": null,
   "id": "b60a405e",
   "metadata": {},
   "outputs": [],
   "source": []
  }
 ],
 "metadata": {
  "kernelspec": {
   "display_name": "Python 3 (ipykernel)",
   "language": "python",
   "name": "python3"
  },
  "language_info": {
   "codemirror_mode": {
    "name": "ipython",
    "version": 3
   },
   "file_extension": ".py",
   "mimetype": "text/x-python",
   "name": "python",
   "nbconvert_exporter": "python",
   "pygments_lexer": "ipython3",
   "version": "3.9.6"
  }
 },
 "nbformat": 4,
 "nbformat_minor": 5
}
