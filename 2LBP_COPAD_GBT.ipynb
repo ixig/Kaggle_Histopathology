{
 "cells": [
  {
   "cell_type": "code",
   "execution_count": 1,
   "id": "1ceb7d82",
   "metadata": {},
   "outputs": [],
   "source": [
    "import matplotlib.pyplot as plt\n",
    "import seaborn as sns\n",
    "import numpy as np\n",
    "import cv2\n",
    "from pyod.models.copod import COPOD\n",
    "from sklearn.ensemble import GradientBoostingClassifier\n",
    "from sklearn.preprocessing import StandardScaler\n",
    "from sklearn import metrics"
   ]
  },
  {
   "cell_type": "code",
   "execution_count": 2,
   "id": "0ae7d271",
   "metadata": {},
   "outputs": [],
   "source": [
    "DATA_DIR = 'data/'\n",
    "DATA_FILENAME = '2lbp_subset20k'"
   ]
  },
  {
   "cell_type": "code",
   "execution_count": 3,
   "id": "7d146e6c",
   "metadata": {},
   "outputs": [
    {
     "data": {
      "text/plain": [
       "((20000, 20), (20000,))"
      ]
     },
     "execution_count": 3,
     "metadata": {},
     "output_type": "execute_result"
    }
   ],
   "source": [
    "data_train = np.load(DATA_DIR + DATA_FILENAME + '_train' + '.npz')\n",
    "X_train = data_train['X']\n",
    "y_train = data_train['y']\n",
    "data_train.close()\n",
    "X_train.shape, y_train.shape"
   ]
  },
  {
   "cell_type": "code",
   "execution_count": 4,
   "id": "2718c8e6",
   "metadata": {},
   "outputs": [
    {
     "data": {
      "text/plain": [
       "((10000, 20), (10000,))"
      ]
     },
     "execution_count": 4,
     "metadata": {},
     "output_type": "execute_result"
    }
   ],
   "source": [
    "data_test = np.load(DATA_DIR + DATA_FILENAME + '_test' + '.npz')\n",
    "X_test = data_test['X']\n",
    "y_test = data_test['y']\n",
    "data_test.close()\n",
    "X_test.shape, y_test.shape"
   ]
  },
  {
   "cell_type": "code",
   "execution_count": 5,
   "id": "9d8cdcf5",
   "metadata": {},
   "outputs": [
    {
     "data": {
      "text/plain": [
       "((8112, 20), (11888, 20))"
      ]
     },
     "execution_count": 5,
     "metadata": {},
     "output_type": "execute_result"
    }
   ],
   "source": [
    "X_train_pos = X_train[y_train == 1]\n",
    "X_train_neg = X_train[y_train == 0]\n",
    "X_train_pos.shape, X_train_neg.shape"
   ]
  },
  {
   "cell_type": "code",
   "execution_count": 6,
   "id": "94846960",
   "metadata": {},
   "outputs": [
    {
     "name": "stdout",
     "output_type": "stream",
     "text": [
      "26.63714575158138 11.050710502932208\n",
      "28.700729681595927 14.16617757247587\n"
     ]
    }
   ],
   "source": [
    "pos_clf = COPOD()\n",
    "pos_clf.fit(X_train_pos)\n",
    "pos_pos_scores = pos_clf.decision_scores_\n",
    "pos_neg_scores = pos_clf.decision_function(X_train_neg)\n",
    "print( pos_pos_scores.mean(), pos_pos_scores.std() )\n",
    "print( pos_neg_scores.mean(), pos_neg_scores.std() )"
   ]
  },
  {
   "cell_type": "code",
   "execution_count": 7,
   "id": "eb656eef",
   "metadata": {},
   "outputs": [
    {
     "name": "stdout",
     "output_type": "stream",
     "text": [
      "26.710207147880144 12.358700194926422\n",
      "23.763838585170344 7.298115168841595\n"
     ]
    }
   ],
   "source": [
    "neg_clf = COPOD()\n",
    "neg_clf.fit(X_train_neg)\n",
    "neg_neg_scores = neg_clf.decision_scores_\n",
    "neg_pos_scores = neg_clf.decision_function(X_train_pos)\n",
    "print( neg_neg_scores.mean(), neg_neg_scores.std() )\n",
    "print( neg_pos_scores.mean(), neg_pos_scores.std() )"
   ]
  },
  {
   "cell_type": "code",
   "execution_count": 8,
   "id": "a699a07a",
   "metadata": {},
   "outputs": [
    {
     "data": {
      "text/plain": [
       "((20000, 2), (10000, 2))"
      ]
     },
     "execution_count": 8,
     "metadata": {},
     "output_type": "execute_result"
    }
   ],
   "source": [
    "Xf_train = np.hstack((\n",
    "    pos_clf.decision_function(X_train).reshape(-1,1),\n",
    "    neg_clf.decision_function(X_train).reshape(-1,1)))\n",
    "Xf_test = np.hstack((\n",
    "    pos_clf.decision_function(X_test).reshape(-1,1),\n",
    "    neg_clf.decision_function(X_test).reshape(-1,1)))\n",
    "Xf_train.shape, Xf_test.shape"
   ]
  },
  {
   "cell_type": "code",
   "execution_count": 9,
   "id": "353dbda2",
   "metadata": {},
   "outputs": [
    {
     "name": "stdout",
     "output_type": "stream",
     "text": [
      "0.7442\n",
      "0.7219\n"
     ]
    }
   ],
   "source": [
    "clf = GradientBoostingClassifier(n_estimators=100)\n",
    "clf.fit(Xf_train, y_train)\n",
    "print(clf.score(Xf_train, y_train))\n",
    "print(clf.score(Xf_test, y_test))"
   ]
  },
  {
   "cell_type": "code",
   "execution_count": 10,
   "id": "5e9bf6b6",
   "metadata": {},
   "outputs": [
    {
     "data": {
      "text/plain": [
       "((20000, 22), (10000, 22))"
      ]
     },
     "execution_count": 10,
     "metadata": {},
     "output_type": "execute_result"
    }
   ],
   "source": [
    "Xg_train = np.hstack((Xf_train, X_train))\n",
    "Xg_test = np.hstack((Xf_test, X_test))\n",
    "Xg_train.shape, Xg_test.shape"
   ]
  },
  {
   "cell_type": "code",
   "execution_count": 11,
   "id": "ad9ad3d7",
   "metadata": {},
   "outputs": [
    {
     "name": "stdout",
     "output_type": "stream",
     "text": [
      "0.83425\n",
      "0.7993\n"
     ]
    }
   ],
   "source": [
    "clf2 = GradientBoostingClassifier(n_estimators=400)\n",
    "clf2.fit(Xg_train, y_train)\n",
    "print(clf2.score(Xg_train, y_train))\n",
    "print(clf2.score(Xg_test, y_test))"
   ]
  },
  {
   "cell_type": "code",
   "execution_count": null,
   "id": "b2b4949e",
   "metadata": {},
   "outputs": [],
   "source": []
  }
 ],
 "metadata": {
  "kernelspec": {
   "display_name": "Python 3 (ipykernel)",
   "language": "python",
   "name": "python3"
  },
  "language_info": {
   "codemirror_mode": {
    "name": "ipython",
    "version": 3
   },
   "file_extension": ".py",
   "mimetype": "text/x-python",
   "name": "python",
   "nbconvert_exporter": "python",
   "pygments_lexer": "ipython3",
   "version": "3.9.6"
  }
 },
 "nbformat": 4,
 "nbformat_minor": 5
}
