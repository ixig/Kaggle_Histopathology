{
 "cells": [
  {
   "cell_type": "code",
   "execution_count": 1,
   "id": "eecd25de",
   "metadata": {},
   "outputs": [],
   "source": [
    "import h5py\n",
    "import matplotlib.pyplot as plt\n",
    "import numpy as np\n",
    "from random import Random, shuffle\n",
    "from skimage.feature import local_binary_pattern\n",
    "from pyod.models.copod import COPOD\n",
    "from sklearn.ensemble import GradientBoostingClassifier\n",
    "from sklearn.preprocessing import StandardScaler\n",
    "from sklearn import metrics"
   ]
  },
  {
   "cell_type": "code",
   "execution_count": 2,
   "id": "326c90f7",
   "metadata": {},
   "outputs": [],
   "source": [
    "DIR = 'data/'\n",
    "HDF5_FILENAME = 'data.hdf5'\n",
    "f = h5py.File(DIR + HDF5_FILENAME, 'r')"
   ]
  },
  {
   "cell_type": "code",
   "execution_count": 3,
   "id": "f8b6b1e0",
   "metadata": {},
   "outputs": [
    {
     "data": {
      "text/plain": [
       "220025"
      ]
     },
     "execution_count": 3,
     "metadata": {},
     "output_type": "execute_result"
    }
   ],
   "source": [
    "train = list(f['train'].keys())\n",
    "len(train)"
   ]
  },
  {
   "cell_type": "code",
   "execution_count": 4,
   "id": "43d46e19",
   "metadata": {},
   "outputs": [
    {
     "data": {
      "text/plain": [
       "89117"
      ]
     },
     "execution_count": 4,
     "metadata": {},
     "output_type": "execute_result"
    }
   ],
   "source": [
    "names_pos = {name for name in train if f['train'][name].attrs['label'] == 1}\n",
    "len(names_pos)"
   ]
  },
  {
   "cell_type": "code",
   "execution_count": 5,
   "id": "18e6e6b7",
   "metadata": {},
   "outputs": [],
   "source": [
    "RAND_SEED = 333\n",
    "rand = Random(RAND_SEED)\n",
    "rand.shuffle(train)"
   ]
  },
  {
   "cell_type": "code",
   "execution_count": 6,
   "id": "1c5338e6",
   "metadata": {},
   "outputs": [
    {
     "data": {
      "text/plain": [
       "(8112, 11888)"
      ]
     },
     "execution_count": 6,
     "metadata": {},
     "output_type": "execute_result"
    }
   ],
   "source": [
    "TRAIN_SAMPLES = 20_000\n",
    "TEST_SAMPLES = 10_000\n",
    "train_pos = []\n",
    "train_neg = []\n",
    "for name in train[:TRAIN_SAMPLES]:\n",
    "    if name in names_pos:\n",
    "        train_pos.append(name)\n",
    "    else:\n",
    "        train_neg.append(name)\n",
    "num_pos = len(train_pos)\n",
    "num_neg = len(train_neg)\n",
    "num_pos, num_neg"
   ]
  },
  {
   "cell_type": "code",
   "execution_count": 7,
   "id": "f94c61da",
   "metadata": {},
   "outputs": [],
   "source": [
    "num_pixels = f['train'][train[0]].shape[0] * f['train'][train[0]].shape[1]\n",
    "X_pos = np.empty((num_pos, num_pixels), dtype='uint8')\n",
    "X_neg = np.empty((num_neg, num_pixels), dtype='uint8')"
   ]
  },
  {
   "cell_type": "code",
   "execution_count": 8,
   "id": "786f295a",
   "metadata": {},
   "outputs": [],
   "source": [
    "def populate_x(X: np.ndarray, names, label):\n",
    "    for i, name in enumerate(names):\n",
    "        dset = f['train'][name]\n",
    "        img = dset[()]\n",
    "        X[i] = img.ravel()\n",
    "        assert dset.attrs['label'] == label"
   ]
  },
  {
   "cell_type": "code",
   "execution_count": 9,
   "id": "46d15b66",
   "metadata": {},
   "outputs": [
    {
     "data": {
      "text/plain": [
       "(8112, 9216)"
      ]
     },
     "execution_count": 9,
     "metadata": {},
     "output_type": "execute_result"
    }
   ],
   "source": [
    "populate_x(X_pos, train_pos, 1)\n",
    "X_pos.shape"
   ]
  },
  {
   "cell_type": "code",
   "execution_count": 10,
   "id": "5b94cac9",
   "metadata": {},
   "outputs": [
    {
     "data": {
      "text/plain": [
       "(11888, 9216)"
      ]
     },
     "execution_count": 10,
     "metadata": {},
     "output_type": "execute_result"
    }
   ],
   "source": [
    "populate_x(X_neg, train_neg, 0)\n",
    "X_neg.shape"
   ]
  },
  {
   "cell_type": "code",
   "execution_count": 11,
   "id": "34800d62",
   "metadata": {},
   "outputs": [],
   "source": [
    "# Local Binary Pattern Histogram\n",
    "def lbp_histogram(v, dim=96):\n",
    "    img = v.reshape(dim, dim)\n",
    "    patterns = local_binary_pattern(img, 8, 1, 'uniform')\n",
    "    hist, _ = np.histogram(patterns, bins=np.arange(59 + 1))\n",
    "    # if only the first ten bins are non-zero, we can reduce our\n",
    "    # landmark feature size\n",
    "    assert hist[10:].sum() == 0\n",
    "    # add one to avoid divide-by-zero errors later in kld()\n",
    "    return hist[:10].astype('int16') + 1"
   ]
  },
  {
   "cell_type": "code",
   "execution_count": 12,
   "id": "19a9c726",
   "metadata": {},
   "outputs": [
    {
     "data": {
      "text/plain": [
       "((8112, 10), dtype('int16'))"
      ]
     },
     "execution_count": 12,
     "metadata": {},
     "output_type": "execute_result"
    }
   ],
   "source": [
    "pos_hists = np.apply_along_axis(lbp_histogram, 1, X_pos)\n",
    "pos_hists.shape, pos_hists.dtype"
   ]
  },
  {
   "cell_type": "code",
   "execution_count": 13,
   "id": "9bcf3a76",
   "metadata": {},
   "outputs": [
    {
     "data": {
      "text/plain": [
       "((11888, 10), dtype('int16'))"
      ]
     },
     "execution_count": 13,
     "metadata": {},
     "output_type": "execute_result"
    }
   ],
   "source": [
    "neg_hists = np.apply_along_axis(lbp_histogram, 1, X_neg)\n",
    "neg_hists.shape, neg_hists.dtype"
   ]
  },
  {
   "cell_type": "code",
   "execution_count": 14,
   "id": "20299b5e",
   "metadata": {},
   "outputs": [],
   "source": [
    "pos_clf = COPOD()\n",
    "pos_clf.fit(pos_hists)\n",
    "pos_pos_scores = pos_clf.decision_scores_\n",
    "pos_neg_scores = pos_clf.decision_function(neg_hists)"
   ]
  },
  {
   "cell_type": "code",
   "execution_count": 15,
   "id": "a3342292",
   "metadata": {},
   "outputs": [
    {
     "name": "stdout",
     "output_type": "stream",
     "text": [
      "13.403675318069116 6.616887190253705\n",
      "14.617824717863698 7.687808734152937\n"
     ]
    }
   ],
   "source": [
    "print( pos_pos_scores.mean(), pos_pos_scores.std() )\n",
    "print( pos_neg_scores.mean(), pos_neg_scores.std() )"
   ]
  },
  {
   "cell_type": "code",
   "execution_count": 16,
   "id": "a926e152",
   "metadata": {},
   "outputs": [],
   "source": [
    "neg_clf = COPOD()\n",
    "neg_clf.fit(neg_hists)\n",
    "neg_neg_scores = neg_clf.decision_scores_\n",
    "neg_pos_scores = neg_clf.decision_function(pos_hists)"
   ]
  },
  {
   "cell_type": "code",
   "execution_count": 17,
   "id": "fb6000b3",
   "metadata": {},
   "outputs": [
    {
     "name": "stdout",
     "output_type": "stream",
     "text": [
      "13.420146988951801 6.662243840264217\n",
      "11.664317627533586 4.24494775791951\n"
     ]
    }
   ],
   "source": [
    "print( neg_neg_scores.mean(), neg_neg_scores.std() )\n",
    "print( neg_pos_scores.mean(), neg_pos_scores.std() )"
   ]
  },
  {
   "cell_type": "code",
   "execution_count": 18,
   "id": "0dee603a",
   "metadata": {},
   "outputs": [],
   "source": [
    "def populate_xy(X: np.ndarray, y: np.ndarray, m: int, offs: int):\n",
    "    names = []\n",
    "    count_pos, count_neg = 0, 0\n",
    "    for i, name in enumerate(train[offs:offs+m]):\n",
    "        names.append(name)\n",
    "        dset = f['train'][name]\n",
    "        img = dset[()]\n",
    "        hist = lbp_histogram(img.ravel()).reshape(1,-1)\n",
    "        X[i, 0] = pos_clf.decision_function(hist)\n",
    "        X[i, 1] = neg_clf.decision_function(hist)\n",
    "        label = dset.attrs['label']\n",
    "        y[i] = label\n",
    "        if label == 1:\n",
    "            count_pos += 1\n",
    "        elif label == 0:\n",
    "            count_neg += 1\n",
    "        else:\n",
    "            raise Exception\n",
    "    print(f'Pos: {count_pos/m*100:.1f}, Neg: {count_neg/m*100:.1f}')\n",
    "    return names"
   ]
  },
  {
   "cell_type": "code",
   "execution_count": 19,
   "id": "989551bf",
   "metadata": {},
   "outputs": [],
   "source": [
    "Xo_train = np.empty((TRAIN_SAMPLES, 2), dtype='float32')\n",
    "y_train = np.empty(TRAIN_SAMPLES, dtype='uint8')\n",
    "Xo_test  = np.empty((TEST_SAMPLES, 2), dtype='float32')\n",
    "y_test  = np.empty(TEST_SAMPLES, dtype='uint8')"
   ]
  },
  {
   "cell_type": "code",
   "execution_count": 20,
   "id": "ad63b1a8",
   "metadata": {},
   "outputs": [
    {
     "name": "stdout",
     "output_type": "stream",
     "text": [
      "Pos: 40.6, Neg: 59.4\n",
      "CPU times: user 24min 15s, sys: 9.12 s, total: 24min 24s\n",
      "Wall time: 28min 49s\n",
      "Pos: 39.8, Neg: 60.2\n",
      "CPU times: user 12min 50s, sys: 8.27 s, total: 12min 58s\n",
      "Wall time: 13min 19s\n"
     ]
    }
   ],
   "source": [
    "%time train_names = populate_xy(Xo_train, y_train, TRAIN_SAMPLES, 0)\n",
    "%time test_names = populate_xy(Xo_test, y_test, TEST_SAMPLES, TRAIN_SAMPLES)"
   ]
  },
  {
   "cell_type": "code",
   "execution_count": 79,
   "id": "58658e9d",
   "metadata": {},
   "outputs": [
    {
     "data": {
      "text/plain": [
       "GradientBoostingClassifier()"
      ]
     },
     "execution_count": 79,
     "metadata": {},
     "output_type": "execute_result"
    }
   ],
   "source": [
    "clf1 = GradientBoostingClassifier(n_estimators=100)\n",
    "clf1.fit(Xo_train, y_train)"
   ]
  },
  {
   "cell_type": "code",
   "execution_count": 80,
   "id": "98d46f71",
   "metadata": {},
   "outputs": [
    {
     "data": {
      "text/plain": [
       "0.71495"
      ]
     },
     "execution_count": 80,
     "metadata": {},
     "output_type": "execute_result"
    }
   ],
   "source": [
    "clf1.score(Xo_train, y_train)"
   ]
  },
  {
   "cell_type": "code",
   "execution_count": 81,
   "id": "4ec3e7cf",
   "metadata": {},
   "outputs": [
    {
     "name": "stdout",
     "output_type": "stream",
     "text": [
      "0.7155\n"
     ]
    }
   ],
   "source": [
    "yo_hat = clf1.predict(Xo_test)\n",
    "accuracy = metrics.accuracy_score(y_test, yo_hat)\n",
    "print(accuracy)"
   ]
  },
  {
   "cell_type": "code",
   "execution_count": 24,
   "id": "c4410216",
   "metadata": {},
   "outputs": [],
   "source": [
    "DATA_FILENAME = '2lbp_subset20k'"
   ]
  },
  {
   "cell_type": "code",
   "execution_count": 64,
   "id": "36f68ba9",
   "metadata": {},
   "outputs": [
    {
     "data": {
      "text/plain": [
       "((20000, 20), (20000,))"
      ]
     },
     "execution_count": 64,
     "metadata": {},
     "output_type": "execute_result"
    }
   ],
   "source": [
    "data_train = np.load(DIR + DATA_FILENAME + '_train' + '.npz')\n",
    "Xl_train = data_train['X']\n",
    "yl_train = data_train['y']\n",
    "assert np.all(data_train['names'] == train_names)\n",
    "data_train.close()\n",
    "Xl_train.shape, yl_train.shape"
   ]
  },
  {
   "cell_type": "code",
   "execution_count": 65,
   "id": "ef30a895",
   "metadata": {},
   "outputs": [
    {
     "data": {
      "text/plain": [
       "((10000, 20), (10000,))"
      ]
     },
     "execution_count": 65,
     "metadata": {},
     "output_type": "execute_result"
    }
   ],
   "source": [
    "data_test = np.load(DIR + DATA_FILENAME + '_test' + '.npz')\n",
    "Xl_test = data_test['X']\n",
    "yl_test = data_test['y']\n",
    "assert np.all(data_test['names'] == test_names)\n",
    "data_test.close()\n",
    "Xl_test.shape, yl_test.shape"
   ]
  },
  {
   "cell_type": "code",
   "execution_count": 66,
   "id": "79ebb332",
   "metadata": {},
   "outputs": [],
   "source": [
    "Xf_train = np.hstack((Xo_train, Xl_train))\n",
    "Xf_test = np.hstack((Xo_test, Xl_test))"
   ]
  },
  {
   "cell_type": "code",
   "execution_count": 96,
   "id": "bd13bec3",
   "metadata": {},
   "outputs": [
    {
     "data": {
      "text/plain": [
       "GradientBoostingClassifier(n_estimators=800)"
      ]
     },
     "execution_count": 96,
     "metadata": {},
     "output_type": "execute_result"
    }
   ],
   "source": [
    "clf2 = GradientBoostingClassifier(n_estimators=800)\n",
    "clf2.fit(Xf_train, y_train)"
   ]
  },
  {
   "cell_type": "code",
   "execution_count": 97,
   "id": "c04ec9cc",
   "metadata": {},
   "outputs": [
    {
     "data": {
      "text/plain": [
       "0.8651"
      ]
     },
     "execution_count": 97,
     "metadata": {},
     "output_type": "execute_result"
    }
   ],
   "source": [
    "clf2.score(Xf_train, y_train)"
   ]
  },
  {
   "cell_type": "code",
   "execution_count": 98,
   "id": "eb162876",
   "metadata": {},
   "outputs": [
    {
     "name": "stdout",
     "output_type": "stream",
     "text": [
      "0.8028\n"
     ]
    }
   ],
   "source": [
    "y2_hat = clf2.predict(Xf_test)\n",
    "accuracy = metrics.accuracy_score(y_test, y2_hat)\n",
    "print(accuracy)"
   ]
  },
  {
   "cell_type": "code",
   "execution_count": null,
   "id": "039d6ca4",
   "metadata": {},
   "outputs": [],
   "source": [
    "# LAND_FILENAME = 'od.npz'\n",
    "# np.savez(DIR + LAND_FILENAME, )"
   ]
  }
 ],
 "metadata": {
  "kernelspec": {
   "display_name": "Python 3 (ipykernel)",
   "language": "python",
   "name": "python3"
  },
  "language_info": {
   "codemirror_mode": {
    "name": "ipython",
    "version": 3
   },
   "file_extension": ".py",
   "mimetype": "text/x-python",
   "name": "python",
   "nbconvert_exporter": "python",
   "pygments_lexer": "ipython3",
   "version": "3.9.6"
  }
 },
 "nbformat": 4,
 "nbformat_minor": 5
}
