{
 "cells": [
  {
   "cell_type": "code",
   "execution_count": 1,
   "id": "ffd2e3f9",
   "metadata": {},
   "outputs": [],
   "source": [
    "import os\n",
    "import tensorflow as tf\n",
    "import tensorflow_io as tfio\n",
    "from tensorflow.keras.models import Sequential\n",
    "from tensorflow.keras.layers import *\n",
    "# from tensorflow.keras.layers.experimental.preprocessing import *\n",
    "from tensorflow.keras.optimizers import SGD, Adam\n",
    "from keras.losses import BinaryCrossentropy\n",
    "from keras.regularizers import l2"
   ]
  },
  {
   "cell_type": "code",
   "execution_count": 2,
   "id": "554c5265",
   "metadata": {},
   "outputs": [
    {
     "data": {
      "text/plain": [
       "[PhysicalDevice(name='/physical_device:GPU:0', device_type='GPU')]"
      ]
     },
     "execution_count": 2,
     "metadata": {},
     "output_type": "execute_result"
    }
   ],
   "source": [
    "os.environ['TF_CPP_MIN_LOG_LEVEL'] = '3'\n",
    "os.environ[\"CUDA_VISIBLE_DEVICES\"] = '1'\n",
    "tf.config.list_physical_devices('GPU')"
   ]
  },
  {
   "cell_type": "code",
   "execution_count": 3,
   "id": "d028028b",
   "metadata": {},
   "outputs": [],
   "source": [
    "DATA_DIR = 'data'\n",
    "HDF5_FILE = 'data_tf.hdf5'"
   ]
  },
  {
   "cell_type": "code",
   "execution_count": 4,
   "id": "ce1e8bdc",
   "metadata": {},
   "outputs": [],
   "source": [
    "BATCH_SIZE = 64\n",
    "IMG_SHAPE = (96, 96, 4)"
   ]
  },
  {
   "cell_type": "code",
   "execution_count": 5,
   "id": "d2bc132e",
   "metadata": {},
   "outputs": [],
   "source": [
    "data_file = os.path.join(DATA_DIR, HDF5_FILE)\n",
    "ds_x = tfio.IODataset.from_hdf5(data_file, '/x_train')\n",
    "ds_y = tfio.IODataset.from_hdf5(data_file, '/y_train')"
   ]
  },
  {
   "cell_type": "code",
   "execution_count": 6,
   "id": "33c5be02",
   "metadata": {},
   "outputs": [],
   "source": [
    "# convert to float and scale to [0, 1)\n",
    "ds_x = ds_x.map(lambda x: tf.image.convert_image_dtype(x, tf.float32))\n",
    "# ds_x = ds_x.map(lambda x: tf.image.crop_to_bounding_box(x, 8, 8, 80, 80))\n",
    "# ds_x = ds_images.map(lambda x: tf.image.per_image_standardization(x))\n",
    "ds_xc = ds_x.map(lambda x: tf.add(x, tf.random.normal(tf.shape(x), 0, 0.2)))"
   ]
  },
  {
   "cell_type": "code",
   "execution_count": 7,
   "id": "819b1ab7",
   "metadata": {},
   "outputs": [],
   "source": [
    "ds_xy = tf.data.Dataset.zip((ds_x, ds_y))\n",
    "ds_xy = ds_xy.shuffle(BATCH_SIZE*2)\n",
    "\n",
    "ds_xcy = tf.data.Dataset.zip((ds_xc, ds_y))\n",
    "ds_xcy = ds_xcy.shuffle(BATCH_SIZE*2)"
   ]
  },
  {
   "cell_type": "code",
   "execution_count": 8,
   "id": "08ae3956",
   "metadata": {},
   "outputs": [
    {
     "data": {
      "text/plain": [
       "(220025, 198022)"
      ]
     },
     "execution_count": 8,
     "metadata": {},
     "output_type": "execute_result"
    }
   ],
   "source": [
    "ds_len = ds_xy.reduce(0, lambda x, _: x + 1).numpy()\n",
    "train_len = int(0.9 * ds_len)\n",
    "\n",
    "ds_train = ds_xy.take(train_len)\n",
    "ds_trainc = ds_xcy.take(train_len)\n",
    "ds_test = ds_xy.skip(train_len)\n",
    "\n",
    "ds_len, train_len"
   ]
  },
  {
   "cell_type": "raw",
   "id": "e0424be5",
   "metadata": {},
   "source": [
    "ds_train = ds_xy.take(20000)\n",
    "ds_trainc = ds_xcy.take(20000)\n",
    "ds_test = ds_xy.skip(20000).take(10000)"
   ]
  },
  {
   "cell_type": "code",
   "execution_count": 9,
   "id": "a0431df3",
   "metadata": {},
   "outputs": [],
   "source": [
    "data_aug = Sequential([\n",
    "    RandomFlip(\"horizontal_and_vertical\"),\n",
    "    RandomContrast(0.2)\n",
    "    # RandomZoom(0.2, 0.2)\n",
    "])"
   ]
  },
  {
   "cell_type": "code",
   "execution_count": 10,
   "id": "ca6c116c",
   "metadata": {},
   "outputs": [],
   "source": [
    "model = Sequential()\n",
    "\n",
    "model.add(data_aug)\n",
    "\n",
    "model.add(Conv2D(32, (3, 3), activation='relu', kernel_regularizer=l2(1e-4))) #, input_shape=(X_train.shape[1:])))\n",
    "model.add(BatchNormalization())\n",
    "model.add(Conv2D(32, (3, 3), activation='relu', kernel_regularizer=l2(1e-4)))\n",
    "model.add(BatchNormalization())\n",
    "model.add(AveragePooling2D(pool_size=(2, 2)))\n",
    "model.add(Dropout(0.2))\n",
    "\n",
    "model.add(Conv2D(64, (3, 3), padding='same', activation='relu', kernel_regularizer=l2(1e-4)))\n",
    "model.add(BatchNormalization())\n",
    "model.add(Conv2D(64, (3, 3), padding='same', activation='relu', kernel_regularizer=l2(1e-4)))\n",
    "model.add(BatchNormalization())\n",
    "model.add(AveragePooling2D (pool_size=(2, 2)))\n",
    "model.add(Dropout(0.25))\n",
    "\n",
    "model.add(Conv2D(128, (3, 3), padding='same', activation='relu', kernel_regularizer=l2(1e-4)))\n",
    "model.add(BatchNormalization())\n",
    "model.add(Conv2D(128, (3, 3), padding='same', activation='relu', kernel_regularizer=l2(1e-4)))\n",
    "model.add(BatchNormalization())\n",
    "model.add(AveragePooling2D (pool_size=(2, 2)))\n",
    "model.add(Dropout(0.3))\n",
    "\n",
    "model.add(Flatten())\n",
    "model.add(Dense(1, activation='sigmoid'))\n",
    "\n",
    "# model.summary()"
   ]
  },
  {
   "cell_type": "code",
   "execution_count": 11,
   "id": "14a917e8",
   "metadata": {},
   "outputs": [
    {
     "name": "stdout",
     "output_type": "stream",
     "text": [
      "Epoch 1/8\n",
      "3095/3095 - 158s - loss: 0.4934 - accuracy: 0.8151 - val_loss: 0.6340 - val_accuracy: 0.7718\n",
      "Epoch 2/8\n",
      "3095/3095 - 153s - loss: 0.3775 - accuracy: 0.8568 - val_loss: 0.4885 - val_accuracy: 0.8300\n",
      "Epoch 3/8\n",
      "3095/3095 - 153s - loss: 0.3252 - accuracy: 0.8821 - val_loss: 0.6837 - val_accuracy: 0.8010\n",
      "Epoch 4/8\n",
      "3095/3095 - 153s - loss: 0.3080 - accuracy: 0.8917 - val_loss: 0.6441 - val_accuracy: 0.8258\n",
      "Epoch 5/8\n",
      "3095/3095 - 153s - loss: 0.2993 - accuracy: 0.8951 - val_loss: 0.6028 - val_accuracy: 0.8377\n",
      "Epoch 6/8\n",
      "3095/3095 - 153s - loss: 0.2932 - accuracy: 0.8996 - val_loss: 1.1142 - val_accuracy: 0.7259\n",
      "Epoch 7/8\n",
      "3095/3095 - 153s - loss: 0.2895 - accuracy: 0.9022 - val_loss: 0.4318 - val_accuracy: 0.8620\n",
      "Epoch 8/8\n",
      "3095/3095 - 153s - loss: 0.2852 - accuracy: 0.9028 - val_loss: 1.1458 - val_accuracy: 0.7497\n"
     ]
    }
   ],
   "source": [
    "ds_trainc = ds_trainc.batch(BATCH_SIZE).prefetch(tf.data.AUTOTUNE)\n",
    "ds_test = ds_test.batch(BATCH_SIZE).prefetch(tf.data.AUTOTUNE)\n",
    "\n",
    "model.compile(loss=BinaryCrossentropy(from_logits=False),\n",
    "              optimizer=Adam(learning_rate=1e-3),\n",
    "              metrics=['accuracy'])\n",
    "\n",
    "history = model.fit(ds_trainc,\n",
    "                    epochs=8,\n",
    "                    verbose=2, \n",
    "                    validation_data=ds_test\n",
    "                   )"
   ]
  },
  {
   "cell_type": "code",
   "execution_count": 12,
   "id": "dd4ca1bc",
   "metadata": {},
   "outputs": [
    {
     "name": "stdout",
     "output_type": "stream",
     "text": [
      "Epoch 1/8\n",
      "3095/3095 - 153s - loss: 0.2352 - accuracy: 0.9273 - val_loss: 0.4274 - val_accuracy: 0.8629\n",
      "Epoch 2/8\n",
      "3095/3095 - 153s - loss: 0.2277 - accuracy: 0.9304 - val_loss: 0.3277 - val_accuracy: 0.8896\n",
      "Epoch 3/8\n",
      "3095/3095 - 153s - loss: 0.2250 - accuracy: 0.9321 - val_loss: 0.3011 - val_accuracy: 0.8998\n",
      "Epoch 4/8\n",
      "3095/3095 - 153s - loss: 0.2229 - accuracy: 0.9331 - val_loss: 0.2897 - val_accuracy: 0.9091\n",
      "Epoch 5/8\n",
      "3095/3095 - 153s - loss: 0.2197 - accuracy: 0.9342 - val_loss: 0.4795 - val_accuracy: 0.8265\n",
      "Epoch 6/8\n",
      "3095/3095 - 153s - loss: 0.2178 - accuracy: 0.9359 - val_loss: 0.4013 - val_accuracy: 0.8858\n",
      "Epoch 7/8\n",
      "3095/3095 - 153s - loss: 0.2151 - accuracy: 0.9361 - val_loss: 0.2113 - val_accuracy: 0.9399\n",
      "Epoch 8/8\n",
      "3095/3095 - 153s - loss: 0.2123 - accuracy: 0.9375 - val_loss: 0.3429 - val_accuracy: 0.8889\n"
     ]
    }
   ],
   "source": [
    "ds_train = ds_train.batch(BATCH_SIZE).prefetch(tf.data.AUTOTUNE)\n",
    "\n",
    "history = model.fit(ds_train,\n",
    "                    epochs=8,\n",
    "                    verbose=2, \n",
    "                    validation_data=ds_test\n",
    "                   )"
   ]
  },
  {
   "cell_type": "code",
   "execution_count": 13,
   "id": "968da4a2",
   "metadata": {},
   "outputs": [
    {
     "name": "stdout",
     "output_type": "stream",
     "text": [
      "Epoch 1/8\n",
      "1548/1548 - 153s - loss: 0.1744 - accuracy: 0.9516 - val_loss: 0.1661 - val_accuracy: 0.9541\n",
      "Epoch 2/8\n",
      "1548/1548 - 151s - loss: 0.1653 - accuracy: 0.9538 - val_loss: 0.3556 - val_accuracy: 0.8987\n",
      "Epoch 3/8\n",
      "1548/1548 - 151s - loss: 0.1595 - accuracy: 0.9552 - val_loss: 0.1603 - val_accuracy: 0.9553\n",
      "Epoch 4/8\n",
      "1548/1548 - 151s - loss: 0.1560 - accuracy: 0.9563 - val_loss: 0.3224 - val_accuracy: 0.9059\n",
      "Epoch 5/8\n",
      "1548/1548 - 151s - loss: 0.1521 - accuracy: 0.9569 - val_loss: 0.1776 - val_accuracy: 0.9472\n",
      "Epoch 6/8\n",
      "1548/1548 - 151s - loss: 0.1495 - accuracy: 0.9575 - val_loss: 0.1837 - val_accuracy: 0.9455\n",
      "Epoch 7/8\n",
      "1548/1548 - 160s - loss: 0.1483 - accuracy: 0.9576 - val_loss: 0.2463 - val_accuracy: 0.9270\n",
      "Epoch 8/8\n",
      "1548/1548 - 159s - loss: 0.1461 - accuracy: 0.9588 - val_loss: 0.1335 - val_accuracy: 0.9623\n"
     ]
    }
   ],
   "source": [
    "ds_train = ds_train.unbatch()\n",
    "ds_test = ds_test.unbatch()\n",
    "ds_train = ds_train.batch(128).prefetch(tf.data.AUTOTUNE)\n",
    "ds_test = ds_test.batch(128).prefetch(tf.data.AUTOTUNE)\n",
    "\n",
    "model.compile(loss=BinaryCrossentropy(from_logits=False),\n",
    "              optimizer=Adam(learning_rate=2e-4),\n",
    "              metrics=['accuracy'])\n",
    "\n",
    "history = model.fit(ds_train,\n",
    "                    epochs=8,\n",
    "                    verbose=2, \n",
    "                    validation_data=ds_test\n",
    "                   )"
   ]
  },
  {
   "cell_type": "code",
   "execution_count": 14,
   "id": "3cde878e",
   "metadata": {},
   "outputs": [
    {
     "name": "stdout",
     "output_type": "stream",
     "text": [
      "Epoch 1/8\n",
      "774/774 - 156s - loss: 0.1347 - accuracy: 0.9625 - val_loss: 0.1287 - val_accuracy: 0.9648\n",
      "Epoch 2/8\n",
      "774/774 - 151s - loss: 0.1327 - accuracy: 0.9633 - val_loss: 0.1272 - val_accuracy: 0.9658\n",
      "Epoch 3/8\n",
      "774/774 - 151s - loss: 0.1318 - accuracy: 0.9637 - val_loss: 0.1232 - val_accuracy: 0.9675\n",
      "Epoch 4/8\n",
      "774/774 - 152s - loss: 0.1306 - accuracy: 0.9637 - val_loss: 0.1240 - val_accuracy: 0.9671\n",
      "Epoch 5/8\n",
      "774/774 - 152s - loss: 0.1301 - accuracy: 0.9639 - val_loss: 0.1237 - val_accuracy: 0.9669\n",
      "Epoch 6/8\n",
      "774/774 - 154s - loss: 0.1283 - accuracy: 0.9642 - val_loss: 0.1229 - val_accuracy: 0.9666\n",
      "Epoch 7/8\n",
      "774/774 - 165s - loss: 0.1281 - accuracy: 0.9643 - val_loss: 0.1221 - val_accuracy: 0.9669\n",
      "Epoch 8/8\n",
      "774/774 - 163s - loss: 0.1277 - accuracy: 0.9647 - val_loss: 0.1221 - val_accuracy: 0.9670\n"
     ]
    }
   ],
   "source": [
    "ds_train = ds_train.unbatch()\n",
    "ds_test = ds_test.unbatch()\n",
    "ds_train = ds_train.batch(256).prefetch(tf.data.AUTOTUNE)\n",
    "ds_test = ds_test.batch(256).prefetch(tf.data.AUTOTUNE)\n",
    "\n",
    "model.compile(loss=BinaryCrossentropy(from_logits=False),\n",
    "              optimizer=Adam(learning_rate=5e-5),\n",
    "              metrics=['accuracy'])\n",
    "\n",
    "history = model.fit(ds_train,\n",
    "                    epochs=8,\n",
    "                    verbose=2, \n",
    "                    validation_data=ds_test\n",
    "                   )"
   ]
  },
  {
   "cell_type": "code",
   "execution_count": 15,
   "id": "3cf7bc3f",
   "metadata": {},
   "outputs": [
    {
     "name": "stdout",
     "output_type": "stream",
     "text": [
      "Epoch 1/2\n",
      "3095/3095 - 155s - loss: 0.1431 - accuracy: 0.9583 - val_loss: 0.1262 - val_accuracy: 0.9648\n",
      "Epoch 2/2\n",
      "3095/3095 - 166s - loss: 0.1421 - accuracy: 0.9586 - val_loss: 0.1278 - val_accuracy: 0.9652\n"
     ]
    }
   ],
   "source": [
    "ds_train = ds_train.unbatch()\n",
    "ds_test = ds_test.unbatch()\n",
    "ds_train = ds_train.batch(64).prefetch(tf.data.AUTOTUNE)\n",
    "ds_test = ds_test.batch(64).prefetch(tf.data.AUTOTUNE)\n",
    "\n",
    "model.compile(loss=BinaryCrossentropy(from_logits=False),\n",
    "              optimizer=Adam(learning_rate=1e-4),\n",
    "              metrics=['accuracy'])\n",
    "\n",
    "history = model.fit(ds_train,\n",
    "                    epochs=2,\n",
    "                    verbose=2, \n",
    "                    validation_data=ds_test\n",
    "                   )"
   ]
  },
  {
   "cell_type": "code",
   "execution_count": 16,
   "id": "02a06b32",
   "metadata": {},
   "outputs": [
    {
     "name": "stdout",
     "output_type": "stream",
     "text": [
      "Epoch 1/2\n",
      "3095/3095 - 166s - loss: 0.2398 - accuracy: 0.9157 - val_loss: 1.0377 - val_accuracy: 0.8196\n",
      "Epoch 2/2\n",
      "3095/3095 - 166s - loss: 0.2206 - accuracy: 0.9235 - val_loss: 0.8742 - val_accuracy: 0.8360\n"
     ]
    }
   ],
   "source": [
    "history = model.fit(ds_trainc,\n",
    "                    epochs=2,\n",
    "                    verbose=2, \n",
    "                    validation_data=ds_test\n",
    "                   )"
   ]
  },
  {
   "cell_type": "code",
   "execution_count": 17,
   "id": "0a2884f0",
   "metadata": {},
   "outputs": [
    {
     "name": "stdout",
     "output_type": "stream",
     "text": [
      "Epoch 1/5\n",
      "774/774 - 161s - loss: 0.1437 - accuracy: 0.9572 - val_loss: 0.1576 - val_accuracy: 0.9524\n",
      "Epoch 2/5\n",
      "774/774 - 156s - loss: 0.1340 - accuracy: 0.9610 - val_loss: 0.1390 - val_accuracy: 0.9597\n",
      "Epoch 3/5\n",
      "774/774 - 155s - loss: 0.1301 - accuracy: 0.9630 - val_loss: 0.1217 - val_accuracy: 0.9665\n",
      "Epoch 4/5\n",
      "774/774 - 156s - loss: 0.1273 - accuracy: 0.9640 - val_loss: 0.1219 - val_accuracy: 0.9670\n",
      "Epoch 5/5\n",
      "774/774 - 153s - loss: 0.1260 - accuracy: 0.9640 - val_loss: 0.1190 - val_accuracy: 0.9675\n"
     ]
    }
   ],
   "source": [
    "ds_train = ds_train.unbatch()\n",
    "ds_test = ds_test.unbatch()\n",
    "ds_train = ds_train.batch(256).prefetch(tf.data.AUTOTUNE)\n",
    "ds_test = ds_test.batch(256).prefetch(tf.data.AUTOTUNE)\n",
    "\n",
    "model.compile(loss=BinaryCrossentropy(from_logits=False),\n",
    "              optimizer=Adam(learning_rate=5e-5),\n",
    "              metrics=['accuracy'])\n",
    "\n",
    "history = model.fit(ds_train,\n",
    "                    epochs=5,\n",
    "                    verbose=2, \n",
    "                    validation_data=ds_test\n",
    "                   )"
   ]
  },
  {
   "cell_type": "code",
   "execution_count": 18,
   "id": "fb91f153",
   "metadata": {},
   "outputs": [
    {
     "name": "stdout",
     "output_type": "stream",
     "text": [
      "Epoch 1/2\n",
      "387/387 - 164s - loss: 0.1325 - accuracy: 0.9623 - val_loss: 0.1986 - val_accuracy: 0.9399\n",
      "Epoch 2/2\n",
      "387/387 - 168s - loss: 0.1306 - accuracy: 0.9621 - val_loss: 0.1966 - val_accuracy: 0.9392\n"
     ]
    }
   ],
   "source": [
    "ds_train = ds_train.unbatch()\n",
    "ds_test = ds_test.unbatch()\n",
    "ds_train = ds_train.batch(512).prefetch(tf.data.AUTOTUNE)\n",
    "ds_test = ds_test.batch(512).prefetch(tf.data.AUTOTUNE)\n",
    "\n",
    "model.compile(loss=BinaryCrossentropy(from_logits=False),\n",
    "              optimizer=Adam(learning_rate=5e-4),\n",
    "              metrics=['accuracy'])\n",
    "\n",
    "history = model.fit(ds_train,\n",
    "                    epochs=2,\n",
    "                    verbose=2, \n",
    "                    validation_data=ds_test\n",
    "                   )"
   ]
  },
  {
   "cell_type": "code",
   "execution_count": 19,
   "id": "5f0dddfc",
   "metadata": {},
   "outputs": [
    {
     "name": "stdout",
     "output_type": "stream",
     "text": [
      "Epoch 1/10\n",
      "387/387 - 165s - loss: 0.1220 - accuracy: 0.9656 - val_loss: 0.1185 - val_accuracy: 0.9687\n",
      "Epoch 2/10\n",
      "387/387 - 161s - loss: 0.1187 - accuracy: 0.9665 - val_loss: 0.1212 - val_accuracy: 0.9675\n",
      "Epoch 3/10\n",
      "387/387 - 161s - loss: 0.1181 - accuracy: 0.9670 - val_loss: 0.1173 - val_accuracy: 0.9691\n",
      "Epoch 4/10\n",
      "387/387 - 162s - loss: 0.1165 - accuracy: 0.9678 - val_loss: 0.1170 - val_accuracy: 0.9696\n",
      "Epoch 5/10\n",
      "387/387 - 160s - loss: 0.1157 - accuracy: 0.9680 - val_loss: 0.1161 - val_accuracy: 0.9698\n",
      "Epoch 6/10\n",
      "387/387 - 165s - loss: 0.1154 - accuracy: 0.9678 - val_loss: 0.1197 - val_accuracy: 0.9681\n",
      "Epoch 7/10\n",
      "387/387 - 166s - loss: 0.1150 - accuracy: 0.9680 - val_loss: 0.1258 - val_accuracy: 0.9667\n",
      "Epoch 8/10\n",
      "387/387 - 166s - loss: 0.1143 - accuracy: 0.9680 - val_loss: 0.1211 - val_accuracy: 0.9679\n",
      "Epoch 9/10\n",
      "387/387 - 161s - loss: 0.1145 - accuracy: 0.9678 - val_loss: 0.1135 - val_accuracy: 0.9700\n",
      "Epoch 10/10\n",
      "387/387 - 167s - loss: 0.1132 - accuracy: 0.9685 - val_loss: 0.1163 - val_accuracy: 0.9695\n"
     ]
    }
   ],
   "source": [
    "model.compile(loss=BinaryCrossentropy(from_logits=False),\n",
    "              optimizer=Adam(learning_rate=5e-5),\n",
    "              metrics=['accuracy'])\n",
    "\n",
    "history = model.fit(ds_train,\n",
    "                    epochs=10,\n",
    "                    verbose=2, \n",
    "                    validation_data=ds_test\n",
    "                   )"
   ]
  },
  {
   "cell_type": "code",
   "execution_count": 20,
   "id": "0601055c",
   "metadata": {},
   "outputs": [
    {
     "name": "stdout",
     "output_type": "stream",
     "text": [
      "Epoch 1/10\n",
      "387/387 - 166s - loss: 0.1125 - accuracy: 0.9689 - val_loss: 0.1116 - val_accuracy: 0.9707\n",
      "Epoch 2/10\n",
      "387/387 - 162s - loss: 0.1115 - accuracy: 0.9690 - val_loss: 0.1109 - val_accuracy: 0.9708\n",
      "Epoch 3/10\n",
      "387/387 - 169s - loss: 0.1113 - accuracy: 0.9692 - val_loss: 0.1124 - val_accuracy: 0.9700\n",
      "Epoch 4/10\n",
      "387/387 - 168s - loss: 0.1110 - accuracy: 0.9694 - val_loss: 0.1124 - val_accuracy: 0.9700\n",
      "Epoch 5/10\n",
      "387/387 - 164s - loss: 0.1111 - accuracy: 0.9694 - val_loss: 0.1120 - val_accuracy: 0.9705\n",
      "Epoch 6/10\n",
      "387/387 - 164s - loss: 0.1108 - accuracy: 0.9692 - val_loss: 0.1116 - val_accuracy: 0.9709\n",
      "Epoch 7/10\n",
      "387/387 - 162s - loss: 0.1113 - accuracy: 0.9693 - val_loss: 0.1112 - val_accuracy: 0.9706\n",
      "Epoch 8/10\n",
      "387/387 - 165s - loss: 0.1103 - accuracy: 0.9697 - val_loss: 0.1123 - val_accuracy: 0.9703\n",
      "Epoch 9/10\n",
      "387/387 - 164s - loss: 0.1111 - accuracy: 0.9695 - val_loss: 0.1127 - val_accuracy: 0.9704\n",
      "Epoch 10/10\n",
      "387/387 - 177s - loss: 0.1105 - accuracy: 0.9696 - val_loss: 0.1126 - val_accuracy: 0.9699\n"
     ]
    }
   ],
   "source": [
    "model.compile(loss=BinaryCrossentropy(from_logits=False),\n",
    "              optimizer=Adam(learning_rate=1e-5),\n",
    "              metrics=['accuracy'])\n",
    "\n",
    "history = model.fit(ds_train,\n",
    "                    epochs=10,\n",
    "                    verbose=2, \n",
    "                    validation_data=ds_test\n",
    "                   )"
   ]
  },
  {
   "cell_type": "code",
   "execution_count": 21,
   "id": "13db7707",
   "metadata": {
    "scrolled": true
   },
   "outputs": [
    {
     "name": "stdout",
     "output_type": "stream",
     "text": [
      "Epoch 1/10\n",
      "387/387 - 166s - loss: 0.1103 - accuracy: 0.9696 - val_loss: 0.1119 - val_accuracy: 0.9704\n",
      "Epoch 2/10\n",
      "387/387 - 163s - loss: 0.1108 - accuracy: 0.9693 - val_loss: 0.1115 - val_accuracy: 0.9708\n",
      "Epoch 3/10\n",
      "387/387 - 171s - loss: 0.1105 - accuracy: 0.9692 - val_loss: 0.1111 - val_accuracy: 0.9712\n",
      "Epoch 4/10\n",
      "387/387 - 167s - loss: 0.1107 - accuracy: 0.9696 - val_loss: 0.1109 - val_accuracy: 0.9711\n",
      "Epoch 5/10\n",
      "387/387 - 165s - loss: 0.1097 - accuracy: 0.9697 - val_loss: 0.1117 - val_accuracy: 0.9711\n",
      "Epoch 6/10\n",
      "387/387 - 167s - loss: 0.1098 - accuracy: 0.9697 - val_loss: 0.1121 - val_accuracy: 0.9708\n",
      "Epoch 7/10\n",
      "387/387 - 167s - loss: 0.1094 - accuracy: 0.9698 - val_loss: 0.1114 - val_accuracy: 0.9708\n",
      "Epoch 8/10\n",
      "387/387 - 166s - loss: 0.1106 - accuracy: 0.9696 - val_loss: 0.1111 - val_accuracy: 0.9708\n",
      "Epoch 9/10\n",
      "387/387 - 177s - loss: 0.1095 - accuracy: 0.9698 - val_loss: 0.1104 - val_accuracy: 0.9713\n",
      "Epoch 10/10\n",
      "387/387 - 165s - loss: 0.1091 - accuracy: 0.9701 - val_loss: 0.1110 - val_accuracy: 0.9706\n"
     ]
    }
   ],
   "source": [
    "history = model.fit(ds_train,\n",
    "                    epochs=10,\n",
    "                    verbose=2, \n",
    "                    validation_data=ds_test\n",
    "                   )"
   ]
  },
  {
   "cell_type": "code",
   "execution_count": null,
   "id": "94285494",
   "metadata": {},
   "outputs": [],
   "source": []
  }
 ],
 "metadata": {
  "kernelspec": {
   "display_name": "Python 3 (ipykernel)",
   "language": "python",
   "name": "python3"
  },
  "language_info": {
   "codemirror_mode": {
    "name": "ipython",
    "version": 3
   },
   "file_extension": ".py",
   "mimetype": "text/x-python",
   "name": "python",
   "nbconvert_exporter": "python",
   "pygments_lexer": "ipython3",
   "version": "3.8.10"
  }
 },
 "nbformat": 4,
 "nbformat_minor": 5
}
