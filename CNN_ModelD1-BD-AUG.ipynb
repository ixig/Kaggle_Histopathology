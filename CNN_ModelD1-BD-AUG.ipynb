{
 "cells": [
  {
   "cell_type": "code",
   "execution_count": 1,
   "id": "ffd2e3f9",
   "metadata": {},
   "outputs": [],
   "source": [
    "import os\n",
    "import tensorflow as tf\n",
    "import tensorflow_io as tfio\n",
    "from tensorflow.keras.models import Sequential\n",
    "from tensorflow.keras.layers import *\n",
    "# from tensorflow.keras.layers.experimental.preprocessing import *\n",
    "from tensorflow.keras.optimizers import SGD, Adam\n",
    "from keras.losses import BinaryCrossentropy\n",
    "from keras.regularizers import l2"
   ]
  },
  {
   "cell_type": "code",
   "execution_count": 2,
   "id": "554c5265",
   "metadata": {},
   "outputs": [
    {
     "data": {
      "text/plain": [
       "[PhysicalDevice(name='/physical_device:GPU:0', device_type='GPU')]"
      ]
     },
     "execution_count": 2,
     "metadata": {},
     "output_type": "execute_result"
    }
   ],
   "source": [
    "os.environ['TF_CPP_MIN_LOG_LEVEL'] = '3'\n",
    "os.environ[\"CUDA_VISIBLE_DEVICES\"] = '0'\n",
    "tf.config.list_physical_devices('GPU')"
   ]
  },
  {
   "cell_type": "code",
   "execution_count": 3,
   "id": "d028028b",
   "metadata": {},
   "outputs": [],
   "source": [
    "DATA_DIR = 'data'\n",
    "HDF5_FILE = 'data_tf.hdf5'"
   ]
  },
  {
   "cell_type": "code",
   "execution_count": 4,
   "id": "ce1e8bdc",
   "metadata": {},
   "outputs": [],
   "source": [
    "BATCH_SIZE = 64\n",
    "IMG_SHAPE = (96, 96, 4)"
   ]
  },
  {
   "cell_type": "code",
   "execution_count": 5,
   "id": "d2bc132e",
   "metadata": {},
   "outputs": [],
   "source": [
    "data_file = os.path.join(DATA_DIR, HDF5_FILE)\n",
    "ds_x = tfio.IODataset.from_hdf5(data_file, '/x_train')\n",
    "ds_y = tfio.IODataset.from_hdf5(data_file, '/y_train')"
   ]
  },
  {
   "cell_type": "code",
   "execution_count": 6,
   "id": "33c5be02",
   "metadata": {},
   "outputs": [],
   "source": [
    "# convert to float and scale to [0, 1)\n",
    "ds_x = ds_x.map(lambda x: tf.image.convert_image_dtype(x, tf.float32))\n",
    "# ds_x = ds_images.map(lambda x: tf.image.per_image_standardization(x))"
   ]
  },
  {
   "cell_type": "code",
   "execution_count": 7,
   "id": "819b1ab7",
   "metadata": {},
   "outputs": [
    {
     "data": {
      "text/plain": [
       "(220025, 198022)"
      ]
     },
     "execution_count": 7,
     "metadata": {},
     "output_type": "execute_result"
    }
   ],
   "source": [
    "ds_xy = tf.data.Dataset.zip((ds_x, ds_y))\n",
    "ds_xy = ds_xy.shuffle(BATCH_SIZE*2)\n",
    "\n",
    "ds_len = ds_xy.reduce(0, lambda x, _: x + 1).numpy()\n",
    "train_len = int(0.9 * ds_len)\n",
    "\n",
    "ds_train = ds_xy.take(train_len)\n",
    "ds_test = ds_xy.skip(train_len)\n",
    "\n",
    "ds_len, train_len\n",
    "\n",
    "# ds_train = ds_xy.take(20000)\n",
    "# ds_test = ds_xy.skip(20000).take(10000)"
   ]
  },
  {
   "cell_type": "code",
   "execution_count": 8,
   "id": "a0431df3",
   "metadata": {},
   "outputs": [],
   "source": [
    "data_aug = Sequential([\n",
    "    RandomFlip(\"horizontal_and_vertical\"),\n",
    "    # RandomZoom(0.2, 0.2)\n",
    "])"
   ]
  },
  {
   "cell_type": "code",
   "execution_count": 9,
   "id": "ca6c116c",
   "metadata": {},
   "outputs": [],
   "source": [
    "model = Sequential()\n",
    "\n",
    "model.add(data_aug)\n",
    "\n",
    "model.add(Conv2D(32, (3, 3), activation='relu', kernel_regularizer=l2(1e-4))) #, input_shape=(X_train.shape[1:])))\n",
    "model.add(BatchNormalization())\n",
    "model.add(Conv2D(32, (3, 3), activation='relu', kernel_regularizer=l2(1e-4)))\n",
    "model.add(BatchNormalization())\n",
    "model.add(AveragePooling2D(pool_size=(2, 2)))\n",
    "model.add(Dropout(0.2))\n",
    "\n",
    "model.add(Conv2D(64, (3, 3), padding='same', activation='relu', kernel_regularizer=l2(1e-4)))\n",
    "model.add(BatchNormalization())\n",
    "model.add(Conv2D(64, (3, 3), padding='same', activation='relu', kernel_regularizer=l2(1e-4)))\n",
    "model.add(BatchNormalization())\n",
    "model.add(AveragePooling2D (pool_size=(2, 2)))\n",
    "model.add(Dropout(0.25))\n",
    "\n",
    "model.add(Conv2D(128, (3, 3), padding='same', activation='relu', kernel_regularizer=l2(1e-4)))\n",
    "model.add(BatchNormalization())\n",
    "model.add(Conv2D(128, (3, 3), padding='same', activation='relu', kernel_regularizer=l2(1e-4)))\n",
    "model.add(BatchNormalization())\n",
    "model.add(AveragePooling2D (pool_size=(2, 2)))\n",
    "model.add(Dropout(0.3))\n",
    "\n",
    "model.add(Flatten())\n",
    "model.add(Dense(1, activation='sigmoid'))\n",
    "\n",
    "# model.summary()"
   ]
  },
  {
   "cell_type": "code",
   "execution_count": 10,
   "id": "14a917e8",
   "metadata": {},
   "outputs": [
    {
     "name": "stdout",
     "output_type": "stream",
     "text": [
      "Epoch 1/8\n",
      "3095/3095 - 155s - loss: 0.4877 - accuracy: 0.8235 - val_loss: 1.9654 - val_accuracy: 0.6393\n",
      "Epoch 2/8\n",
      "3095/3095 - 153s - loss: 0.3421 - accuracy: 0.8775 - val_loss: 0.4554 - val_accuracy: 0.8413\n",
      "Epoch 3/8\n",
      "3095/3095 - 153s - loss: 0.2817 - accuracy: 0.9041 - val_loss: 0.6435 - val_accuracy: 0.7691\n",
      "Epoch 4/8\n",
      "3095/3095 - 154s - loss: 0.2538 - accuracy: 0.9181 - val_loss: 0.3852 - val_accuracy: 0.8756\n",
      "Epoch 5/8\n",
      "3095/3095 - 154s - loss: 0.2374 - accuracy: 0.9249 - val_loss: 0.6943 - val_accuracy: 0.7342\n",
      "Epoch 6/8\n",
      "3095/3095 - 154s - loss: 0.2311 - accuracy: 0.9277 - val_loss: 0.2522 - val_accuracy: 0.9157\n",
      "Epoch 7/8\n",
      "3095/3095 - 154s - loss: 0.2248 - accuracy: 0.9307 - val_loss: 0.2930 - val_accuracy: 0.8967\n",
      "Epoch 8/8\n",
      "3095/3095 - 154s - loss: 0.2221 - accuracy: 0.9322 - val_loss: 0.3392 - val_accuracy: 0.8715\n"
     ]
    }
   ],
   "source": [
    "ds_train = ds_train.batch(BATCH_SIZE).prefetch(tf.data.AUTOTUNE)\n",
    "ds_test = ds_test.batch(BATCH_SIZE).prefetch(tf.data.AUTOTUNE)\n",
    "\n",
    "model.compile(loss=BinaryCrossentropy(from_logits=False),\n",
    "              optimizer=Adam(learning_rate=1e-3),\n",
    "              metrics=['accuracy'])\n",
    "\n",
    "history = model.fit(ds_train,\n",
    "                    epochs=8,\n",
    "                    verbose=2, \n",
    "                    validation_data=ds_test\n",
    "                   )"
   ]
  },
  {
   "cell_type": "code",
   "execution_count": 11,
   "id": "968da4a2",
   "metadata": {},
   "outputs": [
    {
     "name": "stdout",
     "output_type": "stream",
     "text": [
      "Epoch 1/8\n",
      "1548/1548 - 154s - loss: 0.1793 - accuracy: 0.9485 - val_loss: 0.1807 - val_accuracy: 0.9472\n",
      "Epoch 2/8\n",
      "1548/1548 - 152s - loss: 0.1695 - accuracy: 0.9520 - val_loss: 0.1641 - val_accuracy: 0.9521\n",
      "Epoch 3/8\n",
      "1548/1548 - 152s - loss: 0.1638 - accuracy: 0.9529 - val_loss: 0.1536 - val_accuracy: 0.9550\n",
      "Epoch 4/8\n",
      "1548/1548 - 150s - loss: 0.1609 - accuracy: 0.9535 - val_loss: 0.1440 - val_accuracy: 0.9598\n",
      "Epoch 5/8\n",
      "1548/1548 - 163s - loss: 0.1562 - accuracy: 0.9549 - val_loss: 0.1370 - val_accuracy: 0.9624\n",
      "Epoch 6/8\n",
      "1548/1548 - 162s - loss: 0.1539 - accuracy: 0.9554 - val_loss: 0.1448 - val_accuracy: 0.9576\n",
      "Epoch 7/8\n",
      "1548/1548 - 159s - loss: 0.1515 - accuracy: 0.9564 - val_loss: 0.1451 - val_accuracy: 0.9583\n",
      "Epoch 8/8\n",
      "1548/1548 - 151s - loss: 0.1500 - accuracy: 0.9563 - val_loss: 0.1762 - val_accuracy: 0.9518\n"
     ]
    }
   ],
   "source": [
    "ds_train = ds_train.unbatch()\n",
    "ds_test = ds_test.unbatch()\n",
    "ds_train = ds_train.batch(128).prefetch(tf.data.AUTOTUNE)\n",
    "ds_test = ds_test.batch(128).prefetch(tf.data.AUTOTUNE)\n",
    "\n",
    "model.compile(loss=BinaryCrossentropy(from_logits=False),\n",
    "              optimizer=Adam(learning_rate=2e-4),\n",
    "              metrics=['accuracy'])\n",
    "\n",
    "history = model.fit(ds_train,\n",
    "                    epochs=8,\n",
    "                    verbose=2, \n",
    "                    validation_data=ds_test\n",
    "                   )"
   ]
  },
  {
   "cell_type": "code",
   "execution_count": 12,
   "id": "3cde878e",
   "metadata": {},
   "outputs": [
    {
     "name": "stdout",
     "output_type": "stream",
     "text": [
      "Epoch 1/8\n",
      "774/774 - 157s - loss: 0.1371 - accuracy: 0.9611 - val_loss: 0.1286 - val_accuracy: 0.9656\n",
      "Epoch 2/8\n",
      "774/774 - 163s - loss: 0.1345 - accuracy: 0.9617 - val_loss: 0.1320 - val_accuracy: 0.9633\n",
      "Epoch 3/8\n",
      "774/774 - 152s - loss: 0.1327 - accuracy: 0.9627 - val_loss: 0.1294 - val_accuracy: 0.9641\n",
      "Epoch 4/8\n",
      "774/774 - 153s - loss: 0.1330 - accuracy: 0.9625 - val_loss: 0.1315 - val_accuracy: 0.9638\n",
      "Epoch 5/8\n",
      "774/774 - 161s - loss: 0.1312 - accuracy: 0.9630 - val_loss: 0.1340 - val_accuracy: 0.9617\n",
      "Epoch 6/8\n",
      "774/774 - 152s - loss: 0.1307 - accuracy: 0.9634 - val_loss: 0.1411 - val_accuracy: 0.9584\n",
      "Epoch 7/8\n",
      "774/774 - 161s - loss: 0.1299 - accuracy: 0.9631 - val_loss: 0.1348 - val_accuracy: 0.9606\n",
      "Epoch 8/8\n",
      "774/774 - 152s - loss: 0.1287 - accuracy: 0.9639 - val_loss: 0.1303 - val_accuracy: 0.9629\n"
     ]
    }
   ],
   "source": [
    "ds_train = ds_train.unbatch()\n",
    "ds_test = ds_test.unbatch()\n",
    "ds_train = ds_train.batch(256).prefetch(tf.data.AUTOTUNE)\n",
    "ds_test = ds_test.batch(256).prefetch(tf.data.AUTOTUNE)\n",
    "\n",
    "model.compile(loss=BinaryCrossentropy(from_logits=False),\n",
    "              optimizer=Adam(learning_rate=5e-5),\n",
    "              metrics=['accuracy'])\n",
    "\n",
    "history = model.fit(ds_train,\n",
    "                    epochs=8,\n",
    "                    verbose=2, \n",
    "                    validation_data=ds_test\n",
    "                   )"
   ]
  },
  {
   "cell_type": "code",
   "execution_count": 13,
   "id": "3cf7bc3f",
   "metadata": {},
   "outputs": [
    {
     "name": "stdout",
     "output_type": "stream",
     "text": [
      "Epoch 1/2\n",
      "3095/3095 - 162s - loss: 0.1471 - accuracy: 0.9564 - val_loss: 0.1320 - val_accuracy: 0.9625\n",
      "Epoch 2/2\n",
      "3095/3095 - 152s - loss: 0.1472 - accuracy: 0.9564 - val_loss: 0.1502 - val_accuracy: 0.9551\n"
     ]
    }
   ],
   "source": [
    "ds_train = ds_train.unbatch()\n",
    "ds_test = ds_test.unbatch()\n",
    "ds_train = ds_train.batch(64).prefetch(tf.data.AUTOTUNE)\n",
    "ds_test = ds_test.batch(64).prefetch(tf.data.AUTOTUNE)\n",
    "\n",
    "model.compile(loss=BinaryCrossentropy(from_logits=False),\n",
    "              optimizer=Adam(learning_rate=1e-4),\n",
    "              metrics=['accuracy'])\n",
    "\n",
    "history = model.fit(ds_train,\n",
    "                    epochs=2,\n",
    "                    verbose=2, \n",
    "                    validation_data=ds_test\n",
    "                   )"
   ]
  },
  {
   "cell_type": "code",
   "execution_count": 14,
   "id": "0a2884f0",
   "metadata": {},
   "outputs": [
    {
     "name": "stdout",
     "output_type": "stream",
     "text": [
      "Epoch 1/5\n",
      "774/774 - 155s - loss: 0.1283 - accuracy: 0.9634 - val_loss: 0.1242 - val_accuracy: 0.9646\n",
      "Epoch 2/5\n",
      "774/774 - 151s - loss: 0.1262 - accuracy: 0.9642 - val_loss: 0.1266 - val_accuracy: 0.9644\n",
      "Epoch 3/5\n",
      "774/774 - 151s - loss: 0.1248 - accuracy: 0.9652 - val_loss: 0.1289 - val_accuracy: 0.9626\n",
      "Epoch 4/5\n",
      "774/774 - 151s - loss: 0.1247 - accuracy: 0.9648 - val_loss: 0.1326 - val_accuracy: 0.9608\n",
      "Epoch 5/5\n",
      "774/774 - 151s - loss: 0.1237 - accuracy: 0.9649 - val_loss: 0.1439 - val_accuracy: 0.9559\n"
     ]
    }
   ],
   "source": [
    "ds_train = ds_train.unbatch()\n",
    "ds_test = ds_test.unbatch()\n",
    "ds_train = ds_train.batch(256).prefetch(tf.data.AUTOTUNE)\n",
    "ds_test = ds_test.batch(256).prefetch(tf.data.AUTOTUNE)\n",
    "\n",
    "model.compile(loss=BinaryCrossentropy(from_logits=False),\n",
    "              optimizer=Adam(learning_rate=5e-5),\n",
    "              metrics=['accuracy'])\n",
    "\n",
    "history = model.fit(ds_train,\n",
    "                    epochs=5,\n",
    "                    verbose=2, \n",
    "                    validation_data=ds_test\n",
    "                   )"
   ]
  },
  {
   "cell_type": "code",
   "execution_count": 15,
   "id": "fb91f153",
   "metadata": {},
   "outputs": [
    {
     "name": "stdout",
     "output_type": "stream",
     "text": [
      "Epoch 1/2\n",
      "387/387 - 162s - loss: 0.1339 - accuracy: 0.9613 - val_loss: 0.3068 - val_accuracy: 0.9090\n",
      "Epoch 2/2\n",
      "387/387 - 152s - loss: 0.1322 - accuracy: 0.9619 - val_loss: 0.1906 - val_accuracy: 0.9389\n"
     ]
    }
   ],
   "source": [
    "ds_train = ds_train.unbatch()\n",
    "ds_test = ds_test.unbatch()\n",
    "ds_train = ds_train.batch(512).prefetch(tf.data.AUTOTUNE)\n",
    "ds_test = ds_test.batch(512).prefetch(tf.data.AUTOTUNE)\n",
    "\n",
    "model.compile(loss=BinaryCrossentropy(from_logits=False),\n",
    "              optimizer=Adam(learning_rate=5e-4),\n",
    "              metrics=['accuracy'])\n",
    "\n",
    "history = model.fit(ds_train,\n",
    "                    epochs=2,\n",
    "                    verbose=2, \n",
    "                    validation_data=ds_test\n",
    "                   )"
   ]
  },
  {
   "cell_type": "code",
   "execution_count": 16,
   "id": "5f0dddfc",
   "metadata": {},
   "outputs": [
    {
     "name": "stdout",
     "output_type": "stream",
     "text": [
      "Epoch 1/10\n",
      "387/387 - 154s - loss: 0.1222 - accuracy: 0.9654 - val_loss: 0.1233 - val_accuracy: 0.9647\n",
      "Epoch 2/10\n",
      "387/387 - 152s - loss: 0.1201 - accuracy: 0.9662 - val_loss: 0.1325 - val_accuracy: 0.9605\n",
      "Epoch 3/10\n",
      "387/387 - 152s - loss: 0.1192 - accuracy: 0.9664 - val_loss: 0.1181 - val_accuracy: 0.9663\n",
      "Epoch 4/10\n",
      "387/387 - 152s - loss: 0.1179 - accuracy: 0.9671 - val_loss: 0.1271 - val_accuracy: 0.9626\n",
      "Epoch 5/10\n",
      "387/387 - 152s - loss: 0.1172 - accuracy: 0.9673 - val_loss: 0.1316 - val_accuracy: 0.9605\n",
      "Epoch 6/10\n",
      "387/387 - 152s - loss: 0.1170 - accuracy: 0.9677 - val_loss: 0.1326 - val_accuracy: 0.9603\n",
      "Epoch 7/10\n",
      "387/387 - 152s - loss: 0.1166 - accuracy: 0.9673 - val_loss: 0.1253 - val_accuracy: 0.9630\n",
      "Epoch 8/10\n",
      "387/387 - 152s - loss: 0.1148 - accuracy: 0.9678 - val_loss: 0.1328 - val_accuracy: 0.9604\n",
      "Epoch 9/10\n",
      "387/387 - 155s - loss: 0.1150 - accuracy: 0.9682 - val_loss: 0.1250 - val_accuracy: 0.9633\n",
      "Epoch 10/10\n",
      "387/387 - 155s - loss: 0.1143 - accuracy: 0.9684 - val_loss: 0.1343 - val_accuracy: 0.9589\n"
     ]
    }
   ],
   "source": [
    "model.compile(loss=BinaryCrossentropy(from_logits=False),\n",
    "              optimizer=Adam(learning_rate=5e-5),\n",
    "              metrics=['accuracy'])\n",
    "\n",
    "history = model.fit(ds_train,\n",
    "                    epochs=10,\n",
    "                    verbose=2, \n",
    "                    validation_data=ds_test\n",
    "                   )"
   ]
  },
  {
   "cell_type": "code",
   "execution_count": 17,
   "id": "0601055c",
   "metadata": {},
   "outputs": [
    {
     "name": "stdout",
     "output_type": "stream",
     "text": [
      "Epoch 1/10\n",
      "387/387 - 166s - loss: 0.1137 - accuracy: 0.9684 - val_loss: 0.1215 - val_accuracy: 0.9646\n",
      "Epoch 2/10\n",
      "387/387 - 160s - loss: 0.1129 - accuracy: 0.9686 - val_loss: 0.1200 - val_accuracy: 0.9655\n",
      "Epoch 3/10\n",
      "387/387 - 162s - loss: 0.1125 - accuracy: 0.9689 - val_loss: 0.1183 - val_accuracy: 0.9660\n",
      "Epoch 4/10\n",
      "387/387 - 158s - loss: 0.1125 - accuracy: 0.9687 - val_loss: 0.1211 - val_accuracy: 0.9651\n",
      "Epoch 5/10\n",
      "387/387 - 165s - loss: 0.1122 - accuracy: 0.9691 - val_loss: 0.1217 - val_accuracy: 0.9649\n",
      "Epoch 6/10\n",
      "387/387 - 162s - loss: 0.1119 - accuracy: 0.9688 - val_loss: 0.1204 - val_accuracy: 0.9654\n",
      "Epoch 7/10\n",
      "387/387 - 163s - loss: 0.1121 - accuracy: 0.9688 - val_loss: 0.1189 - val_accuracy: 0.9659\n",
      "Epoch 8/10\n",
      "387/387 - 165s - loss: 0.1109 - accuracy: 0.9689 - val_loss: 0.1202 - val_accuracy: 0.9653\n",
      "Epoch 9/10\n",
      "387/387 - 165s - loss: 0.1114 - accuracy: 0.9690 - val_loss: 0.1196 - val_accuracy: 0.9654\n",
      "Epoch 10/10\n",
      "387/387 - 164s - loss: 0.1120 - accuracy: 0.9688 - val_loss: 0.1188 - val_accuracy: 0.9661\n"
     ]
    }
   ],
   "source": [
    "model.compile(loss=BinaryCrossentropy(from_logits=False),\n",
    "              optimizer=Adam(learning_rate=1e-5),\n",
    "              metrics=['accuracy'])\n",
    "\n",
    "history = model.fit(ds_train,\n",
    "                    epochs=10,\n",
    "                    verbose=2, \n",
    "                    validation_data=ds_test\n",
    "                   )"
   ]
  },
  {
   "cell_type": "code",
   "execution_count": 18,
   "id": "217905f0",
   "metadata": {},
   "outputs": [
    {
     "name": "stdout",
     "output_type": "stream",
     "text": [
      "Epoch 1/10\n",
      "387/387 - 163s - loss: 0.1110 - accuracy: 0.9691 - val_loss: 0.1163 - val_accuracy: 0.9670\n",
      "Epoch 2/10\n",
      "387/387 - 160s - loss: 0.1108 - accuracy: 0.9692 - val_loss: 0.1220 - val_accuracy: 0.9643\n",
      "Epoch 3/10\n",
      "387/387 - 166s - loss: 0.1115 - accuracy: 0.9694 - val_loss: 0.1186 - val_accuracy: 0.9659\n",
      "Epoch 4/10\n",
      "387/387 - 166s - loss: 0.1113 - accuracy: 0.9691 - val_loss: 0.1164 - val_accuracy: 0.9670\n",
      "Epoch 5/10\n",
      "387/387 - 161s - loss: 0.1109 - accuracy: 0.9690 - val_loss: 0.1179 - val_accuracy: 0.9666\n",
      "Epoch 6/10\n",
      "387/387 - 165s - loss: 0.1107 - accuracy: 0.9693 - val_loss: 0.1201 - val_accuracy: 0.9651\n",
      "Epoch 7/10\n",
      "387/387 - 163s - loss: 0.1113 - accuracy: 0.9688 - val_loss: 0.1226 - val_accuracy: 0.9640\n",
      "Epoch 8/10\n",
      "387/387 - 163s - loss: 0.1110 - accuracy: 0.9692 - val_loss: 0.1194 - val_accuracy: 0.9654\n",
      "Epoch 9/10\n",
      "387/387 - 164s - loss: 0.1106 - accuracy: 0.9693 - val_loss: 0.1226 - val_accuracy: 0.9639\n",
      "Epoch 10/10\n",
      "387/387 - 159s - loss: 0.1104 - accuracy: 0.9691 - val_loss: 0.1188 - val_accuracy: 0.9662\n"
     ]
    }
   ],
   "source": [
    "history = model.fit(ds_train,\n",
    "                    epochs=10,\n",
    "                    verbose=2, \n",
    "                    validation_data=ds_test\n",
    "                   )"
   ]
  },
  {
   "cell_type": "code",
   "execution_count": null,
   "id": "e4cfb29f",
   "metadata": {},
   "outputs": [],
   "source": []
  }
 ],
 "metadata": {
  "kernelspec": {
   "display_name": "Python 3 (ipykernel)",
   "language": "python",
   "name": "python3"
  },
  "language_info": {
   "codemirror_mode": {
    "name": "ipython",
    "version": 3
   },
   "file_extension": ".py",
   "mimetype": "text/x-python",
   "name": "python",
   "nbconvert_exporter": "python",
   "pygments_lexer": "ipython3",
   "version": "3.8.10"
  }
 },
 "nbformat": 4,
 "nbformat_minor": 5
}
