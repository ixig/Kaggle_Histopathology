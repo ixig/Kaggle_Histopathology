{
 "cells": [
  {
   "cell_type": "code",
   "execution_count": 1,
   "id": "eb9693b9",
   "metadata": {},
   "outputs": [],
   "source": [
    "from helper import *"
   ]
  },
  {
   "cell_type": "code",
   "execution_count": 2,
   "id": "b06c6c10",
   "metadata": {},
   "outputs": [],
   "source": [
    "SUBSET = '20k'\n",
    "DATA_DIR = 'data/'"
   ]
  },
  {
   "cell_type": "code",
   "execution_count": 3,
   "id": "273c6b12",
   "metadata": {},
   "outputs": [
    {
     "name": "stdout",
     "output_type": "stream",
     "text": [
      "((20000, 9216), dtype('uint8')) ((20000,), dtype('uint8'))\n",
      "((10000, 9216), dtype('uint8')) ((10000,), dtype('uint8'))\n"
     ]
    }
   ],
   "source": [
    "DATA_FILENAME = '1d_subset'\n",
    "(X_train, y_train), (X_test, y_test) = \\\n",
    "    load_npz(DATA_DIR + DATA_FILENAME + SUBSET + '.npz')"
   ]
  },
  {
   "cell_type": "code",
   "execution_count": 4,
   "id": "ff32416a",
   "metadata": {},
   "outputs": [],
   "source": [
    "X_train = X_train.reshape(-1, 96, 96)\n",
    "X_test = X_test.reshape(-1, 96, 96)"
   ]
  },
  {
   "cell_type": "code",
   "execution_count": 5,
   "id": "2313ebd9",
   "metadata": {},
   "outputs": [],
   "source": [
    "X_train = (X_train / 255.0 - 0.5).astype('float32')\n",
    "X_test = (X_test / 255.0 - 0.5).astype('float32')"
   ]
  },
  {
   "cell_type": "code",
   "execution_count": 6,
   "id": "841df222",
   "metadata": {},
   "outputs": [
    {
     "data": {
      "text/plain": [
       "((20000, 96, 96, 1), (10000, 96, 96, 1), (20000,), (10000,))"
      ]
     },
     "execution_count": 6,
     "metadata": {},
     "output_type": "execute_result"
    }
   ],
   "source": [
    "X_train = np.expand_dims(X_train, axis=-1)\n",
    "X_test = np.expand_dims(X_test, axis=-1)\n",
    "# y_train = y_train.reshape(-1, 1)\n",
    "# y_test = y_test.reshape(-1, 1)\n",
    "X_train.shape, X_test.shape, y_train.shape, y_test.shape"
   ]
  },
  {
   "cell_type": "code",
   "execution_count": 7,
   "id": "c8ad450f",
   "metadata": {},
   "outputs": [],
   "source": [
    "import tensorflow as tf\n",
    "from tensorflow import keras\n",
    "from keras.models import Sequential\n",
    "from keras.losses import BinaryCrossentropy\n",
    "from keras.regularizers import l2\n",
    "from keras.layers import *\n",
    "from tensorflow.keras.optimizers import SGD, Adam\n",
    "import os"
   ]
  },
  {
   "cell_type": "code",
   "execution_count": 8,
   "id": "bd718c84",
   "metadata": {},
   "outputs": [
    {
     "data": {
      "text/plain": [
       "[PhysicalDevice(name='/physical_device:GPU:0', device_type='GPU')]"
      ]
     },
     "execution_count": 8,
     "metadata": {},
     "output_type": "execute_result"
    }
   ],
   "source": [
    "os.environ['TF_CPP_MIN_LOG_LEVEL'] = '3'\n",
    "os.environ[\"CUDA_VISIBLE_DEVICES\"] = '1'\n",
    "tf.config.list_physical_devices('GPU')"
   ]
  },
  {
   "cell_type": "code",
   "execution_count": 9,
   "id": "e05a8b27",
   "metadata": {},
   "outputs": [],
   "source": [
    "model = Sequential()\n",
    "\n",
    "model.add(Conv2D(64, (3,3), activation='relu', kernel_regularizer=l2(1e-5))) #, input_shape=(X_train.shape[1:])))\n",
    "model.add(BatchNormalization())\n",
    "model.add(Conv2D(64, (3,3), activation='relu', kernel_regularizer=l2(1e-5)))\n",
    "model.add(BatchNormalization())\n",
    "model.add(MaxPooling2D(pool_size=(2, 2)))\n",
    "model.add(Dropout(0.3))\n",
    "\n",
    "model.add(Conv2D(32, (3,3), activation='relu', kernel_regularizer=l2(1e-5)))\n",
    "model.add(BatchNormalization())\n",
    "model.add(Conv2D(32, (3,3), activation='relu', kernel_regularizer=l2(1e-5)))\n",
    "model.add(BatchNormalization())\n",
    "model.add(MaxPooling2D (pool_size=(2, 2)))\n",
    "model.add(Dropout(0.35))\n",
    "\n",
    "model.add(Conv2D(16, (3,3), activation='relu', kernel_regularizer=l2(1e-5)))\n",
    "model.add(BatchNormalization())\n",
    "model.add(Conv2D(16, (3,3), activation='relu', kernel_regularizer=l2(1e-5)))\n",
    "model.add(BatchNormalization())\n",
    "model.add(MaxPooling2D (pool_size=(2, 2)))\n",
    "model.add(Dropout(0.4))\n",
    "\n",
    "model.add(Flatten())\n",
    "# model.add(Dropout(0.45)\n",
    "\n",
    "# model.add(Dense(64, activation='relu'))\n",
    "# model.add(BatchNormalization())\n",
    "# model.add(Dropout(0.4))\n",
    "\n",
    "model.add(Dense(1, activation='sigmoid'))\n",
    "\n",
    "# model.summary()"
   ]
  },
  {
   "cell_type": "code",
   "execution_count": 10,
   "id": "856983b5",
   "metadata": {
    "scrolled": false
   },
   "outputs": [
    {
     "name": "stdout",
     "output_type": "stream",
     "text": [
      "Epoch 1/15\n",
      "313/313 - 24s - loss: 0.5760 - accuracy: 0.7525 - val_loss: 1.6857 - val_accuracy: 0.5913\n",
      "Epoch 2/15\n",
      "313/313 - 21s - loss: 0.4828 - accuracy: 0.7824 - val_loss: 0.5762 - val_accuracy: 0.7010\n",
      "Epoch 3/15\n",
      "313/313 - 21s - loss: 0.4590 - accuracy: 0.7967 - val_loss: 0.5092 - val_accuracy: 0.7845\n",
      "Epoch 4/15\n",
      "313/313 - 21s - loss: 0.4461 - accuracy: 0.8020 - val_loss: 0.4264 - val_accuracy: 0.8126\n",
      "Epoch 5/15\n",
      "313/313 - 21s - loss: 0.4343 - accuracy: 0.8093 - val_loss: 0.5146 - val_accuracy: 0.7804\n",
      "Epoch 6/15\n",
      "313/313 - 21s - loss: 0.4205 - accuracy: 0.8152 - val_loss: 0.4133 - val_accuracy: 0.8151\n",
      "Epoch 7/15\n",
      "313/313 - 21s - loss: 0.4103 - accuracy: 0.8220 - val_loss: 0.4006 - val_accuracy: 0.8247\n",
      "Epoch 8/15\n",
      "313/313 - 21s - loss: 0.3953 - accuracy: 0.8288 - val_loss: 0.3940 - val_accuracy: 0.8294\n",
      "Epoch 9/15\n",
      "313/313 - 21s - loss: 0.3778 - accuracy: 0.8368 - val_loss: 0.3608 - val_accuracy: 0.8498\n",
      "Epoch 10/15\n",
      "313/313 - 21s - loss: 0.3619 - accuracy: 0.8476 - val_loss: 0.3729 - val_accuracy: 0.8436\n",
      "Epoch 11/15\n",
      "313/313 - 21s - loss: 0.3444 - accuracy: 0.8572 - val_loss: 0.3617 - val_accuracy: 0.8440\n",
      "Epoch 12/15\n",
      "313/313 - 21s - loss: 0.3339 - accuracy: 0.8605 - val_loss: 0.4611 - val_accuracy: 0.7777\n",
      "Epoch 13/15\n",
      "313/313 - 21s - loss: 0.3220 - accuracy: 0.8679 - val_loss: 0.3386 - val_accuracy: 0.8582\n",
      "Epoch 14/15\n",
      "313/313 - 21s - loss: 0.3163 - accuracy: 0.8719 - val_loss: 0.3240 - val_accuracy: 0.8604\n",
      "Epoch 15/15\n",
      "313/313 - 21s - loss: 0.3034 - accuracy: 0.8777 - val_loss: 0.3440 - val_accuracy: 0.8567\n"
     ]
    }
   ],
   "source": [
    "model.compile(loss=BinaryCrossentropy(from_logits=False),\n",
    "              optimizer=Adam(learning_rate=1e-3),\n",
    "              metrics=['accuracy'])\n",
    "\n",
    "history = model.fit(X_train, y_train,\n",
    "                    batch_size=64,\n",
    "                    epochs=15,\n",
    "                    verbose=2, \n",
    "                    validation_data=(X_test, y_test)\n",
    "                   )"
   ]
  },
  {
   "cell_type": "code",
   "execution_count": 11,
   "id": "2f019513",
   "metadata": {
    "scrolled": false
   },
   "outputs": [
    {
     "name": "stdout",
     "output_type": "stream",
     "text": [
      "Epoch 1/15\n",
      "157/157 - 23s - loss: 0.2749 - accuracy: 0.8909 - val_loss: 0.2894 - val_accuracy: 0.8791\n",
      "Epoch 2/15\n",
      "157/157 - 20s - loss: 0.2605 - accuracy: 0.8950 - val_loss: 0.2848 - val_accuracy: 0.8814\n",
      "Epoch 3/15\n",
      "157/157 - 20s - loss: 0.2585 - accuracy: 0.8970 - val_loss: 0.2829 - val_accuracy: 0.8819\n",
      "Epoch 4/15\n",
      "157/157 - 20s - loss: 0.2527 - accuracy: 0.8997 - val_loss: 0.2813 - val_accuracy: 0.8825\n",
      "Epoch 5/15\n",
      "157/157 - 20s - loss: 0.2467 - accuracy: 0.9008 - val_loss: 0.2890 - val_accuracy: 0.8815\n",
      "Epoch 6/15\n",
      "157/157 - 20s - loss: 0.2424 - accuracy: 0.9049 - val_loss: 0.3008 - val_accuracy: 0.8720\n",
      "Epoch 7/15\n",
      "157/157 - 20s - loss: 0.2415 - accuracy: 0.9040 - val_loss: 0.2918 - val_accuracy: 0.8808\n",
      "Epoch 8/15\n",
      "157/157 - 20s - loss: 0.2396 - accuracy: 0.9065 - val_loss: 0.2733 - val_accuracy: 0.8883\n",
      "Epoch 9/15\n",
      "157/157 - 20s - loss: 0.2359 - accuracy: 0.9075 - val_loss: 0.2827 - val_accuracy: 0.8830\n",
      "Epoch 10/15\n",
      "157/157 - 20s - loss: 0.2285 - accuracy: 0.9110 - val_loss: 0.2767 - val_accuracy: 0.8873\n",
      "Epoch 11/15\n",
      "157/157 - 20s - loss: 0.2271 - accuracy: 0.9118 - val_loss: 0.2850 - val_accuracy: 0.8847\n",
      "Epoch 12/15\n",
      "157/157 - 20s - loss: 0.2233 - accuracy: 0.9141 - val_loss: 0.2767 - val_accuracy: 0.8878\n",
      "Epoch 13/15\n",
      "157/157 - 20s - loss: 0.2210 - accuracy: 0.9139 - val_loss: 0.3077 - val_accuracy: 0.8740\n",
      "Epoch 14/15\n",
      "157/157 - 20s - loss: 0.2246 - accuracy: 0.9125 - val_loss: 0.2728 - val_accuracy: 0.8924\n",
      "Epoch 15/15\n",
      "157/157 - 20s - loss: 0.2166 - accuracy: 0.9193 - val_loss: 0.2689 - val_accuracy: 0.8941\n"
     ]
    }
   ],
   "source": [
    "model.compile(loss=BinaryCrossentropy(from_logits=False),\n",
    "              optimizer=Adam(learning_rate=2e-4),\n",
    "              metrics=['accuracy'])\n",
    "\n",
    "history = model.fit(X_train, y_train,\n",
    "                    batch_size=128,\n",
    "                    epochs=15,\n",
    "                    verbose=2, \n",
    "                    validation_data=(X_test, y_test)\n",
    "                   )"
   ]
  },
  {
   "cell_type": "code",
   "execution_count": 12,
   "id": "286d4df7",
   "metadata": {
    "scrolled": false
   },
   "outputs": [
    {
     "name": "stdout",
     "output_type": "stream",
     "text": [
      "Epoch 1/15\n",
      "79/79 - 24s - loss: 0.2070 - accuracy: 0.9204 - val_loss: 0.2749 - val_accuracy: 0.8901\n",
      "Epoch 2/15\n",
      "79/79 - 20s - loss: 0.2052 - accuracy: 0.9226 - val_loss: 0.2991 - val_accuracy: 0.8741\n",
      "Epoch 3/15\n",
      "79/79 - 20s - loss: 0.2077 - accuracy: 0.9183 - val_loss: 0.2650 - val_accuracy: 0.8951\n",
      "Epoch 4/15\n",
      "79/79 - 20s - loss: 0.2063 - accuracy: 0.9215 - val_loss: 0.2638 - val_accuracy: 0.8946\n",
      "Epoch 5/15\n",
      "79/79 - 20s - loss: 0.2051 - accuracy: 0.9215 - val_loss: 0.2705 - val_accuracy: 0.8925\n",
      "Epoch 6/15\n",
      "79/79 - 20s - loss: 0.2067 - accuracy: 0.9215 - val_loss: 0.2713 - val_accuracy: 0.8928\n",
      "Epoch 7/15\n",
      "79/79 - 20s - loss: 0.2072 - accuracy: 0.9208 - val_loss: 0.2711 - val_accuracy: 0.8910\n",
      "Epoch 8/15\n",
      "79/79 - 20s - loss: 0.2044 - accuracy: 0.9198 - val_loss: 0.2760 - val_accuracy: 0.8890\n",
      "Epoch 9/15\n",
      "79/79 - 20s - loss: 0.2026 - accuracy: 0.9210 - val_loss: 0.2834 - val_accuracy: 0.8856\n",
      "Epoch 10/15\n",
      "79/79 - 20s - loss: 0.2051 - accuracy: 0.9222 - val_loss: 0.2761 - val_accuracy: 0.8907\n",
      "Epoch 11/15\n",
      "79/79 - 20s - loss: 0.2028 - accuracy: 0.9219 - val_loss: 0.2750 - val_accuracy: 0.8889\n",
      "Epoch 12/15\n",
      "79/79 - 20s - loss: 0.2019 - accuracy: 0.9211 - val_loss: 0.2793 - val_accuracy: 0.8894\n",
      "Epoch 13/15\n",
      "79/79 - 20s - loss: 0.2000 - accuracy: 0.9232 - val_loss: 0.3090 - val_accuracy: 0.8770\n",
      "Epoch 14/15\n",
      "79/79 - 20s - loss: 0.2076 - accuracy: 0.9204 - val_loss: 0.2738 - val_accuracy: 0.8903\n",
      "Epoch 15/15\n",
      "79/79 - 20s - loss: 0.2018 - accuracy: 0.9225 - val_loss: 0.2846 - val_accuracy: 0.8870\n"
     ]
    }
   ],
   "source": [
    "model.compile(loss=BinaryCrossentropy(from_logits=False),\n",
    "              optimizer=SGD(learning_rate=0.005),\n",
    "              metrics=['accuracy'])\n",
    "\n",
    "history = model.fit(X_train, y_train,\n",
    "                    batch_size=256,\n",
    "                    epochs=15,\n",
    "                    verbose=2, \n",
    "                    validation_data=(X_test, y_test)\n",
    "                   )"
   ]
  },
  {
   "cell_type": "code",
   "execution_count": null,
   "id": "1ab05b62",
   "metadata": {},
   "outputs": [],
   "source": []
  }
 ],
 "metadata": {
  "kernelspec": {
   "display_name": "Python 3 (ipykernel)",
   "language": "python",
   "name": "python3"
  },
  "language_info": {
   "codemirror_mode": {
    "name": "ipython",
    "version": 3
   },
   "file_extension": ".py",
   "mimetype": "text/x-python",
   "name": "python",
   "nbconvert_exporter": "python",
   "pygments_lexer": "ipython3",
   "version": "3.8.10"
  }
 },
 "nbformat": 4,
 "nbformat_minor": 5
}
