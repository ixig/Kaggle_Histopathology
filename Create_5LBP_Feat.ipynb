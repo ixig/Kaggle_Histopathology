{
 "cells": [
  {
   "cell_type": "markdown",
   "id": "1b0f81ba",
   "metadata": {},
   "source": [
    "# Generate 5-cell overlapping LBPs: 64x64px centered and 32x32px on four corners"
   ]
  },
  {
   "cell_type": "code",
   "execution_count": 1,
   "id": "46bdb08c",
   "metadata": {},
   "outputs": [],
   "source": [
    "from helper import *\n",
    "from skimage.feature import local_binary_pattern"
   ]
  },
  {
   "cell_type": "code",
   "execution_count": 2,
   "id": "9fb29f88",
   "metadata": {},
   "outputs": [],
   "source": [
    "SUBSET = '20k'\n",
    "DATA_DIR = 'data/'\n",
    "DATA_FILENAME = '1d_subset' + SUBSET"
   ]
  },
  {
   "cell_type": "code",
   "execution_count": 3,
   "id": "c0e2d75b",
   "metadata": {},
   "outputs": [
    {
     "name": "stdout",
     "output_type": "stream",
     "text": [
      "((20000, 9216), dtype('uint8')) ((20000,), dtype('uint8'))\n",
      "((10000, 9216), dtype('uint8')) ((10000,), dtype('uint8'))\n"
     ]
    }
   ],
   "source": [
    "(X_train, y_train), (X_test, y_test) = \\\n",
    "    load_npz(DATA_DIR + DATA_FILENAME + '.npz')"
   ]
  },
  {
   "cell_type": "code",
   "execution_count": 4,
   "id": "a02456a0",
   "metadata": {},
   "outputs": [],
   "source": [
    "# Local Binary Pattern Histogram\n",
    "def lbpu_histogram(img):\n",
    "    patterns = local_binary_pattern(img, 8, 1, 'uniform')\n",
    "    hist, _ = np.histogram(patterns, bins=np.arange(59 + 1))\n",
    "    # assert hist[10:].sum() == 0\n",
    "    return hist[:10].astype('int16')"
   ]
  },
  {
   "cell_type": "code",
   "execution_count": 5,
   "id": "0457a55e",
   "metadata": {},
   "outputs": [],
   "source": [
    "# Extract center of image as 2-D matrix\n",
    "def extract_center(v, hs=32):\n",
    "    img = v.reshape(96, 96)\n",
    "    return img[48-hs:48+hs, 48-hs:48+hs]\n",
    "\n",
    "# Extract (<i>, <j>)th cell in 9x9 Grid as 2-D vector\n",
    "def extract_center_cell(v, i, j):\n",
    "    img = v.reshape(96, 96)\n",
    "    return img[16+32*i:16+32*(i+1), 16+32*j:16+32*(j+1)]\n",
    "\n",
    "# Turn a <v> of size 9216 (96x96) into 4 vectors of 1024 (32x32)\n",
    "# by extracting 4 cells centered on image and un-rolling each cell\n",
    "# individually\n",
    "def vec_to_cells(v):\n",
    "    cells = []\n",
    "    for i in range(2):\n",
    "        for j in range(2):\n",
    "            cells.append(extract_center_cell(v, i, j))\n",
    "    return np.array(cells)"
   ]
  },
  {
   "cell_type": "code",
   "execution_count": 6,
   "id": "a0838a92",
   "metadata": {},
   "outputs": [],
   "source": [
    "# Turn a <v> of size 9216 (96x96) into 1-D LDP feature vector of\n",
    "# size 10 (single LDP histogram)\n",
    "def vec_to_feat(v):\n",
    "    vec4 = vec_to_cells(v)\n",
    "    lbp4  = np.array([lbpu_histogram(vec4[i]) for i in range(len(vec4))])\n",
    "    lbp_center = lbpu_histogram(extract_center(v))\n",
    "    return np.concatenate((lbp_center, lbp4.ravel()))"
   ]
  },
  {
   "cell_type": "code",
   "execution_count": 7,
   "id": "32c2ef8a",
   "metadata": {},
   "outputs": [
    {
     "data": {
      "text/plain": [
       "((20000, 50), dtype('int16'))"
      ]
     },
     "execution_count": 7,
     "metadata": {},
     "output_type": "execute_result"
    }
   ],
   "source": [
    "Xf_train = np.apply_along_axis(delayed(vec_to_feat), 1, X_train)\n",
    "Xf_train = np.concatenate(compute([x for x in Xf_train]))\n",
    "Xf_train.shape, Xf_train.dtype"
   ]
  },
  {
   "cell_type": "code",
   "execution_count": 8,
   "id": "7b123ac4",
   "metadata": {},
   "outputs": [
    {
     "data": {
      "text/plain": [
       "((10000, 50), dtype('int16'))"
      ]
     },
     "execution_count": 8,
     "metadata": {},
     "output_type": "execute_result"
    }
   ],
   "source": [
    "Xf_test = np.apply_along_axis(delayed(vec_to_feat), 1, X_test)\n",
    "Xf_test = np.concatenate(compute([x for x in Xf_test]))\n",
    "Xf_test.shape, Xf_test.dtype"
   ]
  },
  {
   "cell_type": "code",
   "execution_count": 9,
   "id": "141a4ece",
   "metadata": {},
   "outputs": [],
   "source": [
    "SUBSET_FILENAME = '5lbp_subset' + SUBSET\n",
    "np.savez(DATA_DIR + SUBSET_FILENAME,\n",
    "         X_train=Xf_train, y_train=y_train,\n",
    "         X_test=Xf_test, y_test=y_test)"
   ]
  },
  {
   "cell_type": "code",
   "execution_count": 10,
   "id": "2db872b4",
   "metadata": {},
   "outputs": [
    {
     "name": "stdout",
     "output_type": "stream",
     "text": [
      "n_est: Train, Test\n",
      "400  : 81.2,  76.1\n",
      "600  : 83.0,  76.0\n",
      "800  : 84.8,  75.9\n"
     ]
    }
   ],
   "source": [
    "GBT(Xf_train, Xf_test, y_train, y_test)"
   ]
  },
  {
   "cell_type": "code",
   "execution_count": null,
   "id": "56fe2d55",
   "metadata": {},
   "outputs": [],
   "source": []
  }
 ],
 "metadata": {
  "kernelspec": {
   "display_name": "Python 3 (ipykernel)",
   "language": "python",
   "name": "python3"
  },
  "language_info": {
   "codemirror_mode": {
    "name": "ipython",
    "version": 3
   },
   "file_extension": ".py",
   "mimetype": "text/x-python",
   "name": "python",
   "nbconvert_exporter": "python",
   "pygments_lexer": "ipython3",
   "version": "3.9.6"
  }
 },
 "nbformat": 4,
 "nbformat_minor": 5
}
