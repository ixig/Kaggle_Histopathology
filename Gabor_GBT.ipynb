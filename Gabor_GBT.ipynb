{
 "cells": [
  {
   "cell_type": "code",
   "execution_count": 1,
   "id": "46bdb08c",
   "metadata": {},
   "outputs": [],
   "source": [
    "import matplotlib.pyplot as plt\n",
    "import numpy as np\n",
    "from scipy import ndimage as ndi\n",
    "from skimage.util import img_as_float\n",
    "from skimage.filters import gabor_kernel\n",
    "from sklearn.ensemble import GradientBoostingClassifier\n",
    "from sklearn.preprocessing import StandardScaler\n",
    "from sklearn import metrics"
   ]
  },
  {
   "cell_type": "code",
   "execution_count": 2,
   "id": "9fb29f88",
   "metadata": {},
   "outputs": [],
   "source": [
    "SUBSET = '20k'\n",
    "DATA_DIR = 'data/'\n",
    "DATA_FILENAME = '1d_subset' + SUBSET"
   ]
  },
  {
   "cell_type": "code",
   "execution_count": 3,
   "id": "302c106e",
   "metadata": {},
   "outputs": [
    {
     "data": {
      "text/plain": [
       "((20000, 9216), dtype('uint8'))"
      ]
     },
     "execution_count": 3,
     "metadata": {},
     "output_type": "execute_result"
    }
   ],
   "source": [
    "data_train = np.load(DATA_DIR + DATA_FILENAME + '_train' + '.npz')\n",
    "X_train = data_train['X']\n",
    "X2_train = data_train['X2']\n",
    "y_train = data_train['y']\n",
    "# train_names = data_train['names']\n",
    "data_train.close()\n",
    "X_train.shape, X_train.dtype"
   ]
  },
  {
   "cell_type": "code",
   "execution_count": 4,
   "id": "451da2c4",
   "metadata": {},
   "outputs": [
    {
     "data": {
      "text/plain": [
       "((10000, 9216), dtype('uint8'))"
      ]
     },
     "execution_count": 4,
     "metadata": {},
     "output_type": "execute_result"
    }
   ],
   "source": [
    "data_test = np.load(DATA_DIR + DATA_FILENAME + '_test' + '.npz')\n",
    "X_test = data_test['X']\n",
    "X2_test = data_test['X2']\n",
    "y_test = data_test['y']\n",
    "# test_names = data_test['names']\n",
    "data_test.close()\n",
    "X_test.shape, X_test.dtype"
   ]
  },
  {
   "cell_type": "code",
   "execution_count": 5,
   "id": "a85febc8",
   "metadata": {},
   "outputs": [],
   "source": [
    "def compute_feats(image, kernels):\n",
    "    feats = np.zeros((len(kernels), 2), dtype=np.double)\n",
    "    for k, kernel in enumerate(kernels):\n",
    "        filtered = ndi.convolve(image, kernel, mode='wrap')\n",
    "        feats[k, 0] = filtered.mean()\n",
    "        feats[k, 1] = filtered.var()\n",
    "    return feats"
   ]
  },
  {
   "cell_type": "code",
   "execution_count": 6,
   "id": "a0838a92",
   "metadata": {},
   "outputs": [],
   "source": [
    "# Turn a <v> of size 9216 (96x96) into 1-D LDP feature vector of\n",
    "# size 20 (two LDP histogram)\n",
    "def vec_to_feat(v):\n",
    "    feats1 = compute_feats(v[:9216].reshape(96, 96), kernels).ravel()\n",
    "    feats2 = compute_feats(v[9216:].reshape(48, 48), kernels).ravel()\n",
    "    return np.concatenate((feats1, feats2))"
   ]
  },
  {
   "cell_type": "code",
   "execution_count": 7,
   "id": "994eb372",
   "metadata": {},
   "outputs": [
    {
     "data": {
      "text/plain": [
       "(16, (7, 7))"
      ]
     },
     "execution_count": 7,
     "metadata": {},
     "output_type": "execute_result"
    }
   ],
   "source": [
    "# prepare filter bank kernels\n",
    "kernels = []\n",
    "for theta in range(4):\n",
    "    theta = theta / 4. * np.pi\n",
    "    for sigma in (1, 3):\n",
    "        for frequency in (0.05, 0.25):\n",
    "            kernel = np.real(gabor_kernel(frequency, theta=theta,\n",
    "                                          sigma_x=sigma, sigma_y=sigma))\n",
    "            kernels.append(kernel)\n",
    "len(kernels), kernels[0].shape"
   ]
  },
  {
   "cell_type": "code",
   "execution_count": 8,
   "id": "32c2ef8a",
   "metadata": {},
   "outputs": [
    {
     "data": {
      "text/plain": [
       "((20000, 64), dtype('float64'))"
      ]
     },
     "execution_count": 8,
     "metadata": {},
     "output_type": "execute_result"
    }
   ],
   "source": [
    "Xf_train = np.apply_along_axis(vec_to_feat, 1, np.hstack((X_train, X2_train)))\n",
    "Xf_train.shape, Xf_train.dtype"
   ]
  },
  {
   "cell_type": "code",
   "execution_count": 9,
   "id": "7b123ac4",
   "metadata": {},
   "outputs": [
    {
     "data": {
      "text/plain": [
       "((10000, 64), dtype('float64'))"
      ]
     },
     "execution_count": 9,
     "metadata": {},
     "output_type": "execute_result"
    }
   ],
   "source": [
    "Xf_test = np.apply_along_axis(vec_to_feat, 1, np.hstack((X_test, X2_test)))\n",
    "Xf_test.shape, Xf_test.dtype"
   ]
  },
  {
   "cell_type": "code",
   "execution_count": 10,
   "id": "ab151988",
   "metadata": {},
   "outputs": [
    {
     "name": "stdout",
     "output_type": "stream",
     "text": [
      "0.8549\n",
      "0.8264\n"
     ]
    }
   ],
   "source": [
    "clf = GradientBoostingClassifier(n_estimators=400)\n",
    "clf.fit(Xf_train, y_train)\n",
    "print(clf.score(Xf_train, y_train))\n",
    "print(clf.score(Xf_test, y_test))"
   ]
  },
  {
   "cell_type": "code",
   "execution_count": 11,
   "id": "ab814b2e",
   "metadata": {},
   "outputs": [],
   "source": [
    "SUBSET_FILENAME = '2gabor_subset' + SUBSET\n",
    "np.savez(DATA_DIR + SUBSET_FILENAME + '_train', X=Xf_train, y=y_train)  #, names=train_names)\n",
    "np.savez(DATA_DIR + SUBSET_FILENAME + '_test', X=Xf_test, y=y_test)  #, names=test_names)"
   ]
  },
  {
   "cell_type": "code",
   "execution_count": null,
   "id": "e29f0041",
   "metadata": {},
   "outputs": [],
   "source": []
  }
 ],
 "metadata": {
  "kernelspec": {
   "display_name": "Python 3 (ipykernel)",
   "language": "python",
   "name": "python3"
  },
  "language_info": {
   "codemirror_mode": {
    "name": "ipython",
    "version": 3
   },
   "file_extension": ".py",
   "mimetype": "text/x-python",
   "name": "python",
   "nbconvert_exporter": "python",
   "pygments_lexer": "ipython3",
   "version": "3.9.6"
  }
 },
 "nbformat": 4,
 "nbformat_minor": 5
}
