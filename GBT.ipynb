{
 "cells": [
  {
   "cell_type": "code",
   "execution_count": 1,
   "id": "edbe1831",
   "metadata": {},
   "outputs": [],
   "source": [
    "from helper import *"
   ]
  },
  {
   "cell_type": "code",
   "execution_count": 2,
   "id": "4d857b7f",
   "metadata": {},
   "outputs": [],
   "source": [
    "SUBSET = '200k'\n",
    "DATA_DIR = 'data/'"
   ]
  },
  {
   "cell_type": "code",
   "execution_count": 3,
   "id": "db8eef97",
   "metadata": {},
   "outputs": [
    {
     "name": "stdout",
     "output_type": "stream",
     "text": [
      "((200000, 40), dtype('int16')) ((200000,), dtype('uint8'))\n",
      "((20000, 40), dtype('int16')) ((20000,), dtype('uint8'))\n"
     ]
    }
   ],
   "source": [
    "DATA_FILENAME = '2x2lbp_subset'\n",
    "(Xl_train, y_train), (Xl_test, y_test) = \\\n",
    "    load_npz(DATA_DIR + DATA_FILENAME + SUBSET + '.npz')"
   ]
  },
  {
   "cell_type": "code",
   "execution_count": 4,
   "id": "a68a64b3",
   "metadata": {},
   "outputs": [
    {
     "name": "stdout",
     "output_type": "stream",
     "text": [
      "((200000, 4), dtype('float32')) ((200000,), dtype('uint8'))\n",
      "((20000, 4), dtype('float32')) ((20000,), dtype('uint8'))\n"
     ]
    }
   ],
   "source": [
    "DATA_FILENAME = '2gabor_subset'\n",
    "(Xg_train, y_train_), (Xg_test, y_test_) = \\\n",
    "    load_npz(DATA_DIR + DATA_FILENAME + SUBSET + '.npz')\n",
    "assert np.all(y_train == y_train_)\n",
    "assert np.all(y_test == y_test_)"
   ]
  },
  {
   "cell_type": "code",
   "execution_count": 5,
   "id": "7d5af8f2",
   "metadata": {},
   "outputs": [
    {
     "name": "stdout",
     "output_type": "stream",
     "text": [
      "((200000, 16), dtype('float32')) ((200000,), dtype('uint8'))\n",
      "((20000, 16), dtype('float32')) ((20000,), dtype('uint8'))\n"
     ]
    }
   ],
   "source": [
    "DATA_FILENAME = '2d_gaboscharr_subset'\n",
    "(Xs_train, y_train_), (Xs_test, y_test_) = \\\n",
    "    load_npz(DATA_DIR + DATA_FILENAME + SUBSET + '.npz')\n",
    "assert np.all(y_train == y_train_)\n",
    "assert np.all(y_test == y_test_)"
   ]
  },
  {
   "cell_type": "code",
   "execution_count": 6,
   "id": "64004ac0",
   "metadata": {},
   "outputs": [
    {
     "data": {
      "text/plain": [
       "((200000, 60), (20000, 60))"
      ]
     },
     "execution_count": 6,
     "metadata": {},
     "output_type": "execute_result"
    }
   ],
   "source": [
    "Xf_train = np.hstack((Xl_train, Xg_train, Xs_train))\n",
    "Xf_test = np.hstack((Xl_test, Xg_test, Xs_test))\n",
    "Xf_train.shape, Xf_test.shape"
   ]
  },
  {
   "cell_type": "code",
   "execution_count": 7,
   "id": "e914b4b7",
   "metadata": {
    "scrolled": true
   },
   "outputs": [
    {
     "name": "stdout",
     "output_type": "stream",
     "text": [
      "n_est: Train, Test\n",
      "400  : 87.5,  87.1\n",
      "600  : 88.4,  87.8\n",
      "800  : 89.1,  88.4\n"
     ]
    }
   ],
   "source": [
    "GBT(Xf_train, Xf_test, y_train, y_test)"
   ]
  },
  {
   "cell_type": "code",
   "execution_count": null,
   "id": "f13aaffd",
   "metadata": {},
   "outputs": [],
   "source": []
  }
 ],
 "metadata": {
  "kernelspec": {
   "display_name": "Python 3 (ipykernel)",
   "language": "python",
   "name": "python3"
  },
  "language_info": {
   "codemirror_mode": {
    "name": "ipython",
    "version": 3
   },
   "file_extension": ".py",
   "mimetype": "text/x-python",
   "name": "python",
   "nbconvert_exporter": "python",
   "pygments_lexer": "ipython3",
   "version": "3.8.10"
  }
 },
 "nbformat": 4,
 "nbformat_minor": 5
}
