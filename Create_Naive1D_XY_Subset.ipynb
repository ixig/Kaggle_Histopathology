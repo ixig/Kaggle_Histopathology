{
 "cells": [
  {
   "cell_type": "code",
   "execution_count": 1,
   "id": "eecd25de",
   "metadata": {},
   "outputs": [],
   "source": [
    "import h5py\n",
    "import os\n",
    "import cv2\n",
    "import matplotlib.pyplot as plt\n",
    "import numpy as np\n",
    "from imageio import imread\n",
    "from random import Random, shuffle"
   ]
  },
  {
   "cell_type": "code",
   "execution_count": 2,
   "id": "326c90f7",
   "metadata": {},
   "outputs": [],
   "source": [
    "HDF5_FILENAME = 'data.hdf5'\n",
    "f = h5py.File(HDF5_FILENAME, 'r')"
   ]
  },
  {
   "cell_type": "code",
   "execution_count": 3,
   "id": "f8b6b1e0",
   "metadata": {},
   "outputs": [],
   "source": [
    "train = list(f['train'].keys())"
   ]
  },
  {
   "cell_type": "code",
   "execution_count": 4,
   "id": "18e6e6b7",
   "metadata": {},
   "outputs": [],
   "source": [
    "RAND_SEED = 222\n",
    "rand = Random(RAND_SEED)\n",
    "rand.shuffle(train)"
   ]
  },
  {
   "cell_type": "code",
   "execution_count": 5,
   "id": "f94c61da",
   "metadata": {},
   "outputs": [],
   "source": [
    "TRAIN_SAMPLES = 4000\n",
    "TEST_SAMPLES = 2000\n",
    "num_pixels = f['train'][train[0]].shape[0] * f['train'][train[0]].shape[1]\n",
    "X_train = np.empty((TRAIN_SAMPLES, num_pixels), dtype='uint8')\n",
    "y_train = np.empty(TRAIN_SAMPLES, dtype='uint8')\n",
    "X_test  = np.empty((TEST_SAMPLES, num_pixels), dtype='uint8')\n",
    "y_test  = np.empty(TEST_SAMPLES, dtype='uint8')"
   ]
  },
  {
   "cell_type": "code",
   "execution_count": 6,
   "id": "786f295a",
   "metadata": {},
   "outputs": [],
   "source": [
    "def populate_xy(X: np.ndarray, y: np.ndarray, m: int, offs: int):\n",
    "    count_pos, count_neg = 0, 0\n",
    "    for i, name in enumerate(train[offs:offs+m]):\n",
    "        dset = f['train'][name]\n",
    "        img = dset[()]\n",
    "        X[i] = img.ravel()\n",
    "        label = dset.attrs['label']\n",
    "        y[i] = label\n",
    "        if label == 1:\n",
    "            count_pos += 1\n",
    "        elif label == 0:\n",
    "            count_neg += 1\n",
    "        else:\n",
    "            raise Exception\n",
    "    print(f'Pos: {count_pos/m*100:.1f}, Neg: {count_neg/m*100:.1f}')"
   ]
  },
  {
   "cell_type": "code",
   "execution_count": 7,
   "id": "46d15b66",
   "metadata": {},
   "outputs": [
    {
     "name": "stdout",
     "output_type": "stream",
     "text": [
      "Pos: 41.0, Neg: 59.0\n",
      "Pos: 41.1, Neg: 58.9\n"
     ]
    }
   ],
   "source": [
    "populate_xy(X_train, y_train, TRAIN_SAMPLES, 0)\n",
    "populate_xy(X_test, y_test, TEST_SAMPLES, TRAIN_SAMPLES)"
   ]
  },
  {
   "cell_type": "code",
   "execution_count": 8,
   "id": "1884de8d",
   "metadata": {},
   "outputs": [],
   "source": [
    "SUBSET_FILENAME = 'data_naive1d_subset'\n",
    "np.savez(SUBSET_FILENAME + '_train', X_train=X_train, y_train=y_train)\n",
    "np.savez(SUBSET_FILENAME + '_test', X_test=X_test, y_test=y_test)"
   ]
  },
  {
   "cell_type": "code",
   "execution_count": null,
   "id": "9a296080",
   "metadata": {},
   "outputs": [],
   "source": []
  }
 ],
 "metadata": {
  "kernelspec": {
   "display_name": "Python 3 (ipykernel)",
   "language": "python",
   "name": "python3"
  },
  "language_info": {
   "codemirror_mode": {
    "name": "ipython",
    "version": 3
   },
   "file_extension": ".py",
   "mimetype": "text/x-python",
   "name": "python",
   "nbconvert_exporter": "python",
   "pygments_lexer": "ipython3",
   "version": "3.9.6"
  }
 },
 "nbformat": 4,
 "nbformat_minor": 5
}
