{
 "cells": [
  {
   "cell_type": "code",
   "execution_count": 1,
   "id": "46bdb08c",
   "metadata": {},
   "outputs": [],
   "source": [
    "import matplotlib.pyplot as plt\n",
    "import numpy as np\n",
    "from skimage.feature import local_binary_pattern\n",
    "from sklearn.ensemble import GradientBoostingClassifier\n",
    "from sklearn.preprocessing import StandardScaler\n",
    "from sklearn import metrics"
   ]
  },
  {
   "cell_type": "code",
   "execution_count": 2,
   "id": "9fb29f88",
   "metadata": {},
   "outputs": [],
   "source": [
    "SUBSET = '20k'\n",
    "DATA_DIR = 'data/'"
   ]
  },
  {
   "cell_type": "code",
   "execution_count": 3,
   "id": "5f9b9c03",
   "metadata": {},
   "outputs": [],
   "source": [
    "def load_npz(file):\n",
    "    npdict = np.load(file)\n",
    "    X = npdict['X']\n",
    "    y = npdict['y']\n",
    "    npdict.close()\n",
    "    print(X.shape, X.dtype)\n",
    "    return X, y"
   ]
  },
  {
   "cell_type": "code",
   "execution_count": 4,
   "id": "302c106e",
   "metadata": {},
   "outputs": [
    {
     "name": "stdout",
     "output_type": "stream",
     "text": [
      "(20000, 40) int16\n",
      "(10000, 40) int16\n"
     ]
    }
   ],
   "source": [
    "DATA_FILENAME = '2x2lbp_subset' + SUBSET\n",
    "Xl_train, y_train = load_npz(DATA_DIR + DATA_FILENAME + '_train' + '.npz')\n",
    "Xl_test, y_test = load_npz(DATA_DIR + DATA_FILENAME + '_test' + '.npz')"
   ]
  },
  {
   "cell_type": "code",
   "execution_count": 5,
   "id": "451da2c4",
   "metadata": {},
   "outputs": [
    {
     "name": "stdout",
     "output_type": "stream",
     "text": [
      "(20000, 64) float64\n",
      "(10000, 64) float64\n"
     ]
    }
   ],
   "source": [
    "DATA_FILENAME = '2gabor_subset' + SUBSET\n",
    "Xg_train, yg_train = load_npz(DATA_DIR + DATA_FILENAME + '_train' + '.npz')\n",
    "Xg_test, yg_test = load_npz(DATA_DIR + DATA_FILENAME + '_test' + '.npz')\n",
    "assert np.all(y_train == yg_train)\n",
    "assert np.all(y_test == yg_test)"
   ]
  },
  {
   "cell_type": "code",
   "execution_count": 6,
   "id": "09930142",
   "metadata": {},
   "outputs": [
    {
     "data": {
      "text/plain": [
       "((20000, 104), (10000, 104))"
      ]
     },
     "execution_count": 6,
     "metadata": {},
     "output_type": "execute_result"
    }
   ],
   "source": [
    "X_train = np.hstack((Xl_train, Xg_train))\n",
    "X_test = np.hstack((Xl_test, Xg_test))\n",
    "X_train.shape, X_test.shape"
   ]
  },
  {
   "cell_type": "code",
   "execution_count": 10,
   "id": "ab151988",
   "metadata": {},
   "outputs": [
    {
     "name": "stdout",
     "output_type": "stream",
     "text": [
      "400\n",
      "0.88085\n",
      "0.8404\n",
      "600\n",
      "0.8995\n",
      "0.8409\n",
      "800\n",
      "0.9179\n",
      "0.8442\n",
      "1000\n",
      "0.9305\n",
      "0.8443\n"
     ]
    }
   ],
   "source": [
    "n_ests = [100, 200, 400, 600, 800, 1000]\n",
    "for n_est in n_ests[2:]:\n",
    "    print(n_est, ': ')\n",
    "    clf = GradientBoostingClassifier(n_estimators=n_est)\n",
    "    clf.fit(X_train, y_train)\n",
    "    print(clf.score(X_train, y_train), end=', ')\n",
    "    print(clf.score(X_test, y_test))"
   ]
  },
  {
   "cell_type": "code",
   "execution_count": null,
   "id": "d01c9c98",
   "metadata": {},
   "outputs": [],
   "source": []
  }
 ],
 "metadata": {
  "kernelspec": {
   "display_name": "Python 3 (ipykernel)",
   "language": "python",
   "name": "python3"
  },
  "language_info": {
   "codemirror_mode": {
    "name": "ipython",
    "version": 3
   },
   "file_extension": ".py",
   "mimetype": "text/x-python",
   "name": "python",
   "nbconvert_exporter": "python",
   "pygments_lexer": "ipython3",
   "version": "3.9.6"
  }
 },
 "nbformat": 4,
 "nbformat_minor": 5
}
