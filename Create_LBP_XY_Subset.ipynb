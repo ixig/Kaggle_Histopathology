{
 "cells": [
  {
   "cell_type": "code",
   "execution_count": 1,
   "id": "46bdb08c",
   "metadata": {},
   "outputs": [],
   "source": [
    "import matplotlib.pyplot as plt\n",
    "import numpy as np\n",
    "from random import randrange\n",
    "from skimage.feature import local_binary_pattern"
   ]
  },
  {
   "cell_type": "code",
   "execution_count": 2,
   "id": "9fb29f88",
   "metadata": {},
   "outputs": [],
   "source": [
    "DATA_DIR = 'data/'\n",
    "DATA_FILENAME = 'data_naive1d_subset20k'"
   ]
  },
  {
   "cell_type": "code",
   "execution_count": 3,
   "id": "302c106e",
   "metadata": {},
   "outputs": [
    {
     "data": {
      "text/plain": [
       "((20000, 9216), dtype('uint8'))"
      ]
     },
     "execution_count": 3,
     "metadata": {},
     "output_type": "execute_result"
    }
   ],
   "source": [
    "data_train = np.load(DATA_DIR + DATA_FILENAME + '_train' + '.npz')\n",
    "X_train = data_train['X']\n",
    "y_train = data_train['y']\n",
    "train_names = data_train['names']\n",
    "data_train.close()\n",
    "X_train.shape, X_train.dtype"
   ]
  },
  {
   "cell_type": "code",
   "execution_count": 4,
   "id": "451da2c4",
   "metadata": {},
   "outputs": [
    {
     "data": {
      "text/plain": [
       "((10000, 9216), dtype('uint8'))"
      ]
     },
     "execution_count": 4,
     "metadata": {},
     "output_type": "execute_result"
    }
   ],
   "source": [
    "data_test = np.load(DATA_DIR + DATA_FILENAME + '_test' + '.npz')\n",
    "X_test = data_test['X']\n",
    "y_test = data_test['y']\n",
    "test_names = data_test['names']\n",
    "data_test.close()\n",
    "X_test.shape, X_test.dtype"
   ]
  },
  {
   "cell_type": "code",
   "execution_count": 5,
   "id": "0457a55e",
   "metadata": {},
   "outputs": [],
   "source": [
    "# Extract (<i>, <j>)th cell as 1-D vector\n",
    "def extract_cell(v, i, j):\n",
    "    img = v.reshape(96, 96)\n",
    "    return img[32*i:32*(i+1), 32*j:32*(j+1)].ravel()\n",
    "\n",
    "# Turn a <v> of size 9216 (96x96) into 9 vectors of 1024 (32x32)\n",
    "# by dividing image into 9 cells and un-rolling each cell\n",
    "# individually\n",
    "def vec_to_cells(v):\n",
    "    cells = []\n",
    "    for i in range(3):\n",
    "        for j in range(3):\n",
    "            cells.append(extract_cell(v, i, j))\n",
    "    return np.array(cells)"
   ]
  },
  {
   "cell_type": "code",
   "execution_count": 6,
   "id": "bd14def4",
   "metadata": {},
   "outputs": [],
   "source": [
    "# Return smaller of either Kullback–Leibler Divergences\n",
    "def kld(p, q):\n",
    "    p_q = np.sum(p * np.log2(p/q))\n",
    "    q_p = np.sum(q * np.log2(q/p))\n",
    "#     if p_q < 0 or q_p < 0:\n",
    "#         print(p); print(q); print(sum)\n",
    "#         raise Exception\n",
    "    return min(p_q, q_p)"
   ]
  },
  {
   "cell_type": "code",
   "execution_count": 7,
   "id": "a02456a0",
   "metadata": {},
   "outputs": [],
   "source": [
    "# Local Binary Pattern Histogram\n",
    "def lbp_histogram(v, dim=32):\n",
    "    img = v.reshape(dim, dim)\n",
    "    patterns = local_binary_pattern(img, 8, 1, 'uniform')\n",
    "    hist, _ = np.histogram(patterns, bins=np.arange(59 + 1))\n",
    "    # if only the first ten bins are non-zero, we can reduce our\n",
    "    # landmark feature size\n",
    "    assert hist[10:].sum() == 0\n",
    "    # add one to avoid divide-by-zero errors later in kld()\n",
    "    return hist[:10] + 1"
   ]
  },
  {
   "cell_type": "code",
   "execution_count": 8,
   "id": "a0838a92",
   "metadata": {},
   "outputs": [],
   "source": [
    "# Turn a <v> of size 9216 (96x96) into 1-D LDP feature vector of\n",
    "# size 90 (9x10)\n",
    "def vec_to_feat(v):\n",
    "    vec9 = vec_to_cells(v)\n",
    "    feat9 = np.apply_along_axis(lbp_histogram, 1, vec9)\n",
    "    return feat9.ravel()"
   ]
  },
  {
   "cell_type": "code",
   "execution_count": 9,
   "id": "32c2ef8a",
   "metadata": {},
   "outputs": [
    {
     "data": {
      "text/plain": [
       "(20000, 90)"
      ]
     },
     "execution_count": 9,
     "metadata": {},
     "output_type": "execute_result"
    }
   ],
   "source": [
    "train_feat = np.apply_along_axis(vec_to_feat, 1, X_train)\n",
    "train_feat.shape"
   ]
  },
  {
   "cell_type": "code",
   "execution_count": 10,
   "id": "7b123ac4",
   "metadata": {},
   "outputs": [
    {
     "data": {
      "text/plain": [
       "(10000, 90)"
      ]
     },
     "execution_count": 10,
     "metadata": {},
     "output_type": "execute_result"
    }
   ],
   "source": [
    "test_feat = np.apply_along_axis(vec_to_feat, 1, X_test)\n",
    "test_feat.shape"
   ]
  },
  {
   "cell_type": "code",
   "execution_count": 11,
   "id": "141a4ece",
   "metadata": {},
   "outputs": [],
   "source": [
    "SUBSET_FILENAME = 'data_lbp_subset20k'\n",
    "np.savez(DATA_DIR + SUBSET_FILENAME + '_train', X=train_feat, y=y_train, names=train_names)\n",
    "np.savez(DATA_DIR + SUBSET_FILENAME + '_test', X=test_feat, y=y_test, names=test_names)"
   ]
  },
  {
   "cell_type": "code",
   "execution_count": null,
   "id": "2db872b4",
   "metadata": {},
   "outputs": [],
   "source": []
  }
 ],
 "metadata": {
  "kernelspec": {
   "display_name": "Python 3 (ipykernel)",
   "language": "python",
   "name": "python3"
  },
  "language_info": {
   "codemirror_mode": {
    "name": "ipython",
    "version": 3
   },
   "file_extension": ".py",
   "mimetype": "text/x-python",
   "name": "python",
   "nbconvert_exporter": "python",
   "pygments_lexer": "ipython3",
   "version": "3.9.6"
  }
 },
 "nbformat": 4,
 "nbformat_minor": 5
}
