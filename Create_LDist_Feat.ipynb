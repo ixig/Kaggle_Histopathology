{
 "cells": [
  {
   "cell_type": "markdown",
   "id": "8a71e0ab",
   "metadata": {},
   "source": [
    "# Generate Distance-to-Landmarks features"
   ]
  },
  {
   "cell_type": "code",
   "execution_count": 1,
   "id": "46bdb08c",
   "metadata": {},
   "outputs": [],
   "source": [
    "from helper import *\n",
    "from skimage.feature import local_binary_pattern"
   ]
  },
  {
   "cell_type": "code",
   "execution_count": 2,
   "id": "9fb29f88",
   "metadata": {},
   "outputs": [],
   "source": [
    "SUBSET = '20k'\n",
    "DATA_DIR = 'data/'\n",
    "DATA_FILENAME = 'lbp_subset' + SUBSET"
   ]
  },
  {
   "cell_type": "code",
   "execution_count": 3,
   "id": "302c106e",
   "metadata": {},
   "outputs": [
    {
     "name": "stdout",
     "output_type": "stream",
     "text": [
      "((20000, 10), dtype('int16')) ((20000,), dtype('uint8'))\n",
      "((10000, 10), dtype('int16')) ((10000,), dtype('uint8'))\n"
     ]
    }
   ],
   "source": [
    "(X_train, y_train), (X_test, y_test) = \\\n",
    "    load_npz(DATA_DIR + DATA_FILENAME + '.npz')"
   ]
  },
  {
   "cell_type": "code",
   "execution_count": 4,
   "id": "75c16518",
   "metadata": {},
   "outputs": [],
   "source": [
    "# Avoid Divide-by-Zero in KLD\n",
    "X_train += 1\n",
    "X_test += 1"
   ]
  },
  {
   "cell_type": "code",
   "execution_count": 5,
   "id": "de7cd48d",
   "metadata": {},
   "outputs": [
    {
     "data": {
      "text/plain": [
       "((64, 10), dtype('int16'))"
      ]
     },
     "execution_count": 5,
     "metadata": {},
     "output_type": "execute_result"
    }
   ],
   "source": [
    "LAND_FILENAME = 'landmarks_subset' + SUBSET\n",
    "data = np.load(DATA_DIR + LAND_FILENAME + '.npz')\n",
    "landmarks = data['both']\n",
    "landmarks_pos = data['pos']\n",
    "landmarks_neg = data['neg']\n",
    "data.close()\n",
    "landmarks.shape, landmarks.dtype"
   ]
  },
  {
   "cell_type": "code",
   "execution_count": 6,
   "id": "bd14def4",
   "metadata": {},
   "outputs": [],
   "source": [
    "# Return smaller of either Kullback–Leibler Divergences\n",
    "def kld(p, q):\n",
    "    p_q = np.sum(p * np.log2(p/q))\n",
    "    q_p = np.sum(q * np.log2(q/p))\n",
    "    if p_q < 0 or q_p < 0:\n",
    "        print(p); print(q); print(sum)\n",
    "        raise Exception\n",
    "    return min(p_q, q_p)"
   ]
  },
  {
   "cell_type": "code",
   "execution_count": 7,
   "id": "eaeb7672",
   "metadata": {},
   "outputs": [],
   "source": [
    "def kld_v(v):\n",
    "    return lambda z: kld(v, z)"
   ]
  },
  {
   "cell_type": "code",
   "execution_count": 8,
   "id": "751b824e",
   "metadata": {},
   "outputs": [],
   "source": [
    "# Return index of most similar landmark\n",
    "def lbp_to_landmark(v, landmarks):\n",
    "    land_dists = np.apply_along_axis(kld_v(v), 1, landmarks)\n",
    "    return land_dists"
   ]
  },
  {
   "cell_type": "code",
   "execution_count": 9,
   "id": "a30a2814",
   "metadata": {},
   "outputs": [],
   "source": [
    "def lbp_to_landmark_l(landmarks):\n",
    "    return lambda v: lbp_to_landmark(v, landmarks)"
   ]
  },
  {
   "cell_type": "code",
   "execution_count": 10,
   "id": "4e372962",
   "metadata": {
    "scrolled": false
   },
   "outputs": [
    {
     "data": {
      "text/plain": [
       "((20000, 64), dtype('float32'))"
      ]
     },
     "execution_count": 10,
     "metadata": {},
     "output_type": "execute_result"
    }
   ],
   "source": [
    "Xb_train = np.apply_along_axis(lbp_to_landmark_l(landmarks), 1, X_train).astype('float32')\n",
    "Xb_train.shape, Xb_train.dtype"
   ]
  },
  {
   "cell_type": "code",
   "execution_count": 11,
   "id": "2bc0e08e",
   "metadata": {},
   "outputs": [
    {
     "data": {
      "text/plain": [
       "((10000, 64), dtype('float32'))"
      ]
     },
     "execution_count": 11,
     "metadata": {},
     "output_type": "execute_result"
    }
   ],
   "source": [
    "Xb_test = np.apply_along_axis(lbp_to_landmark_l(landmarks), 1, X_test).astype('float32')\n",
    "Xb_test.shape, Xb_test.dtype"
   ]
  },
  {
   "cell_type": "code",
   "execution_count": 12,
   "id": "54e31d45",
   "metadata": {},
   "outputs": [
    {
     "data": {
      "text/plain": [
       "((20000, 64), dtype('float32'))"
      ]
     },
     "execution_count": 12,
     "metadata": {},
     "output_type": "execute_result"
    }
   ],
   "source": [
    "Xp_train = np.apply_along_axis(lbp_to_landmark_l(landmarks_pos), 1, X_train).astype('float32')\n",
    "Xp_train.shape, Xp_train.dtype"
   ]
  },
  {
   "cell_type": "code",
   "execution_count": 13,
   "id": "274e59e6",
   "metadata": {},
   "outputs": [
    {
     "data": {
      "text/plain": [
       "((10000, 64), dtype('float32'))"
      ]
     },
     "execution_count": 13,
     "metadata": {},
     "output_type": "execute_result"
    }
   ],
   "source": [
    "Xp_test = np.apply_along_axis(lbp_to_landmark_l(landmarks_pos), 1, X_test).astype('float32')\n",
    "Xp_test.shape, Xp_test.dtype"
   ]
  },
  {
   "cell_type": "code",
   "execution_count": 14,
   "id": "b6c2d0ed",
   "metadata": {},
   "outputs": [
    {
     "data": {
      "text/plain": [
       "((20000, 64), dtype('float32'))"
      ]
     },
     "execution_count": 14,
     "metadata": {},
     "output_type": "execute_result"
    }
   ],
   "source": [
    "Xn_train = np.apply_along_axis(lbp_to_landmark_l(landmarks_neg), 1, X_train).astype('float32')\n",
    "Xn_train.shape, Xn_train.dtype"
   ]
  },
  {
   "cell_type": "code",
   "execution_count": 15,
   "id": "86904fd2",
   "metadata": {},
   "outputs": [
    {
     "data": {
      "text/plain": [
       "((10000, 64), dtype('float32'))"
      ]
     },
     "execution_count": 15,
     "metadata": {},
     "output_type": "execute_result"
    }
   ],
   "source": [
    "Xn_test = np.apply_along_axis(lbp_to_landmark_l(landmarks_neg), 1, X_test).astype('float32')\n",
    "Xn_test.shape, Xn_test.dtype"
   ]
  },
  {
   "cell_type": "raw",
   "id": "b9507e9e",
   "metadata": {},
   "source": [
    "Xf_train = np.hstack((Xb_train, Xp_train, Xn_train))\n",
    "Xf_test = np.hstack((Xb_test, Xp_test, Xn_test))\n",
    "Xf_train.shape, Xf_test.shape"
   ]
  },
  {
   "cell_type": "code",
   "execution_count": 16,
   "id": "141a4ece",
   "metadata": {},
   "outputs": [],
   "source": [
    "SUBSET_FILENAME = 'ldist_subset' + SUBSET\n",
    "np.savez(DATA_DIR + SUBSET_FILENAME,\n",
    "         X_train=Xb_train, y_train=y_train,\n",
    "         X_test=Xb_test, y_test=y_test)"
   ]
  },
  {
   "cell_type": "code",
   "execution_count": 17,
   "id": "2db872b4",
   "metadata": {},
   "outputs": [
    {
     "name": "stdout",
     "output_type": "stream",
     "text": [
      "n_est: Train, Test\n",
      "400  : 82.1,  77.3\n",
      "600  : 83.7,  77.4\n",
      "800  : 85.3,  77.3\n"
     ]
    }
   ],
   "source": [
    "GBT(Xb_train, Xb_test, y_train, y_test)"
   ]
  },
  {
   "cell_type": "code",
   "execution_count": 18,
   "id": "0268082c",
   "metadata": {},
   "outputs": [
    {
     "name": "stdout",
     "output_type": "stream",
     "text": [
      "n_est: Train, Test\n",
      "400  : 81.5,  77.2\n",
      "600  : 82.8,  77.2\n",
      "800  : 84.1,  77.3\n"
     ]
    }
   ],
   "source": [
    "GBT(Xp_train, Xp_test, y_train, y_test)"
   ]
  },
  {
   "cell_type": "code",
   "execution_count": 19,
   "id": "704846d0",
   "metadata": {},
   "outputs": [
    {
     "name": "stdout",
     "output_type": "stream",
     "text": [
      "n_est: Train, Test\n",
      "400  : 82.0,  77.6\n",
      "600  : 83.6,  77.4\n",
      "800  : 85.1,  77.4\n"
     ]
    }
   ],
   "source": [
    "GBT(Xn_train, Xn_test, y_train, y_test)"
   ]
  },
  {
   "cell_type": "code",
   "execution_count": null,
   "id": "2992ba66",
   "metadata": {},
   "outputs": [],
   "source": []
  }
 ],
 "metadata": {
  "kernelspec": {
   "display_name": "Python 3 (ipykernel)",
   "language": "python",
   "name": "python3"
  },
  "language_info": {
   "codemirror_mode": {
    "name": "ipython",
    "version": 3
   },
   "file_extension": ".py",
   "mimetype": "text/x-python",
   "name": "python",
   "nbconvert_exporter": "python",
   "pygments_lexer": "ipython3",
   "version": "3.9.6"
  }
 },
 "nbformat": 4,
 "nbformat_minor": 5
}
