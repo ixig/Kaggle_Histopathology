{
 "cells": [
  {
   "cell_type": "markdown",
   "id": "59a4ef59",
   "metadata": {},
   "source": [
    "# CNN Model F (Big Data)"
   ]
  },
  {
   "cell_type": "markdown",
   "id": "73ded747",
   "metadata": {},
   "source": [
    "- Change last Conv2D from AvgPooling2D to Conv2D, Reduce Learning-Rate"
   ]
  },
  {
   "cell_type": "code",
   "execution_count": 1,
   "id": "ffd2e3f9",
   "metadata": {},
   "outputs": [],
   "source": [
    "import os\n",
    "import tensorflow as tf\n",
    "import tensorflow_io as tfio\n",
    "from tensorflow.keras.models import Sequential\n",
    "from tensorflow.keras.layers import *\n",
    "# from tensorflow.keras.layers.experimental.preprocessing import *\n",
    "from tensorflow.keras.optimizers import SGD, Adam\n",
    "from keras.losses import BinaryCrossentropy\n",
    "from keras.regularizers import l2"
   ]
  },
  {
   "cell_type": "code",
   "execution_count": 2,
   "id": "554c5265",
   "metadata": {},
   "outputs": [
    {
     "data": {
      "text/plain": [
       "[PhysicalDevice(name='/physical_device:GPU:0', device_type='GPU')]"
      ]
     },
     "execution_count": 2,
     "metadata": {},
     "output_type": "execute_result"
    }
   ],
   "source": [
    "os.environ['TF_CPP_MIN_LOG_LEVEL'] = '3'\n",
    "os.environ[\"CUDA_VISIBLE_DEVICES\"] = '1'\n",
    "tf.config.list_physical_devices('GPU')"
   ]
  },
  {
   "cell_type": "code",
   "execution_count": 3,
   "id": "d028028b",
   "metadata": {},
   "outputs": [],
   "source": [
    "DATA_DIR = 'data'\n",
    "HDF5_FILE = 'data_tf.hdf5'"
   ]
  },
  {
   "cell_type": "code",
   "execution_count": 4,
   "id": "ce1e8bdc",
   "metadata": {},
   "outputs": [],
   "source": [
    "BATCH_SIZE = 64\n",
    "IMG_SHAPE = (96, 96, 4)"
   ]
  },
  {
   "cell_type": "code",
   "execution_count": 5,
   "id": "d2bc132e",
   "metadata": {},
   "outputs": [],
   "source": [
    "data_file = os.path.join(DATA_DIR, HDF5_FILE)\n",
    "ds_x = tfio.IODataset.from_hdf5(data_file, '/x_train')\n",
    "ds_y = tfio.IODataset.from_hdf5(data_file, '/y_train')"
   ]
  },
  {
   "cell_type": "code",
   "execution_count": 6,
   "id": "33c5be02",
   "metadata": {},
   "outputs": [],
   "source": [
    "# convert to float and scale to [0, 1)\n",
    "ds_x = ds_x.map(lambda x: tf.image.convert_image_dtype(x, tf.float32))\n",
    "# ds_x = ds_images.map(lambda x: tf.image.per_image_standardization(x))\n",
    "ds_xc = ds_x.map(lambda x: tf.add(x, tf.random.normal(tf.shape(x), 0, 0.1)))"
   ]
  },
  {
   "cell_type": "code",
   "execution_count": 7,
   "id": "819b1ab7",
   "metadata": {},
   "outputs": [],
   "source": [
    "ds_xy = tf.data.Dataset.zip((ds_x, ds_y))\n",
    "ds_xy = ds_xy.shuffle(BATCH_SIZE*2)\n",
    "\n",
    "ds_xcy = tf.data.Dataset.zip((ds_xc, ds_y))\n",
    "ds_xcy = ds_xcy.shuffle(BATCH_SIZE*2)"
   ]
  },
  {
   "cell_type": "code",
   "execution_count": 8,
   "id": "08ae3956",
   "metadata": {},
   "outputs": [
    {
     "data": {
      "text/plain": [
       "(220025, 198022)"
      ]
     },
     "execution_count": 8,
     "metadata": {},
     "output_type": "execute_result"
    }
   ],
   "source": [
    "ds_len = ds_xy.reduce(0, lambda x, _: x + 1).numpy()\n",
    "train_len = int(0.9 * ds_len)\n",
    "\n",
    "ds_train = ds_xy.take(train_len)\n",
    "ds_trainc = ds_xcy.take(train_len)\n",
    "ds_test = ds_xy.skip(train_len)\n",
    "\n",
    "ds_len, train_len"
   ]
  },
  {
   "cell_type": "raw",
   "id": "e0424be5",
   "metadata": {},
   "source": [
    "ds_train = ds_xy.take(20000)\n",
    "ds_trainc = ds_xcy.take(20000)\n",
    "ds_test = ds_xy.skip(20000).take(10000)"
   ]
  },
  {
   "cell_type": "code",
   "execution_count": 9,
   "id": "a0431df3",
   "metadata": {},
   "outputs": [],
   "source": [
    "data_aug = Sequential([\n",
    "    RandomFlip(\"horizontal_and_vertical\"),\n",
    "    # RandomZoom(0.2, 0.2)\n",
    "])"
   ]
  },
  {
   "cell_type": "code",
   "execution_count": 10,
   "id": "ca6c116c",
   "metadata": {},
   "outputs": [],
   "source": [
    "model = Sequential()\n",
    "\n",
    "model.add(Input(shape=(IMG_SHAPE)))\n",
    "model.add(data_aug)\n",
    "\n",
    "model.add(Conv2D(32, (3, 3), activation='relu', kernel_regularizer=l2(1e-4)))\n",
    "model.add(BatchNormalization())\n",
    "model.add(Conv2D(32, (3, 3), activation='relu', kernel_regularizer=l2(1e-4)))\n",
    "model.add(BatchNormalization())\n",
    "model.add(AveragePooling2D(pool_size=(2, 2)))\n",
    "model.add(Dropout(0.2))\n",
    "\n",
    "model.add(Conv2D(64, (3, 3), padding='same', activation='relu', kernel_regularizer=l2(1e-4)))\n",
    "model.add(BatchNormalization())\n",
    "model.add(Conv2D(64, (3, 3), padding='same', activation='relu', kernel_regularizer=l2(1e-4)))\n",
    "model.add(BatchNormalization())\n",
    "model.add(AveragePooling2D (pool_size=(2, 2)))\n",
    "model.add(Dropout(0.25))\n",
    "\n",
    "model.add(Conv2D(128, (3, 3), padding='same', activation='relu', kernel_regularizer=l2(1e-4)))\n",
    "model.add(BatchNormalization())\n",
    "model.add(Conv2D(128, (3, 3), padding='same', activation='relu', kernel_regularizer=l2(1e-4)))\n",
    "model.add(BatchNormalization())\n",
    "model.add(Dropout(0.3))\n",
    "\n",
    "model.add(Conv2D(16, (1, 1), padding='same', activation='relu', kernel_regularizer=l2(1e-4)))\n",
    "model.add(BatchNormalization())\n",
    "model.add(Flatten())\n",
    "model.add(Dropout(0.35))\n",
    "\n",
    "model.add(Dense(1, activation='sigmoid', kernel_regularizer=l2(1e-4)))\n",
    "\n",
    "# model.summary()"
   ]
  },
  {
   "cell_type": "code",
   "execution_count": 11,
   "id": "14a917e8",
   "metadata": {
    "scrolled": false
   },
   "outputs": [
    {
     "name": "stdout",
     "output_type": "stream",
     "text": [
      "Epoch 1/60\n",
      "3095/3095 - 158s - loss: 0.4663 - accuracy: 0.8195 - val_loss: 1.3248 - val_accuracy: 0.7044\n",
      "Epoch 2/60\n",
      "3095/3095 - 156s - loss: 0.3661 - accuracy: 0.8633 - val_loss: 1.1251 - val_accuracy: 0.7354\n",
      "Epoch 3/60\n",
      "3095/3095 - 156s - loss: 0.3298 - accuracy: 0.8802 - val_loss: 1.1260 - val_accuracy: 0.7540\n",
      "Epoch 4/60\n",
      "3095/3095 - 156s - loss: 0.3041 - accuracy: 0.8912 - val_loss: 0.7297 - val_accuracy: 0.7901\n",
      "Epoch 5/60\n",
      "3095/3095 - 156s - loss: 0.2876 - accuracy: 0.8979 - val_loss: 0.6760 - val_accuracy: 0.8102\n",
      "Epoch 6/60\n",
      "3095/3095 - 156s - loss: 0.2730 - accuracy: 0.9051 - val_loss: 0.9363 - val_accuracy: 0.7811\n",
      "Epoch 7/60\n",
      "3095/3095 - 156s - loss: 0.2603 - accuracy: 0.9096 - val_loss: 0.9961 - val_accuracy: 0.7710\n",
      "Epoch 8/60\n",
      "3095/3095 - 156s - loss: 0.2476 - accuracy: 0.9158 - val_loss: 0.6434 - val_accuracy: 0.8135\n",
      "Epoch 9/60\n",
      "3095/3095 - 156s - loss: 0.2374 - accuracy: 0.9205 - val_loss: 0.7640 - val_accuracy: 0.7927\n",
      "Epoch 10/60\n",
      "3095/3095 - 156s - loss: 0.2298 - accuracy: 0.9237 - val_loss: 0.5884 - val_accuracy: 0.8377\n",
      "Epoch 11/60\n",
      "3095/3095 - 156s - loss: 0.2226 - accuracy: 0.9268 - val_loss: 0.7297 - val_accuracy: 0.8143\n",
      "Epoch 12/60\n",
      "3095/3095 - 156s - loss: 0.2156 - accuracy: 0.9295 - val_loss: 0.4026 - val_accuracy: 0.8744\n",
      "Epoch 13/60\n",
      "3095/3095 - 156s - loss: 0.2101 - accuracy: 0.9316 - val_loss: 0.6816 - val_accuracy: 0.8046\n",
      "Epoch 14/60\n",
      "3095/3095 - 156s - loss: 0.2049 - accuracy: 0.9332 - val_loss: 0.6824 - val_accuracy: 0.8273\n",
      "Epoch 15/60\n",
      "3095/3095 - 156s - loss: 0.2009 - accuracy: 0.9355 - val_loss: 0.4366 - val_accuracy: 0.8817\n",
      "Epoch 16/60\n",
      "3095/3095 - 156s - loss: 0.1980 - accuracy: 0.9368 - val_loss: 0.8544 - val_accuracy: 0.8120\n",
      "Epoch 17/60\n",
      "3095/3095 - 156s - loss: 0.1928 - accuracy: 0.9385 - val_loss: 0.7515 - val_accuracy: 0.8267\n",
      "Epoch 18/60\n",
      "3095/3095 - 155s - loss: 0.1917 - accuracy: 0.9394 - val_loss: 0.4982 - val_accuracy: 0.8635\n",
      "Epoch 19/60\n",
      "3095/3095 - 156s - loss: 0.1863 - accuracy: 0.9415 - val_loss: 0.6383 - val_accuracy: 0.8479\n",
      "Epoch 20/60\n",
      "3095/3095 - 156s - loss: 0.1833 - accuracy: 0.9426 - val_loss: 0.8718 - val_accuracy: 0.8293\n",
      "Epoch 21/60\n",
      "3095/3095 - 156s - loss: 0.1820 - accuracy: 0.9430 - val_loss: 0.2330 - val_accuracy: 0.9303\n",
      "Epoch 22/60\n",
      "3095/3095 - 156s - loss: 0.1798 - accuracy: 0.9435 - val_loss: 0.4578 - val_accuracy: 0.8674\n",
      "Epoch 23/60\n",
      "3095/3095 - 156s - loss: 0.1780 - accuracy: 0.9447 - val_loss: 0.4108 - val_accuracy: 0.8832\n",
      "Epoch 24/60\n",
      "3095/3095 - 156s - loss: 0.1743 - accuracy: 0.9461 - val_loss: 0.6554 - val_accuracy: 0.8535\n",
      "Epoch 25/60\n",
      "3095/3095 - 156s - loss: 0.1734 - accuracy: 0.9463 - val_loss: 0.4209 - val_accuracy: 0.8907\n",
      "Epoch 26/60\n",
      "3095/3095 - 156s - loss: 0.1722 - accuracy: 0.9471 - val_loss: 1.0428 - val_accuracy: 0.7974\n",
      "Epoch 27/60\n",
      "3095/3095 - 156s - loss: 0.1696 - accuracy: 0.9475 - val_loss: 0.4349 - val_accuracy: 0.8943\n",
      "Epoch 28/60\n",
      "3095/3095 - 156s - loss: 0.1685 - accuracy: 0.9483 - val_loss: 0.6552 - val_accuracy: 0.8568\n",
      "Epoch 29/60\n",
      "3095/3095 - 156s - loss: 0.1667 - accuracy: 0.9489 - val_loss: 0.3705 - val_accuracy: 0.9072\n",
      "Epoch 30/60\n",
      "3095/3095 - 156s - loss: 0.1649 - accuracy: 0.9493 - val_loss: 0.4016 - val_accuracy: 0.8950\n",
      "Epoch 31/60\n",
      "3095/3095 - 156s - loss: 0.1632 - accuracy: 0.9501 - val_loss: 0.6421 - val_accuracy: 0.8489\n",
      "Epoch 32/60\n",
      "3095/3095 - 156s - loss: 0.1623 - accuracy: 0.9502 - val_loss: 0.2602 - val_accuracy: 0.9248\n",
      "Epoch 33/60\n",
      "3095/3095 - 156s - loss: 0.1605 - accuracy: 0.9509 - val_loss: 0.3340 - val_accuracy: 0.9100\n",
      "Epoch 34/60\n",
      "3095/3095 - 156s - loss: 0.1594 - accuracy: 0.9513 - val_loss: 0.7873 - val_accuracy: 0.8369\n",
      "Epoch 35/60\n",
      "3095/3095 - 156s - loss: 0.1589 - accuracy: 0.9520 - val_loss: 0.6064 - val_accuracy: 0.8676\n",
      "Epoch 36/60\n",
      "3095/3095 - 156s - loss: 0.1576 - accuracy: 0.9524 - val_loss: 0.5198 - val_accuracy: 0.8769\n",
      "Epoch 37/60\n",
      "3095/3095 - 156s - loss: 0.1552 - accuracy: 0.9534 - val_loss: 0.7169 - val_accuracy: 0.8516\n",
      "Epoch 38/60\n",
      "3095/3095 - 156s - loss: 0.1551 - accuracy: 0.9533 - val_loss: 0.4492 - val_accuracy: 0.8900\n",
      "Epoch 39/60\n",
      "3095/3095 - 155s - loss: 0.1545 - accuracy: 0.9538 - val_loss: 0.4809 - val_accuracy: 0.8879\n",
      "Epoch 40/60\n",
      "3095/3095 - 156s - loss: 0.1526 - accuracy: 0.9547 - val_loss: 0.3014 - val_accuracy: 0.9231\n",
      "Epoch 41/60\n",
      "3095/3095 - 156s - loss: 0.1520 - accuracy: 0.9544 - val_loss: 0.2659 - val_accuracy: 0.9269\n",
      "Epoch 42/60\n",
      "3095/3095 - 156s - loss: 0.1518 - accuracy: 0.9549 - val_loss: 0.4708 - val_accuracy: 0.8849\n",
      "Epoch 43/60\n",
      "3095/3095 - 156s - loss: 0.1493 - accuracy: 0.9558 - val_loss: 0.6581 - val_accuracy: 0.8634\n",
      "Epoch 44/60\n",
      "3095/3095 - 156s - loss: 0.1501 - accuracy: 0.9554 - val_loss: 0.2634 - val_accuracy: 0.9304\n",
      "Epoch 45/60\n",
      "3095/3095 - 156s - loss: 0.1502 - accuracy: 0.9558 - val_loss: 0.3721 - val_accuracy: 0.9072\n",
      "Epoch 46/60\n",
      "3095/3095 - 156s - loss: 0.1486 - accuracy: 0.9559 - val_loss: 0.3915 - val_accuracy: 0.9024\n",
      "Epoch 47/60\n",
      "3095/3095 - 156s - loss: 0.1475 - accuracy: 0.9561 - val_loss: 0.3016 - val_accuracy: 0.9213\n",
      "Epoch 48/60\n",
      "3095/3095 - 156s - loss: 0.1474 - accuracy: 0.9559 - val_loss: 0.3234 - val_accuracy: 0.9142\n",
      "Epoch 49/60\n",
      "3095/3095 - 156s - loss: 0.1469 - accuracy: 0.9562 - val_loss: 0.3799 - val_accuracy: 0.9088\n",
      "Epoch 50/60\n",
      "3095/3095 - 156s - loss: 0.1463 - accuracy: 0.9563 - val_loss: 0.2779 - val_accuracy: 0.9271\n",
      "Epoch 51/60\n",
      "3095/3095 - 155s - loss: 0.1454 - accuracy: 0.9574 - val_loss: 0.3711 - val_accuracy: 0.8993\n",
      "Epoch 52/60\n",
      "3095/3095 - 156s - loss: 0.1457 - accuracy: 0.9568 - val_loss: 0.5374 - val_accuracy: 0.8822\n",
      "Epoch 53/60\n",
      "3095/3095 - 156s - loss: 0.1452 - accuracy: 0.9572 - val_loss: 0.4475 - val_accuracy: 0.8922\n",
      "Epoch 54/60\n",
      "3095/3095 - 156s - loss: 0.1432 - accuracy: 0.9577 - val_loss: 0.2903 - val_accuracy: 0.9259\n",
      "Epoch 55/60\n",
      "3095/3095 - 156s - loss: 0.1420 - accuracy: 0.9584 - val_loss: 0.2283 - val_accuracy: 0.9382\n",
      "Epoch 56/60\n",
      "3095/3095 - 156s - loss: 0.1429 - accuracy: 0.9581 - val_loss: 0.2909 - val_accuracy: 0.9238\n",
      "Epoch 57/60\n",
      "3095/3095 - 156s - loss: 0.1423 - accuracy: 0.9581 - val_loss: 0.3798 - val_accuracy: 0.9039\n",
      "Epoch 58/60\n",
      "3095/3095 - 156s - loss: 0.1408 - accuracy: 0.9585 - val_loss: 0.3604 - val_accuracy: 0.9091\n",
      "Epoch 59/60\n",
      "3095/3095 - 156s - loss: 0.1407 - accuracy: 0.9591 - val_loss: 0.2224 - val_accuracy: 0.9386\n",
      "Epoch 60/60\n",
      "3095/3095 - 156s - loss: 0.1397 - accuracy: 0.9589 - val_loss: 0.3317 - val_accuracy: 0.9160\n"
     ]
    }
   ],
   "source": [
    "ds_trainc = ds_trainc.batch(BATCH_SIZE).prefetch(tf.data.AUTOTUNE)\n",
    "ds_test = ds_test.batch(BATCH_SIZE).prefetch(tf.data.AUTOTUNE)\n",
    "\n",
    "model.compile(loss=BinaryCrossentropy(from_logits=False),\n",
    "              optimizer=Adam(learning_rate=1e-4),\n",
    "              metrics=['accuracy'])\n",
    "\n",
    "history = model.fit(ds_trainc,\n",
    "                    epochs=60,\n",
    "                    verbose=2, \n",
    "                    validation_data=ds_test\n",
    "                   )"
   ]
  },
  {
   "cell_type": "code",
   "execution_count": 12,
   "id": "f41e7479",
   "metadata": {},
   "outputs": [
    {
     "name": "stdout",
     "output_type": "stream",
     "text": [
      "INFO:tensorflow:Assets written to: CNN_ModelF/assets\n"
     ]
    }
   ],
   "source": [
    "model.save('CNN_ModelF')"
   ]
  },
  {
   "cell_type": "code",
   "execution_count": null,
   "id": "adc4cd01",
   "metadata": {},
   "outputs": [
    {
     "name": "stdout",
     "output_type": "stream",
     "text": [
      "Epoch 1/25\n",
      "1548/1548 - 155s - loss: 0.1272 - accuracy: 0.9640 - val_loss: 0.3418 - val_accuracy: 0.9081\n",
      "Epoch 2/25\n",
      "1548/1548 - 154s - loss: 0.1282 - accuracy: 0.9633 - val_loss: 0.5060 - val_accuracy: 0.8866\n",
      "Epoch 3/25\n",
      "1548/1548 - 154s - loss: 0.1269 - accuracy: 0.9638 - val_loss: 0.4448 - val_accuracy: 0.9018\n",
      "Epoch 4/25\n",
      "1548/1548 - 154s - loss: 0.1265 - accuracy: 0.9643 - val_loss: 0.3176 - val_accuracy: 0.9154\n",
      "Epoch 5/25\n",
      "1548/1548 - 154s - loss: 0.1257 - accuracy: 0.9642 - val_loss: 0.2453 - val_accuracy: 0.9309\n",
      "Epoch 6/25\n",
      "1548/1548 - 154s - loss: 0.1256 - accuracy: 0.9644 - val_loss: 0.2132 - val_accuracy: 0.9430\n",
      "Epoch 7/25\n",
      "1548/1548 - 154s - loss: 0.1240 - accuracy: 0.9652 - val_loss: 0.4741 - val_accuracy: 0.8846\n",
      "Epoch 8/25\n",
      "1548/1548 - 154s - loss: 0.1241 - accuracy: 0.9646 - val_loss: 0.2699 - val_accuracy: 0.9309\n",
      "Epoch 9/25\n",
      "1548/1548 - 154s - loss: 0.1236 - accuracy: 0.9649 - val_loss: 0.3543 - val_accuracy: 0.9109\n",
      "Epoch 10/25\n",
      "1548/1548 - 154s - loss: 0.1236 - accuracy: 0.9650 - val_loss: 0.3318 - val_accuracy: 0.9138\n",
      "Epoch 11/25\n",
      "1548/1548 - 154s - loss: 0.1227 - accuracy: 0.9650 - val_loss: 0.5910 - val_accuracy: 0.8666\n",
      "Epoch 12/25\n",
      "1548/1548 - 154s - loss: 0.1221 - accuracy: 0.9655 - val_loss: 0.2739 - val_accuracy: 0.9290\n",
      "Epoch 13/25\n",
      "1548/1548 - 154s - loss: 0.1215 - accuracy: 0.9655 - val_loss: 0.4195 - val_accuracy: 0.8957\n",
      "Epoch 14/25\n",
      "1548/1548 - 154s - loss: 0.1209 - accuracy: 0.9657 - val_loss: 0.3127 - val_accuracy: 0.9198\n",
      "Epoch 15/25\n",
      "1548/1548 - 154s - loss: 0.1205 - accuracy: 0.9654 - val_loss: 0.3493 - val_accuracy: 0.9101\n",
      "Epoch 16/25\n",
      "1548/1548 - 154s - loss: 0.1193 - accuracy: 0.9662 - val_loss: 0.2270 - val_accuracy: 0.9347\n",
      "Epoch 17/25\n",
      "1548/1548 - 154s - loss: 0.1203 - accuracy: 0.9658 - val_loss: 0.4918 - val_accuracy: 0.8895\n",
      "Epoch 18/25\n",
      "1548/1548 - 154s - loss: 0.1196 - accuracy: 0.9661 - val_loss: 0.4124 - val_accuracy: 0.8975\n",
      "Epoch 19/25\n",
      "1548/1548 - 154s - loss: 0.1195 - accuracy: 0.9662 - val_loss: 0.3843 - val_accuracy: 0.9029\n",
      "Epoch 20/25\n",
      "1548/1548 - 154s - loss: 0.1185 - accuracy: 0.9662 - val_loss: 0.1803 - val_accuracy: 0.9512\n",
      "Epoch 21/25\n",
      "1548/1548 - 154s - loss: 0.1182 - accuracy: 0.9664 - val_loss: 0.2418 - val_accuracy: 0.9374\n",
      "Epoch 22/25\n"
     ]
    }
   ],
   "source": [
    "ds_trainc = ds_trainc.unbatch()\n",
    "ds_test = ds_test.unbatch()\n",
    "ds_trainc = ds_trainc.batch(128).prefetch(tf.data.AUTOTUNE)\n",
    "ds_test = ds_test.batch(128).prefetch(tf.data.AUTOTUNE)\n",
    "\n",
    "history = model.fit(ds_trainc,\n",
    "                    epochs=25,\n",
    "                    verbose=2, \n",
    "                    validation_data=ds_test\n",
    "                   )"
   ]
  },
  {
   "cell_type": "code",
   "execution_count": 12,
   "id": "16ec9baf",
   "metadata": {},
   "outputs": [
    {
     "name": "stdout",
     "output_type": "stream",
     "text": [
      "Epoch 1/25\n",
      "774/774 - 162s - loss: 0.1235 - accuracy: 0.9656 - val_loss: 0.3469 - val_accuracy: 0.9165\n",
      "Epoch 2/25\n",
      "774/774 - 154s - loss: 0.1214 - accuracy: 0.9664 - val_loss: 0.5145 - val_accuracy: 0.8838\n",
      "Epoch 3/25\n",
      "774/774 - 154s - loss: 0.1208 - accuracy: 0.9665 - val_loss: 0.5481 - val_accuracy: 0.8743\n",
      "Epoch 4/25\n",
      "774/774 - 154s - loss: 0.1187 - accuracy: 0.9670 - val_loss: 0.3956 - val_accuracy: 0.9106\n",
      "Epoch 5/25\n",
      "774/774 - 154s - loss: 0.1179 - accuracy: 0.9671 - val_loss: 0.4080 - val_accuracy: 0.9046\n",
      "Epoch 6/25\n",
      "774/774 - 154s - loss: 0.1173 - accuracy: 0.9679 - val_loss: 0.3767 - val_accuracy: 0.9139\n",
      "Epoch 7/25\n",
      "774/774 - 154s - loss: 0.1167 - accuracy: 0.9675 - val_loss: 0.4505 - val_accuracy: 0.8954\n",
      "Epoch 8/25\n",
      "774/774 - 154s - loss: 0.1160 - accuracy: 0.9680 - val_loss: 0.3730 - val_accuracy: 0.9087\n",
      "Epoch 9/25\n",
      "774/774 - 154s - loss: 0.1145 - accuracy: 0.9686 - val_loss: 0.3508 - val_accuracy: 0.9134\n",
      "Epoch 10/25\n",
      "774/774 - 154s - loss: 0.1151 - accuracy: 0.9675 - val_loss: 0.4198 - val_accuracy: 0.9042\n",
      "Epoch 11/25\n",
      "774/774 - 154s - loss: 0.1137 - accuracy: 0.9686 - val_loss: 0.3395 - val_accuracy: 0.9144\n",
      "Epoch 12/25\n",
      "774/774 - 154s - loss: 0.1140 - accuracy: 0.9682 - val_loss: 0.3577 - val_accuracy: 0.9117\n",
      "Epoch 13/25\n",
      "774/774 - 154s - loss: 0.1143 - accuracy: 0.9680 - val_loss: 0.4005 - val_accuracy: 0.9067\n",
      "Epoch 14/25\n",
      "774/774 - 155s - loss: 0.1126 - accuracy: 0.9685 - val_loss: 0.3747 - val_accuracy: 0.9031\n",
      "Epoch 15/25\n",
      "774/774 - 154s - loss: 0.1119 - accuracy: 0.9688 - val_loss: 0.3987 - val_accuracy: 0.9020\n",
      "Epoch 16/25\n",
      "774/774 - 154s - loss: 0.1116 - accuracy: 0.9688 - val_loss: 0.3400 - val_accuracy: 0.9128\n",
      "Epoch 17/25\n",
      "774/774 - 154s - loss: 0.1110 - accuracy: 0.9691 - val_loss: 0.4208 - val_accuracy: 0.9039\n",
      "Epoch 18/25\n",
      "774/774 - 154s - loss: 0.1101 - accuracy: 0.9693 - val_loss: 0.4006 - val_accuracy: 0.9031\n",
      "Epoch 19/25\n",
      "774/774 - 154s - loss: 0.1102 - accuracy: 0.9692 - val_loss: 0.3478 - val_accuracy: 0.9187\n",
      "Epoch 20/25\n",
      "774/774 - 154s - loss: 0.1099 - accuracy: 0.9696 - val_loss: 0.2817 - val_accuracy: 0.9266\n",
      "Epoch 21/25\n",
      "774/774 - 154s - loss: 0.1092 - accuracy: 0.9696 - val_loss: 0.4275 - val_accuracy: 0.9022\n",
      "Epoch 22/25\n",
      "774/774 - 154s - loss: 0.1093 - accuracy: 0.9699 - val_loss: 0.4127 - val_accuracy: 0.9063\n",
      "Epoch 23/25\n",
      "774/774 - 154s - loss: 0.1095 - accuracy: 0.9692 - val_loss: 0.3497 - val_accuracy: 0.9179\n",
      "Epoch 24/25\n",
      "774/774 - 154s - loss: 0.1082 - accuracy: 0.9698 - val_loss: 0.4377 - val_accuracy: 0.9033\n",
      "Epoch 25/25\n",
      "774/774 - 154s - loss: 0.1080 - accuracy: 0.9697 - val_loss: 0.1881 - val_accuracy: 0.9478\n"
     ]
    }
   ],
   "source": [
    "# ds_trainc = ds_trainc.unbatch()\n",
    "# ds_test = ds_test.unbatch()\n",
    "ds_trainc = ds_trainc.batch(256).prefetch(tf.data.AUTOTUNE)\n",
    "ds_test = ds_test.batch(256).prefetch(tf.data.AUTOTUNE)\n",
    "\n",
    "history = model.fit(ds_trainc,\n",
    "                    epochs=25,\n",
    "                    verbose=2, \n",
    "                    validation_data=ds_test\n",
    "                   )"
   ]
  },
  {
   "cell_type": "code",
   "execution_count": 13,
   "id": "ec1c9789",
   "metadata": {},
   "outputs": [
    {
     "name": "stdout",
     "output_type": "stream",
     "text": [
      "Epoch 1/10\n",
      "774/774 - 155s - loss: 0.1009 - accuracy: 0.9727 - val_loss: 0.2747 - val_accuracy: 0.9291\n",
      "Epoch 2/10\n",
      "774/774 - 154s - loss: 0.0986 - accuracy: 0.9735 - val_loss: 0.2717 - val_accuracy: 0.9299\n",
      "Epoch 3/10\n",
      "774/774 - 154s - loss: 0.0978 - accuracy: 0.9737 - val_loss: 0.2686 - val_accuracy: 0.9306\n",
      "Epoch 4/10\n",
      "774/774 - 154s - loss: 0.0979 - accuracy: 0.9736 - val_loss: 0.2681 - val_accuracy: 0.9300\n",
      "Epoch 5/10\n",
      "774/774 - 154s - loss: 0.0975 - accuracy: 0.9738 - val_loss: 0.2668 - val_accuracy: 0.9313\n",
      "Epoch 6/10\n",
      "774/774 - 154s - loss: 0.0971 - accuracy: 0.9737 - val_loss: 0.2909 - val_accuracy: 0.9254\n",
      "Epoch 7/10\n",
      "774/774 - 154s - loss: 0.0967 - accuracy: 0.9740 - val_loss: 0.2819 - val_accuracy: 0.9271\n",
      "Epoch 8/10\n",
      "774/774 - 154s - loss: 0.0960 - accuracy: 0.9743 - val_loss: 0.2781 - val_accuracy: 0.9285\n",
      "Epoch 9/10\n",
      "774/774 - 154s - loss: 0.0961 - accuracy: 0.9743 - val_loss: 0.2820 - val_accuracy: 0.9288\n",
      "Epoch 10/10\n",
      "774/774 - 154s - loss: 0.0965 - accuracy: 0.9742 - val_loss: 0.2884 - val_accuracy: 0.9252\n"
     ]
    }
   ],
   "source": [
    "model.compile(loss=BinaryCrossentropy(from_logits=False),\n",
    "              optimizer=Adam(learning_rate=1e-5),\n",
    "              metrics=['accuracy'])\n",
    "\n",
    "history = model.fit(ds_trainc,\n",
    "                    epochs=10,\n",
    "                    verbose=2, \n",
    "                    validation_data=ds_test\n",
    "                   )"
   ]
  },
  {
   "cell_type": "code",
   "execution_count": 14,
   "id": "94285494",
   "metadata": {},
   "outputs": [
    {
     "name": "stdout",
     "output_type": "stream",
     "text": [
      "INFO:tensorflow:Assets written to: CNN_ModelF/assets\n"
     ]
    }
   ],
   "source": [
    "model.save('CNN_ModelF')"
   ]
  },
  {
   "cell_type": "code",
   "execution_count": 15,
   "id": "4383988f",
   "metadata": {},
   "outputs": [
    {
     "name": "stdout",
     "output_type": "stream",
     "text": [
      "Epoch 1/25\n",
      "774/774 - 154s - loss: 0.0842 - accuracy: 0.9792 - val_loss: 0.0952 - val_accuracy: 0.9761\n",
      "Epoch 2/25\n",
      "774/774 - 154s - loss: 0.0823 - accuracy: 0.9796 - val_loss: 0.0934 - val_accuracy: 0.9763\n",
      "Epoch 3/25\n",
      "774/774 - 154s - loss: 0.0818 - accuracy: 0.9800 - val_loss: 0.0960 - val_accuracy: 0.9756\n",
      "Epoch 4/25\n",
      "774/774 - 154s - loss: 0.0808 - accuracy: 0.9803 - val_loss: 0.0961 - val_accuracy: 0.9757\n",
      "Epoch 5/25\n",
      "774/774 - 154s - loss: 0.0816 - accuracy: 0.9801 - val_loss: 0.0944 - val_accuracy: 0.9768\n",
      "Epoch 6/25\n",
      "774/774 - 154s - loss: 0.0804 - accuracy: 0.9802 - val_loss: 0.0939 - val_accuracy: 0.9767\n",
      "Epoch 7/25\n",
      "774/774 - 154s - loss: 0.0799 - accuracy: 0.9804 - val_loss: 0.0929 - val_accuracy: 0.9769\n",
      "Epoch 8/25\n",
      "774/774 - 154s - loss: 0.0795 - accuracy: 0.9805 - val_loss: 0.0927 - val_accuracy: 0.9768\n",
      "Epoch 9/25\n",
      "774/774 - 154s - loss: 0.0800 - accuracy: 0.9803 - val_loss: 0.0933 - val_accuracy: 0.9770\n",
      "Epoch 10/25\n",
      "774/774 - 154s - loss: 0.0789 - accuracy: 0.9809 - val_loss: 0.0958 - val_accuracy: 0.9758\n",
      "Epoch 11/25\n",
      "774/774 - 154s - loss: 0.0793 - accuracy: 0.9806 - val_loss: 0.0930 - val_accuracy: 0.9769\n",
      "Epoch 12/25\n",
      "774/774 - 153s - loss: 0.0785 - accuracy: 0.9810 - val_loss: 0.0944 - val_accuracy: 0.9760\n",
      "Epoch 13/25\n",
      "774/774 - 153s - loss: 0.0792 - accuracy: 0.9804 - val_loss: 0.0920 - val_accuracy: 0.9770\n",
      "Epoch 14/25\n",
      "774/774 - 153s - loss: 0.0789 - accuracy: 0.9808 - val_loss: 0.0925 - val_accuracy: 0.9766\n",
      "Epoch 15/25\n",
      "774/774 - 153s - loss: 0.0791 - accuracy: 0.9809 - val_loss: 0.0966 - val_accuracy: 0.9747\n",
      "Epoch 16/25\n",
      "774/774 - 154s - loss: 0.0781 - accuracy: 0.9808 - val_loss: 0.0931 - val_accuracy: 0.9764\n",
      "Epoch 17/25\n",
      "774/774 - 153s - loss: 0.0779 - accuracy: 0.9811 - val_loss: 0.0969 - val_accuracy: 0.9754\n",
      "Epoch 18/25\n",
      "774/774 - 154s - loss: 0.0778 - accuracy: 0.9811 - val_loss: 0.0940 - val_accuracy: 0.9762\n",
      "Epoch 19/25\n",
      "774/774 - 154s - loss: 0.0778 - accuracy: 0.9810 - val_loss: 0.0955 - val_accuracy: 0.9757\n",
      "Epoch 20/25\n",
      "774/774 - 154s - loss: 0.0767 - accuracy: 0.9814 - val_loss: 0.0942 - val_accuracy: 0.9761\n",
      "Epoch 21/25\n",
      "774/774 - 153s - loss: 0.0771 - accuracy: 0.9812 - val_loss: 0.0919 - val_accuracy: 0.9773\n",
      "Epoch 22/25\n",
      "774/774 - 153s - loss: 0.0775 - accuracy: 0.9810 - val_loss: 0.0933 - val_accuracy: 0.9768\n",
      "Epoch 23/25\n",
      "774/774 - 154s - loss: 0.0773 - accuracy: 0.9811 - val_loss: 0.0939 - val_accuracy: 0.9762\n",
      "Epoch 24/25\n",
      "774/774 - 154s - loss: 0.0769 - accuracy: 0.9810 - val_loss: 0.0945 - val_accuracy: 0.9755\n",
      "Epoch 25/25\n",
      "774/774 - 155s - loss: 0.0759 - accuracy: 0.9817 - val_loss: 0.0935 - val_accuracy: 0.9763\n"
     ]
    }
   ],
   "source": [
    "ds_train = ds_train.batch(256).prefetch(tf.data.AUTOTUNE)\n",
    "\n",
    "history = model.fit(ds_train,\n",
    "                    epochs=25,\n",
    "                    verbose=2, \n",
    "                    validation_data=ds_test\n",
    "                   )"
   ]
  },
  {
   "cell_type": "code",
   "execution_count": 16,
   "id": "0eb1533d",
   "metadata": {},
   "outputs": [
    {
     "name": "stdout",
     "output_type": "stream",
     "text": [
      "INFO:tensorflow:Assets written to: CNN_ModelF/assets\n"
     ]
    }
   ],
   "source": [
    "model.save('CNN_ModelF')"
   ]
  },
  {
   "cell_type": "code",
   "execution_count": null,
   "id": "6249f5be",
   "metadata": {},
   "outputs": [],
   "source": []
  }
 ],
 "metadata": {
  "kernelspec": {
   "display_name": "Python 3 (ipykernel)",
   "language": "python",
   "name": "python3"
  },
  "language_info": {
   "codemirror_mode": {
    "name": "ipython",
    "version": 3
   },
   "file_extension": ".py",
   "mimetype": "text/x-python",
   "name": "python",
   "nbconvert_exporter": "python",
   "pygments_lexer": "ipython3",
   "version": "3.9.10"
  }
 },
 "nbformat": 4,
 "nbformat_minor": 5
}
