{
 "cells": [
  {
   "cell_type": "code",
   "execution_count": 1,
   "id": "1448e684",
   "metadata": {},
   "outputs": [],
   "source": [
    "import os\n",
    "import tensorflow as tf\n",
    "import tensorflow_io as tfio\n",
    "from tensorflow.keras.models import Sequential\n",
    "from tensorflow.keras.layers import *\n",
    "from tensorflow.keras.optimizers import SGD, Adam\n",
    "from keras.losses import BinaryCrossentropy\n",
    "from keras.regularizers import l2"
   ]
  },
  {
   "cell_type": "code",
   "execution_count": 2,
   "id": "b81409ea",
   "metadata": {},
   "outputs": [
    {
     "data": {
      "text/plain": [
       "[PhysicalDevice(name='/physical_device:GPU:0', device_type='GPU')]"
      ]
     },
     "execution_count": 2,
     "metadata": {},
     "output_type": "execute_result"
    }
   ],
   "source": [
    "os.environ['TF_CPP_MIN_LOG_LEVEL'] = '3'\n",
    "os.environ[\"CUDA_VISIBLE_DEVICES\"] = '0'\n",
    "tf.config.list_physical_devices('GPU')"
   ]
  },
  {
   "cell_type": "code",
   "execution_count": 3,
   "id": "587f46c6",
   "metadata": {},
   "outputs": [],
   "source": [
    "DATA_DIR = 'data'\n",
    "HDF5_FILE = 'data_tf.hdf5'"
   ]
  },
  {
   "cell_type": "code",
   "execution_count": 4,
   "id": "1ab92b2b",
   "metadata": {},
   "outputs": [],
   "source": [
    "BATCH_SIZE = 64\n",
    "IMG_SHAPE = (96, 96, 4)"
   ]
  },
  {
   "cell_type": "code",
   "execution_count": 5,
   "id": "4602bb7b",
   "metadata": {},
   "outputs": [],
   "source": [
    "data_file = os.path.join(DATA_DIR, HDF5_FILE)\n",
    "ds_x = tfio.IODataset.from_hdf5(data_file, '/x_train')\n",
    "ds_y = tfio.IODataset.from_hdf5(data_file, '/y_train')"
   ]
  },
  {
   "cell_type": "code",
   "execution_count": 6,
   "id": "41d10152",
   "metadata": {},
   "outputs": [],
   "source": [
    "# convert to float and scale to [0, 1)\n",
    "ds_x = ds_x.map(lambda x: tf.image.convert_image_dtype(x, tf.float32))\n",
    "# ds_x = ds_images.map(lambda x: tf.image.per_image_standardization(x))"
   ]
  },
  {
   "cell_type": "code",
   "execution_count": 7,
   "id": "d3fe6fbf",
   "metadata": {},
   "outputs": [
    {
     "data": {
      "text/plain": [
       "(220025, 198022)"
      ]
     },
     "execution_count": 7,
     "metadata": {},
     "output_type": "execute_result"
    }
   ],
   "source": [
    "ds_xy = tf.data.Dataset.zip((ds_x, ds_y))\n",
    "ds_xy = ds_xy.shuffle(BATCH_SIZE*2)\n",
    "\n",
    "ds_len = ds_xy.reduce(0, lambda x, _: x + 1).numpy()\n",
    "train_len = int(0.9 * ds_len)\n",
    "\n",
    "ds_train = ds_xy.take(train_len)\n",
    "ds_test = ds_xy.skip(train_len)\n",
    "\n",
    "ds_len, train_len"
   ]
  },
  {
   "cell_type": "raw",
   "id": "77f3fc83",
   "metadata": {},
   "source": [
    "model = Sequential([\n",
    "    Conv2D(32, (3, 3), activation='relu', input_shape=IMG_SHAPE),\n",
    "    Flatten(),\n",
    "    Dropout(0.35),\n",
    "    Dense(1, activation='sigmoid')\n",
    "])"
   ]
  },
  {
   "cell_type": "code",
   "execution_count": 8,
   "id": "776ba4ee",
   "metadata": {},
   "outputs": [],
   "source": [
    "model = Sequential()\n",
    "\n",
    "model.add(Conv2D(64, (3,3), activation='relu', kernel_regularizer=l2(2e-5))) #, input_shape=(X_train.shape[1:])))\n",
    "model.add(BatchNormalization())\n",
    "model.add(Conv2D(64, (3,3), activation='relu', kernel_regularizer=l2(2e-5)))\n",
    "model.add(BatchNormalization())\n",
    "model.add(MaxPooling2D(pool_size=(2, 2)))\n",
    "model.add(Dropout(0.3))\n",
    "\n",
    "model.add(Conv2D(32, (3,3), activation='relu', kernel_regularizer=l2(2e-5)))\n",
    "model.add(BatchNormalization())\n",
    "model.add(Conv2D(32, (3,3), activation='relu', kernel_regularizer=l2(2e-5)))\n",
    "model.add(BatchNormalization())\n",
    "model.add(MaxPooling2D (pool_size=(2, 2)))\n",
    "model.add(Dropout(0.35))\n",
    "\n",
    "model.add(Conv2D(16, (3,3), activation='relu', kernel_regularizer=l2(2e-5)))\n",
    "model.add(BatchNormalization())\n",
    "model.add(Conv2D(16, (3,3), activation='relu', kernel_regularizer=l2(2e-5)))\n",
    "model.add(BatchNormalization())\n",
    "model.add(MaxPooling2D (pool_size=(2, 2)))\n",
    "# model.add(Dropout(0.4))\n",
    "model.add(Dropout(0.5))\n",
    "\n",
    "model.add(Flatten())\n",
    "# model.add(Dropout(0.2))\n",
    "\n",
    "# model.add(Dense(64, activation='relu'))\n",
    "# model.add(BatchNormalization())\n",
    "# model.add(Dropout(0.4))\n",
    "\n",
    "model.add(Dense(1, activation='sigmoid'))\n",
    "\n",
    "# model.summary()"
   ]
  },
  {
   "cell_type": "code",
   "execution_count": 9,
   "id": "63b652ee",
   "metadata": {},
   "outputs": [
    {
     "name": "stdout",
     "output_type": "stream",
     "text": [
      "Epoch 1/10\n",
      "3095/3095 - 186s - loss: 0.3898 - accuracy: 0.8391 - val_loss: 0.3934 - val_accuracy: 0.8401\n",
      "Epoch 2/10\n",
      "3095/3095 - 181s - loss: 0.2921 - accuracy: 0.8834 - val_loss: 0.8501 - val_accuracy: 0.7614\n",
      "Epoch 3/10\n",
      "3095/3095 - 181s - loss: 0.2545 - accuracy: 0.9022 - val_loss: 0.4145 - val_accuracy: 0.8522\n",
      "Epoch 4/10\n",
      "3095/3095 - 181s - loss: 0.2357 - accuracy: 0.9117 - val_loss: 0.3859 - val_accuracy: 0.8536\n",
      "Epoch 5/10\n",
      "3095/3095 - 181s - loss: 0.2246 - accuracy: 0.9171 - val_loss: 0.3678 - val_accuracy: 0.8670\n",
      "Epoch 6/10\n",
      "3095/3095 - 181s - loss: 0.2185 - accuracy: 0.9207 - val_loss: 0.2908 - val_accuracy: 0.8861\n",
      "Epoch 7/10\n",
      "3095/3095 - 181s - loss: 0.2137 - accuracy: 0.9234 - val_loss: 0.2820 - val_accuracy: 0.8973\n",
      "Epoch 8/10\n",
      "3095/3095 - 181s - loss: 0.2091 - accuracy: 0.9258 - val_loss: 0.2974 - val_accuracy: 0.8847\n",
      "Epoch 9/10\n",
      "3095/3095 - 181s - loss: 0.2065 - accuracy: 0.9270 - val_loss: 0.8660 - val_accuracy: 0.7813\n",
      "Epoch 10/10\n",
      "3095/3095 - 181s - loss: 0.2024 - accuracy: 0.9296 - val_loss: 0.2695 - val_accuracy: 0.8989\n"
     ]
    }
   ],
   "source": [
    "ds_train = ds_train.batch(BATCH_SIZE).prefetch(tf.data.AUTOTUNE)\n",
    "ds_test = ds_test.batch(BATCH_SIZE).prefetch(tf.data.AUTOTUNE)\n",
    "\n",
    "model.compile(loss=BinaryCrossentropy(from_logits=False),\n",
    "              optimizer=Adam(learning_rate=1e-3),\n",
    "              metrics=['accuracy'])\n",
    "\n",
    "history = model.fit(ds_train,\n",
    "                    epochs=10,\n",
    "                    verbose=2, \n",
    "                    validation_data=ds_test\n",
    "                   )"
   ]
  },
  {
   "cell_type": "code",
   "execution_count": 10,
   "id": "52281e17",
   "metadata": {},
   "outputs": [
    {
     "name": "stdout",
     "output_type": "stream",
     "text": [
      "Epoch 1/10\n",
      "1548/1548 - 183s - loss: 0.1725 - accuracy: 0.9421 - val_loss: 0.1749 - val_accuracy: 0.9403\n",
      "Epoch 2/10\n",
      "1548/1548 - 181s - loss: 0.1672 - accuracy: 0.9442 - val_loss: 0.1858 - val_accuracy: 0.9394\n",
      "Epoch 3/10\n",
      "1548/1548 - 189s - loss: 0.1658 - accuracy: 0.9447 - val_loss: 0.1660 - val_accuracy: 0.9458\n",
      "Epoch 4/10\n",
      "1548/1548 - 190s - loss: 0.1635 - accuracy: 0.9458 - val_loss: 0.1604 - val_accuracy: 0.9446\n",
      "Epoch 5/10\n",
      "1548/1548 - 190s - loss: 0.1622 - accuracy: 0.9462 - val_loss: 0.1550 - val_accuracy: 0.9502\n",
      "Epoch 6/10\n",
      "1548/1548 - 189s - loss: 0.1613 - accuracy: 0.9462 - val_loss: 0.1628 - val_accuracy: 0.9456\n",
      "Epoch 7/10\n",
      "1548/1548 - 180s - loss: 0.1586 - accuracy: 0.9472 - val_loss: 0.1687 - val_accuracy: 0.9443\n",
      "Epoch 8/10\n",
      "1548/1548 - 190s - loss: 0.1580 - accuracy: 0.9474 - val_loss: 0.1627 - val_accuracy: 0.9472\n",
      "Epoch 9/10\n",
      "1548/1548 - 190s - loss: 0.1573 - accuracy: 0.9476 - val_loss: 0.1735 - val_accuracy: 0.9427\n",
      "Epoch 10/10\n",
      "1548/1548 - 190s - loss: 0.1558 - accuracy: 0.9484 - val_loss: 0.1591 - val_accuracy: 0.9483\n"
     ]
    }
   ],
   "source": [
    "ds_train = ds_train.unbatch()\n",
    "ds_test = ds_test.unbatch()\n",
    "ds_train = ds_train.batch(128).prefetch(tf.data.AUTOTUNE)\n",
    "ds_test = ds_test.batch(128).prefetch(tf.data.AUTOTUNE)\n",
    "\n",
    "model.compile(loss=BinaryCrossentropy(from_logits=False),\n",
    "              optimizer=Adam(learning_rate=2e-4),\n",
    "              metrics=['accuracy'])\n",
    "\n",
    "history = model.fit(ds_train,\n",
    "                    epochs=10,\n",
    "                    verbose=2, \n",
    "                    validation_data=ds_test\n",
    "                   )"
   ]
  },
  {
   "cell_type": "code",
   "execution_count": 11,
   "id": "a513a084",
   "metadata": {},
   "outputs": [
    {
     "name": "stdout",
     "output_type": "stream",
     "text": [
      "Epoch 1/10\n",
      "774/774 - 191s - loss: 0.1481 - accuracy: 0.9517 - val_loss: 0.1475 - val_accuracy: 0.9531\n",
      "Epoch 2/10\n",
      "774/774 - 194s - loss: 0.1474 - accuracy: 0.9517 - val_loss: 0.1460 - val_accuracy: 0.9539\n",
      "Epoch 3/10\n",
      "774/774 - 200s - loss: 0.1466 - accuracy: 0.9520 - val_loss: 0.1474 - val_accuracy: 0.9530\n",
      "Epoch 4/10\n",
      "774/774 - 199s - loss: 0.1466 - accuracy: 0.9519 - val_loss: 0.1465 - val_accuracy: 0.9533\n",
      "Epoch 5/10\n",
      "774/774 - 197s - loss: 0.1463 - accuracy: 0.9522 - val_loss: 0.1496 - val_accuracy: 0.9521\n",
      "Epoch 6/10\n",
      "774/774 - 188s - loss: 0.1453 - accuracy: 0.9526 - val_loss: 0.1488 - val_accuracy: 0.9525\n",
      "Epoch 7/10\n",
      "774/774 - 183s - loss: 0.1449 - accuracy: 0.9528 - val_loss: 0.1556 - val_accuracy: 0.9507\n",
      "Epoch 8/10\n",
      "774/774 - 195s - loss: 0.1448 - accuracy: 0.9525 - val_loss: 0.1513 - val_accuracy: 0.9514\n",
      "Epoch 9/10\n",
      "774/774 - 189s - loss: 0.1450 - accuracy: 0.9524 - val_loss: 0.1461 - val_accuracy: 0.9533\n",
      "Epoch 10/10\n",
      "774/774 - 200s - loss: 0.1446 - accuracy: 0.9529 - val_loss: 0.1476 - val_accuracy: 0.9527\n"
     ]
    }
   ],
   "source": [
    "ds_train = ds_train.unbatch()\n",
    "ds_test = ds_test.unbatch()\n",
    "ds_train = ds_train.batch(256).prefetch(tf.data.AUTOTUNE)\n",
    "ds_test = ds_test.batch(256).prefetch(tf.data.AUTOTUNE)\n",
    "\n",
    "model.compile(loss=BinaryCrossentropy(from_logits=False),\n",
    "              optimizer=Adam(learning_rate=5e-5),\n",
    "              metrics=['accuracy'])\n",
    "\n",
    "history = model.fit(ds_train,\n",
    "                    epochs=10,\n",
    "                    verbose=2, \n",
    "                    validation_data=ds_test\n",
    "                   )"
   ]
  },
  {
   "cell_type": "code",
   "execution_count": 13,
   "id": "4c93e353",
   "metadata": {},
   "outputs": [
    {
     "name": "stdout",
     "output_type": "stream",
     "text": [
      "Epoch 1/10\n",
      "774/774 - 200s - loss: 0.1440 - accuracy: 0.9526 - val_loss: 0.1432 - val_accuracy: 0.9546\n",
      "Epoch 2/10\n",
      "774/774 - 198s - loss: 0.1434 - accuracy: 0.9532 - val_loss: 0.1442 - val_accuracy: 0.9534\n",
      "Epoch 3/10\n",
      "774/774 - 198s - loss: 0.1433 - accuracy: 0.9532 - val_loss: 0.1444 - val_accuracy: 0.9538\n",
      "Epoch 4/10\n",
      "774/774 - 198s - loss: 0.1435 - accuracy: 0.9526 - val_loss: 0.1440 - val_accuracy: 0.9535\n",
      "Epoch 5/10\n",
      "774/774 - 200s - loss: 0.1431 - accuracy: 0.9534 - val_loss: 0.1441 - val_accuracy: 0.9533\n",
      "Epoch 6/10\n",
      "774/774 - 190s - loss: 0.1427 - accuracy: 0.9534 - val_loss: 0.1438 - val_accuracy: 0.9535\n",
      "Epoch 7/10\n",
      "774/774 - 198s - loss: 0.1431 - accuracy: 0.9539 - val_loss: 0.1432 - val_accuracy: 0.9536\n",
      "Epoch 8/10\n",
      "774/774 - 187s - loss: 0.1431 - accuracy: 0.9532 - val_loss: 0.1433 - val_accuracy: 0.9540\n",
      "Epoch 9/10\n",
      "774/774 - 191s - loss: 0.1418 - accuracy: 0.9540 - val_loss: 0.1433 - val_accuracy: 0.9539\n",
      "Epoch 10/10\n",
      "774/774 - 197s - loss: 0.1434 - accuracy: 0.9529 - val_loss: 0.1431 - val_accuracy: 0.9540\n"
     ]
    }
   ],
   "source": [
    "model.compile(loss=BinaryCrossentropy(from_logits=False),\n",
    "              optimizer=Adam(learning_rate=1e-5),\n",
    "              metrics=['accuracy'])\n",
    "\n",
    "history = model.fit(ds_train,\n",
    "                    epochs=10,\n",
    "                    verbose=2, \n",
    "                    validation_data=ds_test\n",
    "                   )"
   ]
  },
  {
   "cell_type": "code",
   "execution_count": null,
   "id": "cc8237af",
   "metadata": {},
   "outputs": [],
   "source": []
  }
 ],
 "metadata": {
  "kernelspec": {
   "display_name": "Python 3 (ipykernel)",
   "language": "python",
   "name": "python3"
  },
  "language_info": {
   "codemirror_mode": {
    "name": "ipython",
    "version": 3
   },
   "file_extension": ".py",
   "mimetype": "text/x-python",
   "name": "python",
   "nbconvert_exporter": "python",
   "pygments_lexer": "ipython3",
   "version": "3.8.10"
  }
 },
 "nbformat": 4,
 "nbformat_minor": 5
}
