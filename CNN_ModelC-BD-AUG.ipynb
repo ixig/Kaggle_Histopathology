{
 "cells": [
  {
   "cell_type": "code",
   "execution_count": 1,
   "id": "ffd2e3f9",
   "metadata": {},
   "outputs": [],
   "source": [
    "import os\n",
    "import tensorflow as tf\n",
    "import tensorflow_io as tfio\n",
    "from tensorflow.keras.models import Sequential\n",
    "from tensorflow.keras.layers import *\n",
    "# from tensorflow.keras.layers.experimental.preprocessing import *\n",
    "from tensorflow.keras.optimizers import SGD, Adam\n",
    "from keras.losses import BinaryCrossentropy\n",
    "from keras.regularizers import l2"
   ]
  },
  {
   "cell_type": "code",
   "execution_count": 2,
   "id": "554c5265",
   "metadata": {},
   "outputs": [
    {
     "data": {
      "text/plain": [
       "[PhysicalDevice(name='/physical_device:GPU:0', device_type='GPU')]"
      ]
     },
     "execution_count": 2,
     "metadata": {},
     "output_type": "execute_result"
    }
   ],
   "source": [
    "os.environ['TF_CPP_MIN_LOG_LEVEL'] = '3'\n",
    "os.environ[\"CUDA_VISIBLE_DEVICES\"] = '0'\n",
    "tf.config.list_physical_devices('GPU')"
   ]
  },
  {
   "cell_type": "code",
   "execution_count": 3,
   "id": "d028028b",
   "metadata": {},
   "outputs": [],
   "source": [
    "DATA_DIR = 'data'\n",
    "HDF5_FILE = 'data_tf.hdf5'"
   ]
  },
  {
   "cell_type": "code",
   "execution_count": 4,
   "id": "ce1e8bdc",
   "metadata": {},
   "outputs": [],
   "source": [
    "BATCH_SIZE = 64\n",
    "IMG_SHAPE = (96, 96, 4)"
   ]
  },
  {
   "cell_type": "code",
   "execution_count": 5,
   "id": "d2bc132e",
   "metadata": {},
   "outputs": [],
   "source": [
    "data_file = os.path.join(DATA_DIR, HDF5_FILE)\n",
    "ds_x = tfio.IODataset.from_hdf5(data_file, '/x_train')\n",
    "ds_y = tfio.IODataset.from_hdf5(data_file, '/y_train')"
   ]
  },
  {
   "cell_type": "code",
   "execution_count": 6,
   "id": "33c5be02",
   "metadata": {},
   "outputs": [],
   "source": [
    "# convert to float and scale to [0, 1)\n",
    "ds_x = ds_x.map(lambda x: tf.image.convert_image_dtype(x, tf.float32))\n",
    "# ds_x = ds_images.map(lambda x: tf.image.per_image_standardization(x))"
   ]
  },
  {
   "cell_type": "code",
   "execution_count": 7,
   "id": "819b1ab7",
   "metadata": {},
   "outputs": [
    {
     "data": {
      "text/plain": [
       "(220025, 198022)"
      ]
     },
     "execution_count": 7,
     "metadata": {},
     "output_type": "execute_result"
    }
   ],
   "source": [
    "ds_xy = tf.data.Dataset.zip((ds_x, ds_y))\n",
    "ds_xy = ds_xy.shuffle(BATCH_SIZE*2)\n",
    "\n",
    "ds_len = ds_xy.reduce(0, lambda x, _: x + 1).numpy()\n",
    "train_len = int(0.9 * ds_len)\n",
    "\n",
    "ds_train = ds_xy.take(train_len)\n",
    "ds_test = ds_xy.skip(train_len)\n",
    "\n",
    "ds_len, train_len"
   ]
  },
  {
   "cell_type": "code",
   "execution_count": 8,
   "id": "a0431df3",
   "metadata": {},
   "outputs": [],
   "source": [
    "data_aug = Sequential([\n",
    "    RandomFlip(\"horizontal_and_vertical\"),\n",
    "    # RandomZoom(0.2, 0.2)\n",
    "])"
   ]
  },
  {
   "cell_type": "code",
   "execution_count": 9,
   "id": "ca6c116c",
   "metadata": {},
   "outputs": [],
   "source": [
    "model = Sequential()\n",
    "\n",
    "model.add(data_aug)\n",
    "\n",
    "model.add(Conv2D(32, (3, 3), activation='relu', kernel_regularizer=l2(1e-4))) #, input_shape=(X_train.shape[1:])))\n",
    "model.add(BatchNormalization())\n",
    "model.add(Conv2D(32, (3, 3), activation='relu', kernel_regularizer=l2(1e-4)))\n",
    "model.add(BatchNormalization())\n",
    "model.add(MaxPooling2D(pool_size=(2, 2)))\n",
    "model.add(Dropout(0.3))\n",
    "\n",
    "model.add(Conv2D(64, (3, 3), padding='same', activation='relu', kernel_regularizer=l2(2e-4)))\n",
    "model.add(BatchNormalization())\n",
    "model.add(Conv2D(64, (3, 3), padding='same', activation='relu', kernel_regularizer=l2(2e-4)))\n",
    "model.add(BatchNormalization())\n",
    "model.add(AveragePooling2D (pool_size=(2, 2)))\n",
    "model.add(Dropout(0.35))\n",
    "\n",
    "model.add(Conv2D(128, (3, 3), padding='same', activation='relu', kernel_regularizer=l2(3e-4)))\n",
    "model.add(BatchNormalization())\n",
    "model.add(Conv2D(128, (3, 3), padding='same', activation='relu', kernel_regularizer=l2(3e-4)))\n",
    "model.add(BatchNormalization())\n",
    "model.add(AveragePooling2D (pool_size=(2, 2)))\n",
    "model.add(Dropout(0.4))\n",
    "\n",
    "model.add(Flatten())\n",
    "model.add(Dense(1, activation='sigmoid'))\n",
    "\n",
    "# model.summary()"
   ]
  },
  {
   "cell_type": "code",
   "execution_count": 10,
   "id": "14a917e8",
   "metadata": {},
   "outputs": [
    {
     "name": "stdout",
     "output_type": "stream",
     "text": [
      "Epoch 1/8\n",
      "3095/3095 - 156s - loss: 0.5178 - accuracy: 0.8285 - val_loss: 0.4870 - val_accuracy: 0.8332\n",
      "Epoch 2/8\n",
      "3095/3095 - 153s - loss: 0.3700 - accuracy: 0.8815 - val_loss: 0.3354 - val_accuracy: 0.8822\n",
      "Epoch 3/8\n",
      "3095/3095 - 154s - loss: 0.2953 - accuracy: 0.9060 - val_loss: 0.7206 - val_accuracy: 0.8111\n",
      "Epoch 4/8\n",
      "3095/3095 - 153s - loss: 0.2693 - accuracy: 0.9139 - val_loss: 0.3036 - val_accuracy: 0.8963\n",
      "Epoch 5/8\n",
      "3095/3095 - 154s - loss: 0.2591 - accuracy: 0.9180 - val_loss: 0.3632 - val_accuracy: 0.8813\n",
      "Epoch 6/8\n",
      "3095/3095 - 154s - loss: 0.2501 - accuracy: 0.9211 - val_loss: 0.3944 - val_accuracy: 0.8720\n",
      "Epoch 7/8\n",
      "3095/3095 - 154s - loss: 0.2469 - accuracy: 0.9219 - val_loss: 1.0699 - val_accuracy: 0.7860\n",
      "Epoch 8/8\n",
      "3095/3095 - 153s - loss: 0.2436 - accuracy: 0.9229 - val_loss: 0.2845 - val_accuracy: 0.9074\n"
     ]
    }
   ],
   "source": [
    "ds_train = ds_train.batch(BATCH_SIZE).prefetch(tf.data.AUTOTUNE)\n",
    "ds_test = ds_test.batch(BATCH_SIZE).prefetch(tf.data.AUTOTUNE)\n",
    "\n",
    "model.compile(loss=BinaryCrossentropy(from_logits=False),\n",
    "              optimizer=Adam(learning_rate=1e-3),\n",
    "              metrics=['accuracy'])\n",
    "\n",
    "history = model.fit(ds_train,\n",
    "                    epochs=8,\n",
    "                    verbose=2, \n",
    "                    validation_data=ds_test\n",
    "                   )"
   ]
  },
  {
   "cell_type": "code",
   "execution_count": 11,
   "id": "968da4a2",
   "metadata": {},
   "outputs": [
    {
     "name": "stdout",
     "output_type": "stream",
     "text": [
      "Epoch 1/8\n",
      "1548/1548 - 164s - loss: 0.1968 - accuracy: 0.9412 - val_loss: 0.1787 - val_accuracy: 0.9464\n",
      "Epoch 2/8\n",
      "1548/1548 - 162s - loss: 0.1873 - accuracy: 0.9439 - val_loss: 0.1920 - val_accuracy: 0.9403\n",
      "Epoch 3/8\n",
      "1548/1548 - 162s - loss: 0.1796 - accuracy: 0.9460 - val_loss: 0.1936 - val_accuracy: 0.9381\n",
      "Epoch 4/8\n",
      "1548/1548 - 161s - loss: 0.1753 - accuracy: 0.9472 - val_loss: 0.1662 - val_accuracy: 0.9483\n",
      "Epoch 5/8\n",
      "1548/1548 - 151s - loss: 0.1719 - accuracy: 0.9478 - val_loss: 0.1666 - val_accuracy: 0.9492\n",
      "Epoch 6/8\n",
      "1548/1548 - 151s - loss: 0.1684 - accuracy: 0.9487 - val_loss: 0.1829 - val_accuracy: 0.9408\n",
      "Epoch 7/8\n",
      "1548/1548 - 161s - loss: 0.1660 - accuracy: 0.9495 - val_loss: 0.2002 - val_accuracy: 0.9366\n",
      "Epoch 8/8\n",
      "1548/1548 - 152s - loss: 0.1640 - accuracy: 0.9497 - val_loss: 0.1723 - val_accuracy: 0.9464\n"
     ]
    }
   ],
   "source": [
    "ds_train = ds_train.unbatch()\n",
    "ds_test = ds_test.unbatch()\n",
    "ds_train = ds_train.batch(128).prefetch(tf.data.AUTOTUNE)\n",
    "ds_test = ds_test.batch(128).prefetch(tf.data.AUTOTUNE)\n",
    "\n",
    "model.compile(loss=BinaryCrossentropy(from_logits=False),\n",
    "              optimizer=Adam(learning_rate=2e-4),\n",
    "              metrics=['accuracy'])\n",
    "\n",
    "history = model.fit(ds_train,\n",
    "                    epochs=8,\n",
    "                    verbose=2, \n",
    "                    validation_data=ds_test\n",
    "                   )"
   ]
  },
  {
   "cell_type": "code",
   "execution_count": 12,
   "id": "3cde878e",
   "metadata": {},
   "outputs": [
    {
     "name": "stdout",
     "output_type": "stream",
     "text": [
      "Epoch 1/8\n",
      "774/774 - 158s - loss: 0.1505 - accuracy: 0.9550 - val_loss: 0.1448 - val_accuracy: 0.9567\n",
      "Epoch 2/8\n",
      "774/774 - 155s - loss: 0.1484 - accuracy: 0.9559 - val_loss: 0.1423 - val_accuracy: 0.9575\n",
      "Epoch 3/8\n",
      "774/774 - 152s - loss: 0.1469 - accuracy: 0.9564 - val_loss: 0.1471 - val_accuracy: 0.9567\n",
      "Epoch 4/8\n",
      "774/774 - 162s - loss: 0.1449 - accuracy: 0.9567 - val_loss: 0.1368 - val_accuracy: 0.9592\n",
      "Epoch 5/8\n",
      "774/774 - 152s - loss: 0.1442 - accuracy: 0.9570 - val_loss: 0.1403 - val_accuracy: 0.9575\n",
      "Epoch 6/8\n",
      "774/774 - 153s - loss: 0.1429 - accuracy: 0.9574 - val_loss: 0.1407 - val_accuracy: 0.9578\n",
      "Epoch 7/8\n",
      "774/774 - 153s - loss: 0.1430 - accuracy: 0.9575 - val_loss: 0.1426 - val_accuracy: 0.9562\n",
      "Epoch 8/8\n",
      "774/774 - 164s - loss: 0.1430 - accuracy: 0.9570 - val_loss: 0.1357 - val_accuracy: 0.9604\n"
     ]
    }
   ],
   "source": [
    "ds_train = ds_train.unbatch()\n",
    "ds_test = ds_test.unbatch()\n",
    "ds_train = ds_train.batch(256).prefetch(tf.data.AUTOTUNE)\n",
    "ds_test = ds_test.batch(256).prefetch(tf.data.AUTOTUNE)\n",
    "\n",
    "model.compile(loss=BinaryCrossentropy(from_logits=False),\n",
    "              optimizer=Adam(learning_rate=5e-5),\n",
    "              metrics=['accuracy'])\n",
    "\n",
    "history = model.fit(ds_train,\n",
    "                    epochs=8,\n",
    "                    verbose=2, \n",
    "                    validation_data=ds_test\n",
    "                   )"
   ]
  },
  {
   "cell_type": "code",
   "execution_count": 13,
   "id": "3cf7bc3f",
   "metadata": {},
   "outputs": [
    {
     "name": "stdout",
     "output_type": "stream",
     "text": [
      "Epoch 1/2\n",
      "3095/3095 - 166s - loss: 0.1617 - accuracy: 0.9492 - val_loss: 0.1506 - val_accuracy: 0.9540\n",
      "Epoch 2/2\n",
      "3095/3095 - 159s - loss: 0.1618 - accuracy: 0.9494 - val_loss: 0.1611 - val_accuracy: 0.9513\n"
     ]
    }
   ],
   "source": [
    "ds_train = ds_train.unbatch()\n",
    "ds_test = ds_test.unbatch()\n",
    "ds_train = ds_train.batch(64).prefetch(tf.data.AUTOTUNE)\n",
    "ds_test = ds_test.batch(64).prefetch(tf.data.AUTOTUNE)\n",
    "\n",
    "model.compile(loss=BinaryCrossentropy(from_logits=False),\n",
    "              optimizer=Adam(learning_rate=1e-4),\n",
    "              metrics=['accuracy'])\n",
    "\n",
    "history = model.fit(ds_train,\n",
    "                    epochs=2,\n",
    "                    verbose=2, \n",
    "                    validation_data=ds_test\n",
    "                   )"
   ]
  },
  {
   "cell_type": "code",
   "execution_count": 14,
   "id": "0a2884f0",
   "metadata": {},
   "outputs": [
    {
     "name": "stdout",
     "output_type": "stream",
     "text": [
      "Epoch 1/5\n",
      "774/774 - 161s - loss: 0.1413 - accuracy: 0.9575 - val_loss: 0.1335 - val_accuracy: 0.9595\n",
      "Epoch 2/5\n",
      "774/774 - 157s - loss: 0.1395 - accuracy: 0.9583 - val_loss: 0.1338 - val_accuracy: 0.9603\n",
      "Epoch 3/5\n",
      "774/774 - 160s - loss: 0.1380 - accuracy: 0.9591 - val_loss: 0.1399 - val_accuracy: 0.9567\n",
      "Epoch 4/5\n",
      "774/774 - 162s - loss: 0.1378 - accuracy: 0.9586 - val_loss: 0.1338 - val_accuracy: 0.9603\n",
      "Epoch 5/5\n",
      "774/774 - 166s - loss: 0.1367 - accuracy: 0.9593 - val_loss: 0.1344 - val_accuracy: 0.9597\n"
     ]
    }
   ],
   "source": [
    "ds_train = ds_train.unbatch()\n",
    "ds_test = ds_test.unbatch()\n",
    "ds_train = ds_train.batch(256).prefetch(tf.data.AUTOTUNE)\n",
    "ds_test = ds_test.batch(256).prefetch(tf.data.AUTOTUNE)\n",
    "\n",
    "model.compile(loss=BinaryCrossentropy(from_logits=False),\n",
    "              optimizer=Adam(learning_rate=5e-5),\n",
    "              metrics=['accuracy'])\n",
    "\n",
    "history = model.fit(ds_train,\n",
    "                    epochs=5,\n",
    "                    verbose=2, \n",
    "                    validation_data=ds_test\n",
    "                   )"
   ]
  },
  {
   "cell_type": "code",
   "execution_count": 15,
   "id": "fb91f153",
   "metadata": {},
   "outputs": [
    {
     "name": "stdout",
     "output_type": "stream",
     "text": [
      "Epoch 1/2\n",
      "387/387 - 176s - loss: 0.1345 - accuracy: 0.9598 - val_loss: 0.1387 - val_accuracy: 0.9579\n",
      "Epoch 2/2\n",
      "387/387 - 164s - loss: 0.1346 - accuracy: 0.9598 - val_loss: 0.1402 - val_accuracy: 0.9583\n"
     ]
    }
   ],
   "source": [
    "ds_train = ds_train.unbatch()\n",
    "ds_test = ds_test.unbatch()\n",
    "ds_train = ds_train.batch(512).prefetch(tf.data.AUTOTUNE)\n",
    "ds_test = ds_test.batch(512).prefetch(tf.data.AUTOTUNE)\n",
    "\n",
    "model.compile(loss=BinaryCrossentropy(from_logits=False),\n",
    "              optimizer=Adam(learning_rate=1e-4),\n",
    "              metrics=['accuracy'])\n",
    "\n",
    "history = model.fit(ds_train,\n",
    "                    epochs=2,\n",
    "                    verbose=2, \n",
    "                    validation_data=ds_test\n",
    "                   )"
   ]
  },
  {
   "cell_type": "code",
   "execution_count": 16,
   "id": "5f0dddfc",
   "metadata": {},
   "outputs": [
    {
     "name": "stdout",
     "output_type": "stream",
     "text": [
      "Epoch 1/5\n",
      "387/387 - 162s - loss: 0.1314 - accuracy: 0.9604 - val_loss: 0.1344 - val_accuracy: 0.9585\n",
      "Epoch 2/5\n",
      "387/387 - 163s - loss: 0.1321 - accuracy: 0.9607 - val_loss: 0.1376 - val_accuracy: 0.9585\n",
      "Epoch 3/5\n",
      "387/387 - 161s - loss: 0.1300 - accuracy: 0.9611 - val_loss: 0.1320 - val_accuracy: 0.9611\n",
      "Epoch 4/5\n",
      "387/387 - 164s - loss: 0.1294 - accuracy: 0.9618 - val_loss: 0.1292 - val_accuracy: 0.9618\n",
      "Epoch 5/5\n",
      "387/387 - 163s - loss: 0.1290 - accuracy: 0.9621 - val_loss: 0.1310 - val_accuracy: 0.9604\n"
     ]
    }
   ],
   "source": [
    "model.compile(loss=BinaryCrossentropy(from_logits=False),\n",
    "              optimizer=Adam(learning_rate=5e-5),\n",
    "              metrics=['accuracy'])\n",
    "\n",
    "history = model.fit(ds_train,\n",
    "                    epochs=5,\n",
    "                    verbose=2, \n",
    "                    validation_data=ds_test\n",
    "                   )"
   ]
  },
  {
   "cell_type": "code",
   "execution_count": null,
   "id": "0601055c",
   "metadata": {},
   "outputs": [],
   "source": []
  }
 ],
 "metadata": {
  "kernelspec": {
   "display_name": "Python 3 (ipykernel)",
   "language": "python",
   "name": "python3"
  },
  "language_info": {
   "codemirror_mode": {
    "name": "ipython",
    "version": 3
   },
   "file_extension": ".py",
   "mimetype": "text/x-python",
   "name": "python",
   "nbconvert_exporter": "python",
   "pygments_lexer": "ipython3",
   "version": "3.8.10"
  }
 },
 "nbformat": 4,
 "nbformat_minor": 5
}
