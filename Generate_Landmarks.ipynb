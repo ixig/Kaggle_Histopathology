{
 "cells": [
  {
   "cell_type": "code",
   "execution_count": 1,
   "id": "cbd5cad7",
   "metadata": {},
   "outputs": [],
   "source": [
    "import matplotlib.pyplot as plt\n",
    "import numpy as np\n",
    "from random import randrange\n",
    "from skimage.feature import local_binary_pattern"
   ]
  },
  {
   "cell_type": "code",
   "execution_count": 2,
   "id": "4b28ce11",
   "metadata": {},
   "outputs": [
    {
     "data": {
      "text/plain": [
       "((20000, 9216), dtype('uint8'))"
      ]
     },
     "execution_count": 2,
     "metadata": {},
     "output_type": "execute_result"
    }
   ],
   "source": [
    "DATA_DIR = 'data/'\n",
    "DATA_FILENAME = 'data_naive1d_subset20k'\n",
    "data_train = np.load(DATA_DIR + DATA_FILENAME + '_train' + '.npz')\n",
    "X_train = data_train['X']\n",
    "data_train.close()\n",
    "X_train.shape, X_train.dtype"
   ]
  },
  {
   "cell_type": "code",
   "execution_count": 3,
   "id": "58e2b21b",
   "metadata": {},
   "outputs": [],
   "source": [
    "# Extract (<i>, <j>)th cell as 1-D vector\n",
    "def extract_cell(v, i, j):\n",
    "    img = v.reshape(96, 96)\n",
    "    return img[32*i:32*(i+1), 32*j:32*(j+1)].ravel()\n",
    "\n",
    "# Turn a <v> of size 9216 (96x96) into 9 vectors of 1024 (32x32)\n",
    "# by dividing image into 9 cells and un-rolling each cell\n",
    "# individually\n",
    "def vec_to_cells(v):\n",
    "    cells = []\n",
    "    for i in range(3):\n",
    "        for j in range(3):\n",
    "            cells.append(extract_cell(v, i, j))\n",
    "    return np.array(cells)"
   ]
  },
  {
   "cell_type": "code",
   "execution_count": 4,
   "id": "8eea4929",
   "metadata": {},
   "outputs": [
    {
     "data": {
      "text/plain": [
       "((180000, 1024), dtype('uint8'))"
      ]
     },
     "execution_count": 4,
     "metadata": {},
     "output_type": "execute_result"
    }
   ],
   "source": [
    "X_train9 = np.vstack([vec_to_cells(sample) for sample in X_train])\n",
    "X_train9.shape, X_train9.dtype"
   ]
  },
  {
   "cell_type": "code",
   "execution_count": 5,
   "id": "829a858f",
   "metadata": {},
   "outputs": [],
   "source": [
    "# Kullback–Leibler Divergence\n",
    "def kld(p, q):\n",
    "    return np.sum(np.where(p != 0, p * np.log(p / q), 0))"
   ]
  },
  {
   "cell_type": "code",
   "execution_count": 6,
   "id": "3fef0fee",
   "metadata": {},
   "outputs": [],
   "source": [
    "# Local Binary Pattern Histogram\n",
    "def lbp_histogram(v, dim=32):\n",
    "    img = v.reshape(dim, dim)\n",
    "    patterns = local_binary_pattern(img, 8, 1, 'uniform')\n",
    "    hist, _ = np.histogram(patterns, bins=np.arange(59 + 1))\n",
    "    # add one to avoid divide-by-zero errors later in kld()\n",
    "    return hist.astype('int16') + 1"
   ]
  },
  {
   "cell_type": "code",
   "execution_count": 7,
   "id": "d7881f3d",
   "metadata": {},
   "outputs": [],
   "source": [
    "# Reduce <X> to <target_size> by eliminating similar features,\n",
    "# using <distance> as a metric, via an iterative, stochastic\n",
    "# sampling of <num_subsamples> and eliminating <num_eliminate>\n",
    "# features at each iteration\n",
    "def reduce(X, target_size, num_subsample, num_eliminate, distance):\n",
    "    modulo = 200\n",
    "    while (len_X := len(X)) > target_size:\n",
    "        distances = [(0, distance(X[0], X[1]))]\n",
    "        for _ in range(num_subsample):\n",
    "            x1, x2 = (randrange(len_X), randrange(len_X))\n",
    "            if x1 == x2: continue\n",
    "            dist = distance(X[x1], X[x2])\n",
    "            if dist < distances[-1][1]:\n",
    "                distances.append((x1, dist))\n",
    "        distances.sort(key=lambda x: x[1])\n",
    "        eliminate = [tup[0] for tup in distances[:num_eliminate]]\n",
    "        X = np.delete(X, eliminate, axis=0)\n",
    "        modulo -= 1\n",
    "        if (modulo == 0):\n",
    "            print(len_X, end=' ')\n",
    "            modulo = 200\n",
    "    print()\n",
    "    return X"
   ]
  },
  {
   "cell_type": "code",
   "execution_count": 8,
   "id": "ed3dec6f",
   "metadata": {},
   "outputs": [
    {
     "name": "stdout",
     "output_type": "stream",
     "text": [
      "179034 178062 177075 176096 175103 174130 173146 172168 171189 170204 169217 168225 167260 166277 165305 164317 163349 162377 161387 160409 159429 158454 157468 156476 155494 154505 153508 152526 151550 150574 149581 148606 147638 146659 145679 144704 143718 142731 141742 140770 139791 138809 137821 136837 135848 134869 133901 132926 131935 130951 129964 128984 128006 127022 126041 125062 124074 123094 122108 121146 120161 119185 118200 117208 116229 115247 114272 113284 112302 111320 110348 109357 108377 107407 106418 105428 104444 103457 102486 101507 100535 99551 98586 97613 96627 95649 94660 93674 92687 91714 90743 89762 88773 87807 86824 85828 84834 83855 82891 81904 80914 79932 78966 77979 76993 76002 75021 74033 73047 72056 71070 70088 69113 68117 67124 66141 65157 64173 63187 62209 61236 60254 59273 58291 57311 56331 55339 54350 53374 52392 51407 50419 49438 48456 47468 46482 45494 44510 43521 42544 41568 40592 39608 38635 37659 36672 35678 34685 33694 32704 31727 30747 29758 28766 27786 26804 25834 24848 23870 22884 21897 20909 19925 18935 17944 16954 15966 14983 14008 13013 12032 11049 10066 9087 8097 7107 6119 5124 4137 3152 2168 1187 \n",
      "CPU times: user 21min 11s, sys: 32.8 s, total: 21min 44s\n",
      "Wall time: 21min 39s\n",
      "311 \n",
      "CPU times: user 7.99 s, sys: 116 ms, total: 8.1 s\n",
      "Wall time: 8.03 s\n"
     ]
    },
    {
     "data": {
      "text/plain": [
       "((256, 59), dtype('int16'))"
      ]
     },
     "execution_count": 8,
     "metadata": {},
     "output_type": "execute_result"
    }
   ],
   "source": [
    "train_hists = np.apply_along_axis(lbp_histogram, 1, X_train9)\n",
    "%time landmarks = reduce(train_hists, 512, 2000, 5, kld)\n",
    "%time landmarks = reduce(landmarks, 256, 2000, 1, kld)\n",
    "landmarks.shape, landmarks.dtype"
   ]
  },
  {
   "cell_type": "code",
   "execution_count": 9,
   "id": "0ef6b03a",
   "metadata": {},
   "outputs": [
    {
     "data": {
      "text/plain": [
       "(1, 901, 18.35593220338983)"
      ]
     },
     "execution_count": 9,
     "metadata": {},
     "output_type": "execute_result"
    }
   ],
   "source": [
    "landmarks.min(), landmarks.max(), landmarks.mean()"
   ]
  },
  {
   "cell_type": "code",
   "execution_count": 10,
   "id": "76e6bc6b",
   "metadata": {},
   "outputs": [
    {
     "data": {
      "text/plain": [
       "array([[ 18,  58,  43, ...,   1,   1,   1],\n",
       "       [  6,  14,  29, ...,   1,   1,   1],\n",
       "       [  9,  32,  26, ...,   1,   1,   1],\n",
       "       ...,\n",
       "       [ 35,  75,   9, ...,   1,   1,   1],\n",
       "       [  9,  69,  13, ...,   1,   1,   1],\n",
       "       [139, 131,  89, ...,   1,   1,   1]], dtype=int16)"
      ]
     },
     "execution_count": 10,
     "metadata": {},
     "output_type": "execute_result"
    }
   ],
   "source": [
    "landmarks"
   ]
  },
  {
   "cell_type": "code",
   "execution_count": 11,
   "id": "f18db19e",
   "metadata": {},
   "outputs": [],
   "source": [
    "np.savez(DATA_DIR + DATA_FILENAME + '_landmarks', landmarks=landmarks)"
   ]
  },
  {
   "cell_type": "code",
   "execution_count": null,
   "id": "833ca453",
   "metadata": {},
   "outputs": [],
   "source": []
  }
 ],
 "metadata": {
  "kernelspec": {
   "display_name": "Python 3 (ipykernel)",
   "language": "python",
   "name": "python3"
  },
  "language_info": {
   "codemirror_mode": {
    "name": "ipython",
    "version": 3
   },
   "file_extension": ".py",
   "mimetype": "text/x-python",
   "name": "python",
   "nbconvert_exporter": "python",
   "pygments_lexer": "ipython3",
   "version": "3.9.6"
  }
 },
 "nbformat": 4,
 "nbformat_minor": 5
}
