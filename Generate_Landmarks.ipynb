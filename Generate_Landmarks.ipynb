{
 "cells": [
  {
   "cell_type": "code",
   "execution_count": 1,
   "id": "cbd5cad7",
   "metadata": {},
   "outputs": [],
   "source": [
    "import matplotlib.pyplot as plt\n",
    "import numpy as np\n",
    "from random import randrange\n",
    "from skimage.feature import local_binary_pattern"
   ]
  },
  {
   "cell_type": "code",
   "execution_count": 2,
   "id": "4b28ce11",
   "metadata": {},
   "outputs": [
    {
     "data": {
      "text/plain": [
       "((20000, 9216), dtype('uint8'))"
      ]
     },
     "execution_count": 2,
     "metadata": {},
     "output_type": "execute_result"
    }
   ],
   "source": [
    "DATA_DIR = 'data/'\n",
    "DATA_FILENAME = 'data_naive1d_subset20k'\n",
    "data_train = np.load(DATA_DIR + DATA_FILENAME + '_train' + '.npz')\n",
    "X_train = data_train['X']\n",
    "data_train.close()\n",
    "X_train.shape, X_train.dtype"
   ]
  },
  {
   "cell_type": "code",
   "execution_count": 3,
   "id": "58e2b21b",
   "metadata": {},
   "outputs": [],
   "source": [
    "# Extract (<i>, <j>)th cell as 1-D vector\n",
    "def extract_cell(v, i, j):\n",
    "    img = v.reshape(96, 96)\n",
    "    return img[32*i:32*(i+1), 32*j:32*(j+1)].ravel()\n",
    "\n",
    "# Turn a <v> of size 9216 (96x96) into 9 vectors of 1024 (32x32)\n",
    "# by dividing image into 9 cells and un-rolling each cell\n",
    "# individually\n",
    "def vec_to_cells(v):\n",
    "    cells = []\n",
    "    for i in range(3):\n",
    "        for j in range(3):\n",
    "            cells.append(extract_cell(v, i, j))\n",
    "    return np.array(cells)"
   ]
  },
  {
   "cell_type": "code",
   "execution_count": 4,
   "id": "8eea4929",
   "metadata": {},
   "outputs": [
    {
     "data": {
      "text/plain": [
       "((180000, 1024), dtype('uint8'))"
      ]
     },
     "execution_count": 4,
     "metadata": {},
     "output_type": "execute_result"
    }
   ],
   "source": [
    "X_train9 = np.vstack([vec_to_cells(sample) for sample in X_train])\n",
    "X_train9.shape, X_train9.dtype"
   ]
  },
  {
   "cell_type": "code",
   "execution_count": 5,
   "id": "ccfe635c",
   "metadata": {},
   "outputs": [],
   "source": [
    "# Return smaller of either Kullback–Leibler Divergences\n",
    "def kld(p, q):\n",
    "    p_q = np.sum(p * np.log2(p/q))\n",
    "    q_p = np.sum(q * np.log2(q/p))\n",
    "#     if p_q < 0 or q_p < 0:\n",
    "#         print(p); print(q); print(sum)\n",
    "#         raise Exception\n",
    "    return min(p_q, q_p)"
   ]
  },
  {
   "cell_type": "code",
   "execution_count": 6,
   "id": "3fef0fee",
   "metadata": {},
   "outputs": [],
   "source": [
    "# Local Binary Pattern Histogram\n",
    "def lbp_histogram(v, dim=32):\n",
    "    img = v.reshape(dim, dim)\n",
    "    patterns = local_binary_pattern(img, 8, 1, 'uniform')\n",
    "    hist, _ = np.histogram(patterns, bins=np.arange(59 + 1))\n",
    "    # if only the first ten bins are non-zero, we can reduce our\n",
    "    # landmark feature size\n",
    "    assert hist[10:].sum() == 0\n",
    "    # add one to avoid divide-by-zero errors later in kld()\n",
    "    return hist[:10] + 1"
   ]
  },
  {
   "cell_type": "code",
   "execution_count": 7,
   "id": "d7881f3d",
   "metadata": {},
   "outputs": [],
   "source": [
    "# Reduce <X> to <target_size> by eliminating similar features,\n",
    "# using <distance> as a metric, via an iterative, stochastic\n",
    "# sampling of <num_subsamples> and eliminating <num_eliminate>\n",
    "# features at each iteration\n",
    "def reduce(X, target_size, num_subsample, num_eliminate, distance):\n",
    "    modulo = 200\n",
    "    while (len_X := len(X)) > target_size:\n",
    "        x1, x2 = (randrange(len_X), randrange(len_X))\n",
    "        distances = [(0, distance(X[x1], X[x2]))]\n",
    "        for _ in range(num_subsample):\n",
    "            x1, x2 = (randrange(len_X), randrange(len_X))\n",
    "            if x1 == x2: continue\n",
    "            dist = distance(X[x1], X[x2])\n",
    "            if dist < distances[-1][1]:\n",
    "                distances.append((x1, dist))\n",
    "        eliminate = [tup[0] for tup in distances[-num_eliminate:]]\n",
    "        X = np.delete(X, eliminate, axis=0)\n",
    "        modulo -= 1\n",
    "        if (modulo == 0):\n",
    "            print(len_X, end=' ')\n",
    "            modulo = 200\n",
    "    print()\n",
    "    return X"
   ]
  },
  {
   "cell_type": "code",
   "execution_count": 8,
   "id": "ed3dec6f",
   "metadata": {},
   "outputs": [
    {
     "data": {
      "text/plain": [
       "(180000, 10)"
      ]
     },
     "execution_count": 8,
     "metadata": {},
     "output_type": "execute_result"
    }
   ],
   "source": [
    "train_hists = np.apply_along_axis(lbp_histogram, 1, X_train9)\n",
    "train_hists.shape"
   ]
  },
  {
   "cell_type": "code",
   "execution_count": 9,
   "id": "acb80e35",
   "metadata": {},
   "outputs": [
    {
     "name": "stdout",
     "output_type": "stream",
     "text": [
      "179025 178050 177062 176075 175087 174104 173117 172136 171148 170164 169182 168195 167213 166225 165245 164263 163287 162297 161319 160353 159374 158399 157410 156423 155459 154480 153508 152521 151543 150572 149588 148611 147625 146639 145656 144677 143700 142724 141737 140755 139772 138793 137814 136834 135849 134862 133882 132896 131906 130916 129941 128964 127981 126997 126002 125020 124041 123056 122080 121096 120124 119161 118176 117189 116210 115225 114237 113255 112281 111295 110312 109344 108360 107376 106389 105411 104420 103432 102445 101462 100474 99497 98510 97519 96532 95546 94558 93576 92597 91616 90632 89643 88660 87669 86689 85702 84724 83747 82762 81774 80796 79814 78824 77839 76854 75866 74875 73887 72896 71914 70931 69957 68975 68000 67008 66025 65041 64057 63073 62093 61110 60128 59147 58168 57187 56205 55217 54242 53266 52286 51307 50318 49334 48344 47358 46381 45396 44406 43432 42454 41475 40496 39518 38545 37561 36578 35599 34613 33627 32636 31662 30690 29713 28746 27763 26788 25802 24814 23826 22834 21852 20875 19891 18918 17945 16966 15974 14990 14002 13017 12041 11049 10076 9098 8110 7128 6149 5170 4200 3217 2239 1260 \n",
      "CPU times: user 26min 4s, sys: 22.6 s, total: 26min 27s\n",
      "Wall time: 26min 28s\n",
      "312 \n",
      "CPU times: user 10.2 s, sys: 63.6 ms, total: 10.2 s\n",
      "Wall time: 10.2 s\n"
     ]
    },
    {
     "data": {
      "text/plain": [
       "((256, 10), dtype('int64'))"
      ]
     },
     "execution_count": 9,
     "metadata": {},
     "output_type": "execute_result"
    }
   ],
   "source": [
    "%time landmarks = reduce(train_hists, 512, 2000, 5, kld)\n",
    "%time landmarks = reduce(landmarks, 256, 2000, 1, kld)\n",
    "landmarks.shape, landmarks.dtype"
   ]
  },
  {
   "cell_type": "code",
   "execution_count": 10,
   "id": "0ef6b03a",
   "metadata": {},
   "outputs": [
    {
     "data": {
      "text/plain": [
       "(1, 901, 103.4)"
      ]
     },
     "execution_count": 10,
     "metadata": {},
     "output_type": "execute_result"
    }
   ],
   "source": [
    "landmarks.min(), landmarks.max(), landmarks.mean()"
   ]
  },
  {
   "cell_type": "code",
   "execution_count": 11,
   "id": "76e6bc6b",
   "metadata": {},
   "outputs": [
    {
     "data": {
      "text/plain": [
       "array([[ 37,  53, 102, ...,  67,  44,  72],\n",
       "       [  2,  20,   6, ...,  79, 359,  36],\n",
       "       [  6,  14,  29, ...,  29, 144,  18],\n",
       "       ...,\n",
       "       [  2,   7,  31, ...,  16,  27,   8],\n",
       "       [ 73,  87,  53, ..., 103, 291, 131],\n",
       "       [ 22,  40,  23, ...,  60, 524,  45]])"
      ]
     },
     "execution_count": 11,
     "metadata": {},
     "output_type": "execute_result"
    }
   ],
   "source": [
    "landmarks"
   ]
  },
  {
   "cell_type": "code",
   "execution_count": 12,
   "id": "f18db19e",
   "metadata": {},
   "outputs": [],
   "source": [
    "np.savez(DATA_DIR + DATA_FILENAME + '_landmarks', landmarks=landmarks)"
   ]
  },
  {
   "cell_type": "code",
   "execution_count": null,
   "id": "833ca453",
   "metadata": {},
   "outputs": [],
   "source": []
  }
 ],
 "metadata": {
  "kernelspec": {
   "display_name": "Python 3 (ipykernel)",
   "language": "python",
   "name": "python3"
  },
  "language_info": {
   "codemirror_mode": {
    "name": "ipython",
    "version": 3
   },
   "file_extension": ".py",
   "mimetype": "text/x-python",
   "name": "python",
   "nbconvert_exporter": "python",
   "pygments_lexer": "ipython3",
   "version": "3.9.6"
  }
 },
 "nbformat": 4,
 "nbformat_minor": 5
}
