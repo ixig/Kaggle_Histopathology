{
 "cells": [
  {
   "cell_type": "code",
   "execution_count": 1,
   "id": "cbd5cad7",
   "metadata": {},
   "outputs": [],
   "source": [
    "import matplotlib.pyplot as plt\n",
    "import numpy as np\n",
    "from random import randrange\n",
    "from skimage.feature import local_binary_pattern"
   ]
  },
  {
   "cell_type": "code",
   "execution_count": 2,
   "id": "4b28ce11",
   "metadata": {},
   "outputs": [
    {
     "data": {
      "text/plain": [
       "((20000, 9216), dtype('uint8'))"
      ]
     },
     "execution_count": 2,
     "metadata": {},
     "output_type": "execute_result"
    }
   ],
   "source": [
    "DATA_DIR = 'data/'\n",
    "DATA_FILENAME = 'data_naive1d_subset20k'\n",
    "data_train = np.load(DATA_DIR + DATA_FILENAME + '_train' + '.npz')\n",
    "X_train = data_train['X']\n",
    "data_train.close()\n",
    "X_train.shape, X_train.dtype"
   ]
  },
  {
   "cell_type": "code",
   "execution_count": 3,
   "id": "58e2b21b",
   "metadata": {},
   "outputs": [],
   "source": [
    "# Extract (<i>, <j>)th cell as 1-D vector\n",
    "def extract_cell(v, i, j):\n",
    "    img = v.reshape(96, 96)\n",
    "    return img[32*i:32*(i+1), 32*j:32*(j+1)].ravel()\n",
    "\n",
    "# Turn a <v> of size 9216 (96x96) into 9 vectors of 1024 (32x32)\n",
    "# by dividing image into 9 cells and un-rolling each cell\n",
    "# individually\n",
    "def vec_to_cells(v):\n",
    "    cells = []\n",
    "    for i in range(3):\n",
    "        for j in range(3):\n",
    "            cells.append(extract_cell(v, i, j))\n",
    "    return np.array(cells)"
   ]
  },
  {
   "cell_type": "code",
   "execution_count": 4,
   "id": "8eea4929",
   "metadata": {},
   "outputs": [
    {
     "data": {
      "text/plain": [
       "((180000, 1024), dtype('uint8'))"
      ]
     },
     "execution_count": 4,
     "metadata": {},
     "output_type": "execute_result"
    }
   ],
   "source": [
    "X_train9 = np.vstack([vec_to_cells(sample) for sample in X_train])\n",
    "X_train9.shape, X_train9.dtype"
   ]
  },
  {
   "cell_type": "code",
   "execution_count": 5,
   "id": "ccfe635c",
   "metadata": {},
   "outputs": [],
   "source": [
    "# Return smaller of either Kullback–Leibler Divergences\n",
    "def kld(p, q):\n",
    "    p_q = np.sum(p * np.log2(p/q))\n",
    "    q_p = np.sum(q * np.log2(q/p))\n",
    "#     if p_q < 0 or q_p < 0:\n",
    "#         print(p); print(q); print(sum)\n",
    "#         raise Exception\n",
    "    return min(p_q, q_p)"
   ]
  },
  {
   "cell_type": "code",
   "execution_count": 6,
   "id": "3fef0fee",
   "metadata": {},
   "outputs": [],
   "source": [
    "# Local Binary Pattern Histogram\n",
    "def lbp_histogram(v, dim=32):\n",
    "    img = v.reshape(dim, dim)\n",
    "    patterns = local_binary_pattern(img, 8, 1, 'uniform')\n",
    "    hist, _ = np.histogram(patterns, bins=np.arange(59 + 1))\n",
    "    # if only the first ten bins are non-zero, we can reduce our\n",
    "    # landmark feature size\n",
    "    assert hist[10:].sum() == 0\n",
    "    # add one to avoid divide-by-zero errors later in kld()\n",
    "    return hist[:10].astype('int16') + 1"
   ]
  },
  {
   "cell_type": "code",
   "execution_count": 7,
   "id": "d7881f3d",
   "metadata": {},
   "outputs": [],
   "source": [
    "# Reduce <X> to <target_size> by eliminating similar features,\n",
    "# using <distance> as a metric, via an iterative, stochastic\n",
    "# sampling of <num_subsamples> and eliminating <num_eliminate>\n",
    "# features at each iteration\n",
    "def reduce(X, target_size, num_subsample, num_eliminate, distance):\n",
    "    modulo = 200\n",
    "    while (len_X := len(X)) > target_size:\n",
    "        x1, x2 = (randrange(len_X), randrange(len_X))\n",
    "        distances = [(0, distance(X[x1], X[x2]))]\n",
    "        for _ in range(num_subsample):\n",
    "            x1, x2 = (randrange(len_X), randrange(len_X))\n",
    "            if x1 == x2: continue\n",
    "            dist = distance(X[x1], X[x2])\n",
    "            if dist < distances[-1][1]:\n",
    "                distances.append((x1, dist))\n",
    "        eliminate = [tup[0] for tup in distances[-num_eliminate:]]\n",
    "        X = np.delete(X, eliminate, axis=0)\n",
    "        modulo -= 1\n",
    "        if (modulo == 0):\n",
    "            print(len_X, end=' ')\n",
    "            modulo = 200\n",
    "    print()\n",
    "    return X"
   ]
  },
  {
   "cell_type": "code",
   "execution_count": 8,
   "id": "ed3dec6f",
   "metadata": {},
   "outputs": [
    {
     "data": {
      "text/plain": [
       "((180000, 10), dtype('int16'))"
      ]
     },
     "execution_count": 8,
     "metadata": {},
     "output_type": "execute_result"
    }
   ],
   "source": [
    "train_hists = np.apply_along_axis(lbp_histogram, 1, X_train9)\n",
    "train_hists.shape, train_hists.dtype"
   ]
  },
  {
   "cell_type": "code",
   "execution_count": 9,
   "id": "acb80e35",
   "metadata": {},
   "outputs": [
    {
     "name": "stdout",
     "output_type": "stream",
     "text": [
      "179016 178028 177039 176058 175069 174094 173114 172130 171146 170175 169196 168210 167225 166233 165250 164262 163280 162302 161316 160344 159366 158380 157389 156410 155435 154444 153467 152487 151509 150529 149549 148571 147582 146597 145614 144640 143658 142690 141713 140739 139758 138784 137798 136820 135839 134856 133876 132886 131896 130909 129931 128954 127967 126984 126001 125026 124046 123065 122077 121091 120102 119118 118132 117149 116166 115185 114205 113216 112226 111243 110266 109284 108296 107317 106345 105360 104376 103382 102399 101424 100449 99465 98480 97491 96508 95528 94545 93566 92584 91607 90627 89647 88671 87704 86726 85741 84761 83770 82784 81801 80818 79831 78850 77869 76890 75902 74922 73935 72948 71960 70969 69981 68995 68014 67030 66054 65079 64097 63110 62135 61152 60184 59206 58231 57247 56262 55291 54309 53334 52341 51358 50378 49398 48427 47442 46464 45470 44499 43511 42529 41555 40572 39587 38596 37613 36628 35644 34657 33679 32702 31725 30744 29772 28786 27795 26804 25813 24828 23847 22869 21879 20904 19924 18944 17975 16986 15997 15014 14036 13051 12068 11087 10109 9129 8156 7179 6199 5221 4242 3256 2264 1278 \n",
      "CPU times: user 26min 55s, sys: 9.59 s, total: 27min 4s\n",
      "Wall time: 27min 2s\n",
      "309 \n",
      "CPU times: user 10.7 s, sys: 72.2 ms, total: 10.7 s\n",
      "Wall time: 10.7 s\n"
     ]
    },
    {
     "data": {
      "text/plain": [
       "((256, 10), dtype('int16'))"
      ]
     },
     "execution_count": 9,
     "metadata": {},
     "output_type": "execute_result"
    }
   ],
   "source": [
    "%time landmarks = reduce(train_hists, 512, 2000, 5, kld)\n",
    "%time landmarks = reduce(landmarks, 256, 2000, 1, kld)\n",
    "landmarks.shape, landmarks.dtype"
   ]
  },
  {
   "cell_type": "code",
   "execution_count": 10,
   "id": "0ef6b03a",
   "metadata": {},
   "outputs": [
    {
     "data": {
      "text/plain": [
       "(1, 860, 103.4)"
      ]
     },
     "execution_count": 10,
     "metadata": {},
     "output_type": "execute_result"
    }
   ],
   "source": [
    "landmarks.min(), landmarks.max(), landmarks.mean()"
   ]
  },
  {
   "cell_type": "code",
   "execution_count": 11,
   "id": "76e6bc6b",
   "metadata": {},
   "outputs": [
    {
     "data": {
      "text/plain": [
       "array([[  7,  40,   6, ...,  52, 481,  83],\n",
       "       [ 25,  66,  19, ...,  99, 371,  81],\n",
       "       [ 15,  20,  12, ...,  79, 313,  39],\n",
       "       ...,\n",
       "       [  3,  12,  28, ...,  28,  20,  12],\n",
       "       [ 22,  40,  23, ...,  60, 524,  45],\n",
       "       [ 18,  78,  10, ..., 105, 311,  90]], dtype=int16)"
      ]
     },
     "execution_count": 11,
     "metadata": {},
     "output_type": "execute_result"
    }
   ],
   "source": [
    "landmarks"
   ]
  },
  {
   "cell_type": "code",
   "execution_count": 12,
   "id": "f18db19e",
   "metadata": {},
   "outputs": [],
   "source": [
    "LAND_FILENAME = 'data_landmarks_subset20k'\n",
    "np.savez(DATA_DIR + LAND_FILENAME, landmarks=landmarks)"
   ]
  },
  {
   "cell_type": "code",
   "execution_count": null,
   "id": "833ca453",
   "metadata": {},
   "outputs": [],
   "source": []
  }
 ],
 "metadata": {
  "kernelspec": {
   "display_name": "Python 3 (ipykernel)",
   "language": "python",
   "name": "python3"
  },
  "language_info": {
   "codemirror_mode": {
    "name": "ipython",
    "version": 3
   },
   "file_extension": ".py",
   "mimetype": "text/x-python",
   "name": "python",
   "nbconvert_exporter": "python",
   "pygments_lexer": "ipython3",
   "version": "3.9.6"
  }
 },
 "nbformat": 4,
 "nbformat_minor": 5
}
