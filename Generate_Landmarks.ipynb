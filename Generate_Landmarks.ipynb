{
 "cells": [
  {
   "cell_type": "markdown",
   "id": "546c4a63",
   "metadata": {},
   "source": [
    "# Generate Landmarks on Histopathology dataset LBP features"
   ]
  },
  {
   "cell_type": "code",
   "execution_count": 1,
   "id": "cbd5cad7",
   "metadata": {},
   "outputs": [],
   "source": [
    "from helper import *\n",
    "from random import randrange\n",
    "from skimage.feature import local_binary_pattern"
   ]
  },
  {
   "cell_type": "code",
   "execution_count": 2,
   "id": "4b28ce11",
   "metadata": {},
   "outputs": [],
   "source": [
    "SUBSET = '20k'\n",
    "DATA_DIR = 'data/'\n",
    "NUM_LANDMARKS = 64"
   ]
  },
  {
   "cell_type": "code",
   "execution_count": 3,
   "id": "12440601",
   "metadata": {},
   "outputs": [
    {
     "name": "stdout",
     "output_type": "stream",
     "text": [
      "((20000, 10), dtype('int16')) ((20000,), dtype('uint8'))\n",
      "((10000, 10), dtype('int16')) ((10000,), dtype('uint8'))\n"
     ]
    }
   ],
   "source": [
    "DATA_FILENAME = 'lbp_subset'\n",
    "(X_train, y_train), (_, _) = \\\n",
    "    load_npz(DATA_DIR + DATA_FILENAME + SUBSET + '.npz')"
   ]
  },
  {
   "cell_type": "code",
   "execution_count": 4,
   "id": "74931038",
   "metadata": {},
   "outputs": [],
   "source": [
    "# Avoid Divide-by-Zero in KLD\n",
    "X_train += 1"
   ]
  },
  {
   "cell_type": "code",
   "execution_count": 5,
   "id": "ccfe635c",
   "metadata": {},
   "outputs": [],
   "source": [
    "# Return smaller of either Kullback–Leibler Divergences\n",
    "def kld(p, q):\n",
    "    p_q = np.sum(p * np.log2(p/q))\n",
    "    q_p = np.sum(q * np.log2(q/p))\n",
    "    if p_q < 0 or q_p < 0:\n",
    "        print(p); print(q); print(sum)\n",
    "        raise Exception\n",
    "    return min(p_q, q_p)"
   ]
  },
  {
   "cell_type": "code",
   "execution_count": 6,
   "id": "d7881f3d",
   "metadata": {},
   "outputs": [],
   "source": [
    "# Reduce <X> to <target_size> by eliminating similar features,\n",
    "# using <distance> as a metric, via an iterative, stochastic\n",
    "# sampling of <num_subsamples> and eliminating <num_eliminate>\n",
    "# features at each iteration\n",
    "def reduce(X, target_size, num_subsample, num_eliminate, distance):\n",
    "    modulo = 200\n",
    "    while (len_X := len(X)) > target_size:\n",
    "        x1, x2 = (randrange(len_X), randrange(len_X))\n",
    "        distances = [(0, distance(X[x1], X[x2]))]\n",
    "        for _ in range(num_subsample):\n",
    "            x1, x2 = (randrange(len_X), randrange(len_X))\n",
    "            if x1 == x2: continue\n",
    "            dist = distance(X[x1], X[x2])\n",
    "            if dist < distances[-1][1]:\n",
    "                distances.append((x1, dist))\n",
    "        eliminate = [tup[0] for tup in distances[-num_eliminate:]]\n",
    "        X = np.delete(X, eliminate, axis=0)\n",
    "        modulo -= 1\n",
    "        if (modulo == 0):\n",
    "            print(len_X, end=' ')\n",
    "            modulo = 200\n",
    "    print()\n",
    "    return X"
   ]
  },
  {
   "cell_type": "markdown",
   "id": "871caf72",
   "metadata": {},
   "source": [
    "### Positive-and-Negative Landmarks"
   ]
  },
  {
   "cell_type": "code",
   "execution_count": 7,
   "id": "acb80e35",
   "metadata": {},
   "outputs": [
    {
     "name": "stdout",
     "output_type": "stream",
     "text": [
      "19026 18051 17074 16098 15115 14127 13154 12174 11183 10200 9216 8235 7243 6271 5293 4307 3329 2341 1351 \n",
      "309 109 \n"
     ]
    },
    {
     "data": {
      "text/plain": [
       "((64, 10), dtype('int16'))"
      ]
     },
     "execution_count": 7,
     "metadata": {},
     "output_type": "execute_result"
    }
   ],
   "source": [
    "landmarks = reduce(X_train, 512, 2000, 5, kld)\n",
    "landmarks = reduce(landmarks, NUM_LANDMARKS, 2000, 1, kld)\n",
    "landmarks.shape, landmarks.dtype"
   ]
  },
  {
   "cell_type": "code",
   "execution_count": 8,
   "id": "0ef6b03a",
   "metadata": {},
   "outputs": [
    {
     "data": {
      "text/plain": [
       "(1, 7977, 922.600)"
      ]
     },
     "execution_count": 8,
     "metadata": {},
     "output_type": "execute_result"
    }
   ],
   "source": [
    "landmarks.min(), landmarks.max(), landmarks.mean()"
   ]
  },
  {
   "cell_type": "code",
   "execution_count": 9,
   "id": "76e6bc6b",
   "metadata": {},
   "outputs": [
    {
     "data": {
      "text/plain": [
       "array([[  96,  283,  192,  964, 1884, 2028,  561,  548, 2269,  401],\n",
       "       [ 670,  584,  209,  342,  400,  941,  336,  653, 4010, 1081],\n",
       "       [  14,  100,   26,  324,  957, 3219,  173,  173, 4035,  205],\n",
       "       [  23,  218,   44,  616, 1075, 3698,  331,  401, 2423,  397],\n",
       "       [  45,  219,  133, 1058, 2830, 2767,  664,  467,  743,  300]],\n",
       "      dtype=int16)"
      ]
     },
     "execution_count": 9,
     "metadata": {},
     "output_type": "execute_result"
    }
   ],
   "source": [
    "landmarks[:5]"
   ]
  },
  {
   "cell_type": "markdown",
   "id": "3defe671",
   "metadata": {},
   "source": [
    "### Positive/Negative-Only Landmarks"
   ]
  },
  {
   "cell_type": "code",
   "execution_count": 10,
   "id": "09ae9345",
   "metadata": {},
   "outputs": [
    {
     "data": {
      "text/plain": [
       "(8055, 11945)"
      ]
     },
     "execution_count": 10,
     "metadata": {},
     "output_type": "execute_result"
    }
   ],
   "source": [
    "TRAIN_SAMPLES = len(X_train)\n",
    "train_pos = []\n",
    "train_neg = []\n",
    "for x, y in zip(X_train, y_train):\n",
    "    if y:\n",
    "        train_pos.append(x)\n",
    "    else:\n",
    "        train_neg.append(x)\n",
    "num_pos = len(train_pos)\n",
    "num_neg = len(train_neg)\n",
    "num_pos, num_neg"
   ]
  },
  {
   "cell_type": "code",
   "execution_count": 11,
   "id": "eb466859",
   "metadata": {},
   "outputs": [
    {
     "data": {
      "text/plain": [
       "(((8055, 10), dtype('int16')), ((11945, 10), dtype('int16')))"
      ]
     },
     "execution_count": 11,
     "metadata": {},
     "output_type": "execute_result"
    }
   ],
   "source": [
    "X_pos = np.array(train_pos)\n",
    "X_neg = np.array(train_neg)\n",
    "(X_pos.shape, X_pos.dtype), (X_neg.shape, X_neg.dtype)"
   ]
  },
  {
   "cell_type": "code",
   "execution_count": 12,
   "id": "e32cd420",
   "metadata": {},
   "outputs": [
    {
     "name": "stdout",
     "output_type": "stream",
     "text": [
      "7084 6115 5135 4151 3173 2197 1207 \n",
      "309 109 \n"
     ]
    },
    {
     "data": {
      "text/plain": [
       "((64, 10), dtype('int16'))"
      ]
     },
     "execution_count": 12,
     "metadata": {},
     "output_type": "execute_result"
    }
   ],
   "source": [
    "landmarks_pos = reduce(X_pos, 512, 2000, 5, kld)\n",
    "landmarks_pos = reduce(landmarks_pos, NUM_LANDMARKS, 2000, 1, kld)\n",
    "landmarks_pos.shape, landmarks_pos.dtype"
   ]
  },
  {
   "cell_type": "code",
   "execution_count": 13,
   "id": "a015f3b8",
   "metadata": {},
   "outputs": [
    {
     "data": {
      "text/plain": [
       "(1, 7217, 922.600)"
      ]
     },
     "execution_count": 13,
     "metadata": {},
     "output_type": "execute_result"
    }
   ],
   "source": [
    "landmarks_pos.min(), landmarks_pos.max(), landmarks_pos.mean()"
   ]
  },
  {
   "cell_type": "code",
   "execution_count": 14,
   "id": "38584785",
   "metadata": {},
   "outputs": [
    {
     "name": "stdout",
     "output_type": "stream",
     "text": [
      "10968 9991 9013 8027 7041 6053 5072 4087 3101 2119 1143 \n",
      "309 109 \n"
     ]
    },
    {
     "data": {
      "text/plain": [
       "((64, 10), dtype('int16'))"
      ]
     },
     "execution_count": 14,
     "metadata": {},
     "output_type": "execute_result"
    }
   ],
   "source": [
    "landmarks_neg = reduce(X_neg, 512, 2000, 5, kld)\n",
    "landmarks_neg = reduce(landmarks_neg, NUM_LANDMARKS, 2000, 1, kld)\n",
    "landmarks_neg.shape, landmarks_neg.dtype"
   ]
  },
  {
   "cell_type": "code",
   "execution_count": 15,
   "id": "13467684",
   "metadata": {},
   "outputs": [
    {
     "data": {
      "text/plain": [
       "(1, 7923, 922.600)"
      ]
     },
     "execution_count": 15,
     "metadata": {},
     "output_type": "execute_result"
    }
   ],
   "source": [
    "landmarks_neg.min(), landmarks_neg.max(), landmarks_neg.mean()"
   ]
  },
  {
   "cell_type": "code",
   "execution_count": 16,
   "id": "f18db19e",
   "metadata": {},
   "outputs": [],
   "source": [
    "LAND_FILENAME = 'landmarks_subset' + SUBSET\n",
    "np.savez(DATA_DIR + LAND_FILENAME,\n",
    "         both=landmarks, pos=landmarks_pos, neg=landmarks_neg)"
   ]
  },
  {
   "cell_type": "code",
   "execution_count": null,
   "id": "5939385d",
   "metadata": {},
   "outputs": [],
   "source": []
  }
 ],
 "metadata": {
  "kernelspec": {
   "display_name": "Python 3 (ipykernel)",
   "language": "python",
   "name": "python3"
  },
  "language_info": {
   "codemirror_mode": {
    "name": "ipython",
    "version": 3
   },
   "file_extension": ".py",
   "mimetype": "text/x-python",
   "name": "python",
   "nbconvert_exporter": "python",
   "pygments_lexer": "ipython3",
   "version": "3.9.10"
  }
 },
 "nbformat": 4,
 "nbformat_minor": 5
}
