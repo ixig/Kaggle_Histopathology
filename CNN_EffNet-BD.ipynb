{
 "cells": [
  {
   "cell_type": "code",
   "execution_count": 1,
   "id": "ffd2e3f9",
   "metadata": {},
   "outputs": [],
   "source": [
    "import os\n",
    "import tensorflow as tf\n",
    "import tensorflow_io as tfio\n",
    "from keras.applications.efficientnet import EfficientNetB0\n",
    "from keras.models import Model\n",
    "from tensorflow.keras.layers import *\n",
    "from tensorflow.keras.optimizers import SGD, Adam\n",
    "from keras.losses import BinaryCrossentropy"
   ]
  },
  {
   "cell_type": "code",
   "execution_count": 2,
   "id": "554c5265",
   "metadata": {},
   "outputs": [
    {
     "data": {
      "text/plain": [
       "[PhysicalDevice(name='/physical_device:GPU:0', device_type='GPU')]"
      ]
     },
     "execution_count": 2,
     "metadata": {},
     "output_type": "execute_result"
    }
   ],
   "source": [
    "os.environ['TF_CPP_MIN_LOG_LEVEL'] = '3'\n",
    "os.environ[\"CUDA_VISIBLE_DEVICES\"] = '1'\n",
    "tf.config.list_physical_devices('GPU')"
   ]
  },
  {
   "cell_type": "code",
   "execution_count": 3,
   "id": "d028028b",
   "metadata": {},
   "outputs": [],
   "source": [
    "DATA_DIR = 'data'\n",
    "HDF5_FILE = 'data_tf.hdf5'"
   ]
  },
  {
   "cell_type": "code",
   "execution_count": 4,
   "id": "ce1e8bdc",
   "metadata": {},
   "outputs": [],
   "source": [
    "BATCH_SIZE = 64\n",
    "IMG_SHAPE = (96, 96, 4)"
   ]
  },
  {
   "cell_type": "code",
   "execution_count": 5,
   "id": "d2bc132e",
   "metadata": {},
   "outputs": [],
   "source": [
    "data_file = os.path.join(DATA_DIR, HDF5_FILE)\n",
    "ds_x = tfio.IODataset.from_hdf5(data_file, '/x_train')\n",
    "ds_y = tfio.IODataset.from_hdf5(data_file, '/y_train')"
   ]
  },
  {
   "cell_type": "code",
   "execution_count": 6,
   "id": "33c5be02",
   "metadata": {},
   "outputs": [],
   "source": [
    "# convert to float and scale to [0, 1)\n",
    "ds_x = ds_x.map(lambda x: tf.image.convert_image_dtype(x, tf.float32))\n",
    "# ds_x = ds_images.map(lambda x: tf.image.per_image_standardization(x))"
   ]
  },
  {
   "cell_type": "code",
   "execution_count": 7,
   "id": "819b1ab7",
   "metadata": {},
   "outputs": [
    {
     "data": {
      "text/plain": [
       "(220025, 198022)"
      ]
     },
     "execution_count": 7,
     "metadata": {},
     "output_type": "execute_result"
    }
   ],
   "source": [
    "ds_xy = tf.data.Dataset.zip((ds_x, ds_y))\n",
    "ds_xy = ds_xy.shuffle(BATCH_SIZE*2)\n",
    "\n",
    "ds_len = ds_xy.reduce(0, lambda x, _: x + 1).numpy()\n",
    "train_len = int(0.9 * ds_len)\n",
    "\n",
    "ds_train = ds_xy.take(train_len)\n",
    "ds_test = ds_xy.skip(train_len)\n",
    "\n",
    "ds_len, train_len"
   ]
  },
  {
   "cell_type": "raw",
   "id": "4b1cd92e",
   "metadata": {},
   "source": [
    "model = Sequential([\n",
    "    Conv2D(32, (3, 3), activation='relu', input_shape=IMG_SHAPE),\n",
    "    Flatten(),\n",
    "    Dropout(0.35),\n",
    "    Dense(1, activation='sigmoid')\n",
    "])"
   ]
  },
  {
   "cell_type": "code",
   "execution_count": 8,
   "id": "ca6c116c",
   "metadata": {},
   "outputs": [],
   "source": [
    "inputs = Input(shape=IMG_SHAPE)\n",
    "model = EfficientNetB0(include_top=False, input_tensor=inputs, weights=None)\n",
    "model.trainable = True\n",
    "x = GlobalAveragePooling2D()(model.output)\n",
    "x = BatchNormalization()(x)\n",
    "x = Dropout(0.4)(x)\n",
    "outputs = Dense(1, activation='sigmoid')(x)\n",
    "model = Model(inputs, outputs)\n",
    "\n",
    "# model.summary()"
   ]
  },
  {
   "cell_type": "code",
   "execution_count": 9,
   "id": "14a917e8",
   "metadata": {},
   "outputs": [
    {
     "name": "stdout",
     "output_type": "stream",
     "text": [
      "Epoch 1/10\n",
      "3095/3095 - 406s - loss: 0.3864 - accuracy: 0.8375 - val_loss: 0.6389 - val_accuracy: 0.7822\n",
      "Epoch 2/10\n",
      "3095/3095 - 391s - loss: 0.3719 - accuracy: 0.8416 - val_loss: 0.3453 - val_accuracy: 0.8616\n",
      "Epoch 3/10\n",
      "3095/3095 - 388s - loss: 0.2975 - accuracy: 0.8794 - val_loss: 0.3615 - val_accuracy: 0.8580\n",
      "Epoch 4/10\n",
      "3095/3095 - 389s - loss: 0.3018 - accuracy: 0.8809 - val_loss: 0.2988 - val_accuracy: 0.8810\n",
      "Epoch 5/10\n",
      "3095/3095 - 389s - loss: 0.2606 - accuracy: 0.8962 - val_loss: 0.2292 - val_accuracy: 0.9109\n",
      "Epoch 6/10\n",
      "3095/3095 - 389s - loss: 0.2595 - accuracy: 0.8982 - val_loss: 0.3150 - val_accuracy: 0.8682\n",
      "Epoch 7/10\n",
      "3095/3095 - 388s - loss: 0.2447 - accuracy: 0.9031 - val_loss: 0.3805 - val_accuracy: 0.8415\n",
      "Epoch 8/10\n",
      "3095/3095 - 389s - loss: 0.2363 - accuracy: 0.9084 - val_loss: 0.6090 - val_accuracy: 0.7898\n",
      "Epoch 9/10\n",
      "3095/3095 - 388s - loss: 0.2563 - accuracy: 0.8999 - val_loss: 0.2472 - val_accuracy: 0.8994\n",
      "Epoch 10/10\n",
      "3095/3095 - 388s - loss: 0.2184 - accuracy: 0.9148 - val_loss: 0.7203 - val_accuracy: 0.7649\n"
     ]
    }
   ],
   "source": [
    "ds_train = ds_train.batch(BATCH_SIZE).prefetch(tf.data.AUTOTUNE)\n",
    "ds_test = ds_test.batch(BATCH_SIZE).prefetch(tf.data.AUTOTUNE)\n",
    "\n",
    "model.compile(loss=BinaryCrossentropy(from_logits=False),\n",
    "              optimizer=Adam(learning_rate=1e-3),\n",
    "              metrics=['accuracy'])\n",
    "\n",
    "history = model.fit(ds_train,\n",
    "                    epochs=10,\n",
    "                    verbose=2, \n",
    "                    validation_data=ds_test\n",
    "                   )"
   ]
  },
  {
   "cell_type": "code",
   "execution_count": 10,
   "id": "968da4a2",
   "metadata": {},
   "outputs": [
    {
     "name": "stdout",
     "output_type": "stream",
     "text": [
      "Epoch 1/10\n",
      "1548/1548 - 377s - loss: 0.2011 - accuracy: 0.9228 - val_loss: 0.1824 - val_accuracy: 0.9291\n",
      "Epoch 2/10\n",
      "1548/1548 - 370s - loss: 0.1775 - accuracy: 0.9326 - val_loss: 0.1741 - val_accuracy: 0.9341\n",
      "Epoch 3/10\n",
      "1548/1548 - 370s - loss: 0.1681 - accuracy: 0.9365 - val_loss: 0.1637 - val_accuracy: 0.9390\n",
      "Epoch 4/10\n",
      "1548/1548 - 372s - loss: 0.1608 - accuracy: 0.9392 - val_loss: 0.1678 - val_accuracy: 0.9361\n",
      "Epoch 5/10\n",
      "1548/1548 - 362s - loss: 0.1553 - accuracy: 0.9417 - val_loss: 0.1806 - val_accuracy: 0.9297\n",
      "Epoch 6/10\n",
      "1548/1548 - 373s - loss: 0.1482 - accuracy: 0.9440 - val_loss: 0.1781 - val_accuracy: 0.9316\n",
      "Epoch 7/10\n",
      "1548/1548 - 373s - loss: 0.1433 - accuracy: 0.9461 - val_loss: 0.1703 - val_accuracy: 0.9355\n",
      "Epoch 8/10\n",
      "1548/1548 - 373s - loss: 0.1392 - accuracy: 0.9485 - val_loss: 0.2069 - val_accuracy: 0.9186\n",
      "Epoch 9/10\n",
      "1548/1548 - 373s - loss: 0.1387 - accuracy: 0.9481 - val_loss: 0.1510 - val_accuracy: 0.9432\n",
      "Epoch 10/10\n",
      "1548/1548 - 373s - loss: 0.1303 - accuracy: 0.9517 - val_loss: 0.1494 - val_accuracy: 0.9447\n"
     ]
    }
   ],
   "source": [
    "ds_train = ds_train.unbatch()\n",
    "ds_test = ds_test.unbatch()\n",
    "ds_train = ds_train.batch(128).prefetch(tf.data.AUTOTUNE)\n",
    "ds_test = ds_test.batch(128).prefetch(tf.data.AUTOTUNE)\n",
    "\n",
    "model.compile(loss=BinaryCrossentropy(from_logits=False),\n",
    "              optimizer=Adam(learning_rate=2e-4),\n",
    "              metrics=['accuracy'])\n",
    "\n",
    "history = model.fit(ds_train,\n",
    "                    epochs=10,\n",
    "                    verbose=2, \n",
    "                    validation_data=ds_test\n",
    "                   )"
   ]
  },
  {
   "cell_type": "code",
   "execution_count": 11,
   "id": "3cde878e",
   "metadata": {},
   "outputs": [
    {
     "name": "stdout",
     "output_type": "stream",
     "text": [
      "Epoch 1/10\n",
      "774/774 - 366s - loss: 0.1208 - accuracy: 0.9559 - val_loss: 0.1352 - val_accuracy: 0.9496\n",
      "Epoch 2/10\n",
      "774/774 - 356s - loss: 0.1192 - accuracy: 0.9559 - val_loss: 0.1944 - val_accuracy: 0.9279\n",
      "Epoch 3/10\n",
      "774/774 - 356s - loss: 0.1180 - accuracy: 0.9562 - val_loss: 0.1338 - val_accuracy: 0.9505\n",
      "Epoch 4/10\n",
      "774/774 - 353s - loss: 0.1161 - accuracy: 0.9572 - val_loss: 0.1337 - val_accuracy: 0.9503\n",
      "Epoch 5/10\n",
      "774/774 - 354s - loss: 0.1154 - accuracy: 0.9572 - val_loss: 0.1319 - val_accuracy: 0.9516\n",
      "Epoch 6/10\n",
      "774/774 - 357s - loss: 0.1139 - accuracy: 0.9583 - val_loss: 0.1323 - val_accuracy: 0.9507\n",
      "Epoch 7/10\n",
      "774/774 - 346s - loss: 0.1131 - accuracy: 0.9585 - val_loss: 0.1341 - val_accuracy: 0.9505\n",
      "Epoch 8/10\n",
      "774/774 - 345s - loss: 0.1114 - accuracy: 0.9594 - val_loss: 0.1319 - val_accuracy: 0.9517\n",
      "Epoch 9/10\n",
      "774/774 - 345s - loss: 0.1106 - accuracy: 0.9597 - val_loss: 0.1315 - val_accuracy: 0.9519\n",
      "Epoch 10/10\n",
      "774/774 - 345s - loss: 0.1095 - accuracy: 0.9601 - val_loss: 0.1330 - val_accuracy: 0.9511\n"
     ]
    }
   ],
   "source": [
    "ds_train = ds_train.unbatch()\n",
    "ds_test = ds_test.unbatch()\n",
    "ds_train = ds_train.batch(256).prefetch(tf.data.AUTOTUNE)\n",
    "ds_test = ds_test.batch(256).prefetch(tf.data.AUTOTUNE)\n",
    "\n",
    "model.compile(loss=BinaryCrossentropy(from_logits=False),\n",
    "              optimizer=Adam(learning_rate=5e-5),\n",
    "              metrics=['accuracy'])\n",
    "\n",
    "history = model.fit(ds_train,\n",
    "                    epochs=10,\n",
    "                    verbose=2, \n",
    "                    validation_data=ds_test\n",
    "                   )"
   ]
  },
  {
   "cell_type": "code",
   "execution_count": 12,
   "id": "0a2884f0",
   "metadata": {},
   "outputs": [
    {
     "name": "stdout",
     "output_type": "stream",
     "text": [
      "Epoch 1/10\n"
     ]
    },
    {
     "ename": "ResourceExhaustedError",
     "evalue": " OOM when allocating tensor with shape[512,672,6,6] and type float on /job:localhost/replica:0/task:0/device:GPU:0 by allocator GPU_0_bfc\n\t [[node model/block5b_expand_activation/Sigmoid (defined at tmp/ipykernel_7184/1563839495.py:10) ]]\nHint: If you want to see a list of allocated tensors when OOM happens, add report_tensor_allocations_upon_oom to RunOptions for current allocation info. This isn't available when running in Eager mode.\n [Op:__inference_train_function_178391]\n\nFunction call stack:\ntrain_function\n",
     "output_type": "error",
     "traceback": [
      "\u001b[0;31m---------------------------------------------------------------------------\u001b[0m",
      "\u001b[0;31mResourceExhaustedError\u001b[0m                    Traceback (most recent call last)",
      "\u001b[0;32m/tmp/ipykernel_7184/1563839495.py\u001b[0m in \u001b[0;36m<module>\u001b[0;34m\u001b[0m\n\u001b[1;32m      8\u001b[0m               metrics=['accuracy'])\n\u001b[1;32m      9\u001b[0m \u001b[0;34m\u001b[0m\u001b[0m\n\u001b[0;32m---> 10\u001b[0;31m history = model.fit(ds_train,\n\u001b[0m\u001b[1;32m     11\u001b[0m                     \u001b[0mepochs\u001b[0m\u001b[0;34m=\u001b[0m\u001b[0;36m10\u001b[0m\u001b[0;34m,\u001b[0m\u001b[0;34m\u001b[0m\u001b[0;34m\u001b[0m\u001b[0m\n\u001b[1;32m     12\u001b[0m                     \u001b[0mverbose\u001b[0m\u001b[0;34m=\u001b[0m\u001b[0;36m2\u001b[0m\u001b[0;34m,\u001b[0m\u001b[0;34m\u001b[0m\u001b[0;34m\u001b[0m\u001b[0m\n",
      "\u001b[0;32m~/.local/lib/python3.8/site-packages/keras/engine/training.py\u001b[0m in \u001b[0;36mfit\u001b[0;34m(self, x, y, batch_size, epochs, verbose, callbacks, validation_split, validation_data, shuffle, class_weight, sample_weight, initial_epoch, steps_per_epoch, validation_steps, validation_batch_size, validation_freq, max_queue_size, workers, use_multiprocessing)\u001b[0m\n\u001b[1;32m   1182\u001b[0m                 _r=1):\n\u001b[1;32m   1183\u001b[0m               \u001b[0mcallbacks\u001b[0m\u001b[0;34m.\u001b[0m\u001b[0mon_train_batch_begin\u001b[0m\u001b[0;34m(\u001b[0m\u001b[0mstep\u001b[0m\u001b[0;34m)\u001b[0m\u001b[0;34m\u001b[0m\u001b[0;34m\u001b[0m\u001b[0m\n\u001b[0;32m-> 1184\u001b[0;31m               \u001b[0mtmp_logs\u001b[0m \u001b[0;34m=\u001b[0m \u001b[0mself\u001b[0m\u001b[0;34m.\u001b[0m\u001b[0mtrain_function\u001b[0m\u001b[0;34m(\u001b[0m\u001b[0miterator\u001b[0m\u001b[0;34m)\u001b[0m\u001b[0;34m\u001b[0m\u001b[0;34m\u001b[0m\u001b[0m\n\u001b[0m\u001b[1;32m   1185\u001b[0m               \u001b[0;32mif\u001b[0m \u001b[0mdata_handler\u001b[0m\u001b[0;34m.\u001b[0m\u001b[0mshould_sync\u001b[0m\u001b[0;34m:\u001b[0m\u001b[0;34m\u001b[0m\u001b[0;34m\u001b[0m\u001b[0m\n\u001b[1;32m   1186\u001b[0m                 \u001b[0mcontext\u001b[0m\u001b[0;34m.\u001b[0m\u001b[0masync_wait\u001b[0m\u001b[0;34m(\u001b[0m\u001b[0;34m)\u001b[0m\u001b[0;34m\u001b[0m\u001b[0;34m\u001b[0m\u001b[0m\n",
      "\u001b[0;32m~/.local/lib/python3.8/site-packages/tensorflow/python/eager/def_function.py\u001b[0m in \u001b[0;36m__call__\u001b[0;34m(self, *args, **kwds)\u001b[0m\n\u001b[1;32m    883\u001b[0m \u001b[0;34m\u001b[0m\u001b[0m\n\u001b[1;32m    884\u001b[0m       \u001b[0;32mwith\u001b[0m \u001b[0mOptionalXlaContext\u001b[0m\u001b[0;34m(\u001b[0m\u001b[0mself\u001b[0m\u001b[0;34m.\u001b[0m\u001b[0m_jit_compile\u001b[0m\u001b[0;34m)\u001b[0m\u001b[0;34m:\u001b[0m\u001b[0;34m\u001b[0m\u001b[0;34m\u001b[0m\u001b[0m\n\u001b[0;32m--> 885\u001b[0;31m         \u001b[0mresult\u001b[0m \u001b[0;34m=\u001b[0m \u001b[0mself\u001b[0m\u001b[0;34m.\u001b[0m\u001b[0m_call\u001b[0m\u001b[0;34m(\u001b[0m\u001b[0;34m*\u001b[0m\u001b[0margs\u001b[0m\u001b[0;34m,\u001b[0m \u001b[0;34m**\u001b[0m\u001b[0mkwds\u001b[0m\u001b[0;34m)\u001b[0m\u001b[0;34m\u001b[0m\u001b[0;34m\u001b[0m\u001b[0m\n\u001b[0m\u001b[1;32m    886\u001b[0m \u001b[0;34m\u001b[0m\u001b[0m\n\u001b[1;32m    887\u001b[0m       \u001b[0mnew_tracing_count\u001b[0m \u001b[0;34m=\u001b[0m \u001b[0mself\u001b[0m\u001b[0;34m.\u001b[0m\u001b[0mexperimental_get_tracing_count\u001b[0m\u001b[0;34m(\u001b[0m\u001b[0;34m)\u001b[0m\u001b[0;34m\u001b[0m\u001b[0;34m\u001b[0m\u001b[0m\n",
      "\u001b[0;32m~/.local/lib/python3.8/site-packages/tensorflow/python/eager/def_function.py\u001b[0m in \u001b[0;36m_call\u001b[0;34m(self, *args, **kwds)\u001b[0m\n\u001b[1;32m    948\u001b[0m         \u001b[0;31m# Lifting succeeded, so variables are initialized and we can run the\u001b[0m\u001b[0;34m\u001b[0m\u001b[0;34m\u001b[0m\u001b[0;34m\u001b[0m\u001b[0m\n\u001b[1;32m    949\u001b[0m         \u001b[0;31m# stateless function.\u001b[0m\u001b[0;34m\u001b[0m\u001b[0;34m\u001b[0m\u001b[0;34m\u001b[0m\u001b[0m\n\u001b[0;32m--> 950\u001b[0;31m         \u001b[0;32mreturn\u001b[0m \u001b[0mself\u001b[0m\u001b[0;34m.\u001b[0m\u001b[0m_stateless_fn\u001b[0m\u001b[0;34m(\u001b[0m\u001b[0;34m*\u001b[0m\u001b[0margs\u001b[0m\u001b[0;34m,\u001b[0m \u001b[0;34m**\u001b[0m\u001b[0mkwds\u001b[0m\u001b[0;34m)\u001b[0m\u001b[0;34m\u001b[0m\u001b[0;34m\u001b[0m\u001b[0m\n\u001b[0m\u001b[1;32m    951\u001b[0m     \u001b[0;32melse\u001b[0m\u001b[0;34m:\u001b[0m\u001b[0;34m\u001b[0m\u001b[0;34m\u001b[0m\u001b[0m\n\u001b[1;32m    952\u001b[0m       \u001b[0m_\u001b[0m\u001b[0;34m,\u001b[0m \u001b[0m_\u001b[0m\u001b[0;34m,\u001b[0m \u001b[0m_\u001b[0m\u001b[0;34m,\u001b[0m \u001b[0mfiltered_flat_args\u001b[0m \u001b[0;34m=\u001b[0m\u001b[0;31m \u001b[0m\u001b[0;31m\\\u001b[0m\u001b[0;34m\u001b[0m\u001b[0;34m\u001b[0m\u001b[0m\n",
      "\u001b[0;32m~/.local/lib/python3.8/site-packages/tensorflow/python/eager/function.py\u001b[0m in \u001b[0;36m__call__\u001b[0;34m(self, *args, **kwargs)\u001b[0m\n\u001b[1;32m   3037\u001b[0m       (graph_function,\n\u001b[1;32m   3038\u001b[0m        filtered_flat_args) = self._maybe_define_function(args, kwargs)\n\u001b[0;32m-> 3039\u001b[0;31m     return graph_function._call_flat(\n\u001b[0m\u001b[1;32m   3040\u001b[0m         filtered_flat_args, captured_inputs=graph_function.captured_inputs)  # pylint: disable=protected-access\n\u001b[1;32m   3041\u001b[0m \u001b[0;34m\u001b[0m\u001b[0m\n",
      "\u001b[0;32m~/.local/lib/python3.8/site-packages/tensorflow/python/eager/function.py\u001b[0m in \u001b[0;36m_call_flat\u001b[0;34m(self, args, captured_inputs, cancellation_manager)\u001b[0m\n\u001b[1;32m   1961\u001b[0m         and executing_eagerly):\n\u001b[1;32m   1962\u001b[0m       \u001b[0;31m# No tape is watching; skip to running the function.\u001b[0m\u001b[0;34m\u001b[0m\u001b[0;34m\u001b[0m\u001b[0;34m\u001b[0m\u001b[0m\n\u001b[0;32m-> 1963\u001b[0;31m       return self._build_call_outputs(self._inference_function.call(\n\u001b[0m\u001b[1;32m   1964\u001b[0m           ctx, args, cancellation_manager=cancellation_manager))\n\u001b[1;32m   1965\u001b[0m     forward_backward = self._select_forward_and_backward_functions(\n",
      "\u001b[0;32m~/.local/lib/python3.8/site-packages/tensorflow/python/eager/function.py\u001b[0m in \u001b[0;36mcall\u001b[0;34m(self, ctx, args, cancellation_manager)\u001b[0m\n\u001b[1;32m    589\u001b[0m       \u001b[0;32mwith\u001b[0m \u001b[0m_InterpolateFunctionError\u001b[0m\u001b[0;34m(\u001b[0m\u001b[0mself\u001b[0m\u001b[0;34m)\u001b[0m\u001b[0;34m:\u001b[0m\u001b[0;34m\u001b[0m\u001b[0;34m\u001b[0m\u001b[0m\n\u001b[1;32m    590\u001b[0m         \u001b[0;32mif\u001b[0m \u001b[0mcancellation_manager\u001b[0m \u001b[0;32mis\u001b[0m \u001b[0;32mNone\u001b[0m\u001b[0;34m:\u001b[0m\u001b[0;34m\u001b[0m\u001b[0;34m\u001b[0m\u001b[0m\n\u001b[0;32m--> 591\u001b[0;31m           outputs = execute.execute(\n\u001b[0m\u001b[1;32m    592\u001b[0m               \u001b[0mstr\u001b[0m\u001b[0;34m(\u001b[0m\u001b[0mself\u001b[0m\u001b[0;34m.\u001b[0m\u001b[0msignature\u001b[0m\u001b[0;34m.\u001b[0m\u001b[0mname\u001b[0m\u001b[0;34m)\u001b[0m\u001b[0;34m,\u001b[0m\u001b[0;34m\u001b[0m\u001b[0;34m\u001b[0m\u001b[0m\n\u001b[1;32m    593\u001b[0m               \u001b[0mnum_outputs\u001b[0m\u001b[0;34m=\u001b[0m\u001b[0mself\u001b[0m\u001b[0;34m.\u001b[0m\u001b[0m_num_outputs\u001b[0m\u001b[0;34m,\u001b[0m\u001b[0;34m\u001b[0m\u001b[0;34m\u001b[0m\u001b[0m\n",
      "\u001b[0;32m~/.local/lib/python3.8/site-packages/tensorflow/python/eager/execute.py\u001b[0m in \u001b[0;36mquick_execute\u001b[0;34m(op_name, num_outputs, inputs, attrs, ctx, name)\u001b[0m\n\u001b[1;32m     57\u001b[0m   \u001b[0;32mtry\u001b[0m\u001b[0;34m:\u001b[0m\u001b[0;34m\u001b[0m\u001b[0;34m\u001b[0m\u001b[0m\n\u001b[1;32m     58\u001b[0m     \u001b[0mctx\u001b[0m\u001b[0;34m.\u001b[0m\u001b[0mensure_initialized\u001b[0m\u001b[0;34m(\u001b[0m\u001b[0;34m)\u001b[0m\u001b[0;34m\u001b[0m\u001b[0;34m\u001b[0m\u001b[0m\n\u001b[0;32m---> 59\u001b[0;31m     tensors = pywrap_tfe.TFE_Py_Execute(ctx._handle, device_name, op_name,\n\u001b[0m\u001b[1;32m     60\u001b[0m                                         inputs, attrs, num_outputs)\n\u001b[1;32m     61\u001b[0m   \u001b[0;32mexcept\u001b[0m \u001b[0mcore\u001b[0m\u001b[0;34m.\u001b[0m\u001b[0m_NotOkStatusException\u001b[0m \u001b[0;32mas\u001b[0m \u001b[0me\u001b[0m\u001b[0;34m:\u001b[0m\u001b[0;34m\u001b[0m\u001b[0;34m\u001b[0m\u001b[0m\n",
      "\u001b[0;31mResourceExhaustedError\u001b[0m:  OOM when allocating tensor with shape[512,672,6,6] and type float on /job:localhost/replica:0/task:0/device:GPU:0 by allocator GPU_0_bfc\n\t [[node model/block5b_expand_activation/Sigmoid (defined at tmp/ipykernel_7184/1563839495.py:10) ]]\nHint: If you want to see a list of allocated tensors when OOM happens, add report_tensor_allocations_upon_oom to RunOptions for current allocation info. This isn't available when running in Eager mode.\n [Op:__inference_train_function_178391]\n\nFunction call stack:\ntrain_function\n"
     ]
    }
   ],
   "source": [
    "ds_train = ds_train.unbatch()\n",
    "ds_test = ds_test.unbatch()\n",
    "ds_train = ds_train.batch(512).prefetch(tf.data.AUTOTUNE)\n",
    "ds_test = ds_test.batch(512).prefetch(tf.data.AUTOTUNE)\n",
    "\n",
    "model.compile(loss=BinaryCrossentropy(from_logits=False),\n",
    "              optimizer=Adam(learning_rate=1e-5),\n",
    "              metrics=['accuracy'])\n",
    "\n",
    "history = model.fit(ds_train,\n",
    "                    epochs=10,\n",
    "                    verbose=2, \n",
    "                    validation_data=ds_test\n",
    "                   )"
   ]
  },
  {
   "cell_type": "code",
   "execution_count": null,
   "id": "f6678e50",
   "metadata": {},
   "outputs": [],
   "source": []
  }
 ],
 "metadata": {
  "kernelspec": {
   "display_name": "Python 3 (ipykernel)",
   "language": "python",
   "name": "python3"
  },
  "language_info": {
   "codemirror_mode": {
    "name": "ipython",
    "version": 3
   },
   "file_extension": ".py",
   "mimetype": "text/x-python",
   "name": "python",
   "nbconvert_exporter": "python",
   "pygments_lexer": "ipython3",
   "version": "3.8.10"
  }
 },
 "nbformat": 4,
 "nbformat_minor": 5
}
