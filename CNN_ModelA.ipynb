{
 "cells": [
  {
   "cell_type": "markdown",
   "id": "1b2fa0e1",
   "metadata": {},
   "source": [
    "# Sequential CNN with Increasing # Conv2D filters"
   ]
  },
  {
   "cell_type": "code",
   "execution_count": 1,
   "id": "eb9693b9",
   "metadata": {},
   "outputs": [],
   "source": [
    "from helper import *"
   ]
  },
  {
   "cell_type": "code",
   "execution_count": 2,
   "id": "b06c6c10",
   "metadata": {},
   "outputs": [],
   "source": [
    "SUBSET = '20k'\n",
    "DATA_DIR = 'data/'"
   ]
  },
  {
   "cell_type": "code",
   "execution_count": 3,
   "id": "273c6b12",
   "metadata": {},
   "outputs": [
    {
     "name": "stdout",
     "output_type": "stream",
     "text": [
      "((20000, 9216), dtype('uint8')) ((20000,), dtype('uint8'))\n",
      "((10000, 9216), dtype('uint8')) ((10000,), dtype('uint8'))\n"
     ]
    }
   ],
   "source": [
    "DATA_FILENAME = '1d_subset'\n",
    "(X_train, y_train), (X_test, y_test) = \\\n",
    "    load_npz(DATA_DIR + DATA_FILENAME + SUBSET + '.npz')"
   ]
  },
  {
   "cell_type": "code",
   "execution_count": 4,
   "id": "5f27e7da",
   "metadata": {},
   "outputs": [],
   "source": [
    "X_train = X_train.astype('float32')\n",
    "X_test = X_test.astype('float32')"
   ]
  },
  {
   "cell_type": "code",
   "execution_count": 5,
   "id": "2313ebd9",
   "metadata": {},
   "outputs": [],
   "source": [
    "X_train = X_train / 255.0 - 0.5\n",
    "X_test = X_test / 255.0 - 0.5"
   ]
  },
  {
   "cell_type": "code",
   "execution_count": 6,
   "id": "ff32416a",
   "metadata": {},
   "outputs": [],
   "source": [
    "X_train = X_train.reshape(-1, 96, 96)\n",
    "X_test = X_test.reshape(-1, 96, 96)"
   ]
  },
  {
   "cell_type": "code",
   "execution_count": 7,
   "id": "841df222",
   "metadata": {},
   "outputs": [
    {
     "data": {
      "text/plain": [
       "((20000, 96, 96, 1), (10000, 96, 96, 1), (20000,), (10000,))"
      ]
     },
     "execution_count": 7,
     "metadata": {},
     "output_type": "execute_result"
    }
   ],
   "source": [
    "X_train = np.expand_dims(X_train, axis=-1)\n",
    "X_test = np.expand_dims(X_test, axis=-1)\n",
    "# y_train = y_train.reshape(-1, 1)\n",
    "# y_test = y_test.reshape(-1, 1)\n",
    "X_train.shape, X_test.shape, y_train.shape, y_test.shape"
   ]
  },
  {
   "cell_type": "code",
   "execution_count": 8,
   "id": "c8ad450f",
   "metadata": {},
   "outputs": [],
   "source": [
    "import tensorflow as tf\n",
    "from tensorflow import keras\n",
    "from keras.models import Sequential\n",
    "from keras.losses import BinaryCrossentropy\n",
    "from keras.regularizers import l2\n",
    "from keras.layers import *\n",
    "from tensorflow.keras.optimizers import SGD, Adam\n",
    "import os"
   ]
  },
  {
   "cell_type": "code",
   "execution_count": 9,
   "id": "bd718c84",
   "metadata": {},
   "outputs": [
    {
     "data": {
      "text/plain": [
       "[PhysicalDevice(name='/physical_device:GPU:0', device_type='GPU')]"
      ]
     },
     "execution_count": 9,
     "metadata": {},
     "output_type": "execute_result"
    }
   ],
   "source": [
    "os.environ['TF_CPP_MIN_LOG_LEVEL'] = '3'\n",
    "os.environ[\"CUDA_VISIBLE_DEVICES\"] = '0'\n",
    "tf.config.list_physical_devices('GPU')"
   ]
  },
  {
   "cell_type": "code",
   "execution_count": 10,
   "id": "e05a8b27",
   "metadata": {},
   "outputs": [],
   "source": [
    "model = Sequential()\n",
    "\n",
    "model.add(Conv2D(32, (3, 3), activation='relu', kernel_regularizer=l2(1e-4))) #, input_shape=(X_train.shape[1:])))\n",
    "model.add(BatchNormalization())\n",
    "model.add(Conv2D(32, (3, 3), activation='relu', kernel_regularizer=l2(1e-4)))\n",
    "model.add(BatchNormalization())\n",
    "model.add(MaxPooling2D(pool_size=(2, 2)))\n",
    "model.add(Dropout(0.2))\n",
    "\n",
    "model.add(Conv2D(64, (3, 3), padding='same', activation='relu', kernel_regularizer=l2(2e-4)))\n",
    "model.add(BatchNormalization())\n",
    "model.add(Conv2D(64, (3, 3), padding='same', activation='relu', kernel_regularizer=l2(2e-4)))\n",
    "model.add(BatchNormalization())\n",
    "model.add(AveragePooling2D (pool_size=(2, 2)))\n",
    "model.add(Dropout(0.35))\n",
    "\n",
    "model.add(Conv2D(128, (3, 3), padding='same', activation='relu', kernel_regularizer=l2(3e-4)))\n",
    "model.add(BatchNormalization())\n",
    "model.add(Conv2D(128, (3, 3), padding='same', activation='relu', kernel_regularizer=l2(3e-4)))\n",
    "model.add(BatchNormalization())\n",
    "model.add(AveragePooling2D (pool_size=(2, 2)))\n",
    "model.add(Dropout(0.45))\n",
    "\n",
    "model.add(Flatten())\n",
    "model.add(Dense(1, activation='sigmoid'))\n",
    "\n",
    "# model.summary()"
   ]
  },
  {
   "cell_type": "code",
   "execution_count": 11,
   "id": "856983b5",
   "metadata": {
    "scrolled": false
   },
   "outputs": [
    {
     "name": "stdout",
     "output_type": "stream",
     "text": [
      "Epoch 1/15\n",
      "313/313 - 19s - loss: 0.7489 - accuracy: 0.7443 - val_loss: 1.0749 - val_accuracy: 0.5860\n",
      "Epoch 2/15\n",
      "313/313 - 16s - loss: 0.6744 - accuracy: 0.7710 - val_loss: 0.6579 - val_accuracy: 0.7264\n",
      "Epoch 3/15\n",
      "313/313 - 16s - loss: 0.6014 - accuracy: 0.7859 - val_loss: 0.6058 - val_accuracy: 0.7611\n",
      "Epoch 4/15\n",
      "313/313 - 17s - loss: 0.5609 - accuracy: 0.8059 - val_loss: 0.5482 - val_accuracy: 0.8059\n",
      "Epoch 5/15\n",
      "313/313 - 17s - loss: 0.5119 - accuracy: 0.8178 - val_loss: 0.5165 - val_accuracy: 0.8108\n",
      "Epoch 6/15\n",
      "313/313 - 17s - loss: 0.4754 - accuracy: 0.8329 - val_loss: 0.5263 - val_accuracy: 0.8151\n",
      "Epoch 7/15\n",
      "313/313 - 17s - loss: 0.4496 - accuracy: 0.8429 - val_loss: 0.7230 - val_accuracy: 0.7566\n",
      "Epoch 8/15\n",
      "313/313 - 17s - loss: 0.4327 - accuracy: 0.8517 - val_loss: 0.5201 - val_accuracy: 0.8033\n",
      "Epoch 9/15\n",
      "313/313 - 16s - loss: 0.4010 - accuracy: 0.8686 - val_loss: 0.4884 - val_accuracy: 0.8405\n",
      "Epoch 10/15\n",
      "313/313 - 16s - loss: 0.3858 - accuracy: 0.8732 - val_loss: 0.5908 - val_accuracy: 0.7909\n",
      "Epoch 11/15\n",
      "313/313 - 17s - loss: 0.3665 - accuracy: 0.8866 - val_loss: 0.4495 - val_accuracy: 0.8603\n",
      "Epoch 12/15\n",
      "313/313 - 17s - loss: 0.3534 - accuracy: 0.8932 - val_loss: 0.6048 - val_accuracy: 0.8026\n",
      "Epoch 13/15\n",
      "313/313 - 16s - loss: 0.3403 - accuracy: 0.8999 - val_loss: 0.4611 - val_accuracy: 0.8562\n",
      "Epoch 14/15\n",
      "313/313 - 16s - loss: 0.3361 - accuracy: 0.9061 - val_loss: 0.5215 - val_accuracy: 0.8542\n",
      "Epoch 15/15\n",
      "313/313 - 17s - loss: 0.3283 - accuracy: 0.9117 - val_loss: 0.4392 - val_accuracy: 0.8773\n"
     ]
    }
   ],
   "source": [
    "model.compile(loss=BinaryCrossentropy(from_logits=False),\n",
    "              optimizer=Adam(learning_rate=1e-3),\n",
    "              metrics=['accuracy'])\n",
    "\n",
    "history = model.fit(X_train, y_train,\n",
    "                    batch_size=64,\n",
    "                    epochs=15,\n",
    "                    verbose=2, \n",
    "                    validation_data=(X_test, y_test)\n",
    "                   )"
   ]
  },
  {
   "cell_type": "code",
   "execution_count": 12,
   "id": "2f019513",
   "metadata": {
    "scrolled": false
   },
   "outputs": [
    {
     "name": "stdout",
     "output_type": "stream",
     "text": [
      "Epoch 1/15\n",
      "157/157 - 19s - loss: 0.2615 - accuracy: 0.9421 - val_loss: 0.4449 - val_accuracy: 0.8709\n",
      "Epoch 2/15\n",
      "157/157 - 16s - loss: 0.2353 - accuracy: 0.9522 - val_loss: 0.4745 - val_accuracy: 0.8611\n",
      "Epoch 3/15\n",
      "157/157 - 16s - loss: 0.2153 - accuracy: 0.9595 - val_loss: 0.4670 - val_accuracy: 0.8660\n",
      "Epoch 4/15\n",
      "157/157 - 16s - loss: 0.2042 - accuracy: 0.9635 - val_loss: 0.4114 - val_accuracy: 0.8888\n",
      "Epoch 5/15\n",
      "157/157 - 16s - loss: 0.1918 - accuracy: 0.9665 - val_loss: 0.4521 - val_accuracy: 0.8769\n",
      "Epoch 6/15\n",
      "157/157 - 16s - loss: 0.1825 - accuracy: 0.9688 - val_loss: 0.4076 - val_accuracy: 0.8862\n",
      "Epoch 7/15\n",
      "157/157 - 17s - loss: 0.1747 - accuracy: 0.9738 - val_loss: 0.5015 - val_accuracy: 0.8632\n",
      "Epoch 8/15\n",
      "157/157 - 17s - loss: 0.1664 - accuracy: 0.9739 - val_loss: 0.4381 - val_accuracy: 0.8784\n",
      "Epoch 9/15\n",
      "157/157 - 16s - loss: 0.1582 - accuracy: 0.9767 - val_loss: 0.4417 - val_accuracy: 0.8786\n",
      "Epoch 10/15\n",
      "157/157 - 16s - loss: 0.1531 - accuracy: 0.9780 - val_loss: 0.4728 - val_accuracy: 0.8709\n",
      "Epoch 11/15\n",
      "157/157 - 16s - loss: 0.1487 - accuracy: 0.9795 - val_loss: 0.4966 - val_accuracy: 0.8684\n",
      "Epoch 12/15\n",
      "157/157 - 16s - loss: 0.1462 - accuracy: 0.9797 - val_loss: 0.4333 - val_accuracy: 0.8862\n",
      "Epoch 13/15\n",
      "157/157 - 16s - loss: 0.1381 - accuracy: 0.9825 - val_loss: 0.4236 - val_accuracy: 0.8880\n",
      "Epoch 14/15\n",
      "157/157 - 17s - loss: 0.1371 - accuracy: 0.9823 - val_loss: 0.5299 - val_accuracy: 0.8689\n",
      "Epoch 15/15\n",
      "157/157 - 16s - loss: 0.1310 - accuracy: 0.9840 - val_loss: 0.4264 - val_accuracy: 0.8842\n"
     ]
    }
   ],
   "source": [
    "model.compile(loss=BinaryCrossentropy(from_logits=False),\n",
    "              optimizer=Adam(learning_rate=2e-4),\n",
    "              metrics=['accuracy'])\n",
    "\n",
    "history = model.fit(X_train, y_train,\n",
    "                    batch_size=128,\n",
    "                    epochs=15,\n",
    "                    verbose=2, \n",
    "                    validation_data=(X_test, y_test)\n",
    "                   )"
   ]
  },
  {
   "cell_type": "code",
   "execution_count": 13,
   "id": "286d4df7",
   "metadata": {
    "scrolled": false
   },
   "outputs": [
    {
     "name": "stdout",
     "output_type": "stream",
     "text": [
      "Epoch 1/15\n",
      "79/79 - 19s - loss: 0.1207 - accuracy: 0.9890 - val_loss: 0.4303 - val_accuracy: 0.8859\n",
      "Epoch 2/15\n",
      "79/79 - 16s - loss: 0.1173 - accuracy: 0.9896 - val_loss: 0.4401 - val_accuracy: 0.8862\n",
      "Epoch 3/15\n",
      "79/79 - 16s - loss: 0.1186 - accuracy: 0.9890 - val_loss: 0.4281 - val_accuracy: 0.8876\n",
      "Epoch 4/15\n",
      "79/79 - 16s - loss: 0.1175 - accuracy: 0.9900 - val_loss: 0.4453 - val_accuracy: 0.8842\n",
      "Epoch 5/15\n",
      "79/79 - 16s - loss: 0.1181 - accuracy: 0.9889 - val_loss: 0.4318 - val_accuracy: 0.8886\n",
      "Epoch 6/15\n",
      "79/79 - 16s - loss: 0.1171 - accuracy: 0.9897 - val_loss: 0.4434 - val_accuracy: 0.8881\n",
      "Epoch 7/15\n",
      "79/79 - 16s - loss: 0.1171 - accuracy: 0.9887 - val_loss: 0.4459 - val_accuracy: 0.8834\n",
      "Epoch 8/15\n",
      "79/79 - 17s - loss: 0.1157 - accuracy: 0.9900 - val_loss: 0.4436 - val_accuracy: 0.8854\n",
      "Epoch 9/15\n",
      "79/79 - 17s - loss: 0.1155 - accuracy: 0.9891 - val_loss: 0.4324 - val_accuracy: 0.8874\n",
      "Epoch 10/15\n",
      "79/79 - 16s - loss: 0.1155 - accuracy: 0.9904 - val_loss: 0.4313 - val_accuracy: 0.8881\n",
      "Epoch 11/15\n",
      "79/79 - 16s - loss: 0.1167 - accuracy: 0.9894 - val_loss: 0.4492 - val_accuracy: 0.8863\n",
      "Epoch 12/15\n",
      "79/79 - 16s - loss: 0.1176 - accuracy: 0.9895 - val_loss: 0.4450 - val_accuracy: 0.8872\n",
      "Epoch 13/15\n",
      "79/79 - 16s - loss: 0.1159 - accuracy: 0.9905 - val_loss: 0.4490 - val_accuracy: 0.8866\n",
      "Epoch 14/15\n",
      "79/79 - 16s - loss: 0.1153 - accuracy: 0.9895 - val_loss: 0.4460 - val_accuracy: 0.8845\n",
      "Epoch 15/15\n",
      "79/79 - 16s - loss: 0.1144 - accuracy: 0.9905 - val_loss: 0.6276 - val_accuracy: 0.8692\n"
     ]
    }
   ],
   "source": [
    "model.compile(loss=BinaryCrossentropy(from_logits=False),\n",
    "              optimizer=SGD(learning_rate=0.005),\n",
    "              metrics=['accuracy'])\n",
    "\n",
    "history = model.fit(X_train, y_train,\n",
    "                    batch_size=256,\n",
    "                    epochs=15,\n",
    "                    verbose=2, \n",
    "                    validation_data=(X_test, y_test)\n",
    "                   )"
   ]
  },
  {
   "cell_type": "code",
   "execution_count": null,
   "id": "1ab05b62",
   "metadata": {},
   "outputs": [],
   "source": []
  }
 ],
 "metadata": {
  "kernelspec": {
   "display_name": "Python 3 (ipykernel)",
   "language": "python",
   "name": "python3"
  },
  "language_info": {
   "codemirror_mode": {
    "name": "ipython",
    "version": 3
   },
   "file_extension": ".py",
   "mimetype": "text/x-python",
   "name": "python",
   "nbconvert_exporter": "python",
   "pygments_lexer": "ipython3",
   "version": "3.9.10"
  }
 },
 "nbformat": 4,
 "nbformat_minor": 5
}
