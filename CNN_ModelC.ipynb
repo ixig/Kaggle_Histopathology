{
 "cells": [
  {
   "cell_type": "code",
   "execution_count": 1,
   "id": "eb9693b9",
   "metadata": {},
   "outputs": [],
   "source": [
    "from helper import *"
   ]
  },
  {
   "cell_type": "code",
   "execution_count": 2,
   "id": "b06c6c10",
   "metadata": {},
   "outputs": [],
   "source": [
    "SUBSET = '20k'\n",
    "DATA_DIR = 'data/'"
   ]
  },
  {
   "cell_type": "code",
   "execution_count": 3,
   "id": "273c6b12",
   "metadata": {},
   "outputs": [
    {
     "name": "stdout",
     "output_type": "stream",
     "text": [
      "((20000, 9216), dtype('uint8')) ((20000,), dtype('uint8'))\n",
      "((10000, 9216), dtype('uint8')) ((10000,), dtype('uint8'))\n"
     ]
    }
   ],
   "source": [
    "DATA_FILENAME = '1d_subset'\n",
    "(X_train, y_train), (X_test, y_test) = \\\n",
    "    load_npz(DATA_DIR + DATA_FILENAME + SUBSET + '.npz')"
   ]
  },
  {
   "cell_type": "code",
   "execution_count": 4,
   "id": "ff32416a",
   "metadata": {},
   "outputs": [],
   "source": [
    "X_train = X_train.reshape(-1, 96, 96)\n",
    "X_test = X_test.reshape(-1, 96, 96)"
   ]
  },
  {
   "cell_type": "code",
   "execution_count": 5,
   "id": "2313ebd9",
   "metadata": {},
   "outputs": [],
   "source": [
    "X_train = (X_train / 255.0 - 0.5).astype('float32')\n",
    "X_test = (X_test / 255.0 - 0.5).astype('float32')"
   ]
  },
  {
   "cell_type": "code",
   "execution_count": 6,
   "id": "841df222",
   "metadata": {},
   "outputs": [
    {
     "data": {
      "text/plain": [
       "((20000, 96, 96, 1), (10000, 96, 96, 1), (20000,), (10000,))"
      ]
     },
     "execution_count": 6,
     "metadata": {},
     "output_type": "execute_result"
    }
   ],
   "source": [
    "X_train = np.expand_dims(X_train, axis=-1)\n",
    "X_test = np.expand_dims(X_test, axis=-1)\n",
    "# y_train = y_train.reshape(-1, 1)\n",
    "# y_test = y_test.reshape(-1, 1)\n",
    "X_train.shape, X_test.shape, y_train.shape, y_test.shape"
   ]
  },
  {
   "cell_type": "code",
   "execution_count": 7,
   "id": "c8ad450f",
   "metadata": {},
   "outputs": [],
   "source": [
    "import tensorflow as tf\n",
    "from tensorflow import keras\n",
    "from keras.models import Sequential\n",
    "from keras.losses import BinaryCrossentropy\n",
    "from keras.regularizers import l2\n",
    "from keras.layers import *\n",
    "from tensorflow.keras.optimizers import SGD, Adam\n",
    "import os"
   ]
  },
  {
   "cell_type": "code",
   "execution_count": 8,
   "id": "bd718c84",
   "metadata": {},
   "outputs": [
    {
     "data": {
      "text/plain": [
       "[PhysicalDevice(name='/physical_device:GPU:0', device_type='GPU')]"
      ]
     },
     "execution_count": 8,
     "metadata": {},
     "output_type": "execute_result"
    }
   ],
   "source": [
    "os.environ['TF_CPP_MIN_LOG_LEVEL'] = '3'\n",
    "os.environ[\"CUDA_VISIBLE_DEVICES\"] = '0'\n",
    "tf.config.list_physical_devices('GPU')"
   ]
  },
  {
   "cell_type": "code",
   "execution_count": 9,
   "id": "e05a8b27",
   "metadata": {},
   "outputs": [],
   "source": [
    "model = Sequential()\n",
    "\n",
    "model.add(Conv2D(64, (3,3), activation='relu', kernel_regularizer=l2(1e-5))) #, input_shape=(X_train.shape[1:])))\n",
    "model.add(BatchNormalization())\n",
    "model.add(Conv2D(64, (3,3), activation='relu', kernel_regularizer=l2(1e-5)))\n",
    "model.add(BatchNormalization())\n",
    "model.add(MaxPooling2D(pool_size=(2, 2)))\n",
    "model.add(Dropout(0.3))\n",
    "\n",
    "model.add(Conv2D(32, (3,3), activation='relu', kernel_regularizer=l2(1e-5)))\n",
    "model.add(BatchNormalization())\n",
    "model.add(Conv2D(32, (3,3), activation='relu', kernel_regularizer=l2(1e-5)))\n",
    "model.add(BatchNormalization())\n",
    "model.add(MaxPooling2D (pool_size=(2, 2)))\n",
    "model.add(Dropout(0.35))\n",
    "\n",
    "model.add(Conv2D(16, (3,3), activation='relu', kernel_regularizer=l2(1e-5)))\n",
    "model.add(BatchNormalization())\n",
    "model.add(Conv2D(16, (3,3), activation='relu', kernel_regularizer=l2(1e-5)))\n",
    "model.add(BatchNormalization())\n",
    "model.add(MaxPooling2D(pool_size=(2, 2), strides=(1, 1)))\n",
    "# model.add(Dropout(0.4))\n",
    "model.add(Dropout(0.6))\n",
    "\n",
    "model.add(Flatten())\n",
    "# model.add(Dropout(0.2))\n",
    "\n",
    "# model.add(Dense(64, activation='relu'))\n",
    "# model.add(BatchNormalization())\n",
    "# model.add(Dropout(0.4))\n",
    "\n",
    "model.add(Dense(1, activation='sigmoid'))\n",
    "\n",
    "# model.summary()"
   ]
  },
  {
   "cell_type": "code",
   "execution_count": 10,
   "id": "856983b5",
   "metadata": {
    "scrolled": false
   },
   "outputs": [
    {
     "name": "stdout",
     "output_type": "stream",
     "text": [
      "Epoch 1/15\n",
      "313/313 - 24s - loss: 0.6598 - accuracy: 0.7426 - val_loss: 1.4457 - val_accuracy: 0.5913\n",
      "Epoch 2/15\n",
      "313/313 - 21s - loss: 0.5298 - accuracy: 0.7709 - val_loss: 0.6372 - val_accuracy: 0.6891\n",
      "Epoch 3/15\n",
      "313/313 - 20s - loss: 0.4983 - accuracy: 0.7845 - val_loss: 0.4508 - val_accuracy: 0.7960\n",
      "Epoch 4/15\n",
      "313/313 - 21s - loss: 0.4736 - accuracy: 0.7914 - val_loss: 0.4542 - val_accuracy: 0.7888\n",
      "Epoch 5/15\n",
      "313/313 - 20s - loss: 0.4602 - accuracy: 0.8008 - val_loss: 0.4411 - val_accuracy: 0.8074\n",
      "Epoch 6/15\n",
      "313/313 - 20s - loss: 0.4365 - accuracy: 0.8091 - val_loss: 0.4112 - val_accuracy: 0.8265\n",
      "Epoch 7/15\n",
      "313/313 - 21s - loss: 0.4160 - accuracy: 0.8191 - val_loss: 0.3813 - val_accuracy: 0.8325\n",
      "Epoch 8/15\n",
      "313/313 - 20s - loss: 0.3965 - accuracy: 0.8295 - val_loss: 0.4239 - val_accuracy: 0.8103\n",
      "Epoch 9/15\n",
      "313/313 - 21s - loss: 0.3810 - accuracy: 0.8374 - val_loss: 0.4030 - val_accuracy: 0.8290\n",
      "Epoch 10/15\n",
      "313/313 - 21s - loss: 0.3663 - accuracy: 0.8443 - val_loss: 0.3474 - val_accuracy: 0.8541\n",
      "Epoch 11/15\n",
      "313/313 - 21s - loss: 0.3598 - accuracy: 0.8471 - val_loss: 0.3535 - val_accuracy: 0.8515\n",
      "Epoch 12/15\n",
      "313/313 - 21s - loss: 0.3458 - accuracy: 0.8577 - val_loss: 0.3408 - val_accuracy: 0.8583\n",
      "Epoch 13/15\n",
      "313/313 - 21s - loss: 0.3393 - accuracy: 0.8565 - val_loss: 0.3343 - val_accuracy: 0.8654\n",
      "Epoch 14/15\n",
      "313/313 - 20s - loss: 0.3249 - accuracy: 0.8643 - val_loss: 0.3566 - val_accuracy: 0.8428\n",
      "Epoch 15/15\n",
      "313/313 - 20s - loss: 0.3199 - accuracy: 0.8681 - val_loss: 0.3207 - val_accuracy: 0.8642\n"
     ]
    }
   ],
   "source": [
    "model.compile(loss=BinaryCrossentropy(from_logits=False),\n",
    "              optimizer=Adam(learning_rate=1e-3),\n",
    "              metrics=['accuracy'])\n",
    "\n",
    "history = model.fit(X_train, y_train,\n",
    "                    batch_size=64,\n",
    "                    epochs=15,\n",
    "                    verbose=2, \n",
    "                    validation_data=(X_test, y_test)\n",
    "                   )"
   ]
  },
  {
   "cell_type": "code",
   "execution_count": 11,
   "id": "2f019513",
   "metadata": {
    "scrolled": false
   },
   "outputs": [
    {
     "name": "stdout",
     "output_type": "stream",
     "text": [
      "Epoch 1/15\n",
      "157/157 - 23s - loss: 0.2791 - accuracy: 0.8855 - val_loss: 0.3066 - val_accuracy: 0.8738\n",
      "Epoch 2/15\n",
      "157/157 - 20s - loss: 0.2687 - accuracy: 0.8892 - val_loss: 0.2870 - val_accuracy: 0.8815\n",
      "Epoch 3/15\n",
      "157/157 - 21s - loss: 0.2674 - accuracy: 0.8914 - val_loss: 0.2859 - val_accuracy: 0.8827\n",
      "Epoch 4/15\n",
      "157/157 - 21s - loss: 0.2608 - accuracy: 0.8953 - val_loss: 0.2911 - val_accuracy: 0.8788\n",
      "Epoch 5/15\n",
      "157/157 - 20s - loss: 0.2544 - accuracy: 0.8987 - val_loss: 0.2905 - val_accuracy: 0.8832\n",
      "Epoch 6/15\n",
      "157/157 - 21s - loss: 0.2500 - accuracy: 0.9000 - val_loss: 0.2712 - val_accuracy: 0.8916\n",
      "Epoch 7/15\n",
      "157/157 - 21s - loss: 0.2461 - accuracy: 0.9036 - val_loss: 0.2784 - val_accuracy: 0.8865\n",
      "Epoch 8/15\n",
      "157/157 - 20s - loss: 0.2413 - accuracy: 0.9051 - val_loss: 0.2793 - val_accuracy: 0.8863\n",
      "Epoch 9/15\n",
      "157/157 - 21s - loss: 0.2394 - accuracy: 0.9038 - val_loss: 0.2722 - val_accuracy: 0.8936\n",
      "Epoch 10/15\n",
      "157/157 - 21s - loss: 0.2429 - accuracy: 0.9033 - val_loss: 0.2762 - val_accuracy: 0.8893\n",
      "Epoch 11/15\n",
      "157/157 - 21s - loss: 0.2387 - accuracy: 0.9061 - val_loss: 0.2742 - val_accuracy: 0.8889\n",
      "Epoch 12/15\n",
      "157/157 - 21s - loss: 0.2345 - accuracy: 0.9076 - val_loss: 0.2857 - val_accuracy: 0.8816\n",
      "Epoch 13/15\n",
      "157/157 - 21s - loss: 0.2299 - accuracy: 0.9097 - val_loss: 0.2715 - val_accuracy: 0.8932\n",
      "Epoch 14/15\n",
      "157/157 - 20s - loss: 0.2279 - accuracy: 0.9093 - val_loss: 0.2813 - val_accuracy: 0.8928\n",
      "Epoch 15/15\n",
      "157/157 - 20s - loss: 0.2234 - accuracy: 0.9132 - val_loss: 0.2740 - val_accuracy: 0.8949\n"
     ]
    }
   ],
   "source": [
    "model.compile(loss=BinaryCrossentropy(from_logits=False),\n",
    "              optimizer=Adam(learning_rate=2e-4),\n",
    "              metrics=['accuracy'])\n",
    "\n",
    "history = model.fit(X_train, y_train,\n",
    "                    batch_size=128,\n",
    "                    epochs=15,\n",
    "                    verbose=2, \n",
    "                    validation_data=(X_test, y_test)\n",
    "                   )"
   ]
  },
  {
   "cell_type": "code",
   "execution_count": 12,
   "id": "286d4df7",
   "metadata": {
    "scrolled": false
   },
   "outputs": [
    {
     "name": "stdout",
     "output_type": "stream",
     "text": [
      "Epoch 1/15\n",
      "79/79 - 24s - loss: 0.2115 - accuracy: 0.9183 - val_loss: 0.2803 - val_accuracy: 0.8909\n",
      "Epoch 2/15\n",
      "79/79 - 21s - loss: 0.2118 - accuracy: 0.9186 - val_loss: 0.2707 - val_accuracy: 0.8957\n",
      "Epoch 3/15\n",
      "79/79 - 21s - loss: 0.2095 - accuracy: 0.9201 - val_loss: 0.2866 - val_accuracy: 0.8874\n",
      "Epoch 4/15\n",
      "79/79 - 21s - loss: 0.2086 - accuracy: 0.9186 - val_loss: 0.2866 - val_accuracy: 0.8862\n",
      "Epoch 5/15\n",
      "79/79 - 21s - loss: 0.2083 - accuracy: 0.9198 - val_loss: 0.2697 - val_accuracy: 0.8943\n",
      "Epoch 6/15\n",
      "79/79 - 21s - loss: 0.2094 - accuracy: 0.9210 - val_loss: 0.2714 - val_accuracy: 0.8929\n",
      "Epoch 7/15\n",
      "79/79 - 21s - loss: 0.2073 - accuracy: 0.9220 - val_loss: 0.2732 - val_accuracy: 0.8918\n",
      "Epoch 8/15\n",
      "79/79 - 21s - loss: 0.2050 - accuracy: 0.9208 - val_loss: 0.2755 - val_accuracy: 0.8925\n",
      "Epoch 9/15\n",
      "79/79 - 21s - loss: 0.2065 - accuracy: 0.9213 - val_loss: 0.2665 - val_accuracy: 0.8972\n",
      "Epoch 10/15\n",
      "79/79 - 21s - loss: 0.2085 - accuracy: 0.9202 - val_loss: 0.2854 - val_accuracy: 0.8914\n",
      "Epoch 11/15\n",
      "79/79 - 21s - loss: 0.2079 - accuracy: 0.9199 - val_loss: 0.2691 - val_accuracy: 0.8975\n",
      "Epoch 12/15\n",
      "79/79 - 21s - loss: 0.2071 - accuracy: 0.9201 - val_loss: 0.2776 - val_accuracy: 0.8916\n",
      "Epoch 13/15\n",
      "79/79 - 21s - loss: 0.2088 - accuracy: 0.9198 - val_loss: 0.2798 - val_accuracy: 0.8909\n",
      "Epoch 14/15\n",
      "79/79 - 21s - loss: 0.2071 - accuracy: 0.9204 - val_loss: 0.2822 - val_accuracy: 0.8906\n",
      "Epoch 15/15\n",
      "79/79 - 21s - loss: 0.2069 - accuracy: 0.9225 - val_loss: 0.2723 - val_accuracy: 0.8957\n"
     ]
    }
   ],
   "source": [
    "model.compile(loss=BinaryCrossentropy(from_logits=False),\n",
    "              optimizer=SGD(learning_rate=0.005),\n",
    "              metrics=['accuracy'])\n",
    "\n",
    "history = model.fit(X_train, y_train,\n",
    "                    batch_size=256,\n",
    "                    epochs=15,\n",
    "                    verbose=2, \n",
    "                    validation_data=(X_test, y_test)\n",
    "                   )"
   ]
  },
  {
   "cell_type": "code",
   "execution_count": null,
   "id": "1ab05b62",
   "metadata": {},
   "outputs": [],
   "source": []
  }
 ],
 "metadata": {
  "kernelspec": {
   "display_name": "Python 3 (ipykernel)",
   "language": "python",
   "name": "python3"
  },
  "language_info": {
   "codemirror_mode": {
    "name": "ipython",
    "version": 3
   },
   "file_extension": ".py",
   "mimetype": "text/x-python",
   "name": "python",
   "nbconvert_exporter": "python",
   "pygments_lexer": "ipython3",
   "version": "3.8.10"
  }
 },
 "nbformat": 4,
 "nbformat_minor": 5
}
