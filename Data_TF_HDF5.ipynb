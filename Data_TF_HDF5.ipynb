{
 "cells": [
  {
   "cell_type": "code",
   "execution_count": null,
   "id": "e8591453",
   "metadata": {},
   "outputs": [],
   "source": [
    "import h5py\n",
    "import os\n",
    "import cv2\n",
    "import matplotlib.pyplot as plt\n",
    "import numpy as np\n",
    "import pandas as pd\n",
    "from imageio import imread\n",
    "from skimage.color import rgb2hed, hed2rgb, rgb2gray\n",
    "from skimage.util import img_as_ubyte\n",
    "from random import Random, shuffle"
   ]
  },
  {
   "cell_type": "markdown",
   "id": "22903b60",
   "metadata": {},
   "source": [
    "## Create HDF5"
   ]
  },
  {
   "cell_type": "code",
   "execution_count": null,
   "id": "5a5c7fd1",
   "metadata": {},
   "outputs": [],
   "source": [
    "DATA_DIR = 'data/'\n",
    "FILENAME = 'data_tf.hdf5'"
   ]
  },
  {
   "cell_type": "code",
   "execution_count": null,
   "id": "ce639658",
   "metadata": {},
   "outputs": [],
   "source": [
    "TRAIN_DIR = DATA_DIR + 'train/'\n",
    "TRAIN_FILES = os.listdir(TRAIN_DIR)\n",
    "len(TRAIN_FILES)"
   ]
  },
  {
   "cell_type": "code",
   "execution_count": null,
   "id": "377bfda9",
   "metadata": {},
   "outputs": [],
   "source": [
    "TEST_DIR = DATA_DIR + 'test/'\n",
    "TEST_FILES = os.listdir(TEST_DIR)\n",
    "len(TEST_FILES)"
   ]
  },
  {
   "cell_type": "code",
   "execution_count": null,
   "id": "26a4698a",
   "metadata": {},
   "outputs": [],
   "source": [
    "IMG_SIZE = (96, 96, 4)\n",
    "RAND_SEED = 333"
   ]
  },
  {
   "cell_type": "code",
   "execution_count": null,
   "id": "af4c9103",
   "metadata": {},
   "outputs": [],
   "source": [
    "df = pd.read_csv(DATA_DIR + 'train_labels.csv')\n",
    "TRAIN_IDS = [ df[df['label'] == 0]['id'].values.tolist(), df[df['label'] == 1]['id'].values.tolist() ]"
   ]
  },
  {
   "cell_type": "code",
   "execution_count": null,
   "id": "be3b74ca",
   "metadata": {},
   "outputs": [],
   "source": [
    "TEST_IDS = [os.path.splitext(p)[0] for p in TEST_FILES]"
   ]
  },
  {
   "cell_type": "code",
   "execution_count": null,
   "id": "a422c060",
   "metadata": {},
   "outputs": [],
   "source": [
    "# The HED color deconv, rgb2hed(), produces values outside of 0 and 1 for some images.\n",
    "# Workaround - use hed2rgb() with each HED channel separately and then run rgb2gray()\n",
    "# on that conversion result\n",
    "def rgb2ghed(img_rgb: np.ndarray) -> np.ndarray:\n",
    "    assert img_rgb.dtype == 'uint8'\n",
    "    assert img_rgb.shape == IMG_SIZE[:2] + (3,)\n",
    "    img_hed = rgb2hed(img_rgb)\n",
    "    img_z = np.zeros(img_rgb.shape[:2])\n",
    "    img_h = img_as_ubyte(rgb2gray(hed2rgb(np.stack((img_hed[:, :, 0], img_z, img_z), axis=-1))))\n",
    "    img_e = img_as_ubyte(rgb2gray(hed2rgb(np.stack((img_z, img_hed[:, :, 1], img_z), axis=-1))))\n",
    "    img_d = img_as_ubyte(rgb2gray(hed2rgb(np.stack((img_z, img_z, img_hed[:, :, 2]), axis=-1))))\n",
    "    img_g = cv2.cvtColor(img_rgb, cv2.COLOR_RGB2GRAY)\n",
    "    img_ghed = np.stack((img_g, img_h, img_e, img_d), axis=-1)\n",
    "    return img_ghed"
   ]
  },
  {
   "cell_type": "code",
   "execution_count": null,
   "id": "95f73ee3",
   "metadata": {},
   "outputs": [],
   "source": [
    "def create_train_dset_2(f: h5py.File, name: str, m: int):\n",
    "    dset_x = f.create_dataset('x_' + name, (m,) + IMG_SIZE, np.uint8)\n",
    "    dset_y = f.create_dataset('y_' + name, (m,), np.uint8)\n",
    "    ids = list(zip(TRAIN_IDS[0] + TRAIN_IDS[1],\n",
    "                   [0] * len(TRAIN_IDS[0]) +  [1] * len(TRAIN_IDS[1]))\n",
    "              )\n",
    "    Random(RAND_SEED).shuffle(ids)\n",
    "    for i, id_lbl in enumerate(ids[:m]):\n",
    "        img_rgb = imread(TRAIN_DIR + id_lbl[0] + '.tif')\n",
    "        img_ghed = rgb2ghed(img_rgb)\n",
    "        dset_x[i, ...] = img_ghed[:, :, :IMG_SIZE[2]]\n",
    "        dset_y[i] = id_lbl[1]\n",
    "    return dset_x, dset_y"
   ]
  },
  {
   "cell_type": "code",
   "execution_count": null,
   "id": "8b6fc0ca",
   "metadata": {},
   "outputs": [],
   "source": [
    "def create_train_dset_01(f: h5py.File, name: str, label: int, m: int):\n",
    "    dset = f.create_dataset('x_' + name, (m,) + IMG_SIZE, np.uint8)\n",
    "    ids = TRAIN_IDS[label]\n",
    "    Random(RAND_SEED).shuffle(ids)\n",
    "    for i, id in enumerate(ids[:m]):\n",
    "        img_rgb = imread(TRAIN_DIR + id + '.tif')\n",
    "        img_ghed = rgb2ghed(img_rgb)\n",
    "        dset[i, ...] = img_ghed[:, :, :IMG_SIZE[2]]\n",
    "    return dset"
   ]
  },
  {
   "cell_type": "code",
   "execution_count": null,
   "id": "14531648",
   "metadata": {},
   "outputs": [],
   "source": [
    "def create_test_dsets(f: h5py.File, name: str, m: int):\n",
    "    dset = f.create_dataset('x_' + name, (m,) + IMG_SIZE, np.uint8)\n",
    "    ids = TEST_IDS[:]\n",
    "    Random(RAND_SEED).shuffle(ids)\n",
    "    for i, id in enumerate(ids[:m]):\n",
    "        img_rgb = imread(TEST_DIR + id + '.tif')\n",
    "        img_ghed = rgb2ghed(img_rgb)\n",
    "        dset[i, ...] = img_ghed[:, :, :IMG_SIZE[2]]\n",
    "    return dset"
   ]
  },
  {
   "cell_type": "code",
   "execution_count": null,
   "id": "9f44df51",
   "metadata": {},
   "outputs": [],
   "source": [
    "f = h5py.File(DATA_DIR + FILENAME, 'w')"
   ]
  },
  {
   "cell_type": "code",
   "execution_count": null,
   "id": "83692838",
   "metadata": {},
   "outputs": [],
   "source": [
    "# dset_x, dset_y = create_train_dset_2(f, 'train', 10)\n",
    "dset_x, dset_y = create_train_dset_2(f, 'train', len(TRAIN_IDS[0]) + len(TRAIN_IDS[1]))\n",
    "dset_x.shape, dset_y.shape"
   ]
  },
  {
   "cell_type": "code",
   "execution_count": null,
   "id": "f245c371",
   "metadata": {},
   "outputs": [],
   "source": [
    "# dset = create_train_dset_01(f, 'train0', 0, 10)\n",
    "dset = create_train_dset_01(f, 'train0', 0, len(TRAIN_IDS[0]))\n",
    "dset.shape"
   ]
  },
  {
   "cell_type": "code",
   "execution_count": null,
   "id": "96736cb6",
   "metadata": {},
   "outputs": [],
   "source": [
    "# dset = create_train_dset_01(f, 'train1', 1, 10)\n",
    "dset = create_train_dset_01(f, 'train1', 1, len(TRAIN_IDS[1]))\n",
    "dset.shape"
   ]
  },
  {
   "cell_type": "raw",
   "id": "d6189bf7",
   "metadata": {},
   "source": [
    "dset = create_test_dsets(f, 'test', 10)\n",
    "# dset = create_test_dsets(f, 'test', len(TEST_IDS))\n",
    "dset.shape"
   ]
  },
  {
   "cell_type": "code",
   "execution_count": null,
   "id": "882ce95d",
   "metadata": {},
   "outputs": [],
   "source": [
    "f.close()"
   ]
  },
  {
   "cell_type": "code",
   "execution_count": null,
   "id": "95c75612",
   "metadata": {},
   "outputs": [],
   "source": [
    "assert False"
   ]
  },
  {
   "cell_type": "markdown",
   "id": "2afdec8d",
   "metadata": {},
   "source": [
    "## Check / Inspect HDF5"
   ]
  },
  {
   "cell_type": "code",
   "execution_count": null,
   "id": "7f159626",
   "metadata": {},
   "outputs": [],
   "source": [
    "f = h5py.File(DATA_DIR + FILENAME, 'r')"
   ]
  },
  {
   "cell_type": "code",
   "execution_count": null,
   "id": "e66a9660",
   "metadata": {},
   "outputs": [],
   "source": [
    "f.keys()"
   ]
  },
  {
   "cell_type": "code",
   "execution_count": null,
   "id": "5491fc18",
   "metadata": {},
   "outputs": [],
   "source": [
    "f['x_train'].shape, f['x_train0'].shape, f['x_train1'].shape"
   ]
  },
  {
   "cell_type": "code",
   "execution_count": null,
   "id": "44770e99",
   "metadata": {},
   "outputs": [],
   "source": [
    "f['x_train'].dtype, f['x_train0'].dtype, f['x_train1'].dtype"
   ]
  },
  {
   "cell_type": "code",
   "execution_count": null,
   "id": "c65ae273",
   "metadata": {},
   "outputs": [],
   "source": [
    "f['y_train'].shape, f['y_train'].dtype"
   ]
  },
  {
   "cell_type": "code",
   "execution_count": null,
   "id": "9b781675",
   "metadata": {},
   "outputs": [],
   "source": [
    "f['y_train'][:10]"
   ]
  },
  {
   "cell_type": "raw",
   "id": "b90875d8",
   "metadata": {},
   "source": [
    "f['test'].shape, f['test'].dtype"
   ]
  },
  {
   "cell_type": "code",
   "execution_count": null,
   "id": "3649846f",
   "metadata": {},
   "outputs": [],
   "source": [
    "def show_ghed(img):\n",
    "    fig, ((ax11, ax12), (ax21, ax22)) = plt.subplots(2, 2, figsize=(6,6))\n",
    "    ax11.set_title('G')\n",
    "    ax12.set_title('H')\n",
    "    ax21.set_title('E')\n",
    "    ax22.set_title('D')\n",
    "    ax11.imshow(img[:, :, 0], cmap='gray')\n",
    "    ax12.imshow(img[:, :, 1], cmap='gray')\n",
    "    ax21.imshow(img[:, :, 2], cmap='gray')\n",
    "    ax22.imshow(img[:, :, 3], cmap='gray')\n",
    "    fig.tight_layout()"
   ]
  },
  {
   "cell_type": "code",
   "execution_count": null,
   "id": "4f76fbf2",
   "metadata": {},
   "outputs": [],
   "source": [
    "dset = f['x_train']\n",
    "img = dset[0]\n",
    "show_ghed(img)\n",
    "img.shape, img.dtype"
   ]
  },
  {
   "cell_type": "code",
   "execution_count": null,
   "id": "44e4bcee",
   "metadata": {},
   "outputs": [],
   "source": [
    "dset0 = f['x_train0']\n",
    "img = dset0[0]\n",
    "show_ghed(img)\n",
    "img.shape, img.dtype"
   ]
  },
  {
   "cell_type": "code",
   "execution_count": null,
   "id": "0653352c",
   "metadata": {},
   "outputs": [],
   "source": [
    "dset1 = f['x_train1']\n",
    "img = dset1[0]\n",
    "show_ghed(img)\n",
    "img.shape, img.dtype"
   ]
  },
  {
   "cell_type": "code",
   "execution_count": null,
   "id": "6f0b897e",
   "metadata": {},
   "outputs": [],
   "source": [
    "# assert False"
   ]
  },
  {
   "cell_type": "code",
   "execution_count": null,
   "id": "19659c14",
   "metadata": {},
   "outputs": [],
   "source": [
    "f.close()"
   ]
  },
  {
   "cell_type": "code",
   "execution_count": null,
   "id": "798086a8",
   "metadata": {},
   "outputs": [],
   "source": []
  }
 ],
 "metadata": {
  "kernelspec": {
   "display_name": "Python 3 (ipykernel)",
   "language": "python",
   "name": "python3"
  },
  "language_info": {
   "codemirror_mode": {
    "name": "ipython",
    "version": 3
   },
   "file_extension": ".py",
   "mimetype": "text/x-python",
   "name": "python",
   "nbconvert_exporter": "python",
   "pygments_lexer": "ipython3",
   "version": "3.8.10"
  }
 },
 "nbformat": 4,
 "nbformat_minor": 5
}
