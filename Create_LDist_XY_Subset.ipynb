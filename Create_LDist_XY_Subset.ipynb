{
 "cells": [
  {
   "cell_type": "code",
   "execution_count": 1,
   "id": "46bdb08c",
   "metadata": {},
   "outputs": [],
   "source": [
    "import matplotlib.pyplot as plt\n",
    "import numpy as np\n",
    "from random import randrange\n",
    "from skimage.feature import local_binary_pattern"
   ]
  },
  {
   "cell_type": "code",
   "execution_count": 2,
   "id": "9fb29f88",
   "metadata": {},
   "outputs": [],
   "source": [
    "DATA_DIR = 'data/'\n",
    "DATA_FILENAME = 'data_lbp_subset20k'"
   ]
  },
  {
   "cell_type": "code",
   "execution_count": 3,
   "id": "302c106e",
   "metadata": {},
   "outputs": [
    {
     "data": {
      "text/plain": [
       "((20000, 90), dtype('int16'))"
      ]
     },
     "execution_count": 3,
     "metadata": {},
     "output_type": "execute_result"
    }
   ],
   "source": [
    "data_train = np.load(DATA_DIR + DATA_FILENAME + '_train' + '.npz')\n",
    "X_train = data_train['X']\n",
    "y_train = data_train['y']\n",
    "train_names = data_train['names']\n",
    "data_train.close()\n",
    "X_train.shape, X_train.dtype"
   ]
  },
  {
   "cell_type": "code",
   "execution_count": 4,
   "id": "451da2c4",
   "metadata": {},
   "outputs": [
    {
     "data": {
      "text/plain": [
       "((10000, 90), dtype('int16'))"
      ]
     },
     "execution_count": 4,
     "metadata": {},
     "output_type": "execute_result"
    }
   ],
   "source": [
    "data_test = np.load(DATA_DIR + DATA_FILENAME + '_test' + '.npz')\n",
    "X_test = data_test['X']\n",
    "y_test = data_test['y']\n",
    "test_names = data_test['names']\n",
    "data_test.close()\n",
    "X_test.shape, X_test.dtype"
   ]
  },
  {
   "cell_type": "code",
   "execution_count": 5,
   "id": "de7cd48d",
   "metadata": {},
   "outputs": [
    {
     "data": {
      "text/plain": [
       "((256, 10), dtype('int16'))"
      ]
     },
     "execution_count": 5,
     "metadata": {},
     "output_type": "execute_result"
    }
   ],
   "source": [
    "LAND_FILENAME = 'data_landmarks_subset4k'\n",
    "data_land = np.load(DATA_DIR + LAND_FILENAME + '.npz')\n",
    "landmarks = data_land['landmarks']\n",
    "data_land.close()\n",
    "landmarks.shape, landmarks.dtype"
   ]
  },
  {
   "cell_type": "code",
   "execution_count": 6,
   "id": "bd14def4",
   "metadata": {},
   "outputs": [],
   "source": [
    "# Return smaller of either Kullback–Leibler Divergences\n",
    "def kld(p, q):\n",
    "    p_q = np.sum(p * np.log2(p/q))\n",
    "    q_p = np.sum(q * np.log2(q/p))\n",
    "#     if p_q < 0 or q_p < 0:\n",
    "#         print(p); print(q); print(sum)\n",
    "#         raise Exception\n",
    "    return min(p_q, q_p)"
   ]
  },
  {
   "cell_type": "code",
   "execution_count": 7,
   "id": "eaeb7672",
   "metadata": {},
   "outputs": [],
   "source": [
    "def kld_v(v):\n",
    "    return lambda z: kld(v, z)\n",
    "#     kld(landmarks[v[0]], v[1:])"
   ]
  },
  {
   "cell_type": "code",
   "execution_count": 8,
   "id": "751b824e",
   "metadata": {},
   "outputs": [],
   "source": [
    "# Return index of most similar landmark\n",
    "def lbp_to_landmark(v):\n",
    "    land_dists = np.apply_along_axis(kld_v(v), 1, landmarks)\n",
    "    return land_dists\n",
    "    # return np.argmin(land_dists)"
   ]
  },
  {
   "cell_type": "code",
   "execution_count": 9,
   "id": "bd709e7e",
   "metadata": {},
   "outputs": [],
   "source": [
    "# Return 1-D vector of size 2304 (9x256) corresponding to per cell\n",
    "# KL-D similarity to each of 256 landmarks\n",
    "def generate_feat(v):\n",
    "    v9 = v.reshape(-1, landmarks.shape[1])\n",
    "    land_dists9 = np.apply_along_axis(lbp_to_landmark, 1, v9)\n",
    "    return land_dists9.ravel()"
   ]
  },
  {
   "cell_type": "code",
   "execution_count": 10,
   "id": "4e372962",
   "metadata": {},
   "outputs": [
    {
     "name": "stdout",
     "output_type": "stream",
     "text": [
      "CPU times: user 14min 59s, sys: 6.29 s, total: 15min 5s\n",
      "Wall time: 15min 2s\n"
     ]
    },
    {
     "data": {
      "text/plain": [
       "((20000, 2304), dtype('float64'))"
      ]
     },
     "execution_count": 10,
     "metadata": {},
     "output_type": "execute_result"
    }
   ],
   "source": [
    "%time train_feat = np.apply_along_axis(generate_feat, 1, X_train)\n",
    "train_feat.shape, train_feat.dtype"
   ]
  },
  {
   "cell_type": "code",
   "execution_count": 11,
   "id": "2bc0e08e",
   "metadata": {},
   "outputs": [
    {
     "name": "stdout",
     "output_type": "stream",
     "text": [
      "CPU times: user 7min 47s, sys: 4.43 s, total: 7min 51s\n",
      "Wall time: 13min 22s\n"
     ]
    },
    {
     "data": {
      "text/plain": [
       "((10000, 2304), dtype('float64'))"
      ]
     },
     "execution_count": 11,
     "metadata": {},
     "output_type": "execute_result"
    }
   ],
   "source": [
    "%time test_feat = np.apply_along_axis(generate_feat, 1, X_test)\n",
    "test_feat.shape, test_feat.dtype"
   ]
  },
  {
   "cell_type": "code",
   "execution_count": 12,
   "id": "141a4ece",
   "metadata": {},
   "outputs": [],
   "source": [
    "SUBSET_FILENAME = 'data_ldist_subset20k'\n",
    "np.savez(DATA_DIR + SUBSET_FILENAME + '_train', X=train_feat, y=y_train, names=train_names)\n",
    "np.savez(DATA_DIR + SUBSET_FILENAME + '_test', X=test_feat, y=y_test, names=test_names)"
   ]
  },
  {
   "cell_type": "code",
   "execution_count": null,
   "id": "2db872b4",
   "metadata": {},
   "outputs": [],
   "source": []
  }
 ],
 "metadata": {
  "kernelspec": {
   "display_name": "Python 3 (ipykernel)",
   "language": "python",
   "name": "python3"
  },
  "language_info": {
   "codemirror_mode": {
    "name": "ipython",
    "version": 3
   },
   "file_extension": ".py",
   "mimetype": "text/x-python",
   "name": "python",
   "nbconvert_exporter": "python",
   "pygments_lexer": "ipython3",
   "version": "3.9.6"
  }
 },
 "nbformat": 4,
 "nbformat_minor": 5
}
