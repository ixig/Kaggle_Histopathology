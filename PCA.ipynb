{
 "cells": [
  {
   "cell_type": "code",
   "execution_count": 1,
   "id": "528249b4",
   "metadata": {},
   "outputs": [],
   "source": [
    "from helper import *\n",
    "from sklearn.decomposition import PCA\n",
    "from sklearn.preprocessing import StandardScaler\n",
    "from sklearn.linear_model import LogisticRegression"
   ]
  },
  {
   "cell_type": "code",
   "execution_count": 2,
   "id": "7849e721",
   "metadata": {},
   "outputs": [],
   "source": [
    "SUBSET = '20k'\n",
    "DATA_DIR = 'data/'"
   ]
  },
  {
   "cell_type": "markdown",
   "id": "03d2de11",
   "metadata": {},
   "source": [
    "## LBP"
   ]
  },
  {
   "cell_type": "code",
   "execution_count": 3,
   "id": "c3f8469c",
   "metadata": {},
   "outputs": [
    {
     "name": "stdout",
     "output_type": "stream",
     "text": [
      "((20000, 10), dtype('int16')) ((20000,), dtype('uint8'))\n",
      "((10000, 10), dtype('int16')) ((10000,), dtype('uint8'))\n"
     ]
    }
   ],
   "source": [
    "DATA_FILENAME = 'lbp_subset'\n",
    "(Xl_train, y_train), (Xl_test, y_test) = \\\n",
    "    load_npz(DATA_DIR + DATA_FILENAME + SUBSET + '.npz')"
   ]
  },
  {
   "cell_type": "code",
   "execution_count": 4,
   "id": "b6a57412",
   "metadata": {},
   "outputs": [],
   "source": [
    "scaler = StandardScaler()\n",
    "X_train = scaler.fit_transform(Xl_train)\n",
    "X_test = scaler.transform(Xl_test)"
   ]
  },
  {
   "cell_type": "code",
   "execution_count": 5,
   "id": "daa34a63",
   "metadata": {},
   "outputs": [
    {
     "name": "stdout",
     "output_type": "stream",
     "text": [
      "0.90: 3 0.95: 5 0.97: 5 0.99: 7 "
     ]
    }
   ],
   "source": [
    "for variance in [0.90, 0.95, 0.97, 0.99]:\n",
    "    pca = PCA(variance)\n",
    "    pca.fit(X_train)\n",
    "    print(f'{variance:.2f}: {pca.n_components_}', end=' ')"
   ]
  },
  {
   "cell_type": "code",
   "execution_count": 6,
   "id": "58b0786f",
   "metadata": {},
   "outputs": [
    {
     "data": {
      "text/plain": [
       "7"
      ]
     },
     "execution_count": 6,
     "metadata": {},
     "output_type": "execute_result"
    }
   ],
   "source": [
    "pca = PCA(0.99)\n",
    "pca.fit(X_train)\n",
    "PCA_train = pca.transform(X_train)\n",
    "PCA_test = pca.transform(X_test)\n",
    "pca.n_components_"
   ]
  },
  {
   "cell_type": "code",
   "execution_count": 7,
   "id": "375a38fc",
   "metadata": {},
   "outputs": [
    {
     "data": {
      "text/plain": [
       "array([20], dtype=int32)"
      ]
     },
     "execution_count": 7,
     "metadata": {},
     "output_type": "execute_result"
    }
   ],
   "source": [
    "clf = LogisticRegression(class_weight='balanced', max_iter=3000)\n",
    "clf.fit(PCA_train, y_train)\n",
    "clf.n_iter_"
   ]
  },
  {
   "cell_type": "code",
   "execution_count": 8,
   "id": "2d0d53d8",
   "metadata": {},
   "outputs": [
    {
     "data": {
      "text/plain": [
       "0.7365"
      ]
     },
     "execution_count": 8,
     "metadata": {},
     "output_type": "execute_result"
    }
   ],
   "source": [
    "clf.score(PCA_train, y_train)"
   ]
  },
  {
   "cell_type": "code",
   "execution_count": 9,
   "id": "8f2c4f7e",
   "metadata": {},
   "outputs": [
    {
     "name": "stdout",
     "output_type": "stream",
     "text": [
      "0.7397\n"
     ]
    }
   ],
   "source": [
    "y_hat = clf.predict(PCA_test)\n",
    "accuracy = metrics.accuracy_score(y_test, y_hat)\n",
    "print(accuracy)"
   ]
  },
  {
   "cell_type": "markdown",
   "id": "364e60f3",
   "metadata": {},
   "source": [
    "#### 74.0% Test Acc compared to 74.2% w/o PCA dimentionality reduction (10 down to 7)"
   ]
  },
  {
   "cell_type": "markdown",
   "id": "b9f615c6",
   "metadata": {},
   "source": [
    "## Landmark-Dist"
   ]
  },
  {
   "cell_type": "code",
   "execution_count": 10,
   "id": "36f3c39d",
   "metadata": {},
   "outputs": [
    {
     "name": "stdout",
     "output_type": "stream",
     "text": [
      "((20000, 64), dtype('float32')) ((20000,), dtype('uint8'))\n",
      "((10000, 64), dtype('float32')) ((10000,), dtype('uint8'))\n"
     ]
    }
   ],
   "source": [
    "DATA_FILENAME = 'ldist_subset'\n",
    "(Xd_train, y_train), (Xd_test, y_test) = \\\n",
    "    load_npz(DATA_DIR + DATA_FILENAME + SUBSET + '.npz')"
   ]
  },
  {
   "cell_type": "code",
   "execution_count": 11,
   "id": "00dd4fd4",
   "metadata": {},
   "outputs": [],
   "source": [
    "scaler = StandardScaler()\n",
    "X_train = scaler.fit_transform(Xd_train)\n",
    "X_test = scaler.transform(Xd_test)"
   ]
  },
  {
   "cell_type": "code",
   "execution_count": 12,
   "id": "d86c15fe",
   "metadata": {},
   "outputs": [
    {
     "name": "stdout",
     "output_type": "stream",
     "text": [
      "0.90: 3 0.95: 3 0.97: 3 0.99: 3 "
     ]
    }
   ],
   "source": [
    "for variance in [0.90, 0.95, 0.97, 0.99]:\n",
    "    pca = PCA(variance)\n",
    "    pca.fit(X_train)\n",
    "    print(f'{variance:.2f}: {pca.n_components_}', end=' ')"
   ]
  },
  {
   "cell_type": "code",
   "execution_count": 13,
   "id": "c85fcdb7",
   "metadata": {},
   "outputs": [
    {
     "data": {
      "text/plain": [
       "3"
      ]
     },
     "execution_count": 13,
     "metadata": {},
     "output_type": "execute_result"
    }
   ],
   "source": [
    "pca = PCA(0.99)\n",
    "pca.fit(X_train)\n",
    "PCA_train = pca.transform(X_train)\n",
    "PCA_test = pca.transform(X_test)\n",
    "pca.n_components_"
   ]
  },
  {
   "cell_type": "code",
   "execution_count": 14,
   "id": "810dcef8",
   "metadata": {},
   "outputs": [
    {
     "data": {
      "text/plain": [
       "array([13], dtype=int32)"
      ]
     },
     "execution_count": 14,
     "metadata": {},
     "output_type": "execute_result"
    }
   ],
   "source": [
    "clf = LogisticRegression(class_weight='balanced', max_iter=3000)\n",
    "clf.fit(PCA_train, y_train)\n",
    "clf.n_iter_"
   ]
  },
  {
   "cell_type": "code",
   "execution_count": 15,
   "id": "94ec9692",
   "metadata": {},
   "outputs": [
    {
     "data": {
      "text/plain": [
       "0.6762"
      ]
     },
     "execution_count": 15,
     "metadata": {},
     "output_type": "execute_result"
    }
   ],
   "source": [
    "clf.score(PCA_train, y_train)"
   ]
  },
  {
   "cell_type": "code",
   "execution_count": 16,
   "id": "c230e1f0",
   "metadata": {},
   "outputs": [
    {
     "name": "stdout",
     "output_type": "stream",
     "text": [
      "0.6844\n"
     ]
    }
   ],
   "source": [
    "y_hat = clf.predict(PCA_test)\n",
    "accuracy = metrics.accuracy_score(y_test, y_hat)\n",
    "print(accuracy)"
   ]
  },
  {
   "cell_type": "markdown",
   "id": "b30b9d7f",
   "metadata": {},
   "source": [
    "#### 68.4% Test Acc compared to 75.4% w/o PCA dimentionality reduction (64 down to 3)"
   ]
  },
  {
   "cell_type": "code",
   "execution_count": null,
   "id": "4ede8b9f",
   "metadata": {},
   "outputs": [],
   "source": []
  }
 ],
 "metadata": {
  "kernelspec": {
   "display_name": "Python 3 (ipykernel)",
   "language": "python",
   "name": "python3"
  },
  "language_info": {
   "codemirror_mode": {
    "name": "ipython",
    "version": 3
   },
   "file_extension": ".py",
   "mimetype": "text/x-python",
   "name": "python",
   "nbconvert_exporter": "python",
   "pygments_lexer": "ipython3",
   "version": "3.9.6"
  }
 },
 "nbformat": 4,
 "nbformat_minor": 5
}
