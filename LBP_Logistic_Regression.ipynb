{
 "cells": [
  {
   "cell_type": "code",
   "execution_count": 1,
   "id": "eb9693b9",
   "metadata": {},
   "outputs": [],
   "source": [
    "import matplotlib.pyplot as plt\n",
    "import seaborn as sns\n",
    "import numpy as np\n",
    "from sklearn.linear_model import LogisticRegression\n",
    "from sklearn.preprocessing import StandardScaler\n",
    "from sklearn import metrics"
   ]
  },
  {
   "cell_type": "code",
   "execution_count": 2,
   "id": "b06c6c10",
   "metadata": {},
   "outputs": [],
   "source": [
    "DATA_DIR = 'data/'\n",
    "DATA_FILENAME = 'data_lbp_subset20k'"
   ]
  },
  {
   "cell_type": "code",
   "execution_count": 3,
   "id": "273c6b12",
   "metadata": {},
   "outputs": [
    {
     "data": {
      "text/plain": [
       "((20000, 90), (20000,))"
      ]
     },
     "execution_count": 3,
     "metadata": {},
     "output_type": "execute_result"
    }
   ],
   "source": [
    "data_train = np.load(DATA_DIR + DATA_FILENAME + '_train' + '.npz')\n",
    "X_train = data_train['X']\n",
    "y_train = data_train['y']\n",
    "data_train.close()\n",
    "X_train.shape, y_train.shape"
   ]
  },
  {
   "cell_type": "code",
   "execution_count": 4,
   "id": "984f25cb",
   "metadata": {},
   "outputs": [
    {
     "data": {
      "text/plain": [
       "((10000, 90), (10000,))"
      ]
     },
     "execution_count": 4,
     "metadata": {},
     "output_type": "execute_result"
    }
   ],
   "source": [
    "data_test = np.load(DATA_DIR + DATA_FILENAME + '_test' + '.npz')\n",
    "X_test = data_test['X']\n",
    "y_test = data_test['y']\n",
    "data_test.close()\n",
    "X_test.shape, y_test.shape"
   ]
  },
  {
   "cell_type": "code",
   "execution_count": 5,
   "id": "cc3b1727",
   "metadata": {},
   "outputs": [],
   "source": [
    "scaler = StandardScaler()\n",
    "scaler.fit(X_train)\n",
    "X_train = scaler.transform(X_train)\n",
    "X_test = scaler.transform(X_test)"
   ]
  },
  {
   "cell_type": "code",
   "execution_count": 6,
   "id": "a5a9634b",
   "metadata": {},
   "outputs": [],
   "source": [
    "clf = LogisticRegression(class_weight='balanced', max_iter=3000)"
   ]
  },
  {
   "cell_type": "code",
   "execution_count": 7,
   "id": "9ef87006",
   "metadata": {},
   "outputs": [
    {
     "data": {
      "text/plain": [
       "array([58], dtype=int32)"
      ]
     },
     "execution_count": 7,
     "metadata": {},
     "output_type": "execute_result"
    }
   ],
   "source": [
    "clf.fit(X_train, y_train)\n",
    "clf.n_iter_"
   ]
  },
  {
   "cell_type": "code",
   "execution_count": 8,
   "id": "dfc00fc2",
   "metadata": {},
   "outputs": [
    {
     "data": {
      "text/plain": [
       "0.74305"
      ]
     },
     "execution_count": 8,
     "metadata": {},
     "output_type": "execute_result"
    }
   ],
   "source": [
    "clf.score(X_train, y_train)"
   ]
  },
  {
   "cell_type": "code",
   "execution_count": 9,
   "id": "6082bcec",
   "metadata": {},
   "outputs": [
    {
     "name": "stdout",
     "output_type": "stream",
     "text": [
      "0.7348\n"
     ]
    }
   ],
   "source": [
    "y_hat = clf.predict(X_test)\n",
    "accuracy = metrics.accuracy_score(y_test, y_hat)\n",
    "print(accuracy)"
   ]
  },
  {
   "cell_type": "code",
   "execution_count": 10,
   "id": "82ab0f82",
   "metadata": {},
   "outputs": [
    {
     "data": {
      "image/png": "[encoded data removed]",
      "text/plain": [
       "<Figure size 432x288 with 1 Axes>"
      ]
     },
     "metadata": {
      "image/png": {
       "height": 284,
       "width": 268
      },
      "needs_background": "light"
     },
     "output_type": "display_data"
    }
   ],
   "source": [
    "cm = metrics.confusion_matrix(y_test, y_hat)\n",
    "sns.heatmap(cm, annot=True, fmt=\".0f\", cmap='gray', cbar=False, square = True);\n",
    "plt.ylabel('Actual', fontsize=14);\n",
    "plt.xlabel('Predicted', fontsize=14);\n",
    "plt.title(f'Accuracy: {accuracy*100:.0f}%');\n",
    "plt.tick_params(labelsize= 12)"
   ]
  },
  {
   "cell_type": "code",
   "execution_count": null,
   "id": "7c422eb5",
   "metadata": {},
   "outputs": [],
   "source": []
  }
 ],
 "metadata": {
  "kernelspec": {
   "display_name": "Python 3 (ipykernel)",
   "language": "python",
   "name": "python3"
  },
  "language_info": {
   "codemirror_mode": {
    "name": "ipython",
    "version": 3
   },
   "file_extension": ".py",
   "mimetype": "text/x-python",
   "name": "python",
   "nbconvert_exporter": "python",
   "pygments_lexer": "ipython3",
   "version": "3.9.6"
  }
 },
 "nbformat": 4,
 "nbformat_minor": 5
}
