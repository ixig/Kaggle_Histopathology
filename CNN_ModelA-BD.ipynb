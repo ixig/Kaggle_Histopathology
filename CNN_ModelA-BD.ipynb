{
 "cells": [
  {
   "cell_type": "code",
   "execution_count": 1,
   "id": "ffd2e3f9",
   "metadata": {},
   "outputs": [],
   "source": [
    "import os\n",
    "import tensorflow as tf\n",
    "import tensorflow_io as tfio\n",
    "from tensorflow.keras.models import Sequential\n",
    "from tensorflow.keras.layers import *\n",
    "from tensorflow.keras.optimizers import SGD, Adam\n",
    "from keras.losses import BinaryCrossentropy\n",
    "from keras.regularizers import l2"
   ]
  },
  {
   "cell_type": "code",
   "execution_count": 2,
   "id": "554c5265",
   "metadata": {},
   "outputs": [
    {
     "data": {
      "text/plain": [
       "[PhysicalDevice(name='/physical_device:GPU:0', device_type='GPU')]"
      ]
     },
     "execution_count": 2,
     "metadata": {},
     "output_type": "execute_result"
    }
   ],
   "source": [
    "os.environ['TF_CPP_MIN_LOG_LEVEL'] = '3'\n",
    "os.environ[\"CUDA_VISIBLE_DEVICES\"] = '1'\n",
    "tf.config.list_physical_devices('GPU')"
   ]
  },
  {
   "cell_type": "code",
   "execution_count": 3,
   "id": "d028028b",
   "metadata": {},
   "outputs": [],
   "source": [
    "DATA_DIR = 'data'\n",
    "HDF5_FILE = 'data_tf.hdf5'"
   ]
  },
  {
   "cell_type": "code",
   "execution_count": 4,
   "id": "ce1e8bdc",
   "metadata": {},
   "outputs": [],
   "source": [
    "BATCH_SIZE = 64\n",
    "IMG_SHAPE = (96, 96, 4)"
   ]
  },
  {
   "cell_type": "code",
   "execution_count": 5,
   "id": "d2bc132e",
   "metadata": {},
   "outputs": [],
   "source": [
    "data_file = os.path.join(DATA_DIR, HDF5_FILE)\n",
    "ds_x = tfio.IODataset.from_hdf5(data_file, '/x_train')\n",
    "ds_y = tfio.IODataset.from_hdf5(data_file, '/y_train')"
   ]
  },
  {
   "cell_type": "code",
   "execution_count": 6,
   "id": "33c5be02",
   "metadata": {},
   "outputs": [],
   "source": [
    "# convert to float and scale to [0, 1)\n",
    "ds_x = ds_x.map(lambda x: tf.image.convert_image_dtype(x, tf.float32))\n",
    "# ds_x = ds_images.map(lambda x: tf.image.per_image_standardization(x))"
   ]
  },
  {
   "cell_type": "code",
   "execution_count": 7,
   "id": "819b1ab7",
   "metadata": {},
   "outputs": [
    {
     "data": {
      "text/plain": [
       "(220025, 198022)"
      ]
     },
     "execution_count": 7,
     "metadata": {},
     "output_type": "execute_result"
    }
   ],
   "source": [
    "ds_xy = tf.data.Dataset.zip((ds_x, ds_y))\n",
    "ds_xy = ds_xy.shuffle(BATCH_SIZE*2)\n",
    "\n",
    "ds_len = ds_xy.reduce(0, lambda x, _: x + 1).numpy()\n",
    "train_len = int(0.9 * ds_len)\n",
    "\n",
    "ds_train = ds_xy.take(train_len)\n",
    "ds_test = ds_xy.skip(train_len)\n",
    "\n",
    "ds_len, train_len"
   ]
  },
  {
   "cell_type": "raw",
   "id": "4b1cd92e",
   "metadata": {},
   "source": [
    "model = Sequential([\n",
    "    Conv2D(32, (3, 3), activation='relu', input_shape=IMG_SHAPE),\n",
    "    Flatten(),\n",
    "    Dropout(0.35),\n",
    "    Dense(1, activation='sigmoid')\n",
    "])"
   ]
  },
  {
   "cell_type": "code",
   "execution_count": 8,
   "id": "ca6c116c",
   "metadata": {},
   "outputs": [],
   "source": [
    "model = Sequential()\n",
    "\n",
    "model.add(Conv2D(32, (3, 3), activation='relu', kernel_regularizer=l2(1e-4))) #, input_shape=(X_train.shape[1:])))\n",
    "model.add(BatchNormalization())\n",
    "model.add(Conv2D(32, (3, 3), activation='relu', kernel_regularizer=l2(1e-4)))\n",
    "model.add(BatchNormalization())\n",
    "model.add(MaxPooling2D(pool_size=(2, 2)))\n",
    "model.add(Dropout(0.3))\n",
    "\n",
    "model.add(Conv2D(64, (3, 3), padding='same', activation='relu', kernel_regularizer=l2(2e-4)))\n",
    "model.add(BatchNormalization())\n",
    "model.add(Conv2D(64, (3, 3), padding='same', activation='relu', kernel_regularizer=l2(2e-4)))\n",
    "model.add(BatchNormalization())\n",
    "model.add(AveragePooling2D (pool_size=(2, 2)))\n",
    "model.add(Dropout(0.35))\n",
    "\n",
    "model.add(Conv2D(128, (3, 3), padding='same', activation='relu', kernel_regularizer=l2(3e-4)))\n",
    "model.add(BatchNormalization())\n",
    "model.add(Conv2D(128, (3, 3), padding='same', activation='relu', kernel_regularizer=l2(3e-4)))\n",
    "model.add(BatchNormalization())\n",
    "model.add(AveragePooling2D (pool_size=(2, 2)))\n",
    "model.add(Dropout(0.45))\n",
    "\n",
    "model.add(Flatten())\n",
    "model.add(Dense(1, activation='sigmoid'))\n",
    "\n",
    "# model.summary()"
   ]
  },
  {
   "cell_type": "code",
   "execution_count": 9,
   "id": "14a917e8",
   "metadata": {},
   "outputs": [
    {
     "name": "stdout",
     "output_type": "stream",
     "text": [
      "Epoch 1/10\n",
      "3095/3095 - 151s - loss: 0.5271 - accuracy: 0.8240 - val_loss: 0.6606 - val_accuracy: 0.7991\n",
      "Epoch 2/10\n",
      "3095/3095 - 149s - loss: 0.3573 - accuracy: 0.8815 - val_loss: 1.0140 - val_accuracy: 0.7422\n",
      "Epoch 3/10\n",
      "3095/3095 - 149s - loss: 0.2966 - accuracy: 0.9046 - val_loss: 0.9322 - val_accuracy: 0.7402\n",
      "Epoch 4/10\n",
      "3095/3095 - 149s - loss: 0.2672 - accuracy: 0.9135 - val_loss: 0.5167 - val_accuracy: 0.8246\n",
      "Epoch 5/10\n",
      "3095/3095 - 149s - loss: 0.2539 - accuracy: 0.9194 - val_loss: 0.7773 - val_accuracy: 0.7965\n",
      "Epoch 6/10\n",
      "3095/3095 - 149s - loss: 0.2476 - accuracy: 0.9218 - val_loss: 0.4299 - val_accuracy: 0.8376\n",
      "Epoch 7/10\n",
      "3095/3095 - 149s - loss: 0.2422 - accuracy: 0.9234 - val_loss: 0.3845 - val_accuracy: 0.9076\n",
      "Epoch 8/10\n",
      "3095/3095 - 149s - loss: 0.2367 - accuracy: 0.9266 - val_loss: 0.2301 - val_accuracy: 0.9273\n",
      "Epoch 9/10\n",
      "3095/3095 - 149s - loss: 0.2338 - accuracy: 0.9269 - val_loss: 0.2402 - val_accuracy: 0.9266\n",
      "Epoch 10/10\n",
      "3095/3095 - 149s - loss: 0.2314 - accuracy: 0.9281 - val_loss: 1.1390 - val_accuracy: 0.6286\n"
     ]
    }
   ],
   "source": [
    "ds_train = ds_train.batch(BATCH_SIZE).prefetch(tf.data.AUTOTUNE)\n",
    "ds_test = ds_test.batch(BATCH_SIZE).prefetch(tf.data.AUTOTUNE)\n",
    "\n",
    "model.compile(loss=BinaryCrossentropy(from_logits=False),\n",
    "              optimizer=Adam(learning_rate=1e-3),\n",
    "              metrics=['accuracy'])\n",
    "\n",
    "history = model.fit(ds_train,\n",
    "                    epochs=10,\n",
    "                    verbose=2, \n",
    "                    validation_data=ds_test\n",
    "                   )"
   ]
  },
  {
   "cell_type": "code",
   "execution_count": 10,
   "id": "968da4a2",
   "metadata": {},
   "outputs": [
    {
     "name": "stdout",
     "output_type": "stream",
     "text": [
      "Epoch 1/10\n",
      "1548/1548 - 160s - loss: 0.1855 - accuracy: 0.9460 - val_loss: 0.1690 - val_accuracy: 0.9521\n",
      "Epoch 2/10\n",
      "1548/1548 - 157s - loss: 0.1752 - accuracy: 0.9486 - val_loss: 0.1939 - val_accuracy: 0.9395\n",
      "Epoch 3/10\n",
      "1548/1548 - 157s - loss: 0.1685 - accuracy: 0.9507 - val_loss: 0.1666 - val_accuracy: 0.9499\n",
      "Epoch 4/10\n",
      "1548/1548 - 159s - loss: 0.1642 - accuracy: 0.9515 - val_loss: 0.1545 - val_accuracy: 0.9531\n",
      "Epoch 5/10\n",
      "1548/1548 - 157s - loss: 0.1600 - accuracy: 0.9526 - val_loss: 0.2099 - val_accuracy: 0.9316\n",
      "Epoch 6/10\n",
      "1548/1548 - 148s - loss: 0.1574 - accuracy: 0.9535 - val_loss: 0.1585 - val_accuracy: 0.9522\n",
      "Epoch 7/10\n",
      "1548/1548 - 149s - loss: 0.1545 - accuracy: 0.9541 - val_loss: 0.1652 - val_accuracy: 0.9503\n",
      "Epoch 8/10\n",
      "1548/1548 - 148s - loss: 0.1530 - accuracy: 0.9541 - val_loss: 0.1449 - val_accuracy: 0.9578\n",
      "Epoch 9/10\n",
      "1548/1548 - 148s - loss: 0.1507 - accuracy: 0.9549 - val_loss: 0.1739 - val_accuracy: 0.9434\n",
      "Epoch 10/10\n",
      "1548/1548 - 148s - loss: 0.1487 - accuracy: 0.9560 - val_loss: 0.1869 - val_accuracy: 0.9386\n"
     ]
    }
   ],
   "source": [
    "ds_train = ds_train.unbatch()\n",
    "ds_test = ds_test.unbatch()\n",
    "ds_train = ds_train.batch(128).prefetch(tf.data.AUTOTUNE)\n",
    "ds_test = ds_test.batch(128).prefetch(tf.data.AUTOTUNE)\n",
    "\n",
    "model.compile(loss=BinaryCrossentropy(from_logits=False),\n",
    "              optimizer=Adam(learning_rate=2e-4),\n",
    "              metrics=['accuracy'])\n",
    "\n",
    "history = model.fit(ds_train,\n",
    "                    epochs=10,\n",
    "                    verbose=2, \n",
    "                    validation_data=ds_test\n",
    "                   )"
   ]
  },
  {
   "cell_type": "code",
   "execution_count": 11,
   "id": "3cde878e",
   "metadata": {},
   "outputs": [
    {
     "name": "stdout",
     "output_type": "stream",
     "text": [
      "Epoch 1/10\n",
      "774/774 - 164s - loss: 0.1339 - accuracy: 0.9612 - val_loss: 0.1368 - val_accuracy: 0.9593\n",
      "Epoch 2/10\n",
      "774/774 - 149s - loss: 0.1317 - accuracy: 0.9618 - val_loss: 0.1419 - val_accuracy: 0.9573\n",
      "Epoch 3/10\n",
      "774/774 - 158s - loss: 0.1299 - accuracy: 0.9624 - val_loss: 0.1447 - val_accuracy: 0.9561\n",
      "Epoch 4/10\n",
      "774/774 - 159s - loss: 0.1308 - accuracy: 0.9619 - val_loss: 0.1361 - val_accuracy: 0.9596\n",
      "Epoch 5/10\n",
      "774/774 - 160s - loss: 0.1282 - accuracy: 0.9628 - val_loss: 0.1387 - val_accuracy: 0.9590\n",
      "Epoch 6/10\n",
      "774/774 - 159s - loss: 0.1277 - accuracy: 0.9631 - val_loss: 0.1348 - val_accuracy: 0.9607\n",
      "Epoch 7/10\n",
      "774/774 - 161s - loss: 0.1263 - accuracy: 0.9637 - val_loss: 0.1375 - val_accuracy: 0.9597\n",
      "Epoch 8/10\n",
      "774/774 - 161s - loss: 0.1260 - accuracy: 0.9636 - val_loss: 0.1327 - val_accuracy: 0.9613\n",
      "Epoch 9/10\n",
      "774/774 - 161s - loss: 0.1255 - accuracy: 0.9637 - val_loss: 0.1331 - val_accuracy: 0.9599\n",
      "Epoch 10/10\n",
      "774/774 - 156s - loss: 0.1255 - accuracy: 0.9632 - val_loss: 0.1311 - val_accuracy: 0.9617\n"
     ]
    }
   ],
   "source": [
    "ds_train = ds_train.unbatch()\n",
    "ds_test = ds_test.unbatch()\n",
    "ds_train = ds_train.batch(256).prefetch(tf.data.AUTOTUNE)\n",
    "ds_test = ds_test.batch(256).prefetch(tf.data.AUTOTUNE)\n",
    "\n",
    "model.compile(loss=BinaryCrossentropy(from_logits=False),\n",
    "              optimizer=Adam(learning_rate=5e-5),\n",
    "              metrics=['accuracy'])\n",
    "\n",
    "history = model.fit(ds_train,\n",
    "                    epochs=10,\n",
    "                    verbose=2, \n",
    "                    validation_data=ds_test\n",
    "                   )"
   ]
  },
  {
   "cell_type": "code",
   "execution_count": null,
   "id": "0a2884f0",
   "metadata": {},
   "outputs": [],
   "source": []
  }
 ],
 "metadata": {
  "kernelspec": {
   "display_name": "Python 3 (ipykernel)",
   "language": "python",
   "name": "python3"
  },
  "language_info": {
   "codemirror_mode": {
    "name": "ipython",
    "version": 3
   },
   "file_extension": ".py",
   "mimetype": "text/x-python",
   "name": "python",
   "nbconvert_exporter": "python",
   "pygments_lexer": "ipython3",
   "version": "3.8.10"
  }
 },
 "nbformat": 4,
 "nbformat_minor": 5
}
