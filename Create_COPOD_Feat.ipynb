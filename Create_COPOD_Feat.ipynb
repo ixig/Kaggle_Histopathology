{
 "cells": [
  {
   "cell_type": "code",
   "execution_count": 1,
   "id": "eecd25de",
   "metadata": {},
   "outputs": [],
   "source": [
    "from helper import *\n",
    "from skimage.feature import local_binary_pattern\n",
    "from pyod.models.copod import COPOD"
   ]
  },
  {
   "cell_type": "code",
   "execution_count": 2,
   "id": "23b0c034",
   "metadata": {},
   "outputs": [],
   "source": [
    "SUBSET = '20k'\n",
    "DATA_DIR = 'data/'\n",
    "DATA_FILENAME = 'lbp_subset' + SUBSET"
   ]
  },
  {
   "cell_type": "code",
   "execution_count": 3,
   "id": "11e68f15",
   "metadata": {},
   "outputs": [
    {
     "name": "stdout",
     "output_type": "stream",
     "text": [
      "((20000, 10), dtype('int16')) ((20000,), dtype('uint8'))\n",
      "((10000, 10), dtype('int16')) ((10000,), dtype('uint8'))\n"
     ]
    }
   ],
   "source": [
    "(X_train, y_train), (X_test, y_test) = \\\n",
    "    load_npz(DATA_DIR + DATA_FILENAME + '.npz')"
   ]
  },
  {
   "cell_type": "code",
   "execution_count": 4,
   "id": "1c5338e6",
   "metadata": {},
   "outputs": [
    {
     "data": {
      "text/plain": [
       "(8112, 11888)"
      ]
     },
     "execution_count": 4,
     "metadata": {},
     "output_type": "execute_result"
    }
   ],
   "source": [
    "TRAIN_SAMPLES = len(X_train)\n",
    "train_pos = []\n",
    "train_neg = []\n",
    "for x, y in zip(X_train, y_train):\n",
    "    if y:\n",
    "        train_pos.append(x)\n",
    "    else:\n",
    "        train_neg.append(x)\n",
    "num_pos = len(train_pos)\n",
    "num_neg = len(train_neg)\n",
    "num_pos, num_neg"
   ]
  },
  {
   "cell_type": "code",
   "execution_count": 5,
   "id": "f94c61da",
   "metadata": {},
   "outputs": [
    {
     "data": {
      "text/plain": [
       "(((8112, 10), dtype('int16')), ((11888, 10), dtype('int16')))"
      ]
     },
     "execution_count": 5,
     "metadata": {},
     "output_type": "execute_result"
    }
   ],
   "source": [
    "X_pos = np.array(train_pos)\n",
    "X_neg = np.array(train_neg)\n",
    "(X_pos.shape, X_pos.dtype), (X_neg.shape, X_neg.dtype)"
   ]
  },
  {
   "cell_type": "code",
   "execution_count": 6,
   "id": "20299b5e",
   "metadata": {},
   "outputs": [
    {
     "name": "stdout",
     "output_type": "stream",
     "text": [
      "CPU times: user 201 ms, sys: 9.63 ms, total: 211 ms\n",
      "Wall time: 211 ms\n"
     ]
    }
   ],
   "source": [
    "%%time\n",
    "pos_clf = COPOD()\n",
    "pos_clf.fit(X_pos)\n",
    "pos_pos_scores = pos_clf.decision_scores_\n",
    "pos_neg_scores = pos_clf.decision_function(X_neg)"
   ]
  },
  {
   "cell_type": "code",
   "execution_count": 7,
   "id": "a3342292",
   "metadata": {},
   "outputs": [
    {
     "name": "stdout",
     "output_type": "stream",
     "text": [
      "13.403675318069116 6.616887190253705\n",
      "14.617824717863698 7.687808734152937\n"
     ]
    }
   ],
   "source": [
    "print( pos_pos_scores.mean(), pos_pos_scores.std() )\n",
    "print( pos_neg_scores.mean(), pos_neg_scores.std() )"
   ]
  },
  {
   "cell_type": "code",
   "execution_count": 8,
   "id": "a926e152",
   "metadata": {},
   "outputs": [
    {
     "name": "stdout",
     "output_type": "stream",
     "text": [
      "CPU times: user 248 ms, sys: 9.47 ms, total: 258 ms\n",
      "Wall time: 258 ms\n"
     ]
    }
   ],
   "source": [
    "%%time\n",
    "neg_clf = COPOD()\n",
    "neg_clf.fit(X_neg)\n",
    "neg_neg_scores = neg_clf.decision_scores_\n",
    "neg_pos_scores = neg_clf.decision_function(X_pos)"
   ]
  },
  {
   "cell_type": "code",
   "execution_count": 9,
   "id": "fb6000b3",
   "metadata": {},
   "outputs": [
    {
     "name": "stdout",
     "output_type": "stream",
     "text": [
      "13.420146988951801 6.662243840264217\n",
      "11.664317627533586 4.24494775791951\n"
     ]
    }
   ],
   "source": [
    "print( neg_neg_scores.mean(), neg_neg_scores.std() )\n",
    "print( neg_pos_scores.mean(), neg_pos_scores.std() )"
   ]
  },
  {
   "cell_type": "code",
   "execution_count": 10,
   "id": "0dee603a",
   "metadata": {},
   "outputs": [],
   "source": [
    "def predict(X: np.ndarray, y: np.ndarray, m: int, offs: int):\n",
    "    names = []\n",
    "    count_pos, count_neg = 0, 0\n",
    "    for i, name in enumerate(train[offs:offs+m]):\n",
    "        names.append(name)\n",
    "        dset = f['train'][name]\n",
    "        img = dset[()]\n",
    "        hist = lbpu_histogram(img).reshape(1,-1)\n",
    "        X[i, 0] = pos_clf.decision_function(hist)\n",
    "        X[i, 1] = neg_clf.decision_function(hist)\n",
    "        label = dset.attrs['label']\n",
    "        y[i] = label\n",
    "        if label == 1:\n",
    "            count_pos += 1\n",
    "        elif label == 0:\n",
    "            count_neg += 1\n",
    "        else:\n",
    "            raise Exception\n",
    "    print(f'Pos: {count_pos/m*100:.1f}, Neg: {count_neg/m*100:.1f}')\n",
    "    return names"
   ]
  },
  {
   "cell_type": "code",
   "execution_count": 11,
   "id": "b0ca8e03",
   "metadata": {},
   "outputs": [
    {
     "name": "stdout",
     "output_type": "stream",
     "text": [
      "CPU times: user 3 µs, sys: 1 µs, total: 4 µs\n",
      "Wall time: 8.11 µs\n"
     ]
    },
    {
     "data": {
      "text/plain": [
       "((20000, 2), dtype('float32'))"
      ]
     },
     "execution_count": 11,
     "metadata": {},
     "output_type": "execute_result"
    }
   ],
   "source": [
    "%time\n",
    "Xf_train = np.column_stack((\n",
    "    pos_clf.decision_function(X_train).astype('float32'),\n",
    "    neg_clf.decision_function(X_train).astype('float32'),\n",
    "))\n",
    "Xf_train.shape, Xf_train.dtype"
   ]
  },
  {
   "cell_type": "code",
   "execution_count": 12,
   "id": "cb48eaa5",
   "metadata": {},
   "outputs": [
    {
     "name": "stdout",
     "output_type": "stream",
     "text": [
      "CPU times: user 3 µs, sys: 1 µs, total: 4 µs\n",
      "Wall time: 5.96 µs\n"
     ]
    },
    {
     "data": {
      "text/plain": [
       "((10000, 2), dtype('float32'))"
      ]
     },
     "execution_count": 12,
     "metadata": {},
     "output_type": "execute_result"
    }
   ],
   "source": [
    "%time\n",
    "Xf_test = np.column_stack((\n",
    "    pos_clf.decision_function(X_test).astype('float32'),\n",
    "    neg_clf.decision_function(X_test).astype('float32'),\n",
    "))\n",
    "Xf_test.shape, Xf_test.dtype"
   ]
  },
  {
   "cell_type": "code",
   "execution_count": 13,
   "id": "5f9261af",
   "metadata": {},
   "outputs": [],
   "source": [
    "SUBSET_FILENAME = 'copod_subset' + SUBSET\n",
    "np.savez(DATA_DIR + SUBSET_FILENAME,\n",
    "         X_train=Xf_train, y_train=y_train,\n",
    "         X_test=Xf_test, y_test=y_test)"
   ]
  },
  {
   "cell_type": "code",
   "execution_count": 14,
   "id": "1f40f1e1",
   "metadata": {},
   "outputs": [
    {
     "name": "stdout",
     "output_type": "stream",
     "text": [
      "n_est: Train, Test\n",
      "400  : 73.4,  70.4\n",
      "600  : 74.4,  69.5\n",
      "800  : 75.4,  68.8\n"
     ]
    }
   ],
   "source": [
    "GBT(Xf_train, Xf_test, y_train, y_test)"
   ]
  },
  {
   "cell_type": "code",
   "execution_count": null,
   "id": "66c3b761",
   "metadata": {},
   "outputs": [],
   "source": []
  }
 ],
 "metadata": {
  "kernelspec": {
   "display_name": "Python 3 (ipykernel)",
   "language": "python",
   "name": "python3"
  },
  "language_info": {
   "codemirror_mode": {
    "name": "ipython",
    "version": 3
   },
   "file_extension": ".py",
   "mimetype": "text/x-python",
   "name": "python",
   "nbconvert_exporter": "python",
   "pygments_lexer": "ipython3",
   "version": "3.9.6"
  }
 },
 "nbformat": 4,
 "nbformat_minor": 5
}
