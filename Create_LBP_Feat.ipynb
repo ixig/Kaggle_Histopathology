{
 "cells": [
  {
   "cell_type": "markdown",
   "id": "fa5b57cd",
   "metadata": {},
   "source": [
    "# Generate LBP features and Evaluate on GBT classifier"
   ]
  },
  {
   "cell_type": "code",
   "execution_count": 1,
   "id": "46bdb08c",
   "metadata": {},
   "outputs": [],
   "source": [
    "from helper import *\n",
    "from skimage.feature import local_binary_pattern"
   ]
  },
  {
   "cell_type": "code",
   "execution_count": 2,
   "id": "9fb29f88",
   "metadata": {},
   "outputs": [],
   "source": [
    "SUBSET = '20k'\n",
    "DATA_DIR = 'data/'\n",
    "DATA_FILENAME = '1d_subset' + SUBSET"
   ]
  },
  {
   "cell_type": "code",
   "execution_count": 3,
   "id": "302c106e",
   "metadata": {},
   "outputs": [
    {
     "name": "stdout",
     "output_type": "stream",
     "text": [
      "((20000, 9216), dtype('uint8')) ((20000,), dtype('uint8'))\n",
      "((10000, 9216), dtype('uint8')) ((10000,), dtype('uint8'))\n"
     ]
    }
   ],
   "source": [
    "(X_train, y_train), (X_test, y_test) = \\\n",
    "    load_npz(DATA_DIR + DATA_FILENAME + '.npz')"
   ]
  },
  {
   "cell_type": "code",
   "execution_count": 4,
   "id": "cf9b602b",
   "metadata": {},
   "outputs": [],
   "source": [
    "# Local Binary Pattern Histogram\n",
    "def lbpu_histogram(img):\n",
    "    patterns = local_binary_pattern(img, 8, 1, 'uniform')\n",
    "    hist, _ = np.histogram(patterns, bins=np.arange(10 + 1))\n",
    "    return hist.astype('int16')"
   ]
  },
  {
   "cell_type": "code",
   "execution_count": 5,
   "id": "a0838a92",
   "metadata": {},
   "outputs": [],
   "source": [
    "# Turn a <v> of size 9216 (96x96) + 2304 (48x48) into 1-D LDP\n",
    "# feature vector of size 40 (10x2x2) (2x2LDP histogram)\n",
    "def vec_to_feat(v):\n",
    "    img = v[:9216].reshape(96, 96)\n",
    "    return lbpu_histogram(img)"
   ]
  },
  {
   "cell_type": "code",
   "execution_count": 6,
   "id": "32c2ef8a",
   "metadata": {},
   "outputs": [
    {
     "data": {
      "text/plain": [
       "((20000, 10), dtype('int16'))"
      ]
     },
     "execution_count": 6,
     "metadata": {},
     "output_type": "execute_result"
    }
   ],
   "source": [
    "Xf_train = np.apply_along_axis(delayed(vec_to_feat), 1, X_train)\n",
    "Xf_train = np.concatenate(compute([x for x in Xf_train]))\n",
    "Xf_train.shape, Xf_train.dtype"
   ]
  },
  {
   "cell_type": "code",
   "execution_count": 7,
   "id": "7b123ac4",
   "metadata": {},
   "outputs": [
    {
     "data": {
      "text/plain": [
       "((10000, 10), dtype('int16'))"
      ]
     },
     "execution_count": 7,
     "metadata": {},
     "output_type": "execute_result"
    }
   ],
   "source": [
    "Xf_test = np.apply_along_axis(delayed(vec_to_feat), 1, X_test)\n",
    "Xf_test = np.concatenate(compute([x for x in Xf_test]))\n",
    "Xf_test.shape, Xf_test.dtype"
   ]
  },
  {
   "cell_type": "code",
   "execution_count": 8,
   "id": "bca93d12",
   "metadata": {},
   "outputs": [],
   "source": [
    "SUBSET_FILENAME = 'lbp_subset' + SUBSET\n",
    "np.savez(DATA_DIR + SUBSET_FILENAME,\n",
    "         X_train=Xf_train, y_train=y_train,\n",
    "         X_test=Xf_test, y_test=y_test)"
   ]
  },
  {
   "cell_type": "code",
   "execution_count": 9,
   "id": "e8cdd9d4",
   "metadata": {},
   "outputs": [
    {
     "name": "stdout",
     "output_type": "stream",
     "text": [
      "n_est: Train, Test\n",
      "400  : 81.5,  78.3\n",
      "600  : 82.7,  78.3\n",
      "800  : 83.9,  78.2\n"
     ]
    }
   ],
   "source": [
    "GBT(Xf_train, Xf_test, y_train, y_test)"
   ]
  },
  {
   "cell_type": "code",
   "execution_count": null,
   "id": "d7e441d9",
   "metadata": {},
   "outputs": [],
   "source": []
  }
 ],
 "metadata": {
  "kernelspec": {
   "display_name": "Python 3 (ipykernel)",
   "language": "python",
   "name": "python3"
  },
  "language_info": {
   "codemirror_mode": {
    "name": "ipython",
    "version": 3
   },
   "file_extension": ".py",
   "mimetype": "text/x-python",
   "name": "python",
   "nbconvert_exporter": "python",
   "pygments_lexer": "ipython3",
   "version": "3.9.10"
  }
 },
 "nbformat": 4,
 "nbformat_minor": 5
}
