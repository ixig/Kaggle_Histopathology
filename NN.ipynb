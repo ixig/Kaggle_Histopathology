{
 "cells": [
  {
   "cell_type": "code",
   "execution_count": 1,
   "id": "edbe1831",
   "metadata": {},
   "outputs": [],
   "source": [
    "from helper import *"
   ]
  },
  {
   "cell_type": "code",
   "execution_count": 2,
   "id": "4d857b7f",
   "metadata": {},
   "outputs": [],
   "source": [
    "SUBSET = '200k'\n",
    "DATA_DIR = 'data/'"
   ]
  },
  {
   "cell_type": "code",
   "execution_count": 3,
   "id": "db8eef97",
   "metadata": {},
   "outputs": [
    {
     "name": "stdout",
     "output_type": "stream",
     "text": [
      "((200000, 40), dtype('int16')) ((200000,), dtype('uint8'))\n",
      "((20000, 40), dtype('int16')) ((20000,), dtype('uint8'))\n"
     ]
    }
   ],
   "source": [
    "DATA_FILENAME = '2x2lbp_subset'\n",
    "(Xl_train, y_train), (Xl_test, y_test) = \\\n",
    "    load_npz(DATA_DIR + DATA_FILENAME + SUBSET + '.npz')"
   ]
  },
  {
   "cell_type": "code",
   "execution_count": 4,
   "id": "a68a64b3",
   "metadata": {},
   "outputs": [
    {
     "name": "stdout",
     "output_type": "stream",
     "text": [
      "((200000, 4), dtype('float32')) ((200000,), dtype('uint8'))\n",
      "((20000, 4), dtype('float32')) ((20000,), dtype('uint8'))\n"
     ]
    }
   ],
   "source": [
    "DATA_FILENAME = '2gabor_subset'\n",
    "(Xg_train, y_train_), (Xg_test, y_test_) = \\\n",
    "    load_npz(DATA_DIR + DATA_FILENAME + SUBSET + '.npz')\n",
    "assert np.all(y_train == y_train_)\n",
    "assert np.all(y_test == y_test_)"
   ]
  },
  {
   "cell_type": "code",
   "execution_count": 5,
   "id": "7d5af8f2",
   "metadata": {},
   "outputs": [
    {
     "name": "stdout",
     "output_type": "stream",
     "text": [
      "((200000, 16), dtype('float32')) ((200000,), dtype('uint8'))\n",
      "((20000, 16), dtype('float32')) ((20000,), dtype('uint8'))\n"
     ]
    }
   ],
   "source": [
    "DATA_FILENAME = '2d_gaboscharr_subset'\n",
    "(Xs_train, y_train_), (Xs_test, y_test_) = \\\n",
    "    load_npz(DATA_DIR + DATA_FILENAME + SUBSET + '.npz')\n",
    "assert np.all(y_train == y_train_)\n",
    "assert np.all(y_test == y_test_)"
   ]
  },
  {
   "cell_type": "code",
   "execution_count": 6,
   "id": "64004ac0",
   "metadata": {},
   "outputs": [
    {
     "data": {
      "text/plain": [
       "((200000, 60), (20000, 60))"
      ]
     },
     "execution_count": 6,
     "metadata": {},
     "output_type": "execute_result"
    }
   ],
   "source": [
    "Xf_train = np.hstack((Xl_train, Xg_train, Xs_train))\n",
    "Xf_test = np.hstack((Xl_test, Xg_test, Xs_test))\n",
    "Xf_train.shape, Xf_test.shape"
   ]
  },
  {
   "cell_type": "code",
   "execution_count": 7,
   "id": "f13aaffd",
   "metadata": {},
   "outputs": [],
   "source": [
    "import tensorflow as tf\n",
    "from tensorflow import keras\n",
    "from keras.models import Sequential\n",
    "from keras.losses import BinaryCrossentropy\n",
    "from keras.layers import *\n",
    "from tensorflow.keras.optimizers import SGD, Adam\n",
    "import os"
   ]
  },
  {
   "cell_type": "code",
   "execution_count": 8,
   "id": "51dd937b",
   "metadata": {},
   "outputs": [
    {
     "data": {
      "text/plain": [
       "[PhysicalDevice(name='/physical_device:GPU:0', device_type='GPU')]"
      ]
     },
     "execution_count": 8,
     "metadata": {},
     "output_type": "execute_result"
    }
   ],
   "source": [
    "os.environ['TF_CPP_MIN_LOG_LEVEL'] = '3'\n",
    "os.environ[\"CUDA_VISIBLE_DEVICES\"] = '1'\n",
    "tf.config.list_physical_devices('GPU')"
   ]
  },
  {
   "cell_type": "code",
   "execution_count": 9,
   "id": "12ac2a3d",
   "metadata": {},
   "outputs": [
    {
     "name": "stdout",
     "output_type": "stream",
     "text": [
      "Model: \"sequential\"\n",
      "_________________________________________________________________\n",
      "Layer (type)                 Output Shape              Param #   \n",
      "=================================================================\n",
      "dense (Dense)                (None, 60)                3660      \n",
      "_________________________________________________________________\n",
      "dropout (Dropout)            (None, 60)                0         \n",
      "_________________________________________________________________\n",
      "dense_1 (Dense)              (None, 60)                3660      \n",
      "_________________________________________________________________\n",
      "dropout_1 (Dropout)          (None, 60)                0         \n",
      "_________________________________________________________________\n",
      "dense_2 (Dense)              (None, 1)                 61        \n",
      "=================================================================\n",
      "Total params: 7,381\n",
      "Trainable params: 7,381\n",
      "Non-trainable params: 0\n",
      "_________________________________________________________________\n"
     ]
    }
   ],
   "source": [
    "model = Sequential()\n",
    "\n",
    "model.add(Dense(60, activation='relu', input_shape=(Xf_train.shape[1:])))\n",
    "model.add(Dropout(0.005))\n",
    "model.add(Dense(60, activation='relu'))\n",
    "model.add(Dropout(0.005))\n",
    "model.add(Dense(1, activation='sigmoid'))\n",
    "\n",
    "model.summary()"
   ]
  },
  {
   "cell_type": "code",
   "execution_count": 10,
   "id": "c09c3b45",
   "metadata": {},
   "outputs": [],
   "source": [
    "Xf_mean = Xf_train.mean(axis=0)\n",
    "Xf_std = Xf_train.std(axis=0)\n",
    "Xf_train = (Xf_train - Xf_mean) / Xf_std\n",
    "Xf_test = (Xf_test - Xf_mean) / Xf_std"
   ]
  },
  {
   "cell_type": "code",
   "execution_count": 11,
   "id": "51dc95f6",
   "metadata": {
    "scrolled": false
   },
   "outputs": [
    {
     "name": "stdout",
     "output_type": "stream",
     "text": [
      "Epoch 1/25\n",
      "3125/3125 - 3s - loss: 0.3418 - accuracy: 0.8507 - val_loss: 0.2987 - val_accuracy: 0.8717\n",
      "Epoch 2/25\n",
      "3125/3125 - 2s - loss: 0.2897 - accuracy: 0.8773 - val_loss: 0.2793 - val_accuracy: 0.8836\n",
      "Epoch 3/25\n",
      "3125/3125 - 2s - loss: 0.2740 - accuracy: 0.8854 - val_loss: 0.2685 - val_accuracy: 0.8872\n",
      "Epoch 4/25\n",
      "3125/3125 - 2s - loss: 0.2622 - accuracy: 0.8910 - val_loss: 0.2565 - val_accuracy: 0.8945\n",
      "Epoch 5/25\n",
      "3125/3125 - 2s - loss: 0.2543 - accuracy: 0.8953 - val_loss: 0.2528 - val_accuracy: 0.8945\n",
      "Epoch 6/25\n",
      "3125/3125 - 2s - loss: 0.2475 - accuracy: 0.8984 - val_loss: 0.2434 - val_accuracy: 0.9003\n",
      "Epoch 7/25\n",
      "3125/3125 - 2s - loss: 0.2424 - accuracy: 0.9007 - val_loss: 0.2463 - val_accuracy: 0.8976\n",
      "Epoch 8/25\n",
      "3125/3125 - 2s - loss: 0.2371 - accuracy: 0.9035 - val_loss: 0.2386 - val_accuracy: 0.9046\n",
      "Epoch 9/25\n",
      "3125/3125 - 2s - loss: 0.2343 - accuracy: 0.9046 - val_loss: 0.2373 - val_accuracy: 0.9042\n",
      "Epoch 10/25\n",
      "3125/3125 - 2s - loss: 0.2296 - accuracy: 0.9070 - val_loss: 0.2262 - val_accuracy: 0.9100\n",
      "Epoch 11/25\n",
      "3125/3125 - 2s - loss: 0.2258 - accuracy: 0.9081 - val_loss: 0.2317 - val_accuracy: 0.9058\n",
      "Epoch 12/25\n",
      "3125/3125 - 2s - loss: 0.2233 - accuracy: 0.9098 - val_loss: 0.2323 - val_accuracy: 0.9086\n",
      "Epoch 13/25\n",
      "3125/3125 - 2s - loss: 0.2206 - accuracy: 0.9108 - val_loss: 0.2174 - val_accuracy: 0.9137\n",
      "Epoch 14/25\n",
      "3125/3125 - 2s - loss: 0.2182 - accuracy: 0.9120 - val_loss: 0.2236 - val_accuracy: 0.9131\n",
      "Epoch 15/25\n",
      "3125/3125 - 2s - loss: 0.2162 - accuracy: 0.9128 - val_loss: 0.2190 - val_accuracy: 0.9140\n",
      "Epoch 16/25\n",
      "3125/3125 - 2s - loss: 0.2147 - accuracy: 0.9139 - val_loss: 0.2208 - val_accuracy: 0.9132\n",
      "Epoch 17/25\n",
      "3125/3125 - 2s - loss: 0.2121 - accuracy: 0.9152 - val_loss: 0.2176 - val_accuracy: 0.9129\n",
      "Epoch 18/25\n",
      "3125/3125 - 2s - loss: 0.2108 - accuracy: 0.9155 - val_loss: 0.2133 - val_accuracy: 0.9165\n",
      "Epoch 19/25\n",
      "3125/3125 - 2s - loss: 0.2084 - accuracy: 0.9166 - val_loss: 0.2178 - val_accuracy: 0.9140\n",
      "Epoch 20/25\n",
      "3125/3125 - 2s - loss: 0.2063 - accuracy: 0.9174 - val_loss: 0.2098 - val_accuracy: 0.9192\n",
      "Epoch 21/25\n",
      "3125/3125 - 2s - loss: 0.2050 - accuracy: 0.9179 - val_loss: 0.2152 - val_accuracy: 0.9142\n",
      "Epoch 22/25\n",
      "3125/3125 - 2s - loss: 0.2042 - accuracy: 0.9179 - val_loss: 0.2069 - val_accuracy: 0.9178\n",
      "Epoch 23/25\n",
      "3125/3125 - 2s - loss: 0.2026 - accuracy: 0.9191 - val_loss: 0.2108 - val_accuracy: 0.9168\n",
      "Epoch 24/25\n",
      "3125/3125 - 2s - loss: 0.2011 - accuracy: 0.9198 - val_loss: 0.2067 - val_accuracy: 0.9183\n",
      "Epoch 25/25\n",
      "3125/3125 - 2s - loss: 0.2003 - accuracy: 0.9199 - val_loss: 0.2114 - val_accuracy: 0.9186\n"
     ]
    }
   ],
   "source": [
    "model.compile(loss=BinaryCrossentropy(from_logits=False),\n",
    "              optimizer=Adam(learning_rate=1e-3),\n",
    "              metrics=['accuracy'])\n",
    "\n",
    "history1 = model.fit(Xf_train, y_train,\n",
    "                    batch_size=64,\n",
    "                    epochs=25,\n",
    "                    verbose=2, \n",
    "                    validation_data=(Xf_test, y_test)\n",
    "                   )"
   ]
  },
  {
   "cell_type": "code",
   "execution_count": 12,
   "id": "a71a47bb",
   "metadata": {},
   "outputs": [
    {
     "name": "stdout",
     "output_type": "stream",
     "text": [
      "Epoch 1/25\n",
      "1563/1563 - 2s - loss: 0.1836 - accuracy: 0.9280 - val_loss: 0.1944 - val_accuracy: 0.9244\n",
      "Epoch 2/25\n",
      "1563/1563 - 1s - loss: 0.1819 - accuracy: 0.9286 - val_loss: 0.1949 - val_accuracy: 0.9245\n",
      "Epoch 3/25\n",
      "1563/1563 - 1s - loss: 0.1808 - accuracy: 0.9288 - val_loss: 0.1944 - val_accuracy: 0.9253\n",
      "Epoch 4/25\n",
      "1563/1563 - 1s - loss: 0.1804 - accuracy: 0.9292 - val_loss: 0.1936 - val_accuracy: 0.9254\n",
      "Epoch 5/25\n",
      "1563/1563 - 1s - loss: 0.1800 - accuracy: 0.9297 - val_loss: 0.1940 - val_accuracy: 0.9257\n",
      "Epoch 6/25\n",
      "1563/1563 - 1s - loss: 0.1791 - accuracy: 0.9298 - val_loss: 0.1927 - val_accuracy: 0.9247\n",
      "Epoch 7/25\n",
      "1563/1563 - 1s - loss: 0.1790 - accuracy: 0.9299 - val_loss: 0.1931 - val_accuracy: 0.9251\n",
      "Epoch 8/25\n",
      "1563/1563 - 1s - loss: 0.1787 - accuracy: 0.9300 - val_loss: 0.1930 - val_accuracy: 0.9264\n",
      "Epoch 9/25\n",
      "1563/1563 - 1s - loss: 0.1781 - accuracy: 0.9299 - val_loss: 0.1934 - val_accuracy: 0.9254\n",
      "Epoch 10/25\n",
      "1563/1563 - 2s - loss: 0.1776 - accuracy: 0.9305 - val_loss: 0.1936 - val_accuracy: 0.9255\n",
      "Epoch 11/25\n",
      "1563/1563 - 1s - loss: 0.1773 - accuracy: 0.9301 - val_loss: 0.1926 - val_accuracy: 0.9261\n",
      "Epoch 12/25\n",
      "1563/1563 - 1s - loss: 0.1767 - accuracy: 0.9305 - val_loss: 0.1934 - val_accuracy: 0.9257\n",
      "Epoch 13/25\n",
      "1563/1563 - 1s - loss: 0.1771 - accuracy: 0.9303 - val_loss: 0.1922 - val_accuracy: 0.9254\n",
      "Epoch 14/25\n",
      "1563/1563 - 1s - loss: 0.1765 - accuracy: 0.9306 - val_loss: 0.1928 - val_accuracy: 0.9258\n",
      "Epoch 15/25\n",
      "1563/1563 - 1s - loss: 0.1764 - accuracy: 0.9306 - val_loss: 0.1929 - val_accuracy: 0.9257\n",
      "Epoch 16/25\n",
      "1563/1563 - 2s - loss: 0.1758 - accuracy: 0.9313 - val_loss: 0.1917 - val_accuracy: 0.9259\n",
      "Epoch 17/25\n",
      "1563/1563 - 1s - loss: 0.1758 - accuracy: 0.9307 - val_loss: 0.1917 - val_accuracy: 0.9261\n",
      "Epoch 18/25\n",
      "1563/1563 - 1s - loss: 0.1757 - accuracy: 0.9308 - val_loss: 0.1924 - val_accuracy: 0.9269\n",
      "Epoch 19/25\n",
      "1563/1563 - 1s - loss: 0.1751 - accuracy: 0.9312 - val_loss: 0.1951 - val_accuracy: 0.9247\n",
      "Epoch 20/25\n",
      "1563/1563 - 1s - loss: 0.1754 - accuracy: 0.9313 - val_loss: 0.1921 - val_accuracy: 0.9258\n",
      "Epoch 21/25\n",
      "1563/1563 - 2s - loss: 0.1745 - accuracy: 0.9312 - val_loss: 0.1915 - val_accuracy: 0.9266\n",
      "Epoch 22/25\n",
      "1563/1563 - 1s - loss: 0.1741 - accuracy: 0.9319 - val_loss: 0.1916 - val_accuracy: 0.9265\n",
      "Epoch 23/25\n",
      "1563/1563 - 1s - loss: 0.1746 - accuracy: 0.9313 - val_loss: 0.1920 - val_accuracy: 0.9263\n",
      "Epoch 24/25\n",
      "1563/1563 - 1s - loss: 0.1738 - accuracy: 0.9317 - val_loss: 0.1913 - val_accuracy: 0.9262\n",
      "Epoch 25/25\n",
      "1563/1563 - 1s - loss: 0.1733 - accuracy: 0.9315 - val_loss: 0.1918 - val_accuracy: 0.9265\n"
     ]
    }
   ],
   "source": [
    "model.compile(loss=BinaryCrossentropy(from_logits=False),\n",
    "              optimizer=Adam(learning_rate=2e-4),\n",
    "              metrics=['accuracy'])\n",
    "\n",
    "history2 = model.fit(Xf_train, y_train,\n",
    "                    batch_size=128,\n",
    "                    epochs=25,\n",
    "                    verbose=2, \n",
    "                    validation_data=(Xf_test, y_test)\n",
    "                   )"
   ]
  },
  {
   "cell_type": "code",
   "execution_count": 13,
   "id": "e1dfafb3",
   "metadata": {
    "scrolled": false
   },
   "outputs": [
    {
     "name": "stdout",
     "output_type": "stream",
     "text": [
      "Epoch 1/25\n",
      "782/782 - 1s - loss: 0.1711 - accuracy: 0.9327 - val_loss: 0.1899 - val_accuracy: 0.9280\n",
      "Epoch 2/25\n",
      "782/782 - 1s - loss: 0.1708 - accuracy: 0.9332 - val_loss: 0.1898 - val_accuracy: 0.9281\n",
      "Epoch 3/25\n",
      "782/782 - 1s - loss: 0.1704 - accuracy: 0.9329 - val_loss: 0.1897 - val_accuracy: 0.9279\n",
      "Epoch 4/25\n",
      "782/782 - 1s - loss: 0.1708 - accuracy: 0.9330 - val_loss: 0.1899 - val_accuracy: 0.9277\n",
      "Epoch 5/25\n",
      "782/782 - 1s - loss: 0.1705 - accuracy: 0.9329 - val_loss: 0.1899 - val_accuracy: 0.9280\n",
      "Epoch 6/25\n",
      "782/782 - 1s - loss: 0.1701 - accuracy: 0.9333 - val_loss: 0.1898 - val_accuracy: 0.9286\n",
      "Epoch 7/25\n",
      "782/782 - 1s - loss: 0.1704 - accuracy: 0.9332 - val_loss: 0.1896 - val_accuracy: 0.9277\n",
      "Epoch 8/25\n",
      "782/782 - 1s - loss: 0.1706 - accuracy: 0.9331 - val_loss: 0.1897 - val_accuracy: 0.9272\n",
      "Epoch 9/25\n",
      "782/782 - 1s - loss: 0.1701 - accuracy: 0.9335 - val_loss: 0.1897 - val_accuracy: 0.9283\n",
      "Epoch 10/25\n",
      "782/782 - 1s - loss: 0.1705 - accuracy: 0.9333 - val_loss: 0.1898 - val_accuracy: 0.9273\n",
      "Epoch 11/25\n",
      "782/782 - 1s - loss: 0.1704 - accuracy: 0.9331 - val_loss: 0.1897 - val_accuracy: 0.9273\n",
      "Epoch 12/25\n",
      "782/782 - 1s - loss: 0.1708 - accuracy: 0.9331 - val_loss: 0.1897 - val_accuracy: 0.9273\n",
      "Epoch 13/25\n",
      "782/782 - 1s - loss: 0.1700 - accuracy: 0.9334 - val_loss: 0.1897 - val_accuracy: 0.9276\n",
      "Epoch 14/25\n",
      "782/782 - 1s - loss: 0.1705 - accuracy: 0.9330 - val_loss: 0.1898 - val_accuracy: 0.9277\n",
      "Epoch 15/25\n",
      "782/782 - 1s - loss: 0.1703 - accuracy: 0.9336 - val_loss: 0.1899 - val_accuracy: 0.9273\n",
      "Epoch 16/25\n",
      "782/782 - 1s - loss: 0.1703 - accuracy: 0.9330 - val_loss: 0.1897 - val_accuracy: 0.9276\n",
      "Epoch 17/25\n",
      "782/782 - 1s - loss: 0.1699 - accuracy: 0.9333 - val_loss: 0.1897 - val_accuracy: 0.9280\n",
      "Epoch 18/25\n",
      "782/782 - 1s - loss: 0.1696 - accuracy: 0.9334 - val_loss: 0.1897 - val_accuracy: 0.9279\n",
      "Epoch 19/25\n",
      "782/782 - 1s - loss: 0.1696 - accuracy: 0.9333 - val_loss: 0.1896 - val_accuracy: 0.9279\n",
      "Epoch 20/25\n",
      "782/782 - 1s - loss: 0.1700 - accuracy: 0.9335 - val_loss: 0.1899 - val_accuracy: 0.9269\n",
      "Epoch 21/25\n",
      "782/782 - 1s - loss: 0.1696 - accuracy: 0.9335 - val_loss: 0.1899 - val_accuracy: 0.9277\n",
      "Epoch 22/25\n",
      "782/782 - 1s - loss: 0.1700 - accuracy: 0.9334 - val_loss: 0.1900 - val_accuracy: 0.9273\n",
      "Epoch 23/25\n",
      "782/782 - 1s - loss: 0.1698 - accuracy: 0.9335 - val_loss: 0.1896 - val_accuracy: 0.9279\n",
      "Epoch 24/25\n",
      "782/782 - 1s - loss: 0.1699 - accuracy: 0.9337 - val_loss: 0.1895 - val_accuracy: 0.9278\n",
      "Epoch 25/25\n",
      "782/782 - 1s - loss: 0.1702 - accuracy: 0.9332 - val_loss: 0.1895 - val_accuracy: 0.9280\n"
     ]
    }
   ],
   "source": [
    "model.compile(loss=BinaryCrossentropy(from_logits=False),\n",
    "              optimizer=SGD(learning_rate=0.005),\n",
    "              metrics=['accuracy'])\n",
    "\n",
    "history3 = model.fit(Xf_train, y_train,\n",
    "                    batch_size=256,\n",
    "                    epochs=25,\n",
    "                    verbose=2, \n",
    "                    validation_data=(Xf_test, y_test)\n",
    "                   )"
   ]
  },
  {
   "cell_type": "code",
   "execution_count": 14,
   "id": "98b2a491",
   "metadata": {},
   "outputs": [
    {
     "data": {
      "image/png": "[encoded data removed]",
      "text/plain": [
       "<Figure size 432x288 with 1 Axes>"
      ]
     },
     "metadata": {
      "needs_background": "light"
     },
     "output_type": "display_data"
    }
   ],
   "source": [
    "plt.plot(history1.history['accuracy'], label='accuracy')\n",
    "plt.plot(history1.history['val_accuracy'], label = 'val_accuracy')\n",
    "plt.xlabel('Epoch')\n",
    "plt.ylabel('Accuracy')\n",
    "plt.ylim([0.7, 1.0])\n",
    "plt.legend(loc='lower right');"
   ]
  },
  {
   "cell_type": "code",
   "execution_count": null,
   "id": "d7a71ca7",
   "metadata": {},
   "outputs": [],
   "source": []
  }
 ],
 "metadata": {
  "kernelspec": {
   "display_name": "Python 3 (ipykernel)",
   "language": "python",
   "name": "python3"
  },
  "language_info": {
   "codemirror_mode": {
    "name": "ipython",
    "version": 3
   },
   "file_extension": ".py",
   "mimetype": "text/x-python",
   "name": "python",
   "nbconvert_exporter": "python",
   "pygments_lexer": "ipython3",
   "version": "3.8.10"
  }
 },
 "nbformat": 4,
 "nbformat_minor": 5
}
