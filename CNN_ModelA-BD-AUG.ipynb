{
 "cells": [
  {
   "cell_type": "code",
   "execution_count": 1,
   "id": "ffd2e3f9",
   "metadata": {},
   "outputs": [],
   "source": [
    "import os\n",
    "import tensorflow as tf\n",
    "import tensorflow_io as tfio\n",
    "from tensorflow.keras.models import Sequential\n",
    "from tensorflow.keras.layers import *\n",
    "# from tensorflow.keras.layers.experimental.preprocessing import *\n",
    "from tensorflow.keras.optimizers import SGD, Adam\n",
    "from keras.losses import BinaryCrossentropy\n",
    "from keras.regularizers import l2"
   ]
  },
  {
   "cell_type": "code",
   "execution_count": 2,
   "id": "554c5265",
   "metadata": {},
   "outputs": [
    {
     "data": {
      "text/plain": [
       "[PhysicalDevice(name='/physical_device:GPU:0', device_type='GPU')]"
      ]
     },
     "execution_count": 2,
     "metadata": {},
     "output_type": "execute_result"
    }
   ],
   "source": [
    "os.environ['TF_CPP_MIN_LOG_LEVEL'] = '3'\n",
    "os.environ[\"CUDA_VISIBLE_DEVICES\"] = '1'\n",
    "tf.config.list_physical_devices('GPU')"
   ]
  },
  {
   "cell_type": "code",
   "execution_count": 3,
   "id": "d028028b",
   "metadata": {},
   "outputs": [],
   "source": [
    "DATA_DIR = 'data'\n",
    "HDF5_FILE = 'data_tf.hdf5'"
   ]
  },
  {
   "cell_type": "code",
   "execution_count": 4,
   "id": "ce1e8bdc",
   "metadata": {},
   "outputs": [],
   "source": [
    "BATCH_SIZE = 64\n",
    "IMG_SHAPE = (96, 96, 4)"
   ]
  },
  {
   "cell_type": "code",
   "execution_count": 5,
   "id": "d2bc132e",
   "metadata": {},
   "outputs": [],
   "source": [
    "data_file = os.path.join(DATA_DIR, HDF5_FILE)\n",
    "ds_x = tfio.IODataset.from_hdf5(data_file, '/x_train')\n",
    "ds_y = tfio.IODataset.from_hdf5(data_file, '/y_train')"
   ]
  },
  {
   "cell_type": "code",
   "execution_count": 6,
   "id": "33c5be02",
   "metadata": {},
   "outputs": [],
   "source": [
    "# convert to float and scale to [0, 1)\n",
    "ds_x = ds_x.map(lambda x: tf.image.convert_image_dtype(x, tf.float32))\n",
    "# ds_x = ds_images.map(lambda x: tf.image.per_image_standardization(x))"
   ]
  },
  {
   "cell_type": "code",
   "execution_count": 7,
   "id": "819b1ab7",
   "metadata": {},
   "outputs": [
    {
     "data": {
      "text/plain": [
       "(220025, 198022)"
      ]
     },
     "execution_count": 7,
     "metadata": {},
     "output_type": "execute_result"
    }
   ],
   "source": [
    "ds_xy = tf.data.Dataset.zip((ds_x, ds_y))\n",
    "ds_xy = ds_xy.shuffle(BATCH_SIZE*2)\n",
    "\n",
    "ds_len = ds_xy.reduce(0, lambda x, _: x + 1).numpy()\n",
    "train_len = int(0.9 * ds_len)\n",
    "\n",
    "ds_train = ds_xy.take(train_len)\n",
    "ds_test = ds_xy.skip(train_len)\n",
    "\n",
    "ds_len, train_len"
   ]
  },
  {
   "cell_type": "code",
   "execution_count": 8,
   "id": "a0431df3",
   "metadata": {},
   "outputs": [],
   "source": [
    "data_aug = Sequential([\n",
    "    RandomFlip(\"horizontal_and_vertical\"),\n",
    "    # RandomZoom(0.2, 0.2)\n",
    "])"
   ]
  },
  {
   "cell_type": "raw",
   "id": "4b1cd92e",
   "metadata": {},
   "source": [
    "model = Sequential([\n",
    "    Conv2D(32, (3, 3), activation='relu', input_shape=IMG_SHAPE),\n",
    "    Flatten(),\n",
    "    Dropout(0.35),\n",
    "    Dense(1, activation='sigmoid')\n",
    "])"
   ]
  },
  {
   "cell_type": "code",
   "execution_count": 9,
   "id": "ca6c116c",
   "metadata": {},
   "outputs": [],
   "source": [
    "model = Sequential()\n",
    "\n",
    "model.add(data_aug)\n",
    "\n",
    "model.add(Conv2D(32, (3, 3), activation='relu', kernel_regularizer=l2(1e-4))) #, input_shape=(X_train.shape[1:])))\n",
    "model.add(BatchNormalization())\n",
    "model.add(Conv2D(32, (3, 3), activation='relu', kernel_regularizer=l2(1e-4)))\n",
    "model.add(BatchNormalization())\n",
    "model.add(MaxPooling2D(pool_size=(2, 2)))\n",
    "model.add(Dropout(0.3))\n",
    "\n",
    "model.add(Conv2D(64, (3, 3), padding='same', activation='relu', kernel_regularizer=l2(2e-4)))\n",
    "model.add(BatchNormalization())\n",
    "model.add(Conv2D(64, (3, 3), padding='same', activation='relu', kernel_regularizer=l2(2e-4)))\n",
    "model.add(BatchNormalization())\n",
    "model.add(AveragePooling2D (pool_size=(2, 2)))\n",
    "model.add(Dropout(0.35))\n",
    "\n",
    "model.add(Conv2D(128, (3, 3), padding='same', activation='relu', kernel_regularizer=l2(3e-4)))\n",
    "model.add(BatchNormalization())\n",
    "model.add(Conv2D(128, (3, 3), padding='same', activation='relu', kernel_regularizer=l2(3e-4)))\n",
    "model.add(BatchNormalization())\n",
    "model.add(AveragePooling2D (pool_size=(2, 2)))\n",
    "model.add(Dropout(0.45))\n",
    "\n",
    "model.add(Flatten())\n",
    "model.add(Dense(1, activation='sigmoid'))\n",
    "\n",
    "# model.summary()"
   ]
  },
  {
   "cell_type": "code",
   "execution_count": 10,
   "id": "14a917e8",
   "metadata": {},
   "outputs": [
    {
     "name": "stdout",
     "output_type": "stream",
     "text": [
      "Epoch 1/10\n",
      "3095/3095 - 157s - loss: 0.5358 - accuracy: 0.8228 - val_loss: 0.4335 - val_accuracy: 0.8483\n",
      "Epoch 2/10\n",
      "3095/3095 - 153s - loss: 0.3804 - accuracy: 0.8717 - val_loss: 0.6847 - val_accuracy: 0.7817\n",
      "Epoch 3/10\n",
      "3095/3095 - 153s - loss: 0.3040 - accuracy: 0.8993 - val_loss: 1.4041 - val_accuracy: 0.7703\n",
      "Epoch 4/10\n",
      "3095/3095 - 153s - loss: 0.2727 - accuracy: 0.9113 - val_loss: 0.4182 - val_accuracy: 0.8535\n",
      "Epoch 5/10\n",
      "3095/3095 - 153s - loss: 0.2610 - accuracy: 0.9153 - val_loss: 1.2211 - val_accuracy: 0.7467\n",
      "Epoch 6/10\n",
      "3095/3095 - 153s - loss: 0.2543 - accuracy: 0.9179 - val_loss: 1.4389 - val_accuracy: 0.7442\n",
      "Epoch 7/10\n",
      "3095/3095 - 153s - loss: 0.2486 - accuracy: 0.9212 - val_loss: 0.8892 - val_accuracy: 0.8874\n",
      "Epoch 8/10\n",
      "3095/3095 - 153s - loss: 0.2446 - accuracy: 0.9226 - val_loss: 0.2530 - val_accuracy: 0.9265\n",
      "Epoch 9/10\n",
      "3095/3095 - 153s - loss: 0.2419 - accuracy: 0.9238 - val_loss: 0.3106 - val_accuracy: 0.8926\n",
      "Epoch 10/10\n",
      "3095/3095 - 153s - loss: 0.2419 - accuracy: 0.9241 - val_loss: 0.5433 - val_accuracy: 0.8796\n"
     ]
    }
   ],
   "source": [
    "ds_train = ds_train.batch(BATCH_SIZE).prefetch(tf.data.AUTOTUNE)\n",
    "ds_test = ds_test.batch(BATCH_SIZE).prefetch(tf.data.AUTOTUNE)\n",
    "\n",
    "model.compile(loss=BinaryCrossentropy(from_logits=False),\n",
    "              optimizer=Adam(learning_rate=1e-3),\n",
    "              metrics=['accuracy'])\n",
    "\n",
    "history = model.fit(ds_train,\n",
    "                    epochs=10,\n",
    "                    verbose=2, \n",
    "                    validation_data=ds_test\n",
    "                   )"
   ]
  },
  {
   "cell_type": "code",
   "execution_count": 11,
   "id": "968da4a2",
   "metadata": {},
   "outputs": [
    {
     "name": "stdout",
     "output_type": "stream",
     "text": [
      "Epoch 1/10\n",
      "1548/1548 - 154s - loss: 0.1953 - accuracy: 0.9422 - val_loss: 0.2062 - val_accuracy: 0.9351\n",
      "Epoch 2/10\n",
      "1548/1548 - 151s - loss: 0.1855 - accuracy: 0.9452 - val_loss: 0.1875 - val_accuracy: 0.9419\n",
      "Epoch 3/10\n",
      "1548/1548 - 151s - loss: 0.1798 - accuracy: 0.9460 - val_loss: 0.1928 - val_accuracy: 0.9405\n",
      "Epoch 4/10\n",
      "1548/1548 - 151s - loss: 0.1749 - accuracy: 0.9472 - val_loss: 0.1792 - val_accuracy: 0.9438\n",
      "Epoch 5/10\n",
      "1548/1548 - 151s - loss: 0.1722 - accuracy: 0.9475 - val_loss: 0.1783 - val_accuracy: 0.9424\n",
      "Epoch 6/10\n",
      "1548/1548 - 151s - loss: 0.1696 - accuracy: 0.9481 - val_loss: 0.1849 - val_accuracy: 0.9379\n",
      "Epoch 7/10\n",
      "1548/1548 - 151s - loss: 0.1668 - accuracy: 0.9495 - val_loss: 0.1710 - val_accuracy: 0.9454\n",
      "Epoch 8/10\n",
      "1548/1548 - 151s - loss: 0.1636 - accuracy: 0.9503 - val_loss: 0.1761 - val_accuracy: 0.9418\n",
      "Epoch 9/10\n",
      "1548/1548 - 151s - loss: 0.1628 - accuracy: 0.9501 - val_loss: 0.2182 - val_accuracy: 0.9270\n",
      "Epoch 10/10\n",
      "1548/1548 - 151s - loss: 0.1610 - accuracy: 0.9506 - val_loss: 0.1939 - val_accuracy: 0.9311\n"
     ]
    }
   ],
   "source": [
    "ds_train = ds_train.unbatch()\n",
    "ds_test = ds_test.unbatch()\n",
    "ds_train = ds_train.batch(128).prefetch(tf.data.AUTOTUNE)\n",
    "ds_test = ds_test.batch(128).prefetch(tf.data.AUTOTUNE)\n",
    "\n",
    "model.compile(loss=BinaryCrossentropy(from_logits=False),\n",
    "              optimizer=Adam(learning_rate=2e-4),\n",
    "              metrics=['accuracy'])\n",
    "\n",
    "history = model.fit(ds_train,\n",
    "                    epochs=10,\n",
    "                    verbose=2, \n",
    "                    validation_data=ds_test\n",
    "                   )"
   ]
  },
  {
   "cell_type": "code",
   "execution_count": 12,
   "id": "3cde878e",
   "metadata": {},
   "outputs": [
    {
     "name": "stdout",
     "output_type": "stream",
     "text": [
      "Epoch 1/10\n",
      "774/774 - 156s - loss: 0.1470 - accuracy: 0.9556 - val_loss: 0.1499 - val_accuracy: 0.9527\n",
      "Epoch 2/10\n",
      "774/774 - 151s - loss: 0.1451 - accuracy: 0.9560 - val_loss: 0.1575 - val_accuracy: 0.9501\n",
      "Epoch 3/10\n",
      "774/774 - 151s - loss: 0.1442 - accuracy: 0.9565 - val_loss: 0.1711 - val_accuracy: 0.9433\n",
      "Epoch 4/10\n",
      "774/774 - 152s - loss: 0.1422 - accuracy: 0.9574 - val_loss: 0.1575 - val_accuracy: 0.9499\n",
      "Epoch 5/10\n",
      "774/774 - 151s - loss: 0.1426 - accuracy: 0.9572 - val_loss: 0.1898 - val_accuracy: 0.9365\n",
      "Epoch 6/10\n",
      "774/774 - 151s - loss: 0.1419 - accuracy: 0.9573 - val_loss: 0.1535 - val_accuracy: 0.9529\n",
      "Epoch 7/10\n",
      "774/774 - 151s - loss: 0.1406 - accuracy: 0.9581 - val_loss: 0.1459 - val_accuracy: 0.9554\n",
      "Epoch 8/10\n",
      "774/774 - 151s - loss: 0.1402 - accuracy: 0.9582 - val_loss: 0.1503 - val_accuracy: 0.9532\n",
      "Epoch 9/10\n",
      "774/774 - 151s - loss: 0.1399 - accuracy: 0.9578 - val_loss: 0.1566 - val_accuracy: 0.9502\n",
      "Epoch 10/10\n",
      "774/774 - 152s - loss: 0.1388 - accuracy: 0.9587 - val_loss: 0.1572 - val_accuracy: 0.9493\n"
     ]
    }
   ],
   "source": [
    "ds_train = ds_train.unbatch()\n",
    "ds_test = ds_test.unbatch()\n",
    "ds_train = ds_train.batch(256).prefetch(tf.data.AUTOTUNE)\n",
    "ds_test = ds_test.batch(256).prefetch(tf.data.AUTOTUNE)\n",
    "\n",
    "model.compile(loss=BinaryCrossentropy(from_logits=False),\n",
    "              optimizer=Adam(learning_rate=5e-5),\n",
    "              metrics=['accuracy'])\n",
    "\n",
    "history = model.fit(ds_train,\n",
    "                    epochs=10,\n",
    "                    verbose=2, \n",
    "                    validation_data=ds_test\n",
    "                   )"
   ]
  },
  {
   "cell_type": "code",
   "execution_count": 13,
   "id": "3cf7bc3f",
   "metadata": {},
   "outputs": [
    {
     "name": "stdout",
     "output_type": "stream",
     "text": [
      "Epoch 1/2\n",
      "3095/3095 - 154s - loss: 0.1583 - accuracy: 0.9505 - val_loss: 0.1730 - val_accuracy: 0.9409\n",
      "Epoch 2/2\n",
      "3095/3095 - 153s - loss: 0.1577 - accuracy: 0.9509 - val_loss: 0.1748 - val_accuracy: 0.9418\n"
     ]
    }
   ],
   "source": [
    "ds_train = ds_train.unbatch()\n",
    "ds_test = ds_test.unbatch()\n",
    "ds_train = ds_train.batch(64).prefetch(tf.data.AUTOTUNE)\n",
    "ds_test = ds_test.batch(64).prefetch(tf.data.AUTOTUNE)\n",
    "\n",
    "model.compile(loss=BinaryCrossentropy(from_logits=False),\n",
    "              optimizer=Adam(learning_rate=1e-4),\n",
    "              metrics=['accuracy'])\n",
    "\n",
    "history = model.fit(ds_train,\n",
    "                    epochs=2,\n",
    "                    verbose=2, \n",
    "                    validation_data=ds_test\n",
    "                   )"
   ]
  },
  {
   "cell_type": "code",
   "execution_count": 14,
   "id": "0a2884f0",
   "metadata": {},
   "outputs": [
    {
     "name": "stdout",
     "output_type": "stream",
     "text": [
      "Epoch 1/10\n",
      "774/774 - 153s - loss: 0.1390 - accuracy: 0.9579 - val_loss: 0.1555 - val_accuracy: 0.9500\n",
      "Epoch 2/10\n",
      "774/774 - 152s - loss: 0.1372 - accuracy: 0.9592 - val_loss: 0.1840 - val_accuracy: 0.9386\n",
      "Epoch 3/10\n",
      "774/774 - 152s - loss: 0.1354 - accuracy: 0.9597 - val_loss: 0.1432 - val_accuracy: 0.9562\n",
      "Epoch 4/10\n",
      "774/774 - 152s - loss: 0.1348 - accuracy: 0.9597 - val_loss: 0.1579 - val_accuracy: 0.9497\n",
      "Epoch 5/10\n",
      "774/774 - 152s - loss: 0.1337 - accuracy: 0.9598 - val_loss: 0.1524 - val_accuracy: 0.9517\n",
      "Epoch 6/10\n",
      "774/774 - 152s - loss: 0.1343 - accuracy: 0.9599 - val_loss: 0.1456 - val_accuracy: 0.9550\n",
      "Epoch 7/10\n",
      "774/774 - 152s - loss: 0.1332 - accuracy: 0.9598 - val_loss: 0.1625 - val_accuracy: 0.9473\n",
      "Epoch 8/10\n",
      "774/774 - 152s - loss: 0.1326 - accuracy: 0.9604 - val_loss: 0.1373 - val_accuracy: 0.9585\n",
      "Epoch 9/10\n",
      "774/774 - 152s - loss: 0.1332 - accuracy: 0.9596 - val_loss: 0.1687 - val_accuracy: 0.9450\n",
      "Epoch 10/10\n",
      "774/774 - 152s - loss: 0.1312 - accuracy: 0.9608 - val_loss: 0.1597 - val_accuracy: 0.9474\n"
     ]
    }
   ],
   "source": [
    "ds_train = ds_train.unbatch()\n",
    "ds_test = ds_test.unbatch()\n",
    "ds_train = ds_train.batch(256).prefetch(tf.data.AUTOTUNE)\n",
    "ds_test = ds_test.batch(256).prefetch(tf.data.AUTOTUNE)\n",
    "\n",
    "model.compile(loss=BinaryCrossentropy(from_logits=False),\n",
    "              optimizer=Adam(learning_rate=5e-5),\n",
    "              metrics=['accuracy'])\n",
    "\n",
    "history = model.fit(ds_train,\n",
    "                    epochs=10,\n",
    "                    verbose=2, \n",
    "                    validation_data=ds_test\n",
    "                   )"
   ]
  },
  {
   "cell_type": "code",
   "execution_count": 15,
   "id": "fb91f153",
   "metadata": {},
   "outputs": [
    {
     "name": "stdout",
     "output_type": "stream",
     "text": [
      "Epoch 1/10\n",
      "387/387 - 163s - loss: 0.1271 - accuracy: 0.9618 - val_loss: 0.1459 - val_accuracy: 0.9535\n",
      "Epoch 2/10\n",
      "387/387 - 153s - loss: 0.1271 - accuracy: 0.9624 - val_loss: 0.1405 - val_accuracy: 0.9557\n",
      "Epoch 3/10\n",
      "387/387 - 154s - loss: 0.1258 - accuracy: 0.9627 - val_loss: 0.1487 - val_accuracy: 0.9531\n",
      "Epoch 4/10\n",
      "387/387 - 154s - loss: 0.1261 - accuracy: 0.9629 - val_loss: 0.1418 - val_accuracy: 0.9558\n",
      "Epoch 5/10\n",
      "387/387 - 154s - loss: 0.1256 - accuracy: 0.9624 - val_loss: 0.1439 - val_accuracy: 0.9541\n",
      "Epoch 6/10\n",
      "387/387 - 154s - loss: 0.1254 - accuracy: 0.9626 - val_loss: 0.1441 - val_accuracy: 0.9538\n",
      "Epoch 7/10\n",
      "387/387 - 153s - loss: 0.1254 - accuracy: 0.9632 - val_loss: 0.1486 - val_accuracy: 0.9519\n",
      "Epoch 8/10\n",
      "387/387 - 154s - loss: 0.1248 - accuracy: 0.9631 - val_loss: 0.1507 - val_accuracy: 0.9516\n",
      "Epoch 9/10\n",
      "387/387 - 154s - loss: 0.1260 - accuracy: 0.9623 - val_loss: 0.1444 - val_accuracy: 0.9540\n",
      "Epoch 10/10\n",
      "387/387 - 154s - loss: 0.1258 - accuracy: 0.9626 - val_loss: 0.1435 - val_accuracy: 0.9546\n"
     ]
    }
   ],
   "source": [
    "ds_train = ds_train.unbatch()\n",
    "ds_test = ds_test.unbatch()\n",
    "ds_train = ds_train.batch(512).prefetch(tf.data.AUTOTUNE)\n",
    "ds_test = ds_test.batch(512).prefetch(tf.data.AUTOTUNE)\n",
    "\n",
    "model.compile(loss=BinaryCrossentropy(from_logits=False),\n",
    "              optimizer=Adam(learning_rate=1e-5),\n",
    "              metrics=['accuracy'])\n",
    "\n",
    "history = model.fit(ds_train,\n",
    "                    epochs=10,\n",
    "                    verbose=2, \n",
    "                    validation_data=ds_test\n",
    "                   )"
   ]
  },
  {
   "cell_type": "code",
   "execution_count": 16,
   "id": "5f0dddfc",
   "metadata": {},
   "outputs": [
    {
     "name": "stdout",
     "output_type": "stream",
     "text": [
      "Epoch 1/10\n",
      "387/387 - 154s - loss: 0.1266 - accuracy: 0.9622 - val_loss: 0.1546 - val_accuracy: 0.9504\n",
      "Epoch 2/10\n",
      "387/387 - 154s - loss: 0.1269 - accuracy: 0.9620 - val_loss: 0.1471 - val_accuracy: 0.9541\n",
      "Epoch 3/10\n",
      "387/387 - 154s - loss: 0.1259 - accuracy: 0.9621 - val_loss: 0.1687 - val_accuracy: 0.9451\n",
      "Epoch 4/10\n",
      "387/387 - 153s - loss: 0.1260 - accuracy: 0.9622 - val_loss: 0.1661 - val_accuracy: 0.9457\n",
      "Epoch 5/10\n",
      "387/387 - 154s - loss: 0.1253 - accuracy: 0.9628 - val_loss: 0.1432 - val_accuracy: 0.9551\n",
      "Epoch 6/10\n",
      "387/387 - 154s - loss: 0.1251 - accuracy: 0.9626 - val_loss: 0.1376 - val_accuracy: 0.9576\n",
      "Epoch 7/10\n",
      "387/387 - 154s - loss: 0.1249 - accuracy: 0.9626 - val_loss: 0.1554 - val_accuracy: 0.9501\n",
      "Epoch 8/10\n",
      "387/387 - 154s - loss: 0.1240 - accuracy: 0.9630 - val_loss: 0.1635 - val_accuracy: 0.9482\n",
      "Epoch 9/10\n",
      "387/387 - 154s - loss: 0.1247 - accuracy: 0.9627 - val_loss: 0.1502 - val_accuracy: 0.9519\n",
      "Epoch 10/10\n",
      "387/387 - 154s - loss: 0.1242 - accuracy: 0.9629 - val_loss: 0.1380 - val_accuracy: 0.9571\n"
     ]
    }
   ],
   "source": [
    "ds_train = ds_train.unbatch()\n",
    "ds_test = ds_test.unbatch()\n",
    "ds_train = ds_train.batch(512).prefetch(tf.data.AUTOTUNE)\n",
    "ds_test = ds_test.batch(512).prefetch(tf.data.AUTOTUNE)\n",
    "\n",
    "model.compile(loss=BinaryCrossentropy(from_logits=False),\n",
    "              optimizer=Adam(learning_rate=5e-5),\n",
    "              metrics=['accuracy'])\n",
    "\n",
    "history = model.fit(ds_train,\n",
    "                    epochs=10,\n",
    "                    verbose=2, \n",
    "                    validation_data=ds_test\n",
    "                   )"
   ]
  },
  {
   "cell_type": "code",
   "execution_count": null,
   "id": "0601055c",
   "metadata": {},
   "outputs": [],
   "source": []
  }
 ],
 "metadata": {
  "kernelspec": {
   "display_name": "Python 3 (ipykernel)",
   "language": "python",
   "name": "python3"
  },
  "language_info": {
   "codemirror_mode": {
    "name": "ipython",
    "version": 3
   },
   "file_extension": ".py",
   "mimetype": "text/x-python",
   "name": "python",
   "nbconvert_exporter": "python",
   "pygments_lexer": "ipython3",
   "version": "3.8.10"
  }
 },
 "nbformat": 4,
 "nbformat_minor": 5
}
