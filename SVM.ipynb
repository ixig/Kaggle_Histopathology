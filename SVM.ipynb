{
 "cells": [
  {
   "cell_type": "markdown",
   "id": "54706955",
   "metadata": {},
   "source": [
    "# Evaluate SVM model with i. LBP and ii. Landmark features"
   ]
  },
  {
   "cell_type": "code",
   "execution_count": 1,
   "id": "eb9693b9",
   "metadata": {},
   "outputs": [],
   "source": [
    "from helper import *\n",
    "from sklearn.svm import SVC\n",
    "from sklearn.preprocessing import StandardScaler"
   ]
  },
  {
   "cell_type": "code",
   "execution_count": 2,
   "id": "b06c6c10",
   "metadata": {},
   "outputs": [],
   "source": [
    "SUBSET = '20k'\n",
    "DATA_DIR = 'data/'"
   ]
  },
  {
   "cell_type": "code",
   "execution_count": 3,
   "id": "273c6b12",
   "metadata": {},
   "outputs": [
    {
     "name": "stdout",
     "output_type": "stream",
     "text": [
      "((20000, 10), dtype('int16')) ((20000,), dtype('uint8'))\n",
      "((10000, 10), dtype('int16')) ((10000,), dtype('uint8'))\n"
     ]
    }
   ],
   "source": [
    "DATA_FILENAME = 'lbp_subset'\n",
    "(Xl_train, y_train), (Xl_test, y_test) = \\\n",
    "    load_npz(DATA_DIR + DATA_FILENAME + SUBSET + '.npz')"
   ]
  },
  {
   "cell_type": "code",
   "execution_count": 4,
   "id": "cc3b1727",
   "metadata": {},
   "outputs": [],
   "source": [
    "scaler = StandardScaler()\n",
    "scaler.fit(Xl_train)\n",
    "X_train = scaler.transform(Xl_train)\n",
    "X_test = scaler.transform(Xl_test)"
   ]
  },
  {
   "cell_type": "code",
   "execution_count": 5,
   "id": "941afac8",
   "metadata": {},
   "outputs": [],
   "source": [
    "def SVM(X_train, X_test, y_train, y_test,\n",
    "        C = [4, 8, 16, 32, 64]):\n",
    "    clfs = [(SVC(C=c, class_weight='balanced'), c)\n",
    "            for c in (C[:3] if len(X_train) <= 4000 else C[3:])]\n",
    "    clfs_d = [delayed(clf[0].fit)(X_train, y_train) for clf in clfs]\n",
    "    clfs_c = compute(clfs_d)[0]\n",
    "    print('c : Test, Train')\n",
    "    for i, clf in enumerate(clfs_c):\n",
    "        print(f'{clfs[i][1]:<2}', end=': ')\n",
    "        print(f'{clf.score(X_train, y_train)*100:.1f}', end=', ')\n",
    "        print(f'{clf.score(X_test, y_test)*100:.1f}')"
   ]
  },
  {
   "cell_type": "code",
   "execution_count": 6,
   "id": "9f8a54bc",
   "metadata": {},
   "outputs": [
    {
     "name": "stdout",
     "output_type": "stream",
     "text": [
      "c : Test, Train\n",
      "32: 78.6, 77.8\n",
      "64: 78.8, 77.8\n"
     ]
    }
   ],
   "source": [
    "SVM(X_train, X_test, y_train, y_test)"
   ]
  },
  {
   "cell_type": "code",
   "execution_count": null,
   "id": "4e39eb14",
   "metadata": {},
   "outputs": [],
   "source": []
  }
 ],
 "metadata": {
  "kernelspec": {
   "display_name": "Python 3 (ipykernel)",
   "language": "python",
   "name": "python3"
  },
  "language_info": {
   "codemirror_mode": {
    "name": "ipython",
    "version": 3
   },
   "file_extension": ".py",
   "mimetype": "text/x-python",
   "name": "python",
   "nbconvert_exporter": "python",
   "pygments_lexer": "ipython3",
   "version": "3.9.6"
  }
 },
 "nbformat": 4,
 "nbformat_minor": 5
}
