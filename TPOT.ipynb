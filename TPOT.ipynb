{
 "cells": [
  {
   "cell_type": "code",
   "execution_count": 1,
   "id": "edbe1831",
   "metadata": {},
   "outputs": [],
   "source": [
    "from helper import *\n",
    "from tpot import TPOTClassifier"
   ]
  },
  {
   "cell_type": "code",
   "execution_count": 2,
   "id": "4d857b7f",
   "metadata": {},
   "outputs": [],
   "source": [
    "SUBSET = '20k'\n",
    "DATA_DIR = 'data/'"
   ]
  },
  {
   "cell_type": "code",
   "execution_count": 3,
   "id": "db8eef97",
   "metadata": {},
   "outputs": [
    {
     "name": "stdout",
     "output_type": "stream",
     "text": [
      "((4000, 40), dtype('int16')) ((4000,), dtype('uint8'))\n",
      "((2000, 40), dtype('int16')) ((2000,), dtype('uint8'))\n"
     ]
    }
   ],
   "source": [
    "DATA_FILENAME = '2x2lbp_subset'\n",
    "(Xl_train, y_train), (Xl_test, y_test) = \\\n",
    "    load_npz(DATA_DIR + DATA_FILENAME + SUBSET + '.npz')"
   ]
  },
  {
   "cell_type": "code",
   "execution_count": 4,
   "id": "42223c2c",
   "metadata": {},
   "outputs": [
    {
     "name": "stdout",
     "output_type": "stream",
     "text": [
      "((4000, 4), dtype('float64')) ((4000,), dtype('uint8'))\n",
      "((2000, 4), dtype('float64')) ((2000,), dtype('uint8'))\n"
     ]
    }
   ],
   "source": [
    "DATA_FILENAME = '2gabor_subset'\n",
    "(Xg_train, y_train_), (Xg_test, y_test_) = \\\n",
    "    load_npz(DATA_DIR + DATA_FILENAME + SUBSET + '.npz')\n",
    "assert np.all(y_train == y_train_)\n",
    "assert np.all(y_test == y_test_)"
   ]
  },
  {
   "cell_type": "code",
   "execution_count": 5,
   "id": "139cdc27",
   "metadata": {},
   "outputs": [
    {
     "data": {
      "text/plain": [
       "((4000, 44), (2000, 44))"
      ]
     },
     "execution_count": 5,
     "metadata": {},
     "output_type": "execute_result"
    }
   ],
   "source": [
    "X_train = np.hstack((Xl_train, Xg_train))\n",
    "X_test = np.hstack((Xl_test, Xg_test))\n",
    "X_train.shape, X_test.shape"
   ]
  },
  {
   "cell_type": "raw",
   "id": "ab653688",
   "metadata": {},
   "source": [
    "client = Client()\n",
    "client"
   ]
  },
  {
   "cell_type": "code",
   "execution_count": 6,
   "id": "876a4066",
   "metadata": {
    "scrolled": true
   },
   "outputs": [
    {
     "data": {
      "application/vnd.jupyter.widget-view+json": {
       "model_id": "61799545013c48a3a7692bda61ff21bc",
       "version_major": 2,
       "version_minor": 0
      },
      "text/plain": [
       "Optimization Progress:   0%|          | 0/25 [00:00<?, ?pipeline/s]"
      ]
     },
     "metadata": {},
     "output_type": "display_data"
    },
    {
     "name": "stdout",
     "output_type": "stream",
     "text": [
      "\n",
      "Generation 1 - Current best internal CV score: 0.8162500000000001\n",
      "\n",
      "\n",
      "TPOT closed during evaluation in one generation.\n",
      "WARNING: TPOT may not provide a good pipeline if TPOT is stopped/interrupted in a early generation.\n",
      "\n",
      "\n",
      "TPOT closed prematurely. Will use the current best pipeline.\n",
      "\n",
      "Best pipeline: ExtraTreesClassifier(input_matrix, bootstrap=False, criterion=gini, max_features=0.45, min_samples_leaf=3, min_samples_split=6, n_estimators=100)\n"
     ]
    },
    {
     "data": {
      "text/plain": [
       "TPOTClassifier(max_time_mins=40, population_size=25, random_state=2,\n",
       "               scoring='accuracy', use_dask=True, verbosity=2)"
      ]
     },
     "execution_count": 6,
     "metadata": {},
     "output_type": "execute_result"
    }
   ],
   "source": [
    "tpot = TPOTClassifier(\n",
    "    scoring='accuracy',\n",
    "    population_size=25,\n",
    "    max_time_mins=40,\n",
    "    random_state=2,\n",
    "    verbosity=2,\n",
    "    use_dask=True,\n",
    ")\n",
    "tpot.fit(X_train, y_train)"
   ]
  },
  {
   "cell_type": "code",
   "execution_count": 7,
   "id": "5a31aec6",
   "metadata": {},
   "outputs": [
    {
     "ename": "NameError",
     "evalue": "name 'client' is not defined",
     "output_type": "error",
     "traceback": [
      "\u001b[0;31m---------------------------------------------------------------------------\u001b[0m",
      "\u001b[0;31mNameError\u001b[0m                                 Traceback (most recent call last)",
      "\u001b[0;32m/var/folders/70/gbdjb6vn3vb3447mztxc4lrh0000gn/T/ipykernel_769/1700138376.py\u001b[0m in \u001b[0;36m<module>\u001b[0;34m\u001b[0m\n\u001b[0;32m----> 1\u001b[0;31m \u001b[0mclient\u001b[0m\u001b[0;34m.\u001b[0m\u001b[0mclose\u001b[0m\u001b[0;34m(\u001b[0m\u001b[0;34m)\u001b[0m\u001b[0;34m\u001b[0m\u001b[0;34m\u001b[0m\u001b[0m\n\u001b[0m",
      "\u001b[0;31mNameError\u001b[0m: name 'client' is not defined"
     ]
    }
   ],
   "source": [
    "client.close()"
   ]
  },
  {
   "cell_type": "code",
   "execution_count": null,
   "id": "21c671c1",
   "metadata": {},
   "outputs": [],
   "source": [
    "tpot.score(X_test, y_test)"
   ]
  },
  {
   "cell_type": "raw",
   "id": "41f04c4a",
   "metadata": {},
   "source": [
    "tpot.export('tpot_export.py')"
   ]
  },
  {
   "cell_type": "code",
   "execution_count": null,
   "id": "9de23611",
   "metadata": {},
   "outputs": [],
   "source": []
  }
 ],
 "metadata": {
  "kernelspec": {
   "display_name": "Python 3 (ipykernel)",
   "language": "python",
   "name": "python3"
  },
  "language_info": {
   "codemirror_mode": {
    "name": "ipython",
    "version": 3
   },
   "file_extension": ".py",
   "mimetype": "text/x-python",
   "name": "python",
   "nbconvert_exporter": "python",
   "pygments_lexer": "ipython3",
   "version": "3.9.6"
  }
 },
 "nbformat": 4,
 "nbformat_minor": 5
}
