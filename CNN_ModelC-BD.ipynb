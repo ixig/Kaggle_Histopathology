{
 "cells": [
  {
   "cell_type": "code",
   "execution_count": 1,
   "id": "1448e684",
   "metadata": {},
   "outputs": [],
   "source": [
    "import os\n",
    "import tensorflow as tf\n",
    "import tensorflow_io as tfio\n",
    "from tensorflow.keras.models import Sequential\n",
    "from tensorflow.keras.layers import *\n",
    "from tensorflow.keras.optimizers import SGD, Adam\n",
    "from keras.losses import BinaryCrossentropy\n",
    "from keras.regularizers import l2"
   ]
  },
  {
   "cell_type": "code",
   "execution_count": 2,
   "id": "b81409ea",
   "metadata": {},
   "outputs": [
    {
     "data": {
      "text/plain": [
       "[PhysicalDevice(name='/physical_device:GPU:0', device_type='GPU')]"
      ]
     },
     "execution_count": 2,
     "metadata": {},
     "output_type": "execute_result"
    }
   ],
   "source": [
    "os.environ['TF_CPP_MIN_LOG_LEVEL'] = '3'\n",
    "os.environ[\"CUDA_VISIBLE_DEVICES\"] = '0'\n",
    "tf.config.list_physical_devices('GPU')"
   ]
  },
  {
   "cell_type": "code",
   "execution_count": 3,
   "id": "587f46c6",
   "metadata": {},
   "outputs": [],
   "source": [
    "DATA_DIR = 'data'\n",
    "HDF5_FILE = 'data_tf.hdf5'"
   ]
  },
  {
   "cell_type": "code",
   "execution_count": 4,
   "id": "1ab92b2b",
   "metadata": {},
   "outputs": [],
   "source": [
    "BATCH_SIZE = 64\n",
    "IMG_SHAPE = (96, 96, 4)"
   ]
  },
  {
   "cell_type": "code",
   "execution_count": 5,
   "id": "4602bb7b",
   "metadata": {},
   "outputs": [],
   "source": [
    "data_file = os.path.join(DATA_DIR, HDF5_FILE)\n",
    "ds_x = tfio.IODataset.from_hdf5(data_file, '/x_train')\n",
    "ds_y = tfio.IODataset.from_hdf5(data_file, '/y_train')"
   ]
  },
  {
   "cell_type": "code",
   "execution_count": 6,
   "id": "41d10152",
   "metadata": {},
   "outputs": [],
   "source": [
    "# convert to float and scale to [0, 1)\n",
    "ds_x = ds_x.map(lambda x: tf.image.convert_image_dtype(x, tf.float32))\n",
    "# ds_x = ds_images.map(lambda x: tf.image.per_image_standardization(x))"
   ]
  },
  {
   "cell_type": "code",
   "execution_count": 7,
   "id": "d3fe6fbf",
   "metadata": {},
   "outputs": [
    {
     "data": {
      "text/plain": [
       "(220025, 198022)"
      ]
     },
     "execution_count": 7,
     "metadata": {},
     "output_type": "execute_result"
    }
   ],
   "source": [
    "ds_xy = tf.data.Dataset.zip((ds_x, ds_y))\n",
    "ds_xy = ds_xy.shuffle(BATCH_SIZE*2)\n",
    "\n",
    "ds_len = ds_xy.reduce(0, lambda x, _: x + 1).numpy()\n",
    "train_len = int(0.9 * ds_len)\n",
    "\n",
    "ds_train = ds_xy.take(train_len)\n",
    "ds_test = ds_xy.skip(train_len)\n",
    "\n",
    "ds_len, train_len"
   ]
  },
  {
   "cell_type": "raw",
   "id": "77f3fc83",
   "metadata": {},
   "source": [
    "model = Sequential([\n",
    "    Conv2D(32, (3, 3), activation='relu', input_shape=IMG_SHAPE),\n",
    "    Flatten(),\n",
    "    Dropout(0.35),\n",
    "    Dense(1, activation='sigmoid')\n",
    "])"
   ]
  },
  {
   "cell_type": "code",
   "execution_count": 8,
   "id": "776ba4ee",
   "metadata": {},
   "outputs": [],
   "source": [
    "model = Sequential()\n",
    "\n",
    "model.add(Conv2D(64, (3,3), activation='relu', kernel_regularizer=l2(1e-5))) #, input_shape=(X_train.shape[1:])))\n",
    "model.add(BatchNormalization())\n",
    "model.add(Conv2D(64, (3,3), activation='relu', kernel_regularizer=l2(1e-5)))\n",
    "model.add(BatchNormalization())\n",
    "model.add(MaxPooling2D(pool_size=(2, 2)))\n",
    "model.add(Dropout(0.3))\n",
    "\n",
    "model.add(Conv2D(32, (3,3), activation='relu', kernel_regularizer=l2(1e-5)))\n",
    "model.add(BatchNormalization())\n",
    "model.add(Conv2D(32, (3,3), activation='relu', kernel_regularizer=l2(1e-5)))\n",
    "model.add(BatchNormalization())\n",
    "model.add(MaxPooling2D (pool_size=(2, 2)))\n",
    "model.add(Dropout(0.35))\n",
    "\n",
    "model.add(Conv2D(16, (3,3), activation='relu', kernel_regularizer=l2(1e-5)))\n",
    "model.add(BatchNormalization())\n",
    "model.add(Conv2D(16, (3,3), activation='relu', kernel_regularizer=l2(1e-5)))\n",
    "model.add(BatchNormalization())\n",
    "model.add(MaxPooling2D (pool_size=(2, 2), strides=(1, 1)))\n",
    "# model.add(Dropout(0.4))\n",
    "model.add(Dropout(0.6))\n",
    "\n",
    "model.add(Flatten())\n",
    "# model.add(Dropout(0.2))\n",
    "\n",
    "# model.add(Dense(64, activation='relu'))\n",
    "# model.add(BatchNormalization())\n",
    "# model.add(Dropout(0.4))\n",
    "\n",
    "model.add(Dense(1, activation='sigmoid'))\n",
    "\n",
    "# model.summary()"
   ]
  },
  {
   "cell_type": "code",
   "execution_count": 9,
   "id": "63b652ee",
   "metadata": {},
   "outputs": [
    {
     "name": "stdout",
     "output_type": "stream",
     "text": [
      "Epoch 1/10\n",
      "3095/3095 - 192s - loss: 0.4239 - accuracy: 0.8273 - val_loss: 0.4719 - val_accuracy: 0.8224\n",
      "Epoch 2/10\n",
      "3095/3095 - 188s - loss: 0.2973 - accuracy: 0.8797 - val_loss: 0.9271 - val_accuracy: 0.7554\n",
      "Epoch 3/10\n",
      "3095/3095 - 185s - loss: 0.2612 - accuracy: 0.8974 - val_loss: 0.4064 - val_accuracy: 0.8545\n",
      "Epoch 4/10\n",
      "3095/3095 - 186s - loss: 0.2387 - accuracy: 0.9077 - val_loss: 1.2922 - val_accuracy: 0.7327\n",
      "Epoch 5/10\n",
      "3095/3095 - 183s - loss: 0.2225 - accuracy: 0.9152 - val_loss: 1.4469 - val_accuracy: 0.7249\n",
      "Epoch 6/10\n",
      "3095/3095 - 183s - loss: 0.2148 - accuracy: 0.9194 - val_loss: 0.2301 - val_accuracy: 0.9118\n",
      "Epoch 7/10\n",
      "3095/3095 - 183s - loss: 0.2089 - accuracy: 0.9219 - val_loss: 0.9130 - val_accuracy: 0.7589\n",
      "Epoch 8/10\n",
      "3095/3095 - 183s - loss: 0.2045 - accuracy: 0.9253 - val_loss: 0.8725 - val_accuracy: 0.7677\n",
      "Epoch 9/10\n",
      "3095/3095 - 183s - loss: 0.1981 - accuracy: 0.9279 - val_loss: 0.4767 - val_accuracy: 0.8508\n",
      "Epoch 10/10\n",
      "3095/3095 - 182s - loss: 0.1952 - accuracy: 0.9292 - val_loss: 0.2350 - val_accuracy: 0.9111\n"
     ]
    }
   ],
   "source": [
    "ds_train = ds_train.batch(BATCH_SIZE).prefetch(tf.data.AUTOTUNE)\n",
    "ds_test = ds_test.batch(BATCH_SIZE).prefetch(tf.data.AUTOTUNE)\n",
    "\n",
    "model.compile(loss=BinaryCrossentropy(from_logits=False),\n",
    "              optimizer=Adam(learning_rate=1e-3),\n",
    "              metrics=['accuracy'])\n",
    "\n",
    "history = model.fit(ds_train,\n",
    "                    epochs=10,\n",
    "                    verbose=2, \n",
    "                    validation_data=ds_test\n",
    "                   )"
   ]
  },
  {
   "cell_type": "code",
   "execution_count": 10,
   "id": "52281e17",
   "metadata": {},
   "outputs": [
    {
     "name": "stdout",
     "output_type": "stream",
     "text": [
      "Epoch 1/10\n",
      "1548/1548 - 193s - loss: 0.1640 - accuracy: 0.9428 - val_loss: 0.1526 - val_accuracy: 0.9480\n",
      "Epoch 2/10\n",
      "1548/1548 - 190s - loss: 0.1593 - accuracy: 0.9444 - val_loss: 0.1558 - val_accuracy: 0.9473\n",
      "Epoch 3/10\n",
      "1548/1548 - 189s - loss: 0.1570 - accuracy: 0.9453 - val_loss: 0.2495 - val_accuracy: 0.9126\n",
      "Epoch 4/10\n",
      "1548/1548 - 189s - loss: 0.1560 - accuracy: 0.9461 - val_loss: 0.1467 - val_accuracy: 0.9505\n",
      "Epoch 5/10\n",
      "1548/1548 - 180s - loss: 0.1552 - accuracy: 0.9462 - val_loss: 0.1498 - val_accuracy: 0.9501\n",
      "Epoch 6/10\n",
      "1548/1548 - 189s - loss: 0.1526 - accuracy: 0.9469 - val_loss: 0.1591 - val_accuracy: 0.9451\n",
      "Epoch 7/10\n",
      "1548/1548 - 190s - loss: 0.1528 - accuracy: 0.9469 - val_loss: 0.1550 - val_accuracy: 0.9478\n",
      "Epoch 8/10\n",
      "1548/1548 - 190s - loss: 0.1511 - accuracy: 0.9474 - val_loss: 0.1478 - val_accuracy: 0.9511\n",
      "Epoch 9/10\n",
      "1548/1548 - 189s - loss: 0.1504 - accuracy: 0.9479 - val_loss: 0.1713 - val_accuracy: 0.9405\n",
      "Epoch 10/10\n",
      "1548/1548 - 189s - loss: 0.1497 - accuracy: 0.9481 - val_loss: 0.1546 - val_accuracy: 0.9481\n"
     ]
    }
   ],
   "source": [
    "ds_train = ds_train.unbatch()\n",
    "ds_test = ds_test.unbatch()\n",
    "ds_train = ds_train.batch(128).prefetch(tf.data.AUTOTUNE)\n",
    "ds_test = ds_test.batch(128).prefetch(tf.data.AUTOTUNE)\n",
    "\n",
    "model.compile(loss=BinaryCrossentropy(from_logits=False),\n",
    "              optimizer=Adam(learning_rate=2e-4),\n",
    "              metrics=['accuracy'])\n",
    "\n",
    "history = model.fit(ds_train,\n",
    "                    epochs=10,\n",
    "                    verbose=2, \n",
    "                    validation_data=ds_test\n",
    "                   )"
   ]
  },
  {
   "cell_type": "code",
   "execution_count": 11,
   "id": "a513a084",
   "metadata": {},
   "outputs": [
    {
     "name": "stdout",
     "output_type": "stream",
     "text": [
      "Epoch 1/10\n",
      "774/774 - 199s - loss: 0.1419 - accuracy: 0.9514 - val_loss: 0.1395 - val_accuracy: 0.9543\n",
      "Epoch 2/10\n",
      "774/774 - 185s - loss: 0.1414 - accuracy: 0.9519 - val_loss: 0.1380 - val_accuracy: 0.9551\n",
      "Epoch 3/10\n",
      "774/774 - 184s - loss: 0.1400 - accuracy: 0.9520 - val_loss: 0.1401 - val_accuracy: 0.9536\n",
      "Epoch 4/10\n",
      "774/774 - 194s - loss: 0.1404 - accuracy: 0.9516 - val_loss: 0.1368 - val_accuracy: 0.9553\n",
      "Epoch 5/10\n",
      "774/774 - 185s - loss: 0.1402 - accuracy: 0.9520 - val_loss: 0.1384 - val_accuracy: 0.9556\n",
      "Epoch 6/10\n",
      "774/774 - 196s - loss: 0.1395 - accuracy: 0.9522 - val_loss: 0.1384 - val_accuracy: 0.9557\n",
      "Epoch 7/10\n",
      "774/774 - 185s - loss: 0.1393 - accuracy: 0.9527 - val_loss: 0.1392 - val_accuracy: 0.9559\n",
      "Epoch 8/10\n",
      "774/774 - 194s - loss: 0.1389 - accuracy: 0.9528 - val_loss: 0.1391 - val_accuracy: 0.9553\n",
      "Epoch 9/10\n",
      "774/774 - 195s - loss: 0.1390 - accuracy: 0.9528 - val_loss: 0.1396 - val_accuracy: 0.9546\n",
      "Epoch 10/10\n",
      "774/774 - 195s - loss: 0.1392 - accuracy: 0.9526 - val_loss: 0.1430 - val_accuracy: 0.9538\n"
     ]
    }
   ],
   "source": [
    "ds_train = ds_train.unbatch()\n",
    "ds_test = ds_test.unbatch()\n",
    "ds_train = ds_train.batch(256).prefetch(tf.data.AUTOTUNE)\n",
    "ds_test = ds_test.batch(256).prefetch(tf.data.AUTOTUNE)\n",
    "\n",
    "model.compile(loss=BinaryCrossentropy(from_logits=False),\n",
    "              optimizer=Adam(learning_rate=5e-5),\n",
    "              metrics=['accuracy'])\n",
    "\n",
    "history = model.fit(ds_train,\n",
    "                    epochs=10,\n",
    "                    verbose=2, \n",
    "                    validation_data=ds_test\n",
    "                   )"
   ]
  },
  {
   "cell_type": "code",
   "execution_count": 12,
   "id": "4c93e353",
   "metadata": {},
   "outputs": [
    {
     "name": "stdout",
     "output_type": "stream",
     "text": [
      "Epoch 1/10\n",
      "774/774 - 194s - loss: 0.1375 - accuracy: 0.9531 - val_loss: 0.1382 - val_accuracy: 0.9544\n",
      "Epoch 2/10\n",
      "774/774 - 194s - loss: 0.1376 - accuracy: 0.9531 - val_loss: 0.1389 - val_accuracy: 0.9548\n",
      "Epoch 3/10\n",
      "774/774 - 194s - loss: 0.1378 - accuracy: 0.9531 - val_loss: 0.1370 - val_accuracy: 0.9556\n",
      "Epoch 4/10\n",
      "774/774 - 196s - loss: 0.1374 - accuracy: 0.9529 - val_loss: 0.1387 - val_accuracy: 0.9551\n",
      "Epoch 5/10\n",
      "774/774 - 190s - loss: 0.1378 - accuracy: 0.9533 - val_loss: 0.1375 - val_accuracy: 0.9546\n",
      "Epoch 6/10\n",
      "774/774 - 197s - loss: 0.1378 - accuracy: 0.9531 - val_loss: 0.1384 - val_accuracy: 0.9551\n",
      "Epoch 7/10\n",
      "774/774 - 185s - loss: 0.1367 - accuracy: 0.9536 - val_loss: 0.1380 - val_accuracy: 0.9550\n",
      "Epoch 8/10\n",
      "774/774 - 186s - loss: 0.1382 - accuracy: 0.9529 - val_loss: 0.1377 - val_accuracy: 0.9547\n",
      "Epoch 9/10\n",
      "774/774 - 195s - loss: 0.1376 - accuracy: 0.9528 - val_loss: 0.1376 - val_accuracy: 0.9553\n",
      "Epoch 10/10\n",
      "774/774 - 190s - loss: 0.1378 - accuracy: 0.9534 - val_loss: 0.1372 - val_accuracy: 0.9555\n"
     ]
    }
   ],
   "source": [
    "model.compile(loss=BinaryCrossentropy(from_logits=False),\n",
    "              optimizer=Adam(learning_rate=1e-5),\n",
    "              metrics=['accuracy'])\n",
    "\n",
    "history = model.fit(ds_train,\n",
    "                    epochs=10,\n",
    "                    verbose=2, \n",
    "                    validation_data=ds_test\n",
    "                   )"
   ]
  },
  {
   "cell_type": "code",
   "execution_count": null,
   "id": "de48e208",
   "metadata": {},
   "outputs": [],
   "source": []
  }
 ],
 "metadata": {
  "kernelspec": {
   "display_name": "Python 3 (ipykernel)",
   "language": "python",
   "name": "python3"
  },
  "language_info": {
   "codemirror_mode": {
    "name": "ipython",
    "version": 3
   },
   "file_extension": ".py",
   "mimetype": "text/x-python",
   "name": "python",
   "nbconvert_exporter": "python",
   "pygments_lexer": "ipython3",
   "version": "3.8.10"
  }
 },
 "nbformat": 4,
 "nbformat_minor": 5
}
