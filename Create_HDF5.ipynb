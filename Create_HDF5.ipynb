{
 "cells": [
  {
   "cell_type": "code",
   "execution_count": 1,
   "id": "e8591453",
   "metadata": {},
   "outputs": [],
   "source": [
    "import h5py\n",
    "import os\n",
    "import cv2\n",
    "import matplotlib.pyplot as plt\n",
    "import numpy as np\n",
    "from imageio import imread"
   ]
  },
  {
   "cell_type": "code",
   "execution_count": 2,
   "id": "5a33c0fe",
   "metadata": {},
   "outputs": [
    {
     "data": {
      "text/plain": [
       "'/Users/wing/ixig/FourthBrain/Kaggle'"
      ]
     },
     "execution_count": 2,
     "metadata": {},
     "output_type": "execute_result"
    }
   ],
   "source": [
    "os.getcwd()"
   ]
  },
  {
   "cell_type": "markdown",
   "id": "22903b60",
   "metadata": {},
   "source": [
    "## Create HDF5"
   ]
  },
  {
   "cell_type": "code",
   "execution_count": 3,
   "id": "5a5c7fd1",
   "metadata": {},
   "outputs": [],
   "source": [
    "FILENAME = 'data.hdf5'\n",
    "f = h5py.File(FILENAME, 'w-')"
   ]
  },
  {
   "cell_type": "code",
   "execution_count": 4,
   "id": "dbbf0569",
   "metadata": {},
   "outputs": [],
   "source": [
    "g_train = f.create_group('train')\n",
    "g_test = f.create_group('test')"
   ]
  },
  {
   "cell_type": "code",
   "execution_count": 5,
   "id": "8817cdbc",
   "metadata": {},
   "outputs": [],
   "source": [
    "g_by_pos = f.create_group('by/pos')\n",
    "g_by_neg = f.create_group('by/neg')"
   ]
  },
  {
   "cell_type": "code",
   "execution_count": 6,
   "id": "ce639658",
   "metadata": {},
   "outputs": [
    {
     "data": {
      "text/plain": [
       "220025"
      ]
     },
     "execution_count": 6,
     "metadata": {},
     "output_type": "execute_result"
    }
   ],
   "source": [
    "TRAIN_DIR = 'data/train/gray/'\n",
    "TRAIN_FILES = os.listdir(TRAIN_DIR)\n",
    "len(TRAIN_FILES)"
   ]
  },
  {
   "cell_type": "code",
   "execution_count": 7,
   "id": "377bfda9",
   "metadata": {},
   "outputs": [
    {
     "data": {
      "text/plain": [
       "57458"
      ]
     },
     "execution_count": 7,
     "metadata": {},
     "output_type": "execute_result"
    }
   ],
   "source": [
    "TEST_DIR = 'data/test/gray/'\n",
    "TEST_FILES = os.listdir(TEST_DIR)\n",
    "len(TEST_FILES)"
   ]
  },
  {
   "cell_type": "code",
   "execution_count": 8,
   "id": "26a4698a",
   "metadata": {},
   "outputs": [],
   "source": [
    "IMG_SIZE = (96, 96)"
   ]
  },
  {
   "cell_type": "code",
   "execution_count": 9,
   "id": "af4c9103",
   "metadata": {},
   "outputs": [],
   "source": [
    "df = pd.read_csv('data/train_labels.csv')\n",
    "TRAIN_IDS = [ df[df['label'] == 0]['id'].values.tolist(), df[df['label'] == 1]['id'].values.tolist() ]"
   ]
  },
  {
   "cell_type": "code",
   "execution_count": 10,
   "id": "be3b74ca",
   "metadata": {},
   "outputs": [],
   "source": [
    "TEST_IDS = [os.path.splitext(p)[0] for p in TEST_FILES]"
   ]
  },
  {
   "cell_type": "code",
   "execution_count": 11,
   "id": "218b4985",
   "metadata": {},
   "outputs": [
    {
     "data": {
      "text/plain": [
       "'c18f2d887b7ae4f6742ee445113fa1aef383ed77'"
      ]
     },
     "execution_count": 11,
     "metadata": {},
     "output_type": "execute_result"
    }
   ],
   "source": [
    "TRAIN_IDS[1][0]"
   ]
  },
  {
   "cell_type": "code",
   "execution_count": 12,
   "id": "a6d1b3e9",
   "metadata": {},
   "outputs": [
    {
     "data": {
      "text/plain": [
       "'f0c2a0b8ef3024f407fa97d852d49be0215cafe0.tif'"
      ]
     },
     "execution_count": 12,
     "metadata": {},
     "output_type": "execute_result"
    }
   ],
   "source": [
    "TRAIN_FILES[0]"
   ]
  },
  {
   "cell_type": "code",
   "execution_count": 13,
   "id": "734c59e9",
   "metadata": {},
   "outputs": [
    {
     "data": {
      "text/plain": [
       "'fd0a060ef9c30c9a83f6b4bfb568db74b099154d'"
      ]
     },
     "execution_count": 13,
     "metadata": {},
     "output_type": "execute_result"
    }
   ],
   "source": [
    "TEST_IDS[0]"
   ]
  },
  {
   "cell_type": "code",
   "execution_count": 14,
   "id": "03d2292e",
   "metadata": {},
   "outputs": [],
   "source": [
    "def create_train_dsets(label: int, m: int):\n",
    "    count_pos, count_neg = 0, 0\n",
    "    for id in TRAIN_IDS[label][:m]:\n",
    "        img = imread(TRAIN_DIR + id + '.tif')\n",
    "        assert img.dtype == 'uint8'\n",
    "        assert img.shape == IMG_SIZE\n",
    "        dset = g_train.create_dataset(id, data=img)\n",
    "        if label == 1:\n",
    "            g_by_pos[str(count_pos)] = dset\n",
    "            count_pos += 1\n",
    "        elif label == 0:\n",
    "            g_by_neg[str(count_neg)] = dset\n",
    "            count_neg += 1\n",
    "        else:\n",
    "            raise Exception\n",
    "        dset.attrs['label'] = label\n",
    "        dset.attrs['cmap'] = 'gray'"
   ]
  },
  {
   "cell_type": "code",
   "execution_count": 15,
   "id": "89e1f28e",
   "metadata": {},
   "outputs": [],
   "source": [
    "# create_train_dsets(0, 10)\n",
    "create_train_dsets(0, len(TRAIN_IDS[0]))"
   ]
  },
  {
   "cell_type": "code",
   "execution_count": 16,
   "id": "426c0da9",
   "metadata": {},
   "outputs": [],
   "source": [
    "# create_train_dsets(1, 10)\n",
    "create_train_dsets(1, len(TRAIN_IDS[1]))"
   ]
  },
  {
   "cell_type": "code",
   "execution_count": 17,
   "id": "62bedf66",
   "metadata": {},
   "outputs": [],
   "source": [
    "def create_test_dsets(m: int):\n",
    "    for id in TEST_IDS[:m]:\n",
    "        img = imread(TEST_DIR + id + '.tif')\n",
    "        assert img.dtype == 'uint8'\n",
    "        assert img.shape == IMG_SIZE\n",
    "        dset = g_test.create_dataset(id, data=img)\n",
    "        dset.attrs['cmap'] = 'gray'"
   ]
  },
  {
   "cell_type": "code",
   "execution_count": 18,
   "id": "d827d376",
   "metadata": {},
   "outputs": [],
   "source": [
    "# create_test_dsets(10)\n",
    "create_test_dsets(len(TEST_IDS))"
   ]
  },
  {
   "cell_type": "code",
   "execution_count": 19,
   "id": "882ce95d",
   "metadata": {},
   "outputs": [],
   "source": [
    "f.close()"
   ]
  },
  {
   "cell_type": "markdown",
   "id": "2afdec8d",
   "metadata": {},
   "source": [
    "## Check / Inspect HDF5"
   ]
  },
  {
   "cell_type": "code",
   "execution_count": 20,
   "id": "7f159626",
   "metadata": {},
   "outputs": [],
   "source": [
    "FILENAME = 'data.hdf5'\n",
    "f = h5py.File(FILENAME, 'r')"
   ]
  },
  {
   "cell_type": "code",
   "execution_count": 21,
   "id": "e66a9660",
   "metadata": {},
   "outputs": [
    {
     "data": {
      "text/plain": [
       "<KeysViewHDF5 ['by', 'test', 'train']>"
      ]
     },
     "execution_count": 21,
     "metadata": {},
     "output_type": "execute_result"
    }
   ],
   "source": [
    "f.keys()"
   ]
  },
  {
   "cell_type": "code",
   "execution_count": 22,
   "id": "4928e6a7",
   "metadata": {},
   "outputs": [
    {
     "data": {
      "text/plain": [
       "57458"
      ]
     },
     "execution_count": 22,
     "metadata": {},
     "output_type": "execute_result"
    }
   ],
   "source": [
    "len(f['test'])"
   ]
  },
  {
   "cell_type": "code",
   "execution_count": 23,
   "id": "94d4939d",
   "metadata": {},
   "outputs": [
    {
     "data": {
      "text/plain": [
       "220025"
      ]
     },
     "execution_count": 23,
     "metadata": {},
     "output_type": "execute_result"
    }
   ],
   "source": [
    "len(f['train'])"
   ]
  },
  {
   "cell_type": "code",
   "execution_count": 24,
   "id": "676e29f6",
   "metadata": {},
   "outputs": [
    {
     "data": {
      "text/plain": [
       "<KeysViewHDF5 ['neg', 'pos']>"
      ]
     },
     "execution_count": 24,
     "metadata": {},
     "output_type": "execute_result"
    }
   ],
   "source": [
    "f['by'].keys()"
   ]
  },
  {
   "cell_type": "code",
   "execution_count": 25,
   "id": "de624117",
   "metadata": {},
   "outputs": [
    {
     "data": {
      "text/plain": [
       "89117"
      ]
     },
     "execution_count": 25,
     "metadata": {},
     "output_type": "execute_result"
    }
   ],
   "source": [
    "len(f['by/pos'])"
   ]
  },
  {
   "cell_type": "code",
   "execution_count": 26,
   "id": "90f79c69",
   "metadata": {},
   "outputs": [
    {
     "data": {
      "text/plain": [
       "130908"
      ]
     },
     "execution_count": 26,
     "metadata": {},
     "output_type": "execute_result"
    }
   ],
   "source": [
    "len(f['by/neg'])"
   ]
  },
  {
   "cell_type": "code",
   "execution_count": 28,
   "id": "20331b5e",
   "metadata": {},
   "outputs": [
    {
     "data": {
      "text/plain": [
       "['00001b2b5609af42ab0ab276dd4cd41c3e7745b5',\n",
       " '000020de2aa6193f4c160e398a8edea95b1da598',\n",
       " '00004aab08381d25d315384d646f5ce413ea24b1',\n",
       " '0000d563d5cfafc4e68acb7c9829258a298d9b6a',\n",
       " '0000da768d06b879e5754c43e2298ce48726f722']"
      ]
     },
     "execution_count": 28,
     "metadata": {},
     "output_type": "execute_result"
    }
   ],
   "source": [
    "train_ids = list(f['train'])[:5]\n",
    "train_ids"
   ]
  },
  {
   "cell_type": "code",
   "execution_count": 29,
   "id": "079d5ee2",
   "metadata": {},
   "outputs": [
    {
     "data": {
      "text/plain": [
       "[1, 0, 0, 0, 1]"
      ]
     },
     "execution_count": 29,
     "metadata": {},
     "output_type": "execute_result"
    }
   ],
   "source": [
    "labels = [f['train'][x].attrs['label'] for x in train_ids]\n",
    "labels"
   ]
  },
  {
   "cell_type": "code",
   "execution_count": 30,
   "id": "cb94819d",
   "metadata": {},
   "outputs": [
    {
     "data": {
      "text/plain": [
       "2"
      ]
     },
     "execution_count": 30,
     "metadata": {},
     "output_type": "execute_result"
    }
   ],
   "source": [
    "sum(labels)"
   ]
  },
  {
   "cell_type": "code",
   "execution_count": 31,
   "id": "aecf3ee1",
   "metadata": {},
   "outputs": [
    {
     "data": {
      "text/plain": [
       "['gray', 'gray', 'gray', 'gray', 'gray']"
      ]
     },
     "execution_count": 31,
     "metadata": {},
     "output_type": "execute_result"
    }
   ],
   "source": [
    "labels = [f['train'][x].attrs['cmap'] for x in train_ids]\n",
    "labels[:5]"
   ]
  },
  {
   "cell_type": "code",
   "execution_count": 33,
   "id": "22cffc83",
   "metadata": {},
   "outputs": [
    {
     "data": {
      "text/plain": [
       "['00006537328c33e284c973d7b39d340809f7271b',\n",
       " '0000ec92553fda4ce39889f9226ace43cae3364e',\n",
       " '00024a6dee61f12f7856b0fc6be20bc7a48ba3d2',\n",
       " '000253dfaa0be9d0d100283b22284ab2f6b643f6',\n",
       " '000270442cc15af719583a8172c87cd2bd9c7746']"
      ]
     },
     "execution_count": 33,
     "metadata": {},
     "output_type": "execute_result"
    }
   ],
   "source": [
    "test_ids = list(f['test'])[:5]\n",
    "test_ids"
   ]
  },
  {
   "cell_type": "code",
   "execution_count": 34,
   "id": "457d033a",
   "metadata": {},
   "outputs": [
    {
     "data": {
      "text/plain": [
       "['gray', 'gray', 'gray', 'gray', 'gray']"
      ]
     },
     "execution_count": 34,
     "metadata": {},
     "output_type": "execute_result"
    }
   ],
   "source": [
    "labels = [f['test'][x].attrs['cmap'] for x in test_ids]\n",
    "labels[:5]"
   ]
  },
  {
   "cell_type": "code",
   "execution_count": 35,
   "id": "aaa90cd2",
   "metadata": {},
   "outputs": [],
   "source": [
    "it = iter(f['train'])"
   ]
  },
  {
   "cell_type": "code",
   "execution_count": 38,
   "id": "b52c1dd3",
   "metadata": {},
   "outputs": [
    {
     "data": {
      "text/plain": [
       "((96, 96), dtype('uint8'))"
      ]
     },
     "execution_count": 38,
     "metadata": {},
     "output_type": "execute_result"
    }
   ],
   "source": [
    "img = f['train'][next(it)]\n",
    "img.shape, img.dtype"
   ]
  },
  {
   "cell_type": "code",
   "execution_count": 39,
   "id": "420c90fd",
   "metadata": {},
   "outputs": [
    {
     "data": {
      "image/png": "[encoded data removed]",
      "text/plain": [
       "<Figure size 432x288 with 1 Axes>"
      ]
     },
     "metadata": {
      "image/png": {
       "height": 250,
       "width": 251
      },
      "needs_background": "light"
     },
     "output_type": "display_data"
    }
   ],
   "source": [
    "plt.imshow(img, cmap='gray');"
   ]
  },
  {
   "cell_type": "code",
   "execution_count": 40,
   "id": "19659c14",
   "metadata": {},
   "outputs": [],
   "source": [
    "f.close()"
   ]
  },
  {
   "cell_type": "code",
   "execution_count": null,
   "id": "14f3ea9c",
   "metadata": {},
   "outputs": [],
   "source": []
  }
 ],
 "metadata": {
  "kernelspec": {
   "display_name": "Python 3 (ipykernel)",
   "language": "python",
   "name": "python3"
  },
  "language_info": {
   "codemirror_mode": {
    "name": "ipython",
    "version": 3
   },
   "file_extension": ".py",
   "mimetype": "text/x-python",
   "name": "python",
   "nbconvert_exporter": "python",
   "pygments_lexer": "ipython3",
   "version": "3.9.6"
  }
 },
 "nbformat": 4,
 "nbformat_minor": 5
}
