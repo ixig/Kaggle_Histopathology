{
 "cells": [
  {
   "cell_type": "code",
   "execution_count": 1,
   "id": "ffd2e3f9",
   "metadata": {},
   "outputs": [],
   "source": [
    "import os\n",
    "import tensorflow as tf\n",
    "import tensorflow_io as tfio\n",
    "from tensorflow.keras.models import Sequential\n",
    "from tensorflow.keras.layers import *\n",
    "# from tensorflow.keras.layers.experimental.preprocessing import *\n",
    "from tensorflow.keras.optimizers import SGD, Adam\n",
    "from keras.losses import BinaryCrossentropy\n",
    "from keras.regularizers import l2"
   ]
  },
  {
   "cell_type": "code",
   "execution_count": 2,
   "id": "554c5265",
   "metadata": {},
   "outputs": [
    {
     "data": {
      "text/plain": [
       "[PhysicalDevice(name='/physical_device:GPU:0', device_type='GPU')]"
      ]
     },
     "execution_count": 2,
     "metadata": {},
     "output_type": "execute_result"
    }
   ],
   "source": [
    "os.environ['TF_CPP_MIN_LOG_LEVEL'] = '3'\n",
    "os.environ[\"CUDA_VISIBLE_DEVICES\"] = '1'\n",
    "tf.config.list_physical_devices('GPU')"
   ]
  },
  {
   "cell_type": "code",
   "execution_count": 3,
   "id": "d028028b",
   "metadata": {},
   "outputs": [],
   "source": [
    "DATA_DIR = 'data'\n",
    "HDF5_FILE = 'data_tf.hdf5'"
   ]
  },
  {
   "cell_type": "code",
   "execution_count": 4,
   "id": "ce1e8bdc",
   "metadata": {},
   "outputs": [],
   "source": [
    "BATCH_SIZE = 64\n",
    "IMG_SHAPE = (96, 96, 4)"
   ]
  },
  {
   "cell_type": "code",
   "execution_count": 5,
   "id": "d2bc132e",
   "metadata": {},
   "outputs": [],
   "source": [
    "data_file = os.path.join(DATA_DIR, HDF5_FILE)\n",
    "ds_x = tfio.IODataset.from_hdf5(data_file, '/x_train')\n",
    "ds_y = tfio.IODataset.from_hdf5(data_file, '/y_train')"
   ]
  },
  {
   "cell_type": "code",
   "execution_count": 6,
   "id": "33c5be02",
   "metadata": {},
   "outputs": [],
   "source": [
    "# convert to float and scale to [0, 1)\n",
    "ds_x = ds_x.map(lambda x: tf.image.convert_image_dtype(x, tf.float32))\n",
    "# ds_x = ds_images.map(lambda x: tf.image.per_image_standardization(x))\n",
    "ds_xc = ds_x.map(lambda x: tf.add(x, tf.random.normal(tf.shape(x), 0, 0.2)))"
   ]
  },
  {
   "cell_type": "code",
   "execution_count": 7,
   "id": "819b1ab7",
   "metadata": {},
   "outputs": [],
   "source": [
    "ds_xy = tf.data.Dataset.zip((ds_x, ds_y))\n",
    "ds_xy = ds_xy.shuffle(BATCH_SIZE*2)\n",
    "\n",
    "ds_xcy = tf.data.Dataset.zip((ds_xc, ds_y))\n",
    "ds_xcy = ds_xcy.shuffle(BATCH_SIZE*2)"
   ]
  },
  {
   "cell_type": "code",
   "execution_count": 8,
   "id": "08ae3956",
   "metadata": {},
   "outputs": [
    {
     "data": {
      "text/plain": [
       "(220025, 198022)"
      ]
     },
     "execution_count": 8,
     "metadata": {},
     "output_type": "execute_result"
    }
   ],
   "source": [
    "ds_len = ds_xy.reduce(0, lambda x, _: x + 1).numpy()\n",
    "train_len = int(0.9 * ds_len)\n",
    "\n",
    "ds_train = ds_xy.take(train_len)\n",
    "ds_trainc = ds_xcy.take(train_len)\n",
    "ds_test = ds_xy.skip(train_len)\n",
    "\n",
    "ds_len, train_len"
   ]
  },
  {
   "cell_type": "raw",
   "id": "e0424be5",
   "metadata": {},
   "source": [
    "ds_train = ds_xy.take(20000)\n",
    "ds_trainc = ds_xcy.take(20000)\n",
    "ds_test = ds_xy.skip(20000).take(10000)"
   ]
  },
  {
   "cell_type": "code",
   "execution_count": 9,
   "id": "a0431df3",
   "metadata": {},
   "outputs": [],
   "source": [
    "data_aug = Sequential([\n",
    "    RandomFlip(\"horizontal_and_vertical\"),\n",
    "    # RandomZoom(0.2, 0.2)\n",
    "])"
   ]
  },
  {
   "cell_type": "code",
   "execution_count": 10,
   "id": "ca6c116c",
   "metadata": {},
   "outputs": [],
   "source": [
    "model = Sequential()\n",
    "\n",
    "model.add(data_aug)\n",
    "\n",
    "model.add(Conv2D(32, (3, 3), activation='relu', kernel_regularizer=l2(1e-4))) #, input_shape=(X_train.shape[1:])))\n",
    "model.add(BatchNormalization())\n",
    "model.add(Conv2D(32, (3, 3), activation='relu', kernel_regularizer=l2(1e-4)))\n",
    "model.add(BatchNormalization())\n",
    "model.add(AveragePooling2D(pool_size=(2, 2)))\n",
    "model.add(Dropout(0.2))\n",
    "\n",
    "model.add(Conv2D(64, (3, 3), padding='same', activation='relu', kernel_regularizer=l2(1e-4)))\n",
    "model.add(BatchNormalization())\n",
    "model.add(Conv2D(64, (3, 3), padding='same', activation='relu', kernel_regularizer=l2(1e-4)))\n",
    "model.add(BatchNormalization())\n",
    "model.add(AveragePooling2D (pool_size=(2, 2)))\n",
    "model.add(Dropout(0.25))\n",
    "\n",
    "model.add(Conv2D(128, (3, 3), padding='same', activation='relu', kernel_regularizer=l2(1e-4)))\n",
    "model.add(BatchNormalization())\n",
    "model.add(Conv2D(128, (3, 3), padding='same', activation='relu', kernel_regularizer=l2(1e-4)))\n",
    "model.add(BatchNormalization())\n",
    "model.add(AveragePooling2D (pool_size=(2, 2)))\n",
    "model.add(Dropout(0.3))\n",
    "\n",
    "model.add(Flatten())\n",
    "model.add(Dense(1, activation='sigmoid'))\n",
    "\n",
    "# model.summary()"
   ]
  },
  {
   "cell_type": "code",
   "execution_count": 11,
   "id": "14a917e8",
   "metadata": {},
   "outputs": [
    {
     "name": "stdout",
     "output_type": "stream",
     "text": [
      "Epoch 1/8\n",
      "3095/3095 - 156s - loss: 0.4885 - accuracy: 0.8193 - val_loss: 0.8914 - val_accuracy: 0.7249\n",
      "Epoch 2/8\n",
      "3095/3095 - 153s - loss: 0.3730 - accuracy: 0.8601 - val_loss: 1.0383 - val_accuracy: 0.7532\n",
      "Epoch 3/8\n",
      "3095/3095 - 153s - loss: 0.3268 - accuracy: 0.8819 - val_loss: 0.5585 - val_accuracy: 0.8506\n",
      "Epoch 4/8\n",
      "3095/3095 - 153s - loss: 0.3050 - accuracy: 0.8915 - val_loss: 0.6478 - val_accuracy: 0.8140\n",
      "Epoch 5/8\n",
      "3095/3095 - 152s - loss: 0.2943 - accuracy: 0.8973 - val_loss: 0.7751 - val_accuracy: 0.7968\n",
      "Epoch 6/8\n",
      "3095/3095 - 152s - loss: 0.2866 - accuracy: 0.9004 - val_loss: 0.7867 - val_accuracy: 0.8189\n",
      "Epoch 7/8\n",
      "3095/3095 - 152s - loss: 0.2844 - accuracy: 0.9021 - val_loss: 1.1115 - val_accuracy: 0.7607\n",
      "Epoch 8/8\n",
      "3095/3095 - 153s - loss: 0.2811 - accuracy: 0.9047 - val_loss: 1.0483 - val_accuracy: 0.7693\n"
     ]
    }
   ],
   "source": [
    "ds_trainc = ds_trainc.batch(BATCH_SIZE).prefetch(tf.data.AUTOTUNE)\n",
    "ds_test = ds_test.batch(BATCH_SIZE).prefetch(tf.data.AUTOTUNE)\n",
    "\n",
    "model.compile(loss=BinaryCrossentropy(from_logits=False),\n",
    "              optimizer=Adam(learning_rate=1e-3),\n",
    "              metrics=['accuracy'])\n",
    "\n",
    "history = model.fit(ds_trainc,\n",
    "                    epochs=8,\n",
    "                    verbose=2, \n",
    "                    validation_data=ds_test\n",
    "                   )"
   ]
  },
  {
   "cell_type": "code",
   "execution_count": 12,
   "id": "dd4ca1bc",
   "metadata": {},
   "outputs": [
    {
     "name": "stdout",
     "output_type": "stream",
     "text": [
      "Epoch 1/8\n",
      "3095/3095 - 152s - loss: 0.2348 - accuracy: 0.9262 - val_loss: 0.2552 - val_accuracy: 0.9185\n",
      "Epoch 2/8\n",
      "3095/3095 - 153s - loss: 0.2259 - accuracy: 0.9305 - val_loss: 0.3820 - val_accuracy: 0.8724\n",
      "Epoch 3/8\n",
      "3095/3095 - 159s - loss: 0.2215 - accuracy: 0.9322 - val_loss: 0.2866 - val_accuracy: 0.9113\n",
      "Epoch 4/8\n",
      "3095/3095 - 154s - loss: 0.2178 - accuracy: 0.9338 - val_loss: 0.3010 - val_accuracy: 0.9052\n",
      "Epoch 5/8\n",
      "3095/3095 - 153s - loss: 0.2145 - accuracy: 0.9351 - val_loss: 0.2432 - val_accuracy: 0.9264\n",
      "Epoch 6/8\n",
      "3095/3095 - 153s - loss: 0.2131 - accuracy: 0.9354 - val_loss: 0.2317 - val_accuracy: 0.9340\n",
      "Epoch 7/8\n",
      "3095/3095 - 154s - loss: 0.2122 - accuracy: 0.9367 - val_loss: 0.2377 - val_accuracy: 0.9254\n",
      "Epoch 8/8\n",
      "3095/3095 - 154s - loss: 0.2104 - accuracy: 0.9371 - val_loss: 0.5315 - val_accuracy: 0.8307\n"
     ]
    }
   ],
   "source": [
    "ds_train = ds_train.batch(BATCH_SIZE).prefetch(tf.data.AUTOTUNE)\n",
    "\n",
    "history = model.fit(ds_train,\n",
    "                    epochs=8,\n",
    "                    verbose=2, \n",
    "                    validation_data=ds_test\n",
    "                   )"
   ]
  },
  {
   "cell_type": "code",
   "execution_count": 13,
   "id": "968da4a2",
   "metadata": {},
   "outputs": [
    {
     "name": "stdout",
     "output_type": "stream",
     "text": [
      "Epoch 1/8\n",
      "1548/1548 - 164s - loss: 0.1719 - accuracy: 0.9526 - val_loss: 0.1550 - val_accuracy: 0.9588\n",
      "Epoch 2/8\n",
      "1548/1548 - 151s - loss: 0.1621 - accuracy: 0.9550 - val_loss: 0.2063 - val_accuracy: 0.9386\n",
      "Epoch 3/8\n",
      "1548/1548 - 162s - loss: 0.1576 - accuracy: 0.9560 - val_loss: 0.1492 - val_accuracy: 0.9601\n",
      "Epoch 4/8\n",
      "1548/1548 - 151s - loss: 0.1538 - accuracy: 0.9568 - val_loss: 0.1470 - val_accuracy: 0.9599\n",
      "Epoch 5/8\n",
      "1548/1548 - 151s - loss: 0.1507 - accuracy: 0.9577 - val_loss: 0.1436 - val_accuracy: 0.9614\n",
      "Epoch 6/8\n",
      "1548/1548 - 162s - loss: 0.1483 - accuracy: 0.9581 - val_loss: 0.1613 - val_accuracy: 0.9529\n",
      "Epoch 7/8\n",
      "1548/1548 - 154s - loss: 0.1462 - accuracy: 0.9584 - val_loss: 0.1396 - val_accuracy: 0.9621\n",
      "Epoch 8/8\n",
      "1548/1548 - 152s - loss: 0.1447 - accuracy: 0.9585 - val_loss: 0.1416 - val_accuracy: 0.9605\n"
     ]
    }
   ],
   "source": [
    "ds_train = ds_train.unbatch()\n",
    "ds_test = ds_test.unbatch()\n",
    "ds_train = ds_train.batch(128).prefetch(tf.data.AUTOTUNE)\n",
    "ds_test = ds_test.batch(128).prefetch(tf.data.AUTOTUNE)\n",
    "\n",
    "model.compile(loss=BinaryCrossentropy(from_logits=False),\n",
    "              optimizer=Adam(learning_rate=2e-4),\n",
    "              metrics=['accuracy'])\n",
    "\n",
    "history = model.fit(ds_train,\n",
    "                    epochs=8,\n",
    "                    verbose=2, \n",
    "                    validation_data=ds_test\n",
    "                   )"
   ]
  },
  {
   "cell_type": "code",
   "execution_count": 14,
   "id": "3cde878e",
   "metadata": {},
   "outputs": [
    {
     "name": "stdout",
     "output_type": "stream",
     "text": [
      "Epoch 1/8\n",
      "774/774 - 156s - loss: 0.1333 - accuracy: 0.9628 - val_loss: 0.1271 - val_accuracy: 0.9652\n",
      "Epoch 2/8\n",
      "774/774 - 155s - loss: 0.1316 - accuracy: 0.9633 - val_loss: 0.1254 - val_accuracy: 0.9668\n",
      "Epoch 3/8\n",
      "774/774 - 155s - loss: 0.1303 - accuracy: 0.9637 - val_loss: 0.1259 - val_accuracy: 0.9664\n",
      "Epoch 4/8\n",
      "774/774 - 150s - loss: 0.1301 - accuracy: 0.9641 - val_loss: 0.1268 - val_accuracy: 0.9663\n",
      "Epoch 5/8\n",
      "774/774 - 150s - loss: 0.1288 - accuracy: 0.9642 - val_loss: 0.1231 - val_accuracy: 0.9675\n",
      "Epoch 6/8\n",
      "774/774 - 150s - loss: 0.1279 - accuracy: 0.9647 - val_loss: 0.1241 - val_accuracy: 0.9670\n",
      "Epoch 7/8\n",
      "774/774 - 150s - loss: 0.1270 - accuracy: 0.9648 - val_loss: 0.1241 - val_accuracy: 0.9662\n",
      "Epoch 8/8\n",
      "774/774 - 150s - loss: 0.1266 - accuracy: 0.9651 - val_loss: 0.1206 - val_accuracy: 0.9671\n"
     ]
    }
   ],
   "source": [
    "ds_train = ds_train.unbatch()\n",
    "ds_test = ds_test.unbatch()\n",
    "ds_train = ds_train.batch(256).prefetch(tf.data.AUTOTUNE)\n",
    "ds_test = ds_test.batch(256).prefetch(tf.data.AUTOTUNE)\n",
    "\n",
    "model.compile(loss=BinaryCrossentropy(from_logits=False),\n",
    "              optimizer=Adam(learning_rate=5e-5),\n",
    "              metrics=['accuracy'])\n",
    "\n",
    "history = model.fit(ds_train,\n",
    "                    epochs=8,\n",
    "                    verbose=2, \n",
    "                    validation_data=ds_test\n",
    "                   )"
   ]
  },
  {
   "cell_type": "code",
   "execution_count": 15,
   "id": "3cf7bc3f",
   "metadata": {},
   "outputs": [
    {
     "name": "stdout",
     "output_type": "stream",
     "text": [
      "Epoch 1/2\n",
      "3095/3095 - 151s - loss: 0.1432 - accuracy: 0.9580 - val_loss: 0.1351 - val_accuracy: 0.9614\n",
      "Epoch 2/2\n",
      "3095/3095 - 162s - loss: 0.1429 - accuracy: 0.9581 - val_loss: 0.1363 - val_accuracy: 0.9624\n"
     ]
    }
   ],
   "source": [
    "ds_train = ds_train.unbatch()\n",
    "ds_test = ds_test.unbatch()\n",
    "ds_train = ds_train.batch(64).prefetch(tf.data.AUTOTUNE)\n",
    "ds_test = ds_test.batch(64).prefetch(tf.data.AUTOTUNE)\n",
    "\n",
    "model.compile(loss=BinaryCrossentropy(from_logits=False),\n",
    "              optimizer=Adam(learning_rate=1e-4),\n",
    "              metrics=['accuracy'])\n",
    "\n",
    "history = model.fit(ds_train,\n",
    "                    epochs=2,\n",
    "                    verbose=2, \n",
    "                    validation_data=ds_test\n",
    "                   )"
   ]
  },
  {
   "cell_type": "code",
   "execution_count": 16,
   "id": "02a06b32",
   "metadata": {},
   "outputs": [
    {
     "name": "stdout",
     "output_type": "stream",
     "text": [
      "Epoch 1/2\n",
      "3095/3095 - 160s - loss: 0.2356 - accuracy: 0.9167 - val_loss: 1.0234 - val_accuracy: 0.8088\n",
      "Epoch 2/2\n",
      "3095/3095 - 160s - loss: 0.2176 - accuracy: 0.9241 - val_loss: 0.8157 - val_accuracy: 0.8287\n"
     ]
    }
   ],
   "source": [
    "history = model.fit(ds_trainc,\n",
    "                    epochs=2,\n",
    "                    verbose=2, \n",
    "                    validation_data=ds_test\n",
    "                   )"
   ]
  },
  {
   "cell_type": "code",
   "execution_count": 17,
   "id": "0a2884f0",
   "metadata": {},
   "outputs": [
    {
     "name": "stdout",
     "output_type": "stream",
     "text": [
      "Epoch 1/5\n",
      "774/774 - 161s - loss: 0.1418 - accuracy: 0.9580 - val_loss: 0.1621 - val_accuracy: 0.9484\n",
      "Epoch 2/5\n",
      "774/774 - 151s - loss: 0.1326 - accuracy: 0.9618 - val_loss: 0.1446 - val_accuracy: 0.9570\n",
      "Epoch 3/5\n",
      "774/774 - 164s - loss: 0.1284 - accuracy: 0.9637 - val_loss: 0.1305 - val_accuracy: 0.9625\n",
      "Epoch 4/5\n",
      "774/774 - 167s - loss: 0.1261 - accuracy: 0.9640 - val_loss: 0.1276 - val_accuracy: 0.9645\n",
      "Epoch 5/5\n",
      "774/774 - 166s - loss: 0.1243 - accuracy: 0.9650 - val_loss: 0.1197 - val_accuracy: 0.9670\n"
     ]
    }
   ],
   "source": [
    "ds_train = ds_train.unbatch()\n",
    "ds_test = ds_test.unbatch()\n",
    "ds_train = ds_train.batch(256).prefetch(tf.data.AUTOTUNE)\n",
    "ds_test = ds_test.batch(256).prefetch(tf.data.AUTOTUNE)\n",
    "\n",
    "model.compile(loss=BinaryCrossentropy(from_logits=False),\n",
    "              optimizer=Adam(learning_rate=5e-5),\n",
    "              metrics=['accuracy'])\n",
    "\n",
    "history = model.fit(ds_train,\n",
    "                    epochs=5,\n",
    "                    verbose=2, \n",
    "                    validation_data=ds_test\n",
    "                   )"
   ]
  },
  {
   "cell_type": "code",
   "execution_count": 18,
   "id": "fb91f153",
   "metadata": {},
   "outputs": [
    {
     "name": "stdout",
     "output_type": "stream",
     "text": [
      "Epoch 1/2\n",
      "387/387 - 170s - loss: 0.1302 - accuracy: 0.9630 - val_loss: 0.1458 - val_accuracy: 0.9595\n",
      "Epoch 2/2\n",
      "387/387 - 162s - loss: 0.1286 - accuracy: 0.9630 - val_loss: 0.1497 - val_accuracy: 0.9562\n"
     ]
    }
   ],
   "source": [
    "ds_train = ds_train.unbatch()\n",
    "ds_test = ds_test.unbatch()\n",
    "ds_train = ds_train.batch(512).prefetch(tf.data.AUTOTUNE)\n",
    "ds_test = ds_test.batch(512).prefetch(tf.data.AUTOTUNE)\n",
    "\n",
    "model.compile(loss=BinaryCrossentropy(from_logits=False),\n",
    "              optimizer=Adam(learning_rate=5e-4),\n",
    "              metrics=['accuracy'])\n",
    "\n",
    "history = model.fit(ds_train,\n",
    "                    epochs=2,\n",
    "                    verbose=2, \n",
    "                    validation_data=ds_test\n",
    "                   )"
   ]
  },
  {
   "cell_type": "code",
   "execution_count": 19,
   "id": "5f0dddfc",
   "metadata": {},
   "outputs": [
    {
     "name": "stdout",
     "output_type": "stream",
     "text": [
      "Epoch 1/10\n",
      "387/387 - 165s - loss: 0.1205 - accuracy: 0.9666 - val_loss: 0.1249 - val_accuracy: 0.9650\n",
      "Epoch 2/10\n",
      "387/387 - 162s - loss: 0.1175 - accuracy: 0.9674 - val_loss: 0.1180 - val_accuracy: 0.9672\n",
      "Epoch 3/10\n",
      "387/387 - 163s - loss: 0.1174 - accuracy: 0.9673 - val_loss: 0.1259 - val_accuracy: 0.9656\n",
      "Epoch 4/10\n",
      "387/387 - 162s - loss: 0.1160 - accuracy: 0.9674 - val_loss: 0.1145 - val_accuracy: 0.9690\n",
      "Epoch 5/10\n",
      "387/387 - 163s - loss: 0.1152 - accuracy: 0.9679 - val_loss: 0.1219 - val_accuracy: 0.9670\n",
      "Epoch 6/10\n",
      "387/387 - 158s - loss: 0.1152 - accuracy: 0.9675 - val_loss: 0.1188 - val_accuracy: 0.9680\n",
      "Epoch 7/10\n",
      "387/387 - 158s - loss: 0.1148 - accuracy: 0.9682 - val_loss: 0.1172 - val_accuracy: 0.9685\n",
      "Epoch 8/10\n",
      "387/387 - 161s - loss: 0.1145 - accuracy: 0.9681 - val_loss: 0.1142 - val_accuracy: 0.9693\n",
      "Epoch 9/10\n",
      "387/387 - 166s - loss: 0.1133 - accuracy: 0.9687 - val_loss: 0.1151 - val_accuracy: 0.9689\n",
      "Epoch 10/10\n",
      "387/387 - 158s - loss: 0.1136 - accuracy: 0.9683 - val_loss: 0.1137 - val_accuracy: 0.9695\n"
     ]
    }
   ],
   "source": [
    "model.compile(loss=BinaryCrossentropy(from_logits=False),\n",
    "              optimizer=Adam(learning_rate=5e-5),\n",
    "              metrics=['accuracy'])\n",
    "\n",
    "history = model.fit(ds_train,\n",
    "                    epochs=10,\n",
    "                    verbose=2, \n",
    "                    validation_data=ds_test\n",
    "                   )"
   ]
  },
  {
   "cell_type": "code",
   "execution_count": 20,
   "id": "0601055c",
   "metadata": {},
   "outputs": [
    {
     "name": "stdout",
     "output_type": "stream",
     "text": [
      "Epoch 1/10\n",
      "387/387 - 161s - loss: 0.1113 - accuracy: 0.9691 - val_loss: 0.1102 - val_accuracy: 0.9704\n",
      "Epoch 2/10\n",
      "387/387 - 161s - loss: 0.1108 - accuracy: 0.9691 - val_loss: 0.1102 - val_accuracy: 0.9708\n",
      "Epoch 3/10\n",
      "387/387 - 163s - loss: 0.1113 - accuracy: 0.9691 - val_loss: 0.1107 - val_accuracy: 0.9705\n",
      "Epoch 4/10\n",
      "387/387 - 164s - loss: 0.1108 - accuracy: 0.9691 - val_loss: 0.1100 - val_accuracy: 0.9706\n",
      "Epoch 5/10\n",
      "387/387 - 163s - loss: 0.1111 - accuracy: 0.9693 - val_loss: 0.1103 - val_accuracy: 0.9706\n",
      "Epoch 6/10\n",
      "387/387 - 162s - loss: 0.1103 - accuracy: 0.9691 - val_loss: 0.1105 - val_accuracy: 0.9705\n",
      "Epoch 7/10\n",
      "387/387 - 163s - loss: 0.1109 - accuracy: 0.9692 - val_loss: 0.1104 - val_accuracy: 0.9706\n",
      "Epoch 8/10\n",
      "387/387 - 163s - loss: 0.1098 - accuracy: 0.9697 - val_loss: 0.1101 - val_accuracy: 0.9712\n",
      "Epoch 9/10\n",
      "387/387 - 161s - loss: 0.1105 - accuracy: 0.9694 - val_loss: 0.1097 - val_accuracy: 0.9710\n",
      "Epoch 10/10\n",
      "387/387 - 163s - loss: 0.1108 - accuracy: 0.9693 - val_loss: 0.1096 - val_accuracy: 0.9707\n"
     ]
    }
   ],
   "source": [
    "model.compile(loss=BinaryCrossentropy(from_logits=False),\n",
    "              optimizer=Adam(learning_rate=1e-5),\n",
    "              metrics=['accuracy'])\n",
    "\n",
    "history = model.fit(ds_train,\n",
    "                    epochs=10,\n",
    "                    verbose=2, \n",
    "                    validation_data=ds_test\n",
    "                   )"
   ]
  },
  {
   "cell_type": "code",
   "execution_count": 21,
   "id": "13db7707",
   "metadata": {
    "scrolled": true
   },
   "outputs": [
    {
     "name": "stdout",
     "output_type": "stream",
     "text": [
      "Epoch 1/10\n",
      "387/387 - 152s - loss: 0.1105 - accuracy: 0.9692 - val_loss: 0.1101 - val_accuracy: 0.9710\n",
      "Epoch 2/10\n",
      "387/387 - 152s - loss: 0.1097 - accuracy: 0.9694 - val_loss: 0.1099 - val_accuracy: 0.9710\n",
      "Epoch 3/10\n",
      "387/387 - 152s - loss: 0.1102 - accuracy: 0.9694 - val_loss: 0.1095 - val_accuracy: 0.9710\n",
      "Epoch 4/10\n",
      "387/387 - 152s - loss: 0.1103 - accuracy: 0.9695 - val_loss: 0.1097 - val_accuracy: 0.9710\n",
      "Epoch 5/10\n",
      "387/387 - 152s - loss: 0.1094 - accuracy: 0.9694 - val_loss: 0.1091 - val_accuracy: 0.9712\n",
      "Epoch 6/10\n",
      "387/387 - 152s - loss: 0.1102 - accuracy: 0.9695 - val_loss: 0.1098 - val_accuracy: 0.9709\n",
      "Epoch 7/10\n",
      "387/387 - 152s - loss: 0.1090 - accuracy: 0.9694 - val_loss: 0.1091 - val_accuracy: 0.9714\n",
      "Epoch 8/10\n",
      "387/387 - 151s - loss: 0.1097 - accuracy: 0.9695 - val_loss: 0.1089 - val_accuracy: 0.9714\n",
      "Epoch 9/10\n",
      "387/387 - 152s - loss: 0.1104 - accuracy: 0.9691 - val_loss: 0.1092 - val_accuracy: 0.9709\n",
      "Epoch 10/10\n",
      "387/387 - 152s - loss: 0.1096 - accuracy: 0.9696 - val_loss: 0.1092 - val_accuracy: 0.9706\n"
     ]
    }
   ],
   "source": [
    "history = model.fit(ds_train,\n",
    "                    epochs=10,\n",
    "                    verbose=2, \n",
    "                    validation_data=ds_test\n",
    "                   )"
   ]
  },
  {
   "cell_type": "code",
   "execution_count": null,
   "id": "94285494",
   "metadata": {},
   "outputs": [],
   "source": []
  }
 ],
 "metadata": {
  "kernelspec": {
   "display_name": "Python 3 (ipykernel)",
   "language": "python",
   "name": "python3"
  },
  "language_info": {
   "codemirror_mode": {
    "name": "ipython",
    "version": 3
   },
   "file_extension": ".py",
   "mimetype": "text/x-python",
   "name": "python",
   "nbconvert_exporter": "python",
   "pygments_lexer": "ipython3",
   "version": "3.8.10"
  }
 },
 "nbformat": 4,
 "nbformat_minor": 5
}
