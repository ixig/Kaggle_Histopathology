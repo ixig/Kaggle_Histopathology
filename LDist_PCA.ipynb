{
 "cells": [
  {
   "cell_type": "code",
   "execution_count": 1,
   "id": "528249b4",
   "metadata": {},
   "outputs": [],
   "source": [
    "import matplotlib.pyplot as plt\n",
    "import seaborn as sns\n",
    "import numpy as np\n",
    "from sklearn.decomposition import PCA\n",
    "from sklearn.preprocessing import StandardScaler\n",
    "from sklearn.linear_model import LogisticRegression\n",
    "from sklearn import metrics"
   ]
  },
  {
   "cell_type": "code",
   "execution_count": 2,
   "id": "7849e721",
   "metadata": {},
   "outputs": [],
   "source": [
    "DATA_DIR = 'data/'\n",
    "DATA_FILENAME = 'data_ldist_subset20k'"
   ]
  },
  {
   "cell_type": "code",
   "execution_count": 3,
   "id": "36f3c39d",
   "metadata": {},
   "outputs": [
    {
     "data": {
      "text/plain": [
       "((20000, 2304), (20000,))"
      ]
     },
     "execution_count": 3,
     "metadata": {},
     "output_type": "execute_result"
    }
   ],
   "source": [
    "data_train = np.load(DATA_DIR + DATA_FILENAME + '_train' + '.npz')\n",
    "X_train = data_train['X']\n",
    "y_train = data_train['y']\n",
    "data_train.close()\n",
    "X_train.shape, y_train.shape"
   ]
  },
  {
   "cell_type": "code",
   "execution_count": 4,
   "id": "59289307",
   "metadata": {},
   "outputs": [
    {
     "data": {
      "text/plain": [
       "((10000, 2304), (10000,))"
      ]
     },
     "execution_count": 4,
     "metadata": {},
     "output_type": "execute_result"
    }
   ],
   "source": [
    "data_test = np.load(DATA_DIR + DATA_FILENAME + '_test' + '.npz')\n",
    "X_test = data_test['X']\n",
    "y_test = data_test['y']\n",
    "data_test.close()\n",
    "X_test.shape, y_test.shape"
   ]
  },
  {
   "cell_type": "code",
   "execution_count": 5,
   "id": "00dd4fd4",
   "metadata": {},
   "outputs": [],
   "source": [
    "scaler = StandardScaler()\n",
    "scaler.fit(X_train)\n",
    "X_train = scaler.transform(X_train)\n",
    "X_test = scaler.transform(X_test)"
   ]
  },
  {
   "cell_type": "code",
   "execution_count": 6,
   "id": "d86c15fe",
   "metadata": {},
   "outputs": [
    {
     "name": "stdout",
     "output_type": "stream",
     "text": [
      "0.9: 15 0.95: 19 0.97: 21 0.99: 28 "
     ]
    }
   ],
   "source": [
    "for variance in [0.90, 0.95, 0.97, 0.99]:\n",
    "    pca = PCA(variance)\n",
    "    pca.fit(X_train)\n",
    "    print(f'{variance}: {pca.n_components_}', end=' ')"
   ]
  },
  {
   "cell_type": "code",
   "execution_count": 6,
   "id": "c85fcdb7",
   "metadata": {},
   "outputs": [
    {
     "data": {
      "text/plain": [
       "28"
      ]
     },
     "execution_count": 6,
     "metadata": {},
     "output_type": "execute_result"
    }
   ],
   "source": [
    "pca = PCA(0.99)\n",
    "pca.fit(X_train)\n",
    "PCA_train = pca.transform(X_train)\n",
    "PCA_test = pca.transform(X_test)\n",
    "pca.n_components_"
   ]
  },
  {
   "cell_type": "code",
   "execution_count": 7,
   "id": "810dcef8",
   "metadata": {},
   "outputs": [
    {
     "data": {
      "text/plain": [
       "array([39], dtype=int32)"
      ]
     },
     "execution_count": 7,
     "metadata": {},
     "output_type": "execute_result"
    }
   ],
   "source": [
    "clf = LogisticRegression(class_weight='balanced', max_iter=3000)\n",
    "clf.fit(PCA_train, y_train)\n",
    "clf.n_iter_"
   ]
  },
  {
   "cell_type": "code",
   "execution_count": 8,
   "id": "94ec9692",
   "metadata": {},
   "outputs": [
    {
     "data": {
      "text/plain": [
       "0.7211"
      ]
     },
     "execution_count": 8,
     "metadata": {},
     "output_type": "execute_result"
    }
   ],
   "source": [
    "clf.score(PCA_train, y_train)"
   ]
  },
  {
   "cell_type": "code",
   "execution_count": 9,
   "id": "c230e1f0",
   "metadata": {},
   "outputs": [
    {
     "name": "stdout",
     "output_type": "stream",
     "text": [
      "0.7217\n"
     ]
    }
   ],
   "source": [
    "y_hat = clf.predict(PCA_test)\n",
    "accuracy = metrics.accuracy_score(y_test, y_hat)\n",
    "print(accuracy)"
   ]
  },
  {
   "cell_type": "code",
   "execution_count": 10,
   "id": "07cdd708",
   "metadata": {},
   "outputs": [
    {
     "data": {
      "image/png": "[encoded data removed]",
      "text/plain": [
       "<Figure size 432x288 with 1 Axes>"
      ]
     },
     "metadata": {
      "image/png": {
       "height": 284,
       "width": 268
      },
      "needs_background": "light"
     },
     "output_type": "display_data"
    }
   ],
   "source": [
    "cm = metrics.confusion_matrix(y_test, y_hat)\n",
    "sns.heatmap(cm, annot=True, fmt=\".0f\", cmap='gray', cbar=False, square = True);\n",
    "plt.ylabel('Actual', fontsize=14);\n",
    "plt.xlabel('Predicted', fontsize=14);\n",
    "plt.title(f'Accuracy: {accuracy*100:.0f}%');\n",
    "plt.tick_params(labelsize= 12)"
   ]
  },
  {
   "cell_type": "code",
   "execution_count": null,
   "id": "bbf25a6c",
   "metadata": {},
   "outputs": [],
   "source": []
  }
 ],
 "metadata": {
  "kernelspec": {
   "display_name": "Python 3 (ipykernel)",
   "language": "python",
   "name": "python3"
  },
  "language_info": {
   "codemirror_mode": {
    "name": "ipython",
    "version": 3
   },
   "file_extension": ".py",
   "mimetype": "text/x-python",
   "name": "python",
   "nbconvert_exporter": "python",
   "pygments_lexer": "ipython3",
   "version": "3.9.6"
  }
 },
 "nbformat": 4,
 "nbformat_minor": 5
}
