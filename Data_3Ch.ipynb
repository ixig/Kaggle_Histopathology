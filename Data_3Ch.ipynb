{
 "cells": [
  {
   "cell_type": "code",
   "execution_count": 1,
   "id": "eecd25de",
   "metadata": {},
   "outputs": [],
   "source": [
    "import h5py\n",
    "import os\n",
    "import numpy as np\n",
    "from imageio import imread\n",
    "from random import Random, shuffle\n",
    "from skimage.color import rgb2hed"
   ]
  },
  {
   "cell_type": "code",
   "execution_count": 2,
   "id": "326c90f7",
   "metadata": {},
   "outputs": [],
   "source": [
    "DATA_DIR = 'data/'\n",
    "TRAIN_DIR = 'data/train/'\n",
    "HDF5_FILENAME = 'data.hdf5'"
   ]
  },
  {
   "cell_type": "code",
   "execution_count": 3,
   "id": "f8b6b1e0",
   "metadata": {},
   "outputs": [],
   "source": [
    "f = h5py.File(DATA_DIR + HDF5_FILENAME, 'r')\n",
    "train = list(f['train'].keys())"
   ]
  },
  {
   "cell_type": "code",
   "execution_count": 4,
   "id": "18e6e6b7",
   "metadata": {},
   "outputs": [],
   "source": [
    "RAND_SEED = 333\n",
    "rand = Random(RAND_SEED)\n",
    "rand.shuffle(train)"
   ]
  },
  {
   "cell_type": "code",
   "execution_count": 5,
   "id": "f94c61da",
   "metadata": {},
   "outputs": [],
   "source": [
    "SUBSET = '200k'\n",
    "TRAIN_SAMPLES = 200_000 if SUBSET == '200k' else 20_000 if SUBSET == '20k' else 4_000\n",
    "TEST_SAMPLES = 20_000 if SUBSET == '200k' else 10_000 if SUBSET == '20k' else 2_000\n",
    "img_size = f['train'][train[0]].shape[:2]\n",
    "X_train = np.empty((TRAIN_SAMPLES, *img_size, 3), dtype='uint8')\n",
    "y_train = np.empty(TRAIN_SAMPLES, dtype='uint8')\n",
    "X_test  = np.empty((TEST_SAMPLES, *img_size, 3), dtype='uint8')\n",
    "y_test  = np.empty(TEST_SAMPLES, dtype='uint8')"
   ]
  },
  {
   "cell_type": "code",
   "execution_count": 6,
   "id": "786f295a",
   "metadata": {},
   "outputs": [],
   "source": [
    "def populate_xy(X: np.ndarray, y: np.ndarray, m: int, offs: int):\n",
    "    names = []\n",
    "    count_pos, count_neg = 0, 0\n",
    "    for i, name in enumerate(train[offs:offs+m]):\n",
    "        names.append(name)\n",
    "        # img_gry = f['train/gry'][name][()]\n",
    "        # img2_gry = cv2.resize(img_gry, None, fx=0.5, fy=0.5, interpolation = cv2.INTER_CUBIC)\n",
    "        img_ghed = f['train'][name][()]\n",
    "        # img_ghed => Ch0: G*, Ch1: H*, Ch2: E*, Ch3: D\n",
    "        # X[i]  = np.column_stack((img_ghed[:, :, 1].ravel(), img_ghed[:, :, 2].ravel()))\n",
    "        X[i] = img_ghed[:, :, :3]\n",
    "        label = f['train'][name].attrs['label']\n",
    "        y[i]  = label\n",
    "        if label == 1:\n",
    "            count_pos += 1\n",
    "        elif label == 0:\n",
    "            count_neg += 1\n",
    "        else:\n",
    "            raise Exception\n",
    "    print(f'Pos: {count_pos/m*100:.1f}, Neg: {count_neg/m*100:.1f}')\n",
    "    return names"
   ]
  },
  {
   "cell_type": "code",
   "execution_count": 7,
   "id": "46d15b66",
   "metadata": {},
   "outputs": [
    {
     "name": "stdout",
     "output_type": "stream",
     "text": [
      "Pos: 40.5, Neg: 59.5\n",
      "Pos: 40.2, Neg: 59.8\n"
     ]
    }
   ],
   "source": [
    "train_names = populate_xy(X_train, y_train, TRAIN_SAMPLES, 0)\n",
    "test_names = populate_xy(X_test, y_test, TEST_SAMPLES, TRAIN_SAMPLES)"
   ]
  },
  {
   "cell_type": "code",
   "execution_count": 8,
   "id": "d3bee2be",
   "metadata": {},
   "outputs": [
    {
     "name": "stdout",
     "output_type": "stream",
     "text": [
      "(200000, 96, 96, 3) uint8\n",
      "(20000, 96, 96, 3) uint8\n"
     ]
    }
   ],
   "source": [
    "print(X_train.shape, X_train.dtype)\n",
    "print(X_test.shape, X_test.dtype)"
   ]
  },
  {
   "cell_type": "code",
   "execution_count": 9,
   "id": "1884de8d",
   "metadata": {},
   "outputs": [],
   "source": [
    "SUBSET_FILENAME = '3ch_subset' + SUBSET\n",
    "np.savez(DATA_DIR + SUBSET_FILENAME + '.npz',\n",
    "         X_train=X_train, y_train=y_train,\n",
    "         X_test=X_test, y_test=y_test,\n",
    "         train_names=train_names, test_names=test_names)"
   ]
  },
  {
   "cell_type": "code",
   "execution_count": null,
   "id": "f0bede56",
   "metadata": {},
   "outputs": [],
   "source": []
  }
 ],
 "metadata": {
  "kernelspec": {
   "display_name": "Python 3 (ipykernel)",
   "language": "python",
   "name": "python3"
  },
  "language_info": {
   "codemirror_mode": {
    "name": "ipython",
    "version": 3
   },
   "file_extension": ".py",
   "mimetype": "text/x-python",
   "name": "python",
   "nbconvert_exporter": "python",
   "pygments_lexer": "ipython3",
   "version": "3.8.10"
  }
 },
 "nbformat": 4,
 "nbformat_minor": 5
}
